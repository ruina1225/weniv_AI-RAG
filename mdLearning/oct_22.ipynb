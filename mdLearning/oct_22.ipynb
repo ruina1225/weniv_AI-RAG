{
  "nbformat": 4,
  "nbformat_minor": 0,
  "metadata": {
    "colab": {
      "provenance": []
    },
    "kernelspec": {
      "name": "python3",
      "display_name": "Python 3"
    },
    "language_info": {
      "name": "python"
    }
  },
  "cells": [
    {
      "cell_type": "code",
      "execution_count": null,
      "metadata": {
        "colab": {
          "base_uri": "https://localhost:8080/"
        },
        "id": "SknyFiMhQht3",
        "outputId": "de53917a-9de1-425b-8e3f-9265d3720d60"
      },
      "outputs": [
        {
          "output_type": "stream",
          "name": "stdout",
          "text": [
            "입력: [0 0], 예측: 0, 정답: 0\n",
            "입력: [0 1], 예측: 0, 정답: 1\n",
            "입력: [1 0], 예측: 0, 정답: 1\n",
            "입력: [1 1], 예측: 1, 정답: 0\n"
          ]
        }
      ],
      "source": [
        "import numpy as np\n",
        "\n",
        "# XOR 데이터 정의\n",
        "X = np.array([[0,0], [0,1], [1,0], [1,1]])\n",
        "y = np.array([0,1,1,0])\n",
        "\n",
        "# 가중치와 편향 초기화\n",
        "w = np.array([1.0, 1.0])\n",
        "b = -1.0\n",
        "\n",
        "# 활성함수 (Step)\n",
        "def step(x):\n",
        "    return 1 if x > 0 else 0\n",
        "\n",
        "# 예측\n",
        "for i in range(len(X)):\n",
        "    z = np.dot(X[i], w) + b\n",
        "    y_pred = step(z)\n",
        "    print(f\"입력: {X[i]}, 예측: {y_pred}, 정답: {y[i]}\")\n",
        "\n",
        "# 어떻게 예측하더라도 하나는 어긋날 수 밖에 없는 상황\n",
        "# 예측률이 75% 에서 더이상 늘어날 수 없음\n"
      ]
    },
    {
      "cell_type": "code",
      "source": [
        "!pip install koreanize-matplotlib"
      ],
      "metadata": {
        "colab": {
          "base_uri": "https://localhost:8080/"
        },
        "id": "A9CeaeNjrnMW",
        "outputId": "418b39b3-f509-44ad-d2c9-53fbb7db1540"
      },
      "execution_count": null,
      "outputs": [
        {
          "output_type": "stream",
          "name": "stdout",
          "text": [
            "Requirement already satisfied: koreanize-matplotlib in /usr/local/lib/python3.12/dist-packages (0.1.1)\n",
            "Requirement already satisfied: matplotlib in /usr/local/lib/python3.12/dist-packages (from koreanize-matplotlib) (3.10.0)\n",
            "Requirement already satisfied: contourpy>=1.0.1 in /usr/local/lib/python3.12/dist-packages (from matplotlib->koreanize-matplotlib) (1.3.3)\n",
            "Requirement already satisfied: cycler>=0.10 in /usr/local/lib/python3.12/dist-packages (from matplotlib->koreanize-matplotlib) (0.12.1)\n",
            "Requirement already satisfied: fonttools>=4.22.0 in /usr/local/lib/python3.12/dist-packages (from matplotlib->koreanize-matplotlib) (4.60.1)\n",
            "Requirement already satisfied: kiwisolver>=1.3.1 in /usr/local/lib/python3.12/dist-packages (from matplotlib->koreanize-matplotlib) (1.4.9)\n",
            "Requirement already satisfied: numpy>=1.23 in /usr/local/lib/python3.12/dist-packages (from matplotlib->koreanize-matplotlib) (2.0.2)\n",
            "Requirement already satisfied: packaging>=20.0 in /usr/local/lib/python3.12/dist-packages (from matplotlib->koreanize-matplotlib) (25.0)\n",
            "Requirement already satisfied: pillow>=8 in /usr/local/lib/python3.12/dist-packages (from matplotlib->koreanize-matplotlib) (11.3.0)\n",
            "Requirement already satisfied: pyparsing>=2.3.1 in /usr/local/lib/python3.12/dist-packages (from matplotlib->koreanize-matplotlib) (3.2.5)\n",
            "Requirement already satisfied: python-dateutil>=2.7 in /usr/local/lib/python3.12/dist-packages (from matplotlib->koreanize-matplotlib) (2.9.0.post0)\n",
            "Requirement already satisfied: six>=1.5 in /usr/local/lib/python3.12/dist-packages (from python-dateutil>=2.7->matplotlib->koreanize-matplotlib) (1.17.0)\n"
          ]
        }
      ]
    },
    {
      "cell_type": "code",
      "source": [
        "import numpy as np\n",
        "import matplotlib.pyplot as plt\n",
        "import koreanize_matplotlib\n",
        "\n",
        "# XOR 데이터 정의\n",
        "X = np.array([[0,0],[0,1],[1,0],[1,1]])\n",
        "y = np.array([0,1,1,0])\n",
        "\n",
        "# 데이터 시각화\n",
        "plt.scatter(X[:,0], X[:,1], c=y, cmap='coolwarm', s=100)\n",
        "plt.title(\"XOR 데이터 분포\")\n",
        "plt.xlabel(\"x1\")\n",
        "plt.ylabel(\"x2\")\n",
        "plt.show()\n"
      ],
      "metadata": {
        "colab": {
          "base_uri": "https://localhost:8080/",
          "height": 469
        },
        "id": "NaBKTwlrriiP",
        "outputId": "fa93702c-afe4-4e21-fd92-f4b6441bcbb6"
      },
      "execution_count": null,
      "outputs": [
        {
          "output_type": "display_data",
          "data": {
            "text/plain": [
              "<Figure size 640x480 with 1 Axes>"
            ],
            "image/png": "[encoded data removed]"
          },
          "metadata": {}
        }
      ]
    },
    {
      "cell_type": "code",
      "source": [
        "from sklearn.neural_network import MLPClassifier\n",
        "\n",
        "# 모델정의\n",
        "model = MLPClassifier(\n",
        "    hidden_layer_sizes=(2,), # 은닉층 1개, 뉴런2개\n",
        "    activation='tanh', # 비선형 활성화 함수\n",
        "    solver= 'adam', # 경사하강법 최적화 알고리즘\n",
        "    learning_rate_init = 0.1, # 학습률\n",
        "    max_iter = 1000, # 최대 100번 반복\n",
        "    random_state=42 # 랜덤 시드를 고정\n",
        ")"
      ],
      "metadata": {
        "id": "ZrbXLyCFsAms"
      },
      "execution_count": null,
      "outputs": []
    },
    {
      "cell_type": "code",
      "source": [
        "# 모델 학습\n",
        "model.fit(X,y)"
      ],
      "metadata": {
        "colab": {
          "base_uri": "https://localhost:8080/",
          "height": 97
        },
        "id": "saEAxa7TszLG",
        "outputId": "6aa6ee37-6c61-4569-fc55-72156a9364a3"
      },
      "execution_count": null,
      "outputs": [
        {
          "output_type": "execute_result",
          "data": {
            "text/plain": [
              "MLPClassifier(activation='tanh', hidden_layer_sizes=(2,),\n",
              "              learning_rate_init=0.1, max_iter=1000, random_state=42)"
            ],
            "text/html": [
              "<style>#sk-container-id-2 {\n",
              "  /* Definition of color scheme common for light and dark mode */\n",
              "  --sklearn-color-text: #000;\n",
              "  --sklearn-color-text-muted: #666;\n",
              "  --sklearn-color-line: gray;\n",
              "  /* Definition of color scheme for unfitted estimators */\n",
              "  --sklearn-color-unfitted-level-0: #fff5e6;\n",
              "  --sklearn-color-unfitted-level-1: #f6e4d2;\n",
              "  --sklearn-color-unfitted-level-2: #ffe0b3;\n",
              "  --sklearn-color-unfitted-level-3: chocolate;\n",
              "  /* Definition of color scheme for fitted estimators */\n",
              "  --sklearn-color-fitted-level-0: #f0f8ff;\n",
              "  --sklearn-color-fitted-level-1: #d4ebff;\n",
              "  --sklearn-color-fitted-level-2: #b3dbfd;\n",
              "  --sklearn-color-fitted-level-3: cornflowerblue;\n",
              "\n",
              "  /* Specific color for light theme */\n",
              "  --sklearn-color-text-on-default-background: var(--sg-text-color, var(--theme-code-foreground, var(--jp-content-font-color1, black)));\n",
              "  --sklearn-color-background: var(--sg-background-color, var(--theme-background, var(--jp-layout-color0, white)));\n",
              "  --sklearn-color-border-box: var(--sg-text-color, var(--theme-code-foreground, var(--jp-content-font-color1, black)));\n",
              "  --sklearn-color-icon: #696969;\n",
              "\n",
              "  @media (prefers-color-scheme: dark) {\n",
              "    /* Redefinition of color scheme for dark theme */\n",
              "    --sklearn-color-text-on-default-background: var(--sg-text-color, var(--theme-code-foreground, var(--jp-content-font-color1, white)));\n",
              "    --sklearn-color-background: var(--sg-background-color, var(--theme-background, var(--jp-layout-color0, #111)));\n",
              "    --sklearn-color-border-box: var(--sg-text-color, var(--theme-code-foreground, var(--jp-content-font-color1, white)));\n",
              "    --sklearn-color-icon: #878787;\n",
              "  }\n",
              "}\n",
              "\n",
              "#sk-container-id-2 {\n",
              "  color: var(--sklearn-color-text);\n",
              "}\n",
              "\n",
              "#sk-container-id-2 pre {\n",
              "  padding: 0;\n",
              "}\n",
              "\n",
              "#sk-container-id-2 input.sk-hidden--visually {\n",
              "  border: 0;\n",
              "  clip: rect(1px 1px 1px 1px);\n",
              "  clip: rect(1px, 1px, 1px, 1px);\n",
              "  height: 1px;\n",
              "  margin: -1px;\n",
              "  overflow: hidden;\n",
              "  padding: 0;\n",
              "  position: absolute;\n",
              "  width: 1px;\n",
              "}\n",
              "\n",
              "#sk-container-id-2 div.sk-dashed-wrapped {\n",
              "  border: 1px dashed var(--sklearn-color-line);\n",
              "  margin: 0 0.4em 0.5em 0.4em;\n",
              "  box-sizing: border-box;\n",
              "  padding-bottom: 0.4em;\n",
              "  background-color: var(--sklearn-color-background);\n",
              "}\n",
              "\n",
              "#sk-container-id-2 div.sk-container {\n",
              "  /* jupyter's `normalize.less` sets `[hidden] { display: none; }`\n",
              "     but bootstrap.min.css set `[hidden] { display: none !important; }`\n",
              "     so we also need the `!important` here to be able to override the\n",
              "     default hidden behavior on the sphinx rendered scikit-learn.org.\n",
              "     See: https://github.com/scikit-learn/scikit-learn/issues/21755 */\n",
              "  display: inline-block !important;\n",
              "  position: relative;\n",
              "}\n",
              "\n",
              "#sk-container-id-2 div.sk-text-repr-fallback {\n",
              "  display: none;\n",
              "}\n",
              "\n",
              "div.sk-parallel-item,\n",
              "div.sk-serial,\n",
              "div.sk-item {\n",
              "  /* draw centered vertical line to link estimators */\n",
              "  background-image: linear-gradient(var(--sklearn-color-text-on-default-background), var(--sklearn-color-text-on-default-background));\n",
              "  background-size: 2px 100%;\n",
              "  background-repeat: no-repeat;\n",
              "  background-position: center center;\n",
              "}\n",
              "\n",
              "/* Parallel-specific style estimator block */\n",
              "\n",
              "#sk-container-id-2 div.sk-parallel-item::after {\n",
              "  content: \"\";\n",
              "  width: 100%;\n",
              "  border-bottom: 2px solid var(--sklearn-color-text-on-default-background);\n",
              "  flex-grow: 1;\n",
              "}\n",
              "\n",
              "#sk-container-id-2 div.sk-parallel {\n",
              "  display: flex;\n",
              "  align-items: stretch;\n",
              "  justify-content: center;\n",
              "  background-color: var(--sklearn-color-background);\n",
              "  position: relative;\n",
              "}\n",
              "\n",
              "#sk-container-id-2 div.sk-parallel-item {\n",
              "  display: flex;\n",
              "  flex-direction: column;\n",
              "}\n",
              "\n",
              "#sk-container-id-2 div.sk-parallel-item:first-child::after {\n",
              "  align-self: flex-end;\n",
              "  width: 50%;\n",
              "}\n",
              "\n",
              "#sk-container-id-2 div.sk-parallel-item:last-child::after {\n",
              "  align-self: flex-start;\n",
              "  width: 50%;\n",
              "}\n",
              "\n",
              "#sk-container-id-2 div.sk-parallel-item:only-child::after {\n",
              "  width: 0;\n",
              "}\n",
              "\n",
              "/* Serial-specific style estimator block */\n",
              "\n",
              "#sk-container-id-2 div.sk-serial {\n",
              "  display: flex;\n",
              "  flex-direction: column;\n",
              "  align-items: center;\n",
              "  background-color: var(--sklearn-color-background);\n",
              "  padding-right: 1em;\n",
              "  padding-left: 1em;\n",
              "}\n",
              "\n",
              "\n",
              "/* Toggleable style: style used for estimator/Pipeline/ColumnTransformer box that is\n",
              "clickable and can be expanded/collapsed.\n",
              "- Pipeline and ColumnTransformer use this feature and define the default style\n",
              "- Estimators will overwrite some part of the style using the `sk-estimator` class\n",
              "*/\n",
              "\n",
              "/* Pipeline and ColumnTransformer style (default) */\n",
              "\n",
              "#sk-container-id-2 div.sk-toggleable {\n",
              "  /* Default theme specific background. It is overwritten whether we have a\n",
              "  specific estimator or a Pipeline/ColumnTransformer */\n",
              "  background-color: var(--sklearn-color-background);\n",
              "}\n",
              "\n",
              "/* Toggleable label */\n",
              "#sk-container-id-2 label.sk-toggleable__label {\n",
              "  cursor: pointer;\n",
              "  display: flex;\n",
              "  width: 100%;\n",
              "  margin-bottom: 0;\n",
              "  padding: 0.5em;\n",
              "  box-sizing: border-box;\n",
              "  text-align: center;\n",
              "  align-items: start;\n",
              "  justify-content: space-between;\n",
              "  gap: 0.5em;\n",
              "}\n",
              "\n",
              "#sk-container-id-2 label.sk-toggleable__label .caption {\n",
              "  font-size: 0.6rem;\n",
              "  font-weight: lighter;\n",
              "  color: var(--sklearn-color-text-muted);\n",
              "}\n",
              "\n",
              "#sk-container-id-2 label.sk-toggleable__label-arrow:before {\n",
              "  /* Arrow on the left of the label */\n",
              "  content: \"▸\";\n",
              "  float: left;\n",
              "  margin-right: 0.25em;\n",
              "  color: var(--sklearn-color-icon);\n",
              "}\n",
              "\n",
              "#sk-container-id-2 label.sk-toggleable__label-arrow:hover:before {\n",
              "  color: var(--sklearn-color-text);\n",
              "}\n",
              "\n",
              "/* Toggleable content - dropdown */\n",
              "\n",
              "#sk-container-id-2 div.sk-toggleable__content {\n",
              "  max-height: 0;\n",
              "  max-width: 0;\n",
              "  overflow: hidden;\n",
              "  text-align: left;\n",
              "  /* unfitted */\n",
              "  background-color: var(--sklearn-color-unfitted-level-0);\n",
              "}\n",
              "\n",
              "#sk-container-id-2 div.sk-toggleable__content.fitted {\n",
              "  /* fitted */\n",
              "  background-color: var(--sklearn-color-fitted-level-0);\n",
              "}\n",
              "\n",
              "#sk-container-id-2 div.sk-toggleable__content pre {\n",
              "  margin: 0.2em;\n",
              "  border-radius: 0.25em;\n",
              "  color: var(--sklearn-color-text);\n",
              "  /* unfitted */\n",
              "  background-color: var(--sklearn-color-unfitted-level-0);\n",
              "}\n",
              "\n",
              "#sk-container-id-2 div.sk-toggleable__content.fitted pre {\n",
              "  /* unfitted */\n",
              "  background-color: var(--sklearn-color-fitted-level-0);\n",
              "}\n",
              "\n",
              "#sk-container-id-2 input.sk-toggleable__control:checked~div.sk-toggleable__content {\n",
              "  /* Expand drop-down */\n",
              "  max-height: 200px;\n",
              "  max-width: 100%;\n",
              "  overflow: auto;\n",
              "}\n",
              "\n",
              "#sk-container-id-2 input.sk-toggleable__control:checked~label.sk-toggleable__label-arrow:before {\n",
              "  content: \"▾\";\n",
              "}\n",
              "\n",
              "/* Pipeline/ColumnTransformer-specific style */\n",
              "\n",
              "#sk-container-id-2 div.sk-label input.sk-toggleable__control:checked~label.sk-toggleable__label {\n",
              "  color: var(--sklearn-color-text);\n",
              "  background-color: var(--sklearn-color-unfitted-level-2);\n",
              "}\n",
              "\n",
              "#sk-container-id-2 div.sk-label.fitted input.sk-toggleable__control:checked~label.sk-toggleable__label {\n",
              "  background-color: var(--sklearn-color-fitted-level-2);\n",
              "}\n",
              "\n",
              "/* Estimator-specific style */\n",
              "\n",
              "/* Colorize estimator box */\n",
              "#sk-container-id-2 div.sk-estimator input.sk-toggleable__control:checked~label.sk-toggleable__label {\n",
              "  /* unfitted */\n",
              "  background-color: var(--sklearn-color-unfitted-level-2);\n",
              "}\n",
              "\n",
              "#sk-container-id-2 div.sk-estimator.fitted input.sk-toggleable__control:checked~label.sk-toggleable__label {\n",
              "  /* fitted */\n",
              "  background-color: var(--sklearn-color-fitted-level-2);\n",
              "}\n",
              "\n",
              "#sk-container-id-2 div.sk-label label.sk-toggleable__label,\n",
              "#sk-container-id-2 div.sk-label label {\n",
              "  /* The background is the default theme color */\n",
              "  color: var(--sklearn-color-text-on-default-background);\n",
              "}\n",
              "\n",
              "/* On hover, darken the color of the background */\n",
              "#sk-container-id-2 div.sk-label:hover label.sk-toggleable__label {\n",
              "  color: var(--sklearn-color-text);\n",
              "  background-color: var(--sklearn-color-unfitted-level-2);\n",
              "}\n",
              "\n",
              "/* Label box, darken color on hover, fitted */\n",
              "#sk-container-id-2 div.sk-label.fitted:hover label.sk-toggleable__label.fitted {\n",
              "  color: var(--sklearn-color-text);\n",
              "  background-color: var(--sklearn-color-fitted-level-2);\n",
              "}\n",
              "\n",
              "/* Estimator label */\n",
              "\n",
              "#sk-container-id-2 div.sk-label label {\n",
              "  font-family: monospace;\n",
              "  font-weight: bold;\n",
              "  display: inline-block;\n",
              "  line-height: 1.2em;\n",
              "}\n",
              "\n",
              "#sk-container-id-2 div.sk-label-container {\n",
              "  text-align: center;\n",
              "}\n",
              "\n",
              "/* Estimator-specific */\n",
              "#sk-container-id-2 div.sk-estimator {\n",
              "  font-family: monospace;\n",
              "  border: 1px dotted var(--sklearn-color-border-box);\n",
              "  border-radius: 0.25em;\n",
              "  box-sizing: border-box;\n",
              "  margin-bottom: 0.5em;\n",
              "  /* unfitted */\n",
              "  background-color: var(--sklearn-color-unfitted-level-0);\n",
              "}\n",
              "\n",
              "#sk-container-id-2 div.sk-estimator.fitted {\n",
              "  /* fitted */\n",
              "  background-color: var(--sklearn-color-fitted-level-0);\n",
              "}\n",
              "\n",
              "/* on hover */\n",
              "#sk-container-id-2 div.sk-estimator:hover {\n",
              "  /* unfitted */\n",
              "  background-color: var(--sklearn-color-unfitted-level-2);\n",
              "}\n",
              "\n",
              "#sk-container-id-2 div.sk-estimator.fitted:hover {\n",
              "  /* fitted */\n",
              "  background-color: var(--sklearn-color-fitted-level-2);\n",
              "}\n",
              "\n",
              "/* Specification for estimator info (e.g. \"i\" and \"?\") */\n",
              "\n",
              "/* Common style for \"i\" and \"?\" */\n",
              "\n",
              ".sk-estimator-doc-link,\n",
              "a:link.sk-estimator-doc-link,\n",
              "a:visited.sk-estimator-doc-link {\n",
              "  float: right;\n",
              "  font-size: smaller;\n",
              "  line-height: 1em;\n",
              "  font-family: monospace;\n",
              "  background-color: var(--sklearn-color-background);\n",
              "  border-radius: 1em;\n",
              "  height: 1em;\n",
              "  width: 1em;\n",
              "  text-decoration: none !important;\n",
              "  margin-left: 0.5em;\n",
              "  text-align: center;\n",
              "  /* unfitted */\n",
              "  border: var(--sklearn-color-unfitted-level-1) 1pt solid;\n",
              "  color: var(--sklearn-color-unfitted-level-1);\n",
              "}\n",
              "\n",
              ".sk-estimator-doc-link.fitted,\n",
              "a:link.sk-estimator-doc-link.fitted,\n",
              "a:visited.sk-estimator-doc-link.fitted {\n",
              "  /* fitted */\n",
              "  border: var(--sklearn-color-fitted-level-1) 1pt solid;\n",
              "  color: var(--sklearn-color-fitted-level-1);\n",
              "}\n",
              "\n",
              "/* On hover */\n",
              "div.sk-estimator:hover .sk-estimator-doc-link:hover,\n",
              ".sk-estimator-doc-link:hover,\n",
              "div.sk-label-container:hover .sk-estimator-doc-link:hover,\n",
              ".sk-estimator-doc-link:hover {\n",
              "  /* unfitted */\n",
              "  background-color: var(--sklearn-color-unfitted-level-3);\n",
              "  color: var(--sklearn-color-background);\n",
              "  text-decoration: none;\n",
              "}\n",
              "\n",
              "div.sk-estimator.fitted:hover .sk-estimator-doc-link.fitted:hover,\n",
              ".sk-estimator-doc-link.fitted:hover,\n",
              "div.sk-label-container:hover .sk-estimator-doc-link.fitted:hover,\n",
              ".sk-estimator-doc-link.fitted:hover {\n",
              "  /* fitted */\n",
              "  background-color: var(--sklearn-color-fitted-level-3);\n",
              "  color: var(--sklearn-color-background);\n",
              "  text-decoration: none;\n",
              "}\n",
              "\n",
              "/* Span, style for the box shown on hovering the info icon */\n",
              ".sk-estimator-doc-link span {\n",
              "  display: none;\n",
              "  z-index: 9999;\n",
              "  position: relative;\n",
              "  font-weight: normal;\n",
              "  right: .2ex;\n",
              "  padding: .5ex;\n",
              "  margin: .5ex;\n",
              "  width: min-content;\n",
              "  min-width: 20ex;\n",
              "  max-width: 50ex;\n",
              "  color: var(--sklearn-color-text);\n",
              "  box-shadow: 2pt 2pt 4pt #999;\n",
              "  /* unfitted */\n",
              "  background: var(--sklearn-color-unfitted-level-0);\n",
              "  border: .5pt solid var(--sklearn-color-unfitted-level-3);\n",
              "}\n",
              "\n",
              ".sk-estimator-doc-link.fitted span {\n",
              "  /* fitted */\n",
              "  background: var(--sklearn-color-fitted-level-0);\n",
              "  border: var(--sklearn-color-fitted-level-3);\n",
              "}\n",
              "\n",
              ".sk-estimator-doc-link:hover span {\n",
              "  display: block;\n",
              "}\n",
              "\n",
              "/* \"?\"-specific style due to the `<a>` HTML tag */\n",
              "\n",
              "#sk-container-id-2 a.estimator_doc_link {\n",
              "  float: right;\n",
              "  font-size: 1rem;\n",
              "  line-height: 1em;\n",
              "  font-family: monospace;\n",
              "  background-color: var(--sklearn-color-background);\n",
              "  border-radius: 1rem;\n",
              "  height: 1rem;\n",
              "  width: 1rem;\n",
              "  text-decoration: none;\n",
              "  /* unfitted */\n",
              "  color: var(--sklearn-color-unfitted-level-1);\n",
              "  border: var(--sklearn-color-unfitted-level-1) 1pt solid;\n",
              "}\n",
              "\n",
              "#sk-container-id-2 a.estimator_doc_link.fitted {\n",
              "  /* fitted */\n",
              "  border: var(--sklearn-color-fitted-level-1) 1pt solid;\n",
              "  color: var(--sklearn-color-fitted-level-1);\n",
              "}\n",
              "\n",
              "/* On hover */\n",
              "#sk-container-id-2 a.estimator_doc_link:hover {\n",
              "  /* unfitted */\n",
              "  background-color: var(--sklearn-color-unfitted-level-3);\n",
              "  color: var(--sklearn-color-background);\n",
              "  text-decoration: none;\n",
              "}\n",
              "\n",
              "#sk-container-id-2 a.estimator_doc_link.fitted:hover {\n",
              "  /* fitted */\n",
              "  background-color: var(--sklearn-color-fitted-level-3);\n",
              "}\n",
              "</style><div id=\"sk-container-id-2\" class=\"sk-top-container\"><div class=\"sk-text-repr-fallback\"><pre>MLPClassifier(activation=&#x27;tanh&#x27;, hidden_layer_sizes=(2,),\n",
              "              learning_rate_init=0.1, max_iter=1000, random_state=42)</pre><b>In a Jupyter environment, please rerun this cell to show the HTML representation or trust the notebook. <br />On GitHub, the HTML representation is unable to render, please try loading this page with nbviewer.org.</b></div><div class=\"sk-container\" hidden><div class=\"sk-item\"><div class=\"sk-estimator fitted sk-toggleable\"><input class=\"sk-toggleable__control sk-hidden--visually\" id=\"sk-estimator-id-2\" type=\"checkbox\" checked><label for=\"sk-estimator-id-2\" class=\"sk-toggleable__label fitted sk-toggleable__label-arrow\"><div><div>MLPClassifier</div></div><div><a class=\"sk-estimator-doc-link fitted\" rel=\"noreferrer\" target=\"_blank\" href=\"https://scikit-learn.org/1.6/modules/generated/sklearn.neural_network.MLPClassifier.html\">?<span>Documentation for MLPClassifier</span></a><span class=\"sk-estimator-doc-link fitted\">i<span>Fitted</span></span></div></label><div class=\"sk-toggleable__content fitted\"><pre>MLPClassifier(activation=&#x27;tanh&#x27;, hidden_layer_sizes=(2,),\n",
              "              learning_rate_init=0.1, max_iter=1000, random_state=42)</pre></div> </div></div></div></div>"
            ]
          },
          "metadata": {},
          "execution_count": 11
        }
      ]
    },
    {
      "cell_type": "code",
      "source": [
        "# 예측\n",
        "y_pred = model.predict(X)\n"
      ],
      "metadata": {
        "id": "ubsXGUG3s3PV"
      },
      "execution_count": null,
      "outputs": []
    },
    {
      "cell_type": "code",
      "source": [
        "# y = no.array([0,1,1,0])\n",
        "print(y_pred)"
      ],
      "metadata": {
        "colab": {
          "base_uri": "https://localhost:8080/"
        },
        "id": "vydjJdu2s7T1",
        "outputId": "ccbcc096-3a98-4824-b8d4-fe1247df3d37"
      },
      "execution_count": null,
      "outputs": [
        {
          "output_type": "stream",
          "name": "stdout",
          "text": [
            "[0 1 1 0]\n"
          ]
        }
      ]
    },
    {
      "cell_type": "code",
      "source": [
        "print(model.score(X,y)) #1.0 = 정확도 100%"
      ],
      "metadata": {
        "colab": {
          "base_uri": "https://localhost:8080/"
        },
        "id": "GVP4V13Qs7wI",
        "outputId": "00dae0a5-0ae4-4cda-cc4f-7b4cf5f66630"
      },
      "execution_count": null,
      "outputs": [
        {
          "output_type": "stream",
          "name": "stdout",
          "text": [
            "1.0\n"
          ]
        }
      ]
    },
    {
      "cell_type": "code",
      "source": [
        "# 예측 결과 시각화\n",
        "plt.figure(figsize=(5,4))\n",
        "plt.scatter(X[:,0], X[:,1], c=y_pred, cmap='coolwarm', s=150, edgecolor='k')\n",
        "plt.title(\"MLP가 분류한 XOR 결과\")\n",
        "plt.xlabel(\"x1\")\n",
        "plt.ylabel(\"x2\")\n",
        "plt.show()\n"
      ],
      "metadata": {
        "colab": {
          "base_uri": "https://localhost:8080/",
          "height": 407
        },
        "id": "6bAjvctxup_8",
        "outputId": "47df4ec7-182c-4519-cb76-6f110ebc274d"
      },
      "execution_count": null,
      "outputs": [
        {
          "output_type": "display_data",
          "data": {
            "text/plain": [
              "<Figure size 500x400 with 1 Axes>"
            ],
            "image/png": "[encoded data removed]"
          },
          "metadata": {}
        }
      ]
    },
    {
      "cell_type": "code",
      "source": [
        "# ===== 0. 라이브러리 =====\n",
        "# 필요한 모듈 불러오기\n",
        "import numpy as np\n",
        "from sklearn.datasets import make_moons          # 2차원 반달형 데이터 생성\n",
        "from sklearn.model_selection import train_test_split  # 학습/테스트 데이터 분할\n",
        "from sklearn.preprocessing import StandardScaler      # 표준화(스케일링)\n",
        "from sklearn.neural_network import MLPClassifier      # 다층 퍼셉트론(신경망 분류기)\n",
        "from sklearn.pipeline import Pipeline                 # 전처리 + 모델 연결 파이프라인\n",
        "\n",
        "# ===== 1. 데이터 준비 (샘플: 반달형 2클래스) =====\n",
        "# make_moons: 반달 모양의 비선형 분류 데이터를 생성\n",
        "# noise=0.25 → 약간의 랜덤 노이즈를 추가해 현실적인 분류 문제로 만듦\n",
        "# random_state=42 → 결과 재현을 위해 난수 시드 고정\n",
        "X, y = make_moons(n_samples=500, noise=0.25, random_state=42)\n"
      ],
      "metadata": {
        "id": "plIbWUDqvMIz"
      },
      "execution_count": null,
      "outputs": []
    },
    {
      "cell_type": "code",
      "source": [
        "plt.figure(figsize=(7, 5))\n",
        "plt.scatter(X[y==0, 0], X[y==0, 1], color='skyblue', label='Class 0')\n",
        "plt.scatter(X[y==1, 0], X[y==1, 1], color='salmon', label='Class 1')\n",
        "plt.title(\"🌙 반달형(Non-linear) 데이터 분포\", fontsize=14)\n",
        "plt.xlabel(\"Feature 1\")\n",
        "plt.ylabel(\"Feature 2\")\n",
        "plt.legend()\n",
        "plt.grid(alpha=0.3)\n",
        "plt.show()"
      ],
      "metadata": {
        "colab": {
          "base_uri": "https://localhost:8080/",
          "height": 537
        },
        "id": "IETNsGTuvdd-",
        "outputId": "b35211af-c04b-49c2-dff9-0fb514e885c7"
      },
      "execution_count": null,
      "outputs": [
        {
          "output_type": "stream",
          "name": "stderr",
          "text": [
            "/usr/local/lib/python3.12/dist-packages/IPython/core/pylabtools.py:151: UserWarning: Glyph 127769 (\\N{CRESCENT MOON}) missing from font(s) NanumGothic.\n",
            "  fig.canvas.print_figure(bytes_io, **kw)\n"
          ]
        },
        {
          "output_type": "display_data",
          "data": {
            "text/plain": [
              "<Figure size 700x500 with 1 Axes>"
            ],
            "image/png": "[encoded data removed]"
          },
          "metadata": {}
        }
      ]
    },
    {
      "cell_type": "code",
      "source": [
        "# 1.학습 / 테스트 데이터 분리\n",
        "\n",
        "x_train, x_test, y_train, y_test = train_test_split(X, y, test_size = 0.2, random_state=42)"
      ],
      "metadata": {
        "id": "3uHMkGhdvjJ2"
      },
      "execution_count": null,
      "outputs": []
    },
    {
      "cell_type": "code",
      "source": [
        "print(x_train)\n",
        "print(x_test)\n",
        "print(y_train)\n",
        "print(y_test)"
      ],
      "metadata": {
        "colab": {
          "base_uri": "https://localhost:8080/"
        },
        "id": "At42nzK4v0NH",
        "outputId": "2fe103ce-2d93-4448-a052-da1037c0b457"
      },
      "execution_count": null,
      "outputs": [
        {
          "output_type": "stream",
          "name": "stdout",
          "text": [
            "[[-0.56713789  1.16154627]\n",
            " [ 1.93376925  0.22695945]\n",
            " [ 1.81289662 -0.28000929]\n",
            " [ 0.89853941  0.48739441]\n",
            " [ 1.09667987  0.59656944]\n",
            " [-0.20044325  1.00874043]\n",
            " [-0.95555716 -0.1744581 ]\n",
            " [ 0.77710278  0.43353086]\n",
            " [ 0.69220558  0.05110117]\n",
            " [ 2.38259745  0.12359415]\n",
            " [ 1.41624915  0.36468673]\n",
            " [ 0.65894093  0.44540503]\n",
            " [-0.39286047  0.9653312 ]\n",
            " [ 1.80576017  0.85221404]\n",
            " [-0.4721457   0.24524516]\n",
            " [-1.60848958  0.50457176]\n",
            " [ 0.78257724  0.8250142 ]\n",
            " [-0.17264692  1.0468925 ]\n",
            " [-1.28100269 -0.2639486 ]\n",
            " [ 1.72960506  0.53227089]\n",
            " [ 1.15222112 -0.67452022]\n",
            " [ 0.56121105 -0.65108669]\n",
            " [-0.2231644   0.75667222]\n",
            " [ 0.91118238  0.3525296 ]\n",
            " [ 0.41699844  0.56568288]\n",
            " [ 1.57006482  0.12616156]\n",
            " [ 0.36950775  0.43141757]\n",
            " [-0.84746114  1.23861217]\n",
            " [ 1.13011736 -0.6436146 ]\n",
            " [ 1.05173834 -0.44682474]\n",
            " [ 0.17296662 -0.31699644]\n",
            " [ 1.14284775  0.11513084]\n",
            " [-0.09198516 -0.04606342]\n",
            " [-0.87746762  0.52033501]\n",
            " [ 0.893355    0.31854042]\n",
            " [ 0.75543229  0.16644386]\n",
            " [ 1.26847979 -0.37044646]\n",
            " [ 0.41772291  0.48304671]\n",
            " [ 0.94190406  0.4931818 ]\n",
            " [-0.78262696  0.46783024]\n",
            " [ 2.0172248  -0.03149224]\n",
            " [ 1.87597163  0.29770958]\n",
            " [-0.51853195  0.68802902]\n",
            " [ 1.27320325  0.04497861]\n",
            " [-0.81247758  0.32018737]\n",
            " [ 2.0910708   0.09840791]\n",
            " [ 1.05479503 -0.25841682]\n",
            " [ 1.24045217  0.67831256]\n",
            " [-0.05802228  0.83509632]\n",
            " [-1.23594232  0.65292029]\n",
            " [ 1.3002999  -0.53762795]\n",
            " [-0.8817249   0.18799726]\n",
            " [ 0.96160387  0.94364126]\n",
            " [ 1.97620714  0.32308406]\n",
            " [ 0.47277645  0.54545097]\n",
            " [ 1.85738254 -0.70220867]\n",
            " [-0.08227739  1.05971844]\n",
            " [ 0.73530261 -0.44804135]\n",
            " [ 2.43950204  0.55789713]\n",
            " [ 1.80878433  0.21818794]\n",
            " [-0.46357076  0.99800578]\n",
            " [ 1.21866891 -0.48248425]\n",
            " [-0.25296996  0.35966697]\n",
            " [ 0.29765102 -0.37583486]\n",
            " [-0.86842546  0.34835176]\n",
            " [ 1.61891198 -0.01712681]\n",
            " [ 1.61343191  0.26408523]\n",
            " [ 0.13166507  1.26513975]\n",
            " [ 1.12482552  0.76425911]\n",
            " [ 0.32199894 -0.42153664]\n",
            " [ 0.89987113  0.83213158]\n",
            " [-1.50606984  0.75892671]\n",
            " [ 1.77779507  0.13646319]\n",
            " [ 0.16790164  0.87333382]\n",
            " [ 2.34925592  0.13574307]\n",
            " [-0.88935369  0.63372892]\n",
            " [ 0.04451068  0.50469618]\n",
            " [-0.93360353  0.50596321]\n",
            " [ 0.59818581  0.3110549 ]\n",
            " [ 1.81007401 -0.18846849]\n",
            " [ 1.4028558  -0.30902475]\n",
            " [-1.16803737 -0.15116094]\n",
            " [ 2.39290165 -0.04978425]\n",
            " [ 0.93339306 -0.95934572]\n",
            " [ 2.6419     -0.00804248]\n",
            " [-1.05615486 -0.04017324]\n",
            " [ 1.21545216  0.22768248]\n",
            " [ 0.52832464  0.59573342]\n",
            " [-0.20716451  0.73040868]\n",
            " [ 1.73468865  0.01679505]\n",
            " [-0.45751799  0.56590414]\n",
            " [ 0.07326299  0.83883208]\n",
            " [-0.4780157   0.76896262]\n",
            " [-0.66006956 -0.05201784]\n",
            " [ 0.39657811  0.94622086]\n",
            " [ 0.4015753  -0.25214518]\n",
            " [-0.03299525  0.33938223]\n",
            " [ 0.79427493 -0.13267121]\n",
            " [ 1.0064588   0.21496181]\n",
            " [ 0.0895926  -0.60256065]\n",
            " [ 0.12039931  0.17590386]\n",
            " [-0.21486604  0.72825318]\n",
            " [ 0.958138    0.90951213]\n",
            " [ 2.18076536  0.33422417]\n",
            " [ 0.93062028  0.62137774]\n",
            " [ 0.76093639 -0.72316573]\n",
            " [ 0.0096471   0.17935005]\n",
            " [ 0.41639859 -0.19986936]\n",
            " [ 0.33519705  0.20922315]\n",
            " [-0.82449487  0.42853462]\n",
            " [ 1.98683988  0.23854535]\n",
            " [ 0.92783435  0.18269425]\n",
            " [ 0.810476   -0.49886823]\n",
            " [ 1.87035591  0.24883162]\n",
            " [ 1.57088952 -0.43617941]\n",
            " [ 1.44349404  0.05157517]\n",
            " [-0.98192914  0.85253144]\n",
            " [ 0.78557761 -0.51544428]\n",
            " [-0.03754248  0.08905259]\n",
            " [ 0.97242208 -0.78335484]\n",
            " [ 1.1377089   0.19457622]\n",
            " [ 0.51480793  0.25508929]\n",
            " [ 1.02625165 -0.38699937]\n",
            " [-0.14442132  0.97029036]\n",
            " [ 0.20891793  0.31457468]\n",
            " [ 0.46114558  0.53642029]\n",
            " [ 1.24724259 -0.83077942]\n",
            " [ 0.40345481 -0.50911661]\n",
            " [-0.28271531  0.1695238 ]\n",
            " [ 0.25132111  1.23006761]\n",
            " [ 1.61896948 -0.30963967]\n",
            " [-0.44555362  0.64435678]\n",
            " [ 0.17006675  0.35954051]\n",
            " [ 1.1431092  -0.21544201]\n",
            " [ 0.09389615  1.34932556]\n",
            " [ 1.804845    0.64743095]\n",
            " [-0.65409472  0.23172726]\n",
            " [ 0.91015887 -0.17763342]\n",
            " [ 1.18872267  0.22253403]\n",
            " [-0.46351372  0.80966413]\n",
            " [-1.01693271  0.42358417]\n",
            " [ 1.97755036 -0.37742078]\n",
            " [ 0.57431158 -0.80393625]\n",
            " [ 1.02113484  0.00580133]\n",
            " [ 0.5479952   0.89301551]\n",
            " [ 0.25919218 -0.02720012]\n",
            " [ 0.38140835  1.08285457]\n",
            " [-0.95467458  0.59813201]\n",
            " [-0.02071894  1.25712094]\n",
            " [ 0.98316277  0.54843886]\n",
            " [-0.35074266  1.00006596]\n",
            " [ 0.22336561 -0.14517302]\n",
            " [ 0.20546619  0.54631446]\n",
            " [-0.31258016  1.22282212]\n",
            " [ 1.94802849 -0.33108553]\n",
            " [ 0.3575759  -0.01469353]\n",
            " [ 1.07106929  0.44708232]\n",
            " [ 1.58995438  0.30050847]\n",
            " [-0.77154575  0.29797315]\n",
            " [ 0.51670427 -0.51471716]\n",
            " [ 1.5672334  -0.18975821]\n",
            " [ 0.29145022  0.78004056]\n",
            " [-0.58508276  0.71772068]\n",
            " [ 0.58814373  0.36869444]\n",
            " [ 0.53204035  0.67371392]\n",
            " [-0.80490829  0.7876906 ]\n",
            " [ 0.1174094   0.01753004]\n",
            " [ 1.17021268  0.53577229]\n",
            " [ 0.47729906 -0.85915835]\n",
            " [ 0.70107669 -0.59967453]\n",
            " [-0.25940198 -0.08505564]\n",
            " [-1.11073358 -0.48057859]\n",
            " [ 0.44087519  1.13890068]\n",
            " [-0.81416948  0.84636435]\n",
            " [ 2.14309573  0.22324958]\n",
            " [ 1.36312358 -0.38431884]\n",
            " [ 0.14856845 -0.27972954]\n",
            " [ 2.01138803 -0.12138458]\n",
            " [ 0.10348069  0.95541035]\n",
            " [-0.59186554  0.77055399]\n",
            " [ 0.43969138  0.41759305]\n",
            " [-0.72781764  0.80695565]\n",
            " [ 0.96143591  0.86253526]\n",
            " [-1.40546166 -0.03700836]\n",
            " [ 0.58109368 -0.38826266]\n",
            " [ 1.39592131  0.58956443]\n",
            " [-0.33449959 -0.06946148]\n",
            " [ 0.35534767 -0.14456265]\n",
            " [ 2.13387853 -0.0107345 ]\n",
            " [-0.24765483  0.13209485]\n",
            " [-0.06747935  1.03171044]\n",
            " [ 0.22555896  1.00016609]\n",
            " [ 1.42234434 -0.60545101]\n",
            " [ 0.82226349  0.89144453]\n",
            " [ 0.72193267 -0.36111382]\n",
            " [ 0.71178181 -0.44644075]\n",
            " [-1.01035039  0.49426517]\n",
            " [ 0.76822656 -0.70610265]\n",
            " [ 0.29249924 -0.50723393]\n",
            " [-0.07094208  1.08707351]\n",
            " [ 2.01438019  0.16773449]\n",
            " [ 0.7985604   0.48082075]\n",
            " [-1.17717483  0.55392925]\n",
            " [ 1.82922885  0.19088479]\n",
            " [-0.592214    0.45505671]\n",
            " [ 0.96781555  0.50977634]\n",
            " [-0.54155952  0.5148371 ]\n",
            " [ 2.12574145 -0.19184124]\n",
            " [ 0.17557283 -0.07735388]\n",
            " [-1.32393279  0.4094513 ]\n",
            " [-0.22353694  0.14570254]\n",
            " [ 0.06935016  0.85645302]\n",
            " [ 1.68692961 -0.0409629 ]\n",
            " [ 0.37620169 -0.96135063]\n",
            " [-0.77975801  0.75827405]\n",
            " [ 1.53698154 -0.47850581]\n",
            " [ 0.37673957  0.35185605]\n",
            " [-1.06199699  0.04499815]\n",
            " [ 0.99517815  0.55417823]\n",
            " [ 0.47725807  0.18134713]\n",
            " [ 0.17648038  0.44609006]\n",
            " [ 0.55829324 -0.41147252]\n",
            " [ 0.77101853  0.03143656]\n",
            " [-0.50008681  0.94149624]\n",
            " [ 0.85066588  0.63466288]\n",
            " [-0.86517771  0.36456143]\n",
            " [ 0.48003158  1.10741469]\n",
            " [ 1.70147733 -0.25137717]\n",
            " [ 1.03448078 -0.65042855]\n",
            " [ 0.2848142  -0.33901121]\n",
            " [ 0.8986004   0.10185306]\n",
            " [ 1.77578097 -0.66735869]\n",
            " [ 0.37363943 -0.70522177]\n",
            " [ 0.24211938  1.46254646]\n",
            " [ 1.45730217  0.21664197]\n",
            " [ 2.46758369  0.74633064]\n",
            " [-1.10896389  0.31892355]\n",
            " [ 2.09807608  0.45632936]\n",
            " [ 0.2177055   0.31849773]\n",
            " [ 0.75385362 -0.78330709]\n",
            " [-1.13767261  0.8979622 ]\n",
            " [ 1.21405269 -1.11743684]\n",
            " [ 1.09416294 -0.58963114]\n",
            " [ 1.1307457   0.58979904]\n",
            " [-0.02659157  0.73575888]\n",
            " [-0.19784884  0.8341744 ]\n",
            " [ 1.33203147 -0.52810515]\n",
            " [ 1.66358268 -0.28094372]\n",
            " [-0.35764272  0.74929763]\n",
            " [ 1.46716553 -0.10416982]\n",
            " [ 0.24516739 -0.48872944]\n",
            " [-0.43184002  0.24536464]\n",
            " [ 0.44304745  1.4189766 ]\n",
            " [-0.17430124  0.70122643]\n",
            " [ 2.26429964  0.76965873]\n",
            " [-0.75072119 -0.05882969]\n",
            " [-1.11689349  0.31696409]\n",
            " [ 1.63096252 -0.25838084]\n",
            " [-0.00753903 -0.23559698]\n",
            " [ 0.39495789  0.96266215]\n",
            " [ 2.12111839 -0.39910638]\n",
            " [ 1.20668011 -0.68422282]\n",
            " [ 0.94736912 -0.93691033]\n",
            " [-0.31996315  0.15637434]\n",
            " [ 1.20042757  0.42167562]\n",
            " [ 2.18891564 -0.07638009]\n",
            " [ 0.37627775  0.84478899]\n",
            " [-1.05816824 -0.06051948]\n",
            " [ 1.70188243 -0.29584958]\n",
            " [ 0.12532506  0.65912443]\n",
            " [-0.78924298  0.43015093]\n",
            " [ 1.96135256 -0.15351388]\n",
            " [ 0.1645325   1.06894022]\n",
            " [-0.09224046  0.0310058 ]\n",
            " [ 1.09066762 -1.02112533]\n",
            " [ 1.40442824 -0.15255519]\n",
            " [ 0.41217703  0.23270312]\n",
            " [ 0.92371771  0.24747246]\n",
            " [ 0.27127562 -0.30859458]\n",
            " [ 0.64466141  0.7823944 ]\n",
            " [-0.02173099  0.59032241]\n",
            " [ 0.34810167 -0.30267017]\n",
            " [ 0.48674976  0.53947914]\n",
            " [ 0.28246622  0.7246107 ]\n",
            " [ 0.72221425 -0.70437796]\n",
            " [ 0.16440714  1.00961473]\n",
            " [ 1.69288265 -0.02718528]\n",
            " [ 1.44367544 -0.50904644]\n",
            " [ 1.06183138  0.2392753 ]\n",
            " [ 1.45119915 -0.73142292]\n",
            " [ 0.30096417  1.26000848]\n",
            " [ 1.61067254  0.03226968]\n",
            " [-0.22338732  0.45250713]\n",
            " [ 1.34001721 -0.20803068]\n",
            " [ 0.03754689  1.34712788]\n",
            " [ 0.83833506  0.65170428]\n",
            " [ 0.79435687 -0.60107637]\n",
            " [ 0.17507569 -0.07137589]\n",
            " [ 0.6299176  -0.24012397]\n",
            " [ 0.45396569 -0.08825701]\n",
            " [ 0.57865838 -0.7303322 ]\n",
            " [-0.57382408  1.00478471]\n",
            " [-0.32079694  0.76803472]\n",
            " [ 0.29899314 -0.01510315]\n",
            " [-1.23567873  0.61555241]\n",
            " [ 1.73228977 -0.22897179]\n",
            " [-0.45082293  0.45117329]\n",
            " [-0.03839067  0.15289369]\n",
            " [-0.45658485  0.92962782]\n",
            " [ 0.83742616  0.78362107]\n",
            " [ 0.64968705 -0.4767161 ]\n",
            " [-0.87240661  0.25360104]\n",
            " [-0.73901279  0.45404777]\n",
            " [ 0.21455136 -0.61891272]\n",
            " [ 2.20726786  0.41474832]\n",
            " [-0.09441167  0.99065103]\n",
            " [ 1.98438809  0.29029768]\n",
            " [ 1.18134239  1.24461737]\n",
            " [ 1.31509167 -0.3470579 ]\n",
            " [ 1.15814558  0.41483481]\n",
            " [ 1.08838668  0.8996934 ]\n",
            " [ 1.0915659  -0.6145094 ]\n",
            " [ 0.66374437 -0.37289065]\n",
            " [ 0.74999059  0.26270748]\n",
            " [ 1.45562131 -0.52361446]\n",
            " [-1.23320492  0.86446496]\n",
            " [-0.54753311  0.33966976]\n",
            " [ 0.93507721  0.32110158]\n",
            " [ 0.13472922  0.94723645]\n",
            " [ 0.37900462  0.48918499]\n",
            " [ 0.27869943  0.31005096]\n",
            " [ 2.41901296  0.22279641]\n",
            " [ 0.33541467  0.62529697]\n",
            " [ 1.25134057 -1.06046595]\n",
            " [-0.12393525  1.06793294]\n",
            " [ 1.16003372  0.26219379]\n",
            " [ 0.0898354   1.14514204]\n",
            " [-0.82249385  0.80976121]\n",
            " [ 0.17947628  0.6661019 ]\n",
            " [ 0.13376881  0.28832237]\n",
            " [ 0.35346512 -0.31832207]\n",
            " [ 0.88136215 -0.17727159]\n",
            " [ 0.57041737 -0.81768287]\n",
            " [ 0.85864518  0.21585576]\n",
            " [-0.94817921  0.75236793]\n",
            " [ 0.50128155 -0.24386697]\n",
            " [-0.63085725  1.6351138 ]\n",
            " [ 0.34965828  0.57013303]\n",
            " [ 0.1038379   1.11197896]\n",
            " [ 0.25581785 -0.42977239]\n",
            " [ 1.21989537 -0.10330254]\n",
            " [-0.87858016  0.51016288]\n",
            " [ 0.63733114  0.70776838]\n",
            " [-0.02608705  1.07420979]\n",
            " [ 1.17263586 -0.2630865 ]\n",
            " [ 0.31161428  1.38313638]\n",
            " [ 1.91621332  0.64884111]\n",
            " [-0.53806085  1.05498854]\n",
            " [ 0.23405316 -0.07716169]\n",
            " [ 0.43467546  0.80971479]\n",
            " [-0.35452331  1.14736132]\n",
            " [-1.08991617  0.41495202]\n",
            " [ 1.35409765 -0.72725514]\n",
            " [-1.08659107  0.63903908]\n",
            " [ 0.3869953  -0.49164342]\n",
            " [ 2.08063393  0.16020246]\n",
            " [ 2.25582933  0.45648123]\n",
            " [ 1.41784829 -0.45025687]\n",
            " [-0.7769836   1.02032801]\n",
            " [-0.39033994  1.34143282]\n",
            " [ 1.39930683 -0.50202217]\n",
            " [-0.27463134  0.83130976]\n",
            " [ 0.8954384  -0.47931611]\n",
            " [ 0.56889829  1.49605796]\n",
            " [ 0.4161969  -0.2062873 ]\n",
            " [ 1.28728482 -0.73091941]\n",
            " [ 0.92306729 -0.5876812 ]\n",
            " [ 0.68916572 -0.56344005]\n",
            " [-0.25388424  0.81381136]\n",
            " [ 1.74982688 -0.17190175]\n",
            " [ 0.87292218 -0.1882617 ]\n",
            " [-0.00357042  1.10893251]\n",
            " [-0.5833512   0.53830741]\n",
            " [ 1.12220155 -0.0399072 ]\n",
            " [-0.87841454  0.19444764]\n",
            " [ 1.68382827  0.13474798]\n",
            " [ 2.04413796  0.91735362]\n",
            " [-0.12506828  0.84766342]\n",
            " [ 0.64483224  0.47420899]\n",
            " [ 0.75787263  0.30273385]\n",
            " [-0.69244697  0.26854981]\n",
            " [ 0.02447251  1.47996275]\n",
            " [ 1.90161925  0.24976145]\n",
            " [-0.6184172   0.41059763]\n",
            " [ 0.87819143 -0.50575206]\n",
            " [ 0.39648307 -0.17175113]\n",
            " [-0.58349096  0.5929411 ]\n",
            " [-1.14721339  1.15731372]\n",
            " [ 0.53582868 -0.36177312]\n",
            " [ 0.62998832  0.36345728]]\n",
            "[[ 4.40934769e-01  1.80067881e-01]\n",
            " [ 2.10281848e-01  4.94360715e-01]\n",
            " [ 2.42263283e-01  3.65714413e-01]\n",
            " [ 1.22408943e+00 -5.75317069e-01]\n",
            " [ 4.30148631e-01 -3.78839201e-01]\n",
            " [ 4.58370939e-01 -2.43663390e-01]\n",
            " [-1.94710682e-01  1.36017055e+00]\n",
            " [-8.73932598e-01  6.36893193e-01]\n",
            " [-6.40485618e-01  2.64831090e-02]\n",
            " [-7.31244615e-01  6.37160987e-01]\n",
            " [ 1.67864907e+00 -3.96435236e-01]\n",
            " [ 1.47410068e-02  1.20741072e+00]\n",
            " [ 2.82421213e-01 -2.98364680e-01]\n",
            " [ 6.62507804e-01 -1.49403504e-01]\n",
            " [ 1.95368220e+00  6.96850586e-02]\n",
            " [-2.66482325e-01  8.17083678e-01]\n",
            " [ 2.73578868e-01  1.03577576e+00]\n",
            " [ 2.00498092e+00  6.17917684e-04]\n",
            " [ 1.58057601e+00  1.08397957e-01]\n",
            " [ 4.57786858e-01  6.46972324e-01]\n",
            " [-6.45618579e-02  8.26305050e-01]\n",
            " [ 2.41806981e+00  7.30733046e-01]\n",
            " [ 5.15148055e-01  9.90033901e-02]\n",
            " [-8.47026511e-01  3.72928325e-02]\n",
            " [-1.35391535e-01  6.13836656e-01]\n",
            " [ 4.39662251e-01  5.47680762e-01]\n",
            " [ 2.63973145e-01 -4.93864813e-02]\n",
            " [ 8.52452409e-02  1.23547181e+00]\n",
            " [ 1.78981741e+00 -2.35992356e-01]\n",
            " [-3.55075201e-01  1.08392458e+00]\n",
            " [ 1.79818746e+00 -2.78822565e-01]\n",
            " [ 1.79727110e+00 -6.41334784e-01]\n",
            " [ 6.45026865e-01  7.96243703e-01]\n",
            " [ 4.14527192e-01  1.49646841e+00]\n",
            " [ 1.13563371e+00 -4.62934669e-01]\n",
            " [ 1.06790582e+00  1.89792409e-01]\n",
            " [-1.17372717e+00  4.31105236e-01]\n",
            " [ 1.06301309e+00 -6.29422791e-01]\n",
            " [ 6.51392829e-01 -5.33789665e-01]\n",
            " [ 1.81836292e+00 -1.00653879e-01]\n",
            " [ 1.57080435e+00  3.60862132e-01]\n",
            " [ 5.20276966e-01 -1.57267915e-01]\n",
            " [ 1.07268898e+00  4.17099678e-01]\n",
            " [ 1.42613694e-01  8.05809320e-01]\n",
            " [-5.51919231e-01  8.39231141e-01]\n",
            " [ 4.59492338e-01  6.02379273e-01]\n",
            " [ 8.30948469e-01 -2.96545518e-01]\n",
            " [-4.61188138e-01  3.16754158e-01]\n",
            " [ 7.89960669e-02 -5.03689660e-01]\n",
            " [-3.12734352e-01  2.21235570e-01]\n",
            " [-1.16072643e-01  1.93360847e-01]\n",
            " [ 1.46837247e+00 -5.28852777e-01]\n",
            " [ 3.43956134e-01  1.02579339e+00]\n",
            " [-3.36122952e-01  8.20946645e-01]\n",
            " [-2.60291632e-01  2.95275506e-01]\n",
            " [ 5.44431893e-01  1.02101774e+00]\n",
            " [ 1.76640458e-01  3.14357970e-01]\n",
            " [ 7.46703853e-01 -7.08375670e-01]\n",
            " [-3.91093781e-01  1.17595106e+00]\n",
            " [ 1.63769603e+00 -2.61124278e-01]\n",
            " [ 2.12627382e-01  1.04214021e+00]\n",
            " [ 1.08401675e+00 -2.44103744e-01]\n",
            " [ 1.87095769e+00  1.66574593e-01]\n",
            " [ 3.06760311e-02  8.86110320e-01]\n",
            " [ 1.99268693e+00  1.95878470e-02]\n",
            " [ 7.46937221e-01  9.20313731e-01]\n",
            " [ 7.00990895e-01  6.21134692e-01]\n",
            " [ 1.16188953e+00  1.34006634e-01]\n",
            " [ 2.04788278e-02  9.80388287e-01]\n",
            " [ 1.93163111e+00  5.13832245e-01]\n",
            " [ 8.36233490e-01  2.84751837e-01]\n",
            " [-1.12921116e+00  3.32583172e-01]\n",
            " [ 6.23436670e-01 -1.42192962e-01]\n",
            " [ 8.70087043e-01 -2.83877814e-01]\n",
            " [ 3.21358420e-01  1.13521704e+00]\n",
            " [-1.02171861e-01  9.88739221e-01]\n",
            " [ 1.42452209e+00 -5.50703665e-01]\n",
            " [ 1.29183123e+00 -4.81853630e-01]\n",
            " [-9.92387220e-01  8.53978734e-01]\n",
            " [ 1.47672487e-02  6.67183440e-01]\n",
            " [ 2.32032573e+00  2.56173550e-01]\n",
            " [ 1.82090937e+00  8.60794559e-01]\n",
            " [ 1.88834973e-01  3.48360233e-01]\n",
            " [ 1.34881851e+00  2.77781528e-01]\n",
            " [ 1.90872397e+00 -2.16223330e-01]\n",
            " [ 1.01610712e+00 -3.62936787e-01]\n",
            " [ 1.04365491e+00 -1.55476522e-01]\n",
            " [-5.88558251e-01  7.06313761e-01]\n",
            " [ 1.28117922e+00 -4.14877515e-01]\n",
            " [ 4.51649661e-01 -3.92064630e-01]\n",
            " [ 1.86983362e+00 -2.92797206e-01]\n",
            " [-7.79949908e-01  8.67244662e-01]\n",
            " [-6.74431582e-01  6.27439998e-01]\n",
            " [ 5.46677353e-01  8.90933036e-01]\n",
            " [ 2.29993933e-01  1.03297248e+00]\n",
            " [ 1.65429378e+00 -1.60315761e-01]\n",
            " [-6.30879312e-01  8.24778882e-01]\n",
            " [ 6.22286931e-01  2.04529640e-02]\n",
            " [ 5.23843940e-01  3.99150431e-01]\n",
            " [ 1.30186381e+00 -5.31502273e-01]]\n",
            "[0 1 1 0 0 0 0 0 0 1 0 0 0 1 0 0 0 0 0 1 1 1 0 0 0 1 0 0 1 1 1 0 1 0 0 0 1\n",
            " 0 0 0 1 1 0 1 0 1 1 0 0 0 1 0 0 1 0 1 0 1 1 1 0 1 1 1 0 1 1 0 0 1 0 0 1 0\n",
            " 1 0 1 0 1 1 1 0 1 1 1 0 0 0 1 1 0 0 0 0 0 1 1 1 0 1 1 0 0 1 0 1 1 1 1 0 1\n",
            " 0 1 1 1 1 0 1 1 1 0 1 1 0 1 0 1 1 1 0 1 1 1 1 0 1 0 1 0 0 0 1 1 0 0 1 0 0\n",
            " 0 0 0 1 1 0 1 1 0 1 0 1 1 0 0 0 0 0 1 0 1 1 1 0 0 0 1 1 1 1 0 0 1 0 0 0 1\n",
            " 0 1 1 1 1 0 0 1 0 1 1 0 1 1 0 1 0 0 1 0 0 0 1 1 0 1 0 1 1 0 1 0 0 0 1 1 1\n",
            " 0 0 0 0 0 1 1 1 0 1 1 0 0 1 0 1 1 1 0 1 1 0 0 0 1 1 0 1 1 0 0 0 1 0 0 1 1\n",
            " 0 1 1 1 1 0 1 0 0 1 0 0 1 0 1 1 1 0 0 1 0 0 1 0 0 1 0 1 1 0 1 0 1 1 1 0 0\n",
            " 1 1 1 0 1 0 0 1 0 1 0 1 0 0 1 0 0 1 1 0 1 0 1 0 0 1 1 0 1 0 0 0 0 0 1 1 0\n",
            " 1 0 0 0 0 0 1 1 0 1 0 0 0 0 1 0 1 0 0 0 0 1 0 1 0 1 0 0 0 1 0 1 1 1 1 0 0\n",
            " 1 0 1 0 1 1 1 1 0 1 0 0 0 0 0 1 1 0 1 0 0 0 1 0 1 1 0 0 1 0]\n",
            "[1 1 1 1 1 1 0 0 0 0 1 0 1 1 1 0 0 1 1 1 0 1 1 0 1 0 1 0 1 0 1 1 0 0 1 0 0\n",
            " 1 1 1 1 1 0 0 0 0 1 0 1 1 1 1 0 0 1 0 1 1 0 1 0 1 1 0 1 0 0 0 0 1 0 0 1 1\n",
            " 0 0 1 1 0 1 1 1 1 1 1 1 1 0 1 1 1 0 0 0 0 1 0 1 0 1]\n"
          ]
        }
      ]
    },
    {
      "cell_type": "code",
      "source": [
        "# 2. 파이프라인 구축\n",
        "# 데이터 입력 전처리 + 모델 학습\n",
        "\n",
        "clf = Pipeline([\n",
        "    ('scaler', StandardScaler()), # 표준화 StandardScaler() : 압축 / 정규화 Normalization() : 최소갑소가 최대값 사이로 최소값은 0 최대값은 1로 시그모이드함수랑 비슷한 역할\n",
        "    ('mlp', MLPClassifier(\n",
        "        hidden_layer_sizes=(8,8), # 은닉층은 2개, 뉴런수는 8개\n",
        "        activation='relu',\n",
        "        solver='adam',\n",
        "        learning_rate_init=0.01,\n",
        "        max_iter=1000,\n",
        "        random_state=42\n",
        "      ))\n",
        "])"
      ],
      "metadata": {
        "id": "5KXhfKV3v2P-"
      },
      "execution_count": null,
      "outputs": []
    },
    {
      "cell_type": "code",
      "source": [
        "# 학습\n",
        "clf.fit(x_train, y_train)"
      ],
      "metadata": {
        "colab": {
          "base_uri": "https://localhost:8080/",
          "height": 155
        },
        "id": "L_COEtgfwxkn",
        "outputId": "a5259874-0317-4c86-e597-c84b360142df"
      },
      "execution_count": null,
      "outputs": [
        {
          "output_type": "execute_result",
          "data": {
            "text/plain": [
              "Pipeline(steps=[('scaler', StandardScaler()),\n",
              "                ('mlp',\n",
              "                 MLPClassifier(hidden_layer_sizes=(8, 8),\n",
              "                               learning_rate_init=0.01, max_iter=1000,\n",
              "                               random_state=42))])"
            ],
            "text/html": [
              "<style>#sk-container-id-3 {\n",
              "  /* Definition of color scheme common for light and dark mode */\n",
              "  --sklearn-color-text: #000;\n",
              "  --sklearn-color-text-muted: #666;\n",
              "  --sklearn-color-line: gray;\n",
              "  /* Definition of color scheme for unfitted estimators */\n",
              "  --sklearn-color-unfitted-level-0: #fff5e6;\n",
              "  --sklearn-color-unfitted-level-1: #f6e4d2;\n",
              "  --sklearn-color-unfitted-level-2: #ffe0b3;\n",
              "  --sklearn-color-unfitted-level-3: chocolate;\n",
              "  /* Definition of color scheme for fitted estimators */\n",
              "  --sklearn-color-fitted-level-0: #f0f8ff;\n",
              "  --sklearn-color-fitted-level-1: #d4ebff;\n",
              "  --sklearn-color-fitted-level-2: #b3dbfd;\n",
              "  --sklearn-color-fitted-level-3: cornflowerblue;\n",
              "\n",
              "  /* Specific color for light theme */\n",
              "  --sklearn-color-text-on-default-background: var(--sg-text-color, var(--theme-code-foreground, var(--jp-content-font-color1, black)));\n",
              "  --sklearn-color-background: var(--sg-background-color, var(--theme-background, var(--jp-layout-color0, white)));\n",
              "  --sklearn-color-border-box: var(--sg-text-color, var(--theme-code-foreground, var(--jp-content-font-color1, black)));\n",
              "  --sklearn-color-icon: #696969;\n",
              "\n",
              "  @media (prefers-color-scheme: dark) {\n",
              "    /* Redefinition of color scheme for dark theme */\n",
              "    --sklearn-color-text-on-default-background: var(--sg-text-color, var(--theme-code-foreground, var(--jp-content-font-color1, white)));\n",
              "    --sklearn-color-background: var(--sg-background-color, var(--theme-background, var(--jp-layout-color0, #111)));\n",
              "    --sklearn-color-border-box: var(--sg-text-color, var(--theme-code-foreground, var(--jp-content-font-color1, white)));\n",
              "    --sklearn-color-icon: #878787;\n",
              "  }\n",
              "}\n",
              "\n",
              "#sk-container-id-3 {\n",
              "  color: var(--sklearn-color-text);\n",
              "}\n",
              "\n",
              "#sk-container-id-3 pre {\n",
              "  padding: 0;\n",
              "}\n",
              "\n",
              "#sk-container-id-3 input.sk-hidden--visually {\n",
              "  border: 0;\n",
              "  clip: rect(1px 1px 1px 1px);\n",
              "  clip: rect(1px, 1px, 1px, 1px);\n",
              "  height: 1px;\n",
              "  margin: -1px;\n",
              "  overflow: hidden;\n",
              "  padding: 0;\n",
              "  position: absolute;\n",
              "  width: 1px;\n",
              "}\n",
              "\n",
              "#sk-container-id-3 div.sk-dashed-wrapped {\n",
              "  border: 1px dashed var(--sklearn-color-line);\n",
              "  margin: 0 0.4em 0.5em 0.4em;\n",
              "  box-sizing: border-box;\n",
              "  padding-bottom: 0.4em;\n",
              "  background-color: var(--sklearn-color-background);\n",
              "}\n",
              "\n",
              "#sk-container-id-3 div.sk-container {\n",
              "  /* jupyter's `normalize.less` sets `[hidden] { display: none; }`\n",
              "     but bootstrap.min.css set `[hidden] { display: none !important; }`\n",
              "     so we also need the `!important` here to be able to override the\n",
              "     default hidden behavior on the sphinx rendered scikit-learn.org.\n",
              "     See: https://github.com/scikit-learn/scikit-learn/issues/21755 */\n",
              "  display: inline-block !important;\n",
              "  position: relative;\n",
              "}\n",
              "\n",
              "#sk-container-id-3 div.sk-text-repr-fallback {\n",
              "  display: none;\n",
              "}\n",
              "\n",
              "div.sk-parallel-item,\n",
              "div.sk-serial,\n",
              "div.sk-item {\n",
              "  /* draw centered vertical line to link estimators */\n",
              "  background-image: linear-gradient(var(--sklearn-color-text-on-default-background), var(--sklearn-color-text-on-default-background));\n",
              "  background-size: 2px 100%;\n",
              "  background-repeat: no-repeat;\n",
              "  background-position: center center;\n",
              "}\n",
              "\n",
              "/* Parallel-specific style estimator block */\n",
              "\n",
              "#sk-container-id-3 div.sk-parallel-item::after {\n",
              "  content: \"\";\n",
              "  width: 100%;\n",
              "  border-bottom: 2px solid var(--sklearn-color-text-on-default-background);\n",
              "  flex-grow: 1;\n",
              "}\n",
              "\n",
              "#sk-container-id-3 div.sk-parallel {\n",
              "  display: flex;\n",
              "  align-items: stretch;\n",
              "  justify-content: center;\n",
              "  background-color: var(--sklearn-color-background);\n",
              "  position: relative;\n",
              "}\n",
              "\n",
              "#sk-container-id-3 div.sk-parallel-item {\n",
              "  display: flex;\n",
              "  flex-direction: column;\n",
              "}\n",
              "\n",
              "#sk-container-id-3 div.sk-parallel-item:first-child::after {\n",
              "  align-self: flex-end;\n",
              "  width: 50%;\n",
              "}\n",
              "\n",
              "#sk-container-id-3 div.sk-parallel-item:last-child::after {\n",
              "  align-self: flex-start;\n",
              "  width: 50%;\n",
              "}\n",
              "\n",
              "#sk-container-id-3 div.sk-parallel-item:only-child::after {\n",
              "  width: 0;\n",
              "}\n",
              "\n",
              "/* Serial-specific style estimator block */\n",
              "\n",
              "#sk-container-id-3 div.sk-serial {\n",
              "  display: flex;\n",
              "  flex-direction: column;\n",
              "  align-items: center;\n",
              "  background-color: var(--sklearn-color-background);\n",
              "  padding-right: 1em;\n",
              "  padding-left: 1em;\n",
              "}\n",
              "\n",
              "\n",
              "/* Toggleable style: style used for estimator/Pipeline/ColumnTransformer box that is\n",
              "clickable and can be expanded/collapsed.\n",
              "- Pipeline and ColumnTransformer use this feature and define the default style\n",
              "- Estimators will overwrite some part of the style using the `sk-estimator` class\n",
              "*/\n",
              "\n",
              "/* Pipeline and ColumnTransformer style (default) */\n",
              "\n",
              "#sk-container-id-3 div.sk-toggleable {\n",
              "  /* Default theme specific background. It is overwritten whether we have a\n",
              "  specific estimator or a Pipeline/ColumnTransformer */\n",
              "  background-color: var(--sklearn-color-background);\n",
              "}\n",
              "\n",
              "/* Toggleable label */\n",
              "#sk-container-id-3 label.sk-toggleable__label {\n",
              "  cursor: pointer;\n",
              "  display: flex;\n",
              "  width: 100%;\n",
              "  margin-bottom: 0;\n",
              "  padding: 0.5em;\n",
              "  box-sizing: border-box;\n",
              "  text-align: center;\n",
              "  align-items: start;\n",
              "  justify-content: space-between;\n",
              "  gap: 0.5em;\n",
              "}\n",
              "\n",
              "#sk-container-id-3 label.sk-toggleable__label .caption {\n",
              "  font-size: 0.6rem;\n",
              "  font-weight: lighter;\n",
              "  color: var(--sklearn-color-text-muted);\n",
              "}\n",
              "\n",
              "#sk-container-id-3 label.sk-toggleable__label-arrow:before {\n",
              "  /* Arrow on the left of the label */\n",
              "  content: \"▸\";\n",
              "  float: left;\n",
              "  margin-right: 0.25em;\n",
              "  color: var(--sklearn-color-icon);\n",
              "}\n",
              "\n",
              "#sk-container-id-3 label.sk-toggleable__label-arrow:hover:before {\n",
              "  color: var(--sklearn-color-text);\n",
              "}\n",
              "\n",
              "/* Toggleable content - dropdown */\n",
              "\n",
              "#sk-container-id-3 div.sk-toggleable__content {\n",
              "  max-height: 0;\n",
              "  max-width: 0;\n",
              "  overflow: hidden;\n",
              "  text-align: left;\n",
              "  /* unfitted */\n",
              "  background-color: var(--sklearn-color-unfitted-level-0);\n",
              "}\n",
              "\n",
              "#sk-container-id-3 div.sk-toggleable__content.fitted {\n",
              "  /* fitted */\n",
              "  background-color: var(--sklearn-color-fitted-level-0);\n",
              "}\n",
              "\n",
              "#sk-container-id-3 div.sk-toggleable__content pre {\n",
              "  margin: 0.2em;\n",
              "  border-radius: 0.25em;\n",
              "  color: var(--sklearn-color-text);\n",
              "  /* unfitted */\n",
              "  background-color: var(--sklearn-color-unfitted-level-0);\n",
              "}\n",
              "\n",
              "#sk-container-id-3 div.sk-toggleable__content.fitted pre {\n",
              "  /* unfitted */\n",
              "  background-color: var(--sklearn-color-fitted-level-0);\n",
              "}\n",
              "\n",
              "#sk-container-id-3 input.sk-toggleable__control:checked~div.sk-toggleable__content {\n",
              "  /* Expand drop-down */\n",
              "  max-height: 200px;\n",
              "  max-width: 100%;\n",
              "  overflow: auto;\n",
              "}\n",
              "\n",
              "#sk-container-id-3 input.sk-toggleable__control:checked~label.sk-toggleable__label-arrow:before {\n",
              "  content: \"▾\";\n",
              "}\n",
              "\n",
              "/* Pipeline/ColumnTransformer-specific style */\n",
              "\n",
              "#sk-container-id-3 div.sk-label input.sk-toggleable__control:checked~label.sk-toggleable__label {\n",
              "  color: var(--sklearn-color-text);\n",
              "  background-color: var(--sklearn-color-unfitted-level-2);\n",
              "}\n",
              "\n",
              "#sk-container-id-3 div.sk-label.fitted input.sk-toggleable__control:checked~label.sk-toggleable__label {\n",
              "  background-color: var(--sklearn-color-fitted-level-2);\n",
              "}\n",
              "\n",
              "/* Estimator-specific style */\n",
              "\n",
              "/* Colorize estimator box */\n",
              "#sk-container-id-3 div.sk-estimator input.sk-toggleable__control:checked~label.sk-toggleable__label {\n",
              "  /* unfitted */\n",
              "  background-color: var(--sklearn-color-unfitted-level-2);\n",
              "}\n",
              "\n",
              "#sk-container-id-3 div.sk-estimator.fitted input.sk-toggleable__control:checked~label.sk-toggleable__label {\n",
              "  /* fitted */\n",
              "  background-color: var(--sklearn-color-fitted-level-2);\n",
              "}\n",
              "\n",
              "#sk-container-id-3 div.sk-label label.sk-toggleable__label,\n",
              "#sk-container-id-3 div.sk-label label {\n",
              "  /* The background is the default theme color */\n",
              "  color: var(--sklearn-color-text-on-default-background);\n",
              "}\n",
              "\n",
              "/* On hover, darken the color of the background */\n",
              "#sk-container-id-3 div.sk-label:hover label.sk-toggleable__label {\n",
              "  color: var(--sklearn-color-text);\n",
              "  background-color: var(--sklearn-color-unfitted-level-2);\n",
              "}\n",
              "\n",
              "/* Label box, darken color on hover, fitted */\n",
              "#sk-container-id-3 div.sk-label.fitted:hover label.sk-toggleable__label.fitted {\n",
              "  color: var(--sklearn-color-text);\n",
              "  background-color: var(--sklearn-color-fitted-level-2);\n",
              "}\n",
              "\n",
              "/* Estimator label */\n",
              "\n",
              "#sk-container-id-3 div.sk-label label {\n",
              "  font-family: monospace;\n",
              "  font-weight: bold;\n",
              "  display: inline-block;\n",
              "  line-height: 1.2em;\n",
              "}\n",
              "\n",
              "#sk-container-id-3 div.sk-label-container {\n",
              "  text-align: center;\n",
              "}\n",
              "\n",
              "/* Estimator-specific */\n",
              "#sk-container-id-3 div.sk-estimator {\n",
              "  font-family: monospace;\n",
              "  border: 1px dotted var(--sklearn-color-border-box);\n",
              "  border-radius: 0.25em;\n",
              "  box-sizing: border-box;\n",
              "  margin-bottom: 0.5em;\n",
              "  /* unfitted */\n",
              "  background-color: var(--sklearn-color-unfitted-level-0);\n",
              "}\n",
              "\n",
              "#sk-container-id-3 div.sk-estimator.fitted {\n",
              "  /* fitted */\n",
              "  background-color: var(--sklearn-color-fitted-level-0);\n",
              "}\n",
              "\n",
              "/* on hover */\n",
              "#sk-container-id-3 div.sk-estimator:hover {\n",
              "  /* unfitted */\n",
              "  background-color: var(--sklearn-color-unfitted-level-2);\n",
              "}\n",
              "\n",
              "#sk-container-id-3 div.sk-estimator.fitted:hover {\n",
              "  /* fitted */\n",
              "  background-color: var(--sklearn-color-fitted-level-2);\n",
              "}\n",
              "\n",
              "/* Specification for estimator info (e.g. \"i\" and \"?\") */\n",
              "\n",
              "/* Common style for \"i\" and \"?\" */\n",
              "\n",
              ".sk-estimator-doc-link,\n",
              "a:link.sk-estimator-doc-link,\n",
              "a:visited.sk-estimator-doc-link {\n",
              "  float: right;\n",
              "  font-size: smaller;\n",
              "  line-height: 1em;\n",
              "  font-family: monospace;\n",
              "  background-color: var(--sklearn-color-background);\n",
              "  border-radius: 1em;\n",
              "  height: 1em;\n",
              "  width: 1em;\n",
              "  text-decoration: none !important;\n",
              "  margin-left: 0.5em;\n",
              "  text-align: center;\n",
              "  /* unfitted */\n",
              "  border: var(--sklearn-color-unfitted-level-1) 1pt solid;\n",
              "  color: var(--sklearn-color-unfitted-level-1);\n",
              "}\n",
              "\n",
              ".sk-estimator-doc-link.fitted,\n",
              "a:link.sk-estimator-doc-link.fitted,\n",
              "a:visited.sk-estimator-doc-link.fitted {\n",
              "  /* fitted */\n",
              "  border: var(--sklearn-color-fitted-level-1) 1pt solid;\n",
              "  color: var(--sklearn-color-fitted-level-1);\n",
              "}\n",
              "\n",
              "/* On hover */\n",
              "div.sk-estimator:hover .sk-estimator-doc-link:hover,\n",
              ".sk-estimator-doc-link:hover,\n",
              "div.sk-label-container:hover .sk-estimator-doc-link:hover,\n",
              ".sk-estimator-doc-link:hover {\n",
              "  /* unfitted */\n",
              "  background-color: var(--sklearn-color-unfitted-level-3);\n",
              "  color: var(--sklearn-color-background);\n",
              "  text-decoration: none;\n",
              "}\n",
              "\n",
              "div.sk-estimator.fitted:hover .sk-estimator-doc-link.fitted:hover,\n",
              ".sk-estimator-doc-link.fitted:hover,\n",
              "div.sk-label-container:hover .sk-estimator-doc-link.fitted:hover,\n",
              ".sk-estimator-doc-link.fitted:hover {\n",
              "  /* fitted */\n",
              "  background-color: var(--sklearn-color-fitted-level-3);\n",
              "  color: var(--sklearn-color-background);\n",
              "  text-decoration: none;\n",
              "}\n",
              "\n",
              "/* Span, style for the box shown on hovering the info icon */\n",
              ".sk-estimator-doc-link span {\n",
              "  display: none;\n",
              "  z-index: 9999;\n",
              "  position: relative;\n",
              "  font-weight: normal;\n",
              "  right: .2ex;\n",
              "  padding: .5ex;\n",
              "  margin: .5ex;\n",
              "  width: min-content;\n",
              "  min-width: 20ex;\n",
              "  max-width: 50ex;\n",
              "  color: var(--sklearn-color-text);\n",
              "  box-shadow: 2pt 2pt 4pt #999;\n",
              "  /* unfitted */\n",
              "  background: var(--sklearn-color-unfitted-level-0);\n",
              "  border: .5pt solid var(--sklearn-color-unfitted-level-3);\n",
              "}\n",
              "\n",
              ".sk-estimator-doc-link.fitted span {\n",
              "  /* fitted */\n",
              "  background: var(--sklearn-color-fitted-level-0);\n",
              "  border: var(--sklearn-color-fitted-level-3);\n",
              "}\n",
              "\n",
              ".sk-estimator-doc-link:hover span {\n",
              "  display: block;\n",
              "}\n",
              "\n",
              "/* \"?\"-specific style due to the `<a>` HTML tag */\n",
              "\n",
              "#sk-container-id-3 a.estimator_doc_link {\n",
              "  float: right;\n",
              "  font-size: 1rem;\n",
              "  line-height: 1em;\n",
              "  font-family: monospace;\n",
              "  background-color: var(--sklearn-color-background);\n",
              "  border-radius: 1rem;\n",
              "  height: 1rem;\n",
              "  width: 1rem;\n",
              "  text-decoration: none;\n",
              "  /* unfitted */\n",
              "  color: var(--sklearn-color-unfitted-level-1);\n",
              "  border: var(--sklearn-color-unfitted-level-1) 1pt solid;\n",
              "}\n",
              "\n",
              "#sk-container-id-3 a.estimator_doc_link.fitted {\n",
              "  /* fitted */\n",
              "  border: var(--sklearn-color-fitted-level-1) 1pt solid;\n",
              "  color: var(--sklearn-color-fitted-level-1);\n",
              "}\n",
              "\n",
              "/* On hover */\n",
              "#sk-container-id-3 a.estimator_doc_link:hover {\n",
              "  /* unfitted */\n",
              "  background-color: var(--sklearn-color-unfitted-level-3);\n",
              "  color: var(--sklearn-color-background);\n",
              "  text-decoration: none;\n",
              "}\n",
              "\n",
              "#sk-container-id-3 a.estimator_doc_link.fitted:hover {\n",
              "  /* fitted */\n",
              "  background-color: var(--sklearn-color-fitted-level-3);\n",
              "}\n",
              "</style><div id=\"sk-container-id-3\" class=\"sk-top-container\"><div class=\"sk-text-repr-fallback\"><pre>Pipeline(steps=[(&#x27;scaler&#x27;, StandardScaler()),\n",
              "                (&#x27;mlp&#x27;,\n",
              "                 MLPClassifier(hidden_layer_sizes=(8, 8),\n",
              "                               learning_rate_init=0.01, max_iter=1000,\n",
              "                               random_state=42))])</pre><b>In a Jupyter environment, please rerun this cell to show the HTML representation or trust the notebook. <br />On GitHub, the HTML representation is unable to render, please try loading this page with nbviewer.org.</b></div><div class=\"sk-container\" hidden><div class=\"sk-item sk-dashed-wrapped\"><div class=\"sk-label-container\"><div class=\"sk-label fitted sk-toggleable\"><input class=\"sk-toggleable__control sk-hidden--visually\" id=\"sk-estimator-id-3\" type=\"checkbox\" ><label for=\"sk-estimator-id-3\" class=\"sk-toggleable__label fitted sk-toggleable__label-arrow\"><div><div>Pipeline</div></div><div><a class=\"sk-estimator-doc-link fitted\" rel=\"noreferrer\" target=\"_blank\" href=\"https://scikit-learn.org/1.6/modules/generated/sklearn.pipeline.Pipeline.html\">?<span>Documentation for Pipeline</span></a><span class=\"sk-estimator-doc-link fitted\">i<span>Fitted</span></span></div></label><div class=\"sk-toggleable__content fitted\"><pre>Pipeline(steps=[(&#x27;scaler&#x27;, StandardScaler()),\n",
              "                (&#x27;mlp&#x27;,\n",
              "                 MLPClassifier(hidden_layer_sizes=(8, 8),\n",
              "                               learning_rate_init=0.01, max_iter=1000,\n",
              "                               random_state=42))])</pre></div> </div></div><div class=\"sk-serial\"><div class=\"sk-item\"><div class=\"sk-estimator fitted sk-toggleable\"><input class=\"sk-toggleable__control sk-hidden--visually\" id=\"sk-estimator-id-4\" type=\"checkbox\" ><label for=\"sk-estimator-id-4\" class=\"sk-toggleable__label fitted sk-toggleable__label-arrow\"><div><div>StandardScaler</div></div><div><a class=\"sk-estimator-doc-link fitted\" rel=\"noreferrer\" target=\"_blank\" href=\"https://scikit-learn.org/1.6/modules/generated/sklearn.preprocessing.StandardScaler.html\">?<span>Documentation for StandardScaler</span></a></div></label><div class=\"sk-toggleable__content fitted\"><pre>StandardScaler()</pre></div> </div></div><div class=\"sk-item\"><div class=\"sk-estimator fitted sk-toggleable\"><input class=\"sk-toggleable__control sk-hidden--visually\" id=\"sk-estimator-id-5\" type=\"checkbox\" ><label for=\"sk-estimator-id-5\" class=\"sk-toggleable__label fitted sk-toggleable__label-arrow\"><div><div>MLPClassifier</div></div><div><a class=\"sk-estimator-doc-link fitted\" rel=\"noreferrer\" target=\"_blank\" href=\"https://scikit-learn.org/1.6/modules/generated/sklearn.neural_network.MLPClassifier.html\">?<span>Documentation for MLPClassifier</span></a></div></label><div class=\"sk-toggleable__content fitted\"><pre>MLPClassifier(hidden_layer_sizes=(8, 8), learning_rate_init=0.01, max_iter=1000,\n",
              "              random_state=42)</pre></div> </div></div></div></div></div></div>"
            ]
          },
          "metadata": {},
          "execution_count": 28
        }
      ]
    },
    {
      "cell_type": "code",
      "source": [
        "# 평가 정확도(1:1로 예측 / 0:0으로 예측을 잘 했는지)\n",
        "\n",
        "train_acc = clf.score(x_train, y_train)\n",
        "test_acc = clf.score(x_test, y_test)"
      ],
      "metadata": {
        "id": "m5elT-iMxwT6"
      },
      "execution_count": null,
      "outputs": []
    },
    {
      "cell_type": "code",
      "source": [
        "print(train_acc, test_acc)\n",
        "# print(f\"Train Accuracy: {train_acc:.3f}\")\n",
        "# print(f\"Test Accuracy: {test_acc:.3f}\")"
      ],
      "metadata": {
        "colab": {
          "base_uri": "https://localhost:8080/"
        },
        "id": "-CxFNdXtyVyr",
        "outputId": "9b394e87-bc15-40cf-945d-ab22a979382d"
      },
      "execution_count": null,
      "outputs": [
        {
          "output_type": "stream",
          "name": "stdout",
          "text": [
            "0.955 0.94\n"
          ]
        }
      ]
    },
    {
      "cell_type": "code",
      "source": [
        "import matplotlib.pyplot as plt\n",
        "import numpy as np\n",
        "\n",
        "# ===== 1. 예측값 계산 =====\n",
        "y_pred = clf.predict(x_test)\n",
        "\n",
        "# ===== 2. 예측 결과 비교 (정답 vs 오답 표시) =====\n",
        "plt.figure(figsize=(8,6))\n",
        "plt.title(\"🎯 실제값 vs 예측값 시각화\", fontsize=14)\n",
        "\n",
        "# 맞게 예측한 점 (파랑)\n",
        "plt.scatter(\n",
        "    x_test[y_pred == y_test, 0],\n",
        "    x_test[y_pred == y_test, 1],\n",
        "    color=\"skyblue\",\n",
        "    label=\"✅ Correct\",\n",
        "    alpha=0.7\n",
        ")\n",
        "\n",
        "# 틀리게 예측한 점 (빨강)\n",
        "plt.scatter(\n",
        "    x_test[y_pred != y_test, 0],\n",
        "    x_test[y_pred != y_test, 1],\n",
        "    color=\"salmon\",\n",
        "    label=\"❌ Wrong\",\n",
        "    edgecolor=\"black\",\n",
        "    s=80\n",
        ")\n",
        "\n",
        "plt.xlabel(\"Feature 1\")\n",
        "plt.ylabel(\"Feature 2\")\n",
        "plt.legend()\n",
        "plt.grid(alpha=0.3)\n",
        "plt.show()"
      ],
      "metadata": {
        "colab": {
          "base_uri": "https://localhost:8080/",
          "height": 625
        },
        "id": "KhKoxuFtyW_u",
        "outputId": "c50fb42b-4e50-4641-c7d0-980bd9b7a3cc"
      },
      "execution_count": null,
      "outputs": [
        {
          "output_type": "stream",
          "name": "stderr",
          "text": [
            "/usr/local/lib/python3.12/dist-packages/IPython/core/pylabtools.py:151: UserWarning: Glyph 127919 (\\N{DIRECT HIT}) missing from font(s) NanumGothic.\n",
            "  fig.canvas.print_figure(bytes_io, **kw)\n",
            "/usr/local/lib/python3.12/dist-packages/IPython/core/pylabtools.py:151: UserWarning: Glyph 9989 (\\N{WHITE HEAVY CHECK MARK}) missing from font(s) NanumGothic.\n",
            "  fig.canvas.print_figure(bytes_io, **kw)\n",
            "/usr/local/lib/python3.12/dist-packages/IPython/core/pylabtools.py:151: UserWarning: Glyph 10060 (\\N{CROSS MARK}) missing from font(s) NanumGothic.\n",
            "  fig.canvas.print_figure(bytes_io, **kw)\n"
          ]
        },
        {
          "output_type": "display_data",
          "data": {
            "text/plain": [
              "<Figure size 800x600 with 1 Axes>"
            ],
            "image/png": "[encoded data removed]"
          },
          "metadata": {}
        }
      ]
    },
    {
      "cell_type": "markdown",
      "source": [
        "# #4교시"
      ],
      "metadata": {
        "id": "eXs3crOyJS7P"
      }
    },
    {
      "cell_type": "code",
      "source": [
        "# ==============================\n",
        "# 0) 라이브러리 불러오기\n",
        "# ==============================\n",
        "import numpy as np\n",
        "import tensorflow as tf\n",
        "from tensorflow.keras.preprocessing.text import Tokenizer        # 텍스트 → 정수 인코딩\n",
        "from tensorflow.keras.preprocessing.sequence import pad_sequences # 시퀀스 길이 맞추기(패딩)\n",
        "from tensorflow.keras import Sequential                           # 순차적 모델 구성 클래스\n",
        "from tensorflow.keras.layers import Embedding, SimpleRNN, Dense   # 신경망 주요 레이어\n",
        "\n",
        "# ==============================\n",
        "# 1) 미니 데이터 준비\n",
        "# ==============================\n",
        "# 영화 리뷰 데이터(한글 간단 문장 8개)\n",
        "# 1 = 긍정(Positive), 0 = 부정(Negative)\n",
        "texts = [\n",
        "    \"이 영화 정말 재미있다\",\n",
        "    \"배우 연기가 훌륭하다\",\n",
        "    \"감동적인 스토리에 눈물이 났다\",\n",
        "    \"추천하고 싶은 영화다\",\n",
        "    \"최악이다 다시 보고 싶지 않다\",\n",
        "    \"지루하고 시간 낭비였다\",\n",
        "    \"스토리가 엉성하고 별로다\",\n",
        "    \"다시는 보고 싶지 않다\"\n",
        "]\n",
        "labels = [1, 1, 1, 1, 0, 0, 0, 0]  # 감성 레이블"
      ],
      "metadata": {
        "id": "0I0pBVmCJVLz"
      },
      "execution_count": null,
      "outputs": []
    },
    {
      "cell_type": "code",
      "source": [
        "# 2) 토크나이징\n",
        "\n",
        "vocab_size = 1000 # 최대 단어 수(단어 사전 크기)\n",
        "maxlen = 8 # 문장의 최대 길이\n",
        "\n",
        "# oov란? Out of vocabulary 라는 의미 -> 사전에 없는 단어 -> oov로(대체기호) 대체함\n",
        "tokenizer = Tokenizer(num_words=vocab_size, oov_token=\"<OOV>\")\n"
      ],
      "metadata": {
        "id": "-Ep6Vp6BJgP8"
      },
      "execution_count": null,
      "outputs": []
    },
    {
      "cell_type": "code",
      "source": [
        "tokenizer.fit_on_texts(texts)# texts 데이터를 토크나이저에 넣어서\n",
        "\n"
      ],
      "metadata": {
        "id": "cmt_WBcdKAZp"
      },
      "execution_count": null,
      "outputs": []
    },
    {
      "cell_type": "code",
      "source": [
        "seqs = tokenizer.texts_to_sequences(texts)"
      ],
      "metadata": {
        "id": "7oiXbOnfKNyT"
      },
      "execution_count": null,
      "outputs": []
    },
    {
      "cell_type": "code",
      "source": [
        "print(seqs)"
      ],
      "metadata": {
        "colab": {
          "base_uri": "https://localhost:8080/"
        },
        "id": "T5-hdJCRKStx",
        "outputId": "a8642d79-5792-47fe-9bc1-1b7e2526c760"
      },
      "execution_count": null,
      "outputs": [
        {
          "output_type": "stream",
          "name": "stdout",
          "text": [
            "[[5, 6, 7, 8], [9, 10, 11], [12, 13, 14, 15], [16, 17, 18], [19, 20, 2, 3, 4], [21, 22, 23], [24, 25, 26], [27, 2, 3, 4]]\n"
          ]
        }
      ]
    },
    {
      "cell_type": "code",
      "source": [
        "# 3) X와 Y에 대한 데이터 준비\n",
        "X = pad_sequences(seqs, maxlen=maxlen, padding='post', truncating='post')\n",
        "Y = np.array(labels)"
      ],
      "metadata": {
        "id": "vwOy0n5BKxGF"
      },
      "execution_count": null,
      "outputs": []
    },
    {
      "cell_type": "code",
      "source": [
        "# 샘플 확인\n",
        "print(X[:2])\n",
        "print(tokenizer.word_index)"
      ],
      "metadata": {
        "colab": {
          "base_uri": "https://localhost:8080/"
        },
        "id": "E-4ZEVo2L0Du",
        "outputId": "87b6a3d4-a48b-4c1b-a75b-a34daf4dd6e6"
      },
      "execution_count": null,
      "outputs": [
        {
          "output_type": "stream",
          "name": "stdout",
          "text": [
            "[[ 5  6  7  8  0  0  0  0]\n",
            " [ 9 10 11  0  0  0  0  0]]\n",
            "{'<OOV>': 1, '보고': 2, '싶지': 3, '않다': 4, '이': 5, '영화': 6, '정말': 7, '재미있다': 8, '배우': 9, '연기가': 10, '훌륭하다': 11, '감동적인': 12, '스토리에': 13, '눈물이': 14, '났다': 15, '추천하고': 16, '싶은': 17, '영화다': 18, '최악이다': 19, '다시': 20, '지루하고': 21, '시간': 22, '낭비였다': 23, '스토리가': 24, '엉성하고': 25, '별로다': 26, '다시는': 27}\n"
          ]
        }
      ]
    },
    {
      "cell_type": "code",
      "source": [
        "# padding 은 모든 문장의 길이를 맞추는 구문\n",
        "# [5, 6, 7, 8]\n",
        "# [9, 10, 11]\n",
        "\n",
        "# 첫번째 문장은 총 4단어 / 두번째 문장은 총 3단어"
      ],
      "metadata": {
        "id": "kd4jVlGfK_10"
      },
      "execution_count": null,
      "outputs": []
    },
    {
      "cell_type": "code",
      "source": [
        "# padding을 활요하면 위의 데이터가 이렇게 변경이 된다.\n",
        "# [5, 6, 7, 8]\n",
        "# [9, 10, 11, 0]\n",
        "\n",
        "# truncating 문장이 너무 긴 경우에는 최대 8글자였기 때문에 8글자로 자르게 된다."
      ],
      "metadata": {
        "id": "rYvrGVByLY7u"
      },
      "execution_count": null,
      "outputs": []
    },
    {
      "cell_type": "code",
      "source": [
        "# 4) 모델 구성 / 컴파일\n",
        "# embedding과 RNN\n",
        "\n",
        "embedding_dim = 16 # 단어를 16차원으로 임베딩\n",
        "# 임베딩 [1,2,3] -> [[0.21, -0.17, 0.56, 0.09 .....]]\n",
        "\n",
        "# tensorflow라는 딥러닝 모듈에서는 Sequential로 모델의 구조를 쌓게 됩니다.\n",
        "model = Sequential([\n",
        "    Embedding(input_dim = vocab_size, output_dim=embedding_dim, input_length=maxlen),\n",
        "    SimpleRNN(units=32),\n",
        "    Dense(1, activation = 'sigmoid') # 0~1사이의 확률값으로 산출하는 1개의 뉴런\n",
        "])"
      ],
      "metadata": {
        "id": "X7T-QA3SMLXz"
      },
      "execution_count": null,
      "outputs": []
    },
    {
      "cell_type": "code",
      "source": [
        "# 모델 컴파일\n",
        "model.compile(optimizer = 'adam', loss = 'binary_crossentropy', metrics=['accuracy'])\n",
        "model.summary()"
      ],
      "metadata": {
        "colab": {
          "base_uri": "https://localhost:8080/",
          "height": 225
        },
        "id": "9rf3mF6oOp5z",
        "outputId": "ca45b37d-a12e-4993-dd3f-ce41071b44c8"
      },
      "execution_count": null,
      "outputs": [
        {
          "output_type": "display_data",
          "data": {
            "text/plain": [
              "\u001b[1mModel: \"sequential_2\"\u001b[0m\n"
            ],
            "text/html": [
              "<pre style=\"white-space:pre;overflow-x:auto;line-height:normal;font-family:Menlo,'DejaVu Sans Mono',consolas,'Courier New',monospace\"><span style=\"font-weight: bold\">Model: \"sequential_2\"</span>\n",
              "</pre>\n"
            ]
          },
          "metadata": {}
        },
        {
          "output_type": "display_data",
          "data": {
            "text/plain": [
              "┏━━━━━━━━━━━━━━━━━━━━━━━━━━━━━━━━━┳━━━━━━━━━━━━━━━━━━━━━━━━┳━━━━━━━━━━━━━━━┓\n",
              "┃\u001b[1m \u001b[0m\u001b[1mLayer (type)                   \u001b[0m\u001b[1m \u001b[0m┃\u001b[1m \u001b[0m\u001b[1mOutput Shape          \u001b[0m\u001b[1m \u001b[0m┃\u001b[1m \u001b[0m\u001b[1m      Param #\u001b[0m\u001b[1m \u001b[0m┃\n",
              "┡━━━━━━━━━━━━━━━━━━━━━━━━━━━━━━━━━╇━━━━━━━━━━━━━━━━━━━━━━━━╇━━━━━━━━━━━━━━━┩\n",
              "│ embedding_2 (\u001b[38;5;33mEmbedding\u001b[0m)         │ ?                      │   \u001b[38;5;34m0\u001b[0m (unbuilt) │\n",
              "├─────────────────────────────────┼────────────────────────┼───────────────┤\n",
              "│ simple_rnn_2 (\u001b[38;5;33mSimpleRNN\u001b[0m)        │ ?                      │   \u001b[38;5;34m0\u001b[0m (unbuilt) │\n",
              "├─────────────────────────────────┼────────────────────────┼───────────────┤\n",
              "│ dense_2 (\u001b[38;5;33mDense\u001b[0m)                 │ ?                      │   \u001b[38;5;34m0\u001b[0m (unbuilt) │\n",
              "└─────────────────────────────────┴────────────────────────┴───────────────┘\n"
            ],
            "text/html": [
              "<pre style=\"white-space:pre;overflow-x:auto;line-height:normal;font-family:Menlo,'DejaVu Sans Mono',consolas,'Courier New',monospace\">┏━━━━━━━━━━━━━━━━━━━━━━━━━━━━━━━━━┳━━━━━━━━━━━━━━━━━━━━━━━━┳━━━━━━━━━━━━━━━┓\n",
              "┃<span style=\"font-weight: bold\"> Layer (type)                    </span>┃<span style=\"font-weight: bold\"> Output Shape           </span>┃<span style=\"font-weight: bold\">       Param # </span>┃\n",
              "┡━━━━━━━━━━━━━━━━━━━━━━━━━━━━━━━━━╇━━━━━━━━━━━━━━━━━━━━━━━━╇━━━━━━━━━━━━━━━┩\n",
              "│ embedding_2 (<span style=\"color: #0087ff; text-decoration-color: #0087ff\">Embedding</span>)         │ ?                      │   <span style=\"color: #00af00; text-decoration-color: #00af00\">0</span> (unbuilt) │\n",
              "├─────────────────────────────────┼────────────────────────┼───────────────┤\n",
              "│ simple_rnn_2 (<span style=\"color: #0087ff; text-decoration-color: #0087ff\">SimpleRNN</span>)        │ ?                      │   <span style=\"color: #00af00; text-decoration-color: #00af00\">0</span> (unbuilt) │\n",
              "├─────────────────────────────────┼────────────────────────┼───────────────┤\n",
              "│ dense_2 (<span style=\"color: #0087ff; text-decoration-color: #0087ff\">Dense</span>)                 │ ?                      │   <span style=\"color: #00af00; text-decoration-color: #00af00\">0</span> (unbuilt) │\n",
              "└─────────────────────────────────┴────────────────────────┴───────────────┘\n",
              "</pre>\n"
            ]
          },
          "metadata": {}
        },
        {
          "output_type": "display_data",
          "data": {
            "text/plain": [
              "\u001b[1m Total params: \u001b[0m\u001b[38;5;34m0\u001b[0m (0.00 B)\n"
            ],
            "text/html": [
              "<pre style=\"white-space:pre;overflow-x:auto;line-height:normal;font-family:Menlo,'DejaVu Sans Mono',consolas,'Courier New',monospace\"><span style=\"font-weight: bold\"> Total params: </span><span style=\"color: #00af00; text-decoration-color: #00af00\">0</span> (0.00 B)\n",
              "</pre>\n"
            ]
          },
          "metadata": {}
        },
        {
          "output_type": "display_data",
          "data": {
            "text/plain": [
              "\u001b[1m Trainable params: \u001b[0m\u001b[38;5;34m0\u001b[0m (0.00 B)\n"
            ],
            "text/html": [
              "<pre style=\"white-space:pre;overflow-x:auto;line-height:normal;font-family:Menlo,'DejaVu Sans Mono',consolas,'Courier New',monospace\"><span style=\"font-weight: bold\"> Trainable params: </span><span style=\"color: #00af00; text-decoration-color: #00af00\">0</span> (0.00 B)\n",
              "</pre>\n"
            ]
          },
          "metadata": {}
        },
        {
          "output_type": "display_data",
          "data": {
            "text/plain": [
              "\u001b[1m Non-trainable params: \u001b[0m\u001b[38;5;34m0\u001b[0m (0.00 B)\n"
            ],
            "text/html": [
              "<pre style=\"white-space:pre;overflow-x:auto;line-height:normal;font-family:Menlo,'DejaVu Sans Mono',consolas,'Courier New',monospace\"><span style=\"font-weight: bold\"> Non-trainable params: </span><span style=\"color: #00af00; text-decoration-color: #00af00\">0</span> (0.00 B)\n",
              "</pre>\n"
            ]
          },
          "metadata": {}
        }
      ]
    },
    {
      "cell_type": "code",
      "source": [
        "history = model.fit(X,y, epochs=20, batch_size = 2, verbose=1)"
      ],
      "metadata": {
        "colab": {
          "base_uri": "https://localhost:8080/",
          "height": 370
        },
        "id": "z9Fvdxl8PQEy",
        "outputId": "8716c358-d11e-4b56-f683-069965cceb3c"
      },
      "execution_count": null,
      "outputs": [
        {
          "output_type": "error",
          "ename": "ValueError",
          "evalue": "Data cardinality is ambiguous. Make sure all arrays contain the same number of samples.'x' sizes: 8\n'y' sizes: 500\n",
          "traceback": [
            "\u001b[0;31m---------------------------------------------------------------------------\u001b[0m",
            "\u001b[0;31mValueError\u001b[0m                                Traceback (most recent call last)",
            "\u001b[0;32m/tmp/ipython-input-1434877095.py\u001b[0m in \u001b[0;36m<cell line: 0>\u001b[0;34m()\u001b[0m\n\u001b[0;32m----> 1\u001b[0;31m \u001b[0mhistory\u001b[0m \u001b[0;34m=\u001b[0m \u001b[0mmodel\u001b[0m\u001b[0;34m.\u001b[0m\u001b[0mfit\u001b[0m\u001b[0;34m(\u001b[0m\u001b[0mX\u001b[0m\u001b[0;34m,\u001b[0m\u001b[0my\u001b[0m\u001b[0;34m,\u001b[0m \u001b[0mepochs\u001b[0m\u001b[0;34m=\u001b[0m\u001b[0;36m20\u001b[0m\u001b[0;34m,\u001b[0m \u001b[0mbatch_size\u001b[0m \u001b[0;34m=\u001b[0m \u001b[0;36m2\u001b[0m\u001b[0;34m,\u001b[0m \u001b[0mverbose\u001b[0m\u001b[0;34m=\u001b[0m\u001b[0;36m1\u001b[0m\u001b[0;34m)\u001b[0m\u001b[0;34m\u001b[0m\u001b[0;34m\u001b[0m\u001b[0m\n\u001b[0m",
            "\u001b[0;32m/usr/local/lib/python3.12/dist-packages/keras/src/utils/traceback_utils.py\u001b[0m in \u001b[0;36merror_handler\u001b[0;34m(*args, **kwargs)\u001b[0m\n\u001b[1;32m    120\u001b[0m             \u001b[0;31m# To get the full stack trace, call:\u001b[0m\u001b[0;34m\u001b[0m\u001b[0;34m\u001b[0m\u001b[0m\n\u001b[1;32m    121\u001b[0m             \u001b[0;31m# `keras.config.disable_traceback_filtering()`\u001b[0m\u001b[0;34m\u001b[0m\u001b[0;34m\u001b[0m\u001b[0m\n\u001b[0;32m--> 122\u001b[0;31m             \u001b[0;32mraise\u001b[0m \u001b[0me\u001b[0m\u001b[0;34m.\u001b[0m\u001b[0mwith_traceback\u001b[0m\u001b[0;34m(\u001b[0m\u001b[0mfiltered_tb\u001b[0m\u001b[0;34m)\u001b[0m \u001b[0;32mfrom\u001b[0m \u001b[0;32mNone\u001b[0m\u001b[0;34m\u001b[0m\u001b[0;34m\u001b[0m\u001b[0m\n\u001b[0m\u001b[1;32m    123\u001b[0m         \u001b[0;32mfinally\u001b[0m\u001b[0;34m:\u001b[0m\u001b[0;34m\u001b[0m\u001b[0;34m\u001b[0m\u001b[0m\n\u001b[1;32m    124\u001b[0m             \u001b[0;32mdel\u001b[0m \u001b[0mfiltered_tb\u001b[0m\u001b[0;34m\u001b[0m\u001b[0;34m\u001b[0m\u001b[0m\n",
            "\u001b[0;32m/usr/local/lib/python3.12/dist-packages/keras/src/trainers/data_adapters/data_adapter_utils.py\u001b[0m in \u001b[0;36mcheck_data_cardinality\u001b[0;34m(data)\u001b[0m\n\u001b[1;32m    113\u001b[0m             )\n\u001b[1;32m    114\u001b[0m             \u001b[0mmsg\u001b[0m \u001b[0;34m+=\u001b[0m \u001b[0;34mf\"'{label}' sizes: {sizes}\\n\"\u001b[0m\u001b[0;34m\u001b[0m\u001b[0;34m\u001b[0m\u001b[0m\n\u001b[0;32m--> 115\u001b[0;31m         \u001b[0;32mraise\u001b[0m \u001b[0mValueError\u001b[0m\u001b[0;34m(\u001b[0m\u001b[0mmsg\u001b[0m\u001b[0;34m)\u001b[0m\u001b[0;34m\u001b[0m\u001b[0;34m\u001b[0m\u001b[0m\n\u001b[0m\u001b[1;32m    116\u001b[0m \u001b[0;34m\u001b[0m\u001b[0m\n\u001b[1;32m    117\u001b[0m \u001b[0;34m\u001b[0m\u001b[0m\n",
            "\u001b[0;31mValueError\u001b[0m: Data cardinality is ambiguous. Make sure all arrays contain the same number of samples.'x' sizes: 8\n'y' sizes: 500\n"
          ]
        }
      ]
    },
    {
      "cell_type": "code",
      "source": [
        "# ==============================\n",
        "# 0) 라이브러리 불러오기\n",
        "# ==============================\n",
        "import numpy as np\n",
        "import tensorflow as tf\n",
        "from tensorflow.keras.preprocessing.text import Tokenizer        # 텍스트 → 정수 인코딩\n",
        "from tensorflow.keras.preprocessing.sequence import pad_sequences # 시퀀스 길이 맞추기(패딩)\n",
        "from tensorflow.keras import Sequential                           # 순차적 모델 구성 클래스\n",
        "from tensorflow.keras.layers import Embedding, SimpleRNN, Dense   # 신경망 주요 레이어\n",
        "\n",
        "# ==============================\n",
        "# 1) 미니 데이터 준비\n",
        "# ==============================\n",
        "# 영화 리뷰 데이터(한글 간단 문장 8개)\n",
        "# 1 = 긍정(Positive), 0 = 부정(Negative)\n",
        "texts = [\n",
        "    \"이 영화 정말 재미있다\",\n",
        "    \"배우 연기가 훌륭하다\",\n",
        "    \"감동적인 스토리에 눈물이 났다\",\n",
        "    \"추천하고 싶은 영화다\",\n",
        "    \"최악이다 다시 보고 싶지 않다\",\n",
        "    \"지루하고 시간 낭비였다\",\n",
        "    \"스토리가 엉성하고 별로다\",\n",
        "    \"다시는 보고 싶지 않다\"\n",
        "]\n",
        "labels = [1, 1, 1, 1, 0, 0, 0, 0]  # 감성 레이블\n",
        "\n",
        "# ==============================\n",
        "# 2) 토크나이징 & 패딩\n",
        "# ==============================\n",
        "# 텍스트 데이터를 숫자 시퀀스로 변환하기 위한 전처리 단계\n",
        "vocab_size = 1000             # 최대 단어 개수(단어 사전 크기)\n",
        "maxlen = 8                    # 각 문장의 최대 길이(8단어로 제한)\n",
        "tokenizer = Tokenizer(num_words=vocab_size, oov_token=\"<OOV>\")  # OOV(Out Of Vocab) 토큰 설정\n",
        "tokenizer.fit_on_texts(texts)                                    # 단어 사전 생성 (빈도 기반 정렬)\n",
        "seqs = tokenizer.texts_to_sequences(texts)                       # 각 문장을 정수 시퀀스로 변환\n",
        "\n",
        "# pad_sequences : 문장 길이를 동일하게 맞추는 함수\n",
        "# padding='post' → 뒤쪽에 0을 채움\n",
        "# truncating='post' → 너무 긴 문장은 뒤를 자름\n",
        "X = pad_sequences(seqs, maxlen=maxlen, padding='post', truncating='post')\n",
        "y = np.array(labels)\n",
        "\n",
        "# 전처리 결과 확인\n",
        "print(\"샘플 시퀀스 예시:\\n\", X[:2])\n",
        "print(\"단어 인덱스:\", tokenizer.word_index)\n",
        "\n",
        "# ==============================\n",
        "# 3) 모델 구성 (Embedding + RNN)\n",
        "# ==============================\n",
        "# 입력층: 단어 인덱스 → 임베딩 벡터로 변환\n",
        "# 순환층(SimpleRNN): 문장 내 순서 정보를 학습\n",
        "# 출력층(Dense): 긍정/부정 이진 분류\n",
        "embedding_dim = 16   # 단어를 16차원 벡터로 임베딩\n",
        "\n",
        "model = Sequential([\n",
        "    Embedding(input_dim=vocab_size, output_dim=embedding_dim, input_length=maxlen),\n",
        "    # SimpleRNN: 순서가 있는 데이터를 처리하는 순환신경망 (RNN의 기본형)\n",
        "    SimpleRNN(32),\n",
        "    # Dense: 마지막 출력층 (시그모이드 활성화 → 0~1 확률값 반환)\n",
        "    Dense(1, activation='sigmoid')\n",
        "])\n",
        "\n",
        "# ==============================\n",
        "# 4) 모델 컴파일\n",
        "# ==============================\n",
        "# 손실함수: 이진 분류이므로 binary_crossentropy 사용\n",
        "# 옵티마이저: Adam(적응형 학습률 알고리즘)\n",
        "# 평가지표: 정확도(accuracy)\n",
        "model.compile(optimizer='adam', loss='binary_crossentropy', metrics=['accuracy'])\n",
        "model.summary()  # 모델 구조와 파라미터 수 출력\n",
        "\n",
        "# ==============================\n",
        "# 5) 모델 학습\n",
        "# ==============================\n",
        "# epochs: 전체 데이터셋을 몇 번 반복 학습할지\n",
        "# batch_size: 한 번의 학습에서 사용할 샘플 수\n",
        "# verbose=1 → 학습 과정 표시\n",
        "history = model.fit(X, y, epochs=20, batch_size=2, verbose=1)\n",
        "\n",
        "# ==============================\n",
        "# 6) 예측 테스트\n",
        "# ==============================\n",
        "# 새로운 문장 2개로 감성 예측 테스트\n",
        "test_texts = [\"정말 감동적이고 훌륭한 영화\", \"별로야 지루했어\"]\n",
        "\n",
        "# 텍스트를 동일한 토크나이저로 변환\n",
        "test_seq = tokenizer.texts_to_sequences(test_texts)\n",
        "# 문장 길이를 학습 데이터와 동일하게 맞춤\n",
        "test_pad = pad_sequences(test_seq, maxlen=maxlen, padding='post')\n",
        "\n",
        "# 모델 예측: 0~1 확률값 → 0.5 기준으로 긍정/부정 판단\n",
        "pred = (model.predict(test_pad) > 0.5).astype(int).ravel()\n",
        "\n",
        "# 예측 결과 출력\n",
        "print(\"\\n🔹 예측 결과:\")\n",
        "for t, p in zip(test_texts, pred):\n",
        "    print(f\"{t} → {'긍정😀' if p==1 else '부정😞'}\")\n"
      ],
      "metadata": {
        "colab": {
          "base_uri": "https://localhost:8080/",
          "height": 1000
        },
        "id": "G0NYCQXjPZIT",
        "outputId": "00365ff0-b58b-42bb-b065-b4bab8e672df"
      },
      "execution_count": null,
      "outputs": [
        {
          "output_type": "stream",
          "name": "stdout",
          "text": [
            "샘플 시퀀스 예시:\n",
            " [[ 5  6  7  8  0  0  0  0]\n",
            " [ 9 10 11  0  0  0  0  0]]\n",
            "단어 인덱스: {'<OOV>': 1, '보고': 2, '싶지': 3, '않다': 4, '이': 5, '영화': 6, '정말': 7, '재미있다': 8, '배우': 9, '연기가': 10, '훌륭하다': 11, '감동적인': 12, '스토리에': 13, '눈물이': 14, '났다': 15, '추천하고': 16, '싶은': 17, '영화다': 18, '최악이다': 19, '다시': 20, '지루하고': 21, '시간': 22, '낭비였다': 23, '스토리가': 24, '엉성하고': 25, '별로다': 26, '다시는': 27}\n"
          ]
        },
        {
          "output_type": "display_data",
          "data": {
            "text/plain": [
              "\u001b[1mModel: \"sequential_3\"\u001b[0m\n"
            ],
            "text/html": [
              "<pre style=\"white-space:pre;overflow-x:auto;line-height:normal;font-family:Menlo,'DejaVu Sans Mono',consolas,'Courier New',monospace\"><span style=\"font-weight: bold\">Model: \"sequential_3\"</span>\n",
              "</pre>\n"
            ]
          },
          "metadata": {}
        },
        {
          "output_type": "display_data",
          "data": {
            "text/plain": [
              "┏━━━━━━━━━━━━━━━━━━━━━━━━━━━━━━━━━┳━━━━━━━━━━━━━━━━━━━━━━━━┳━━━━━━━━━━━━━━━┓\n",
              "┃\u001b[1m \u001b[0m\u001b[1mLayer (type)                   \u001b[0m\u001b[1m \u001b[0m┃\u001b[1m \u001b[0m\u001b[1mOutput Shape          \u001b[0m\u001b[1m \u001b[0m┃\u001b[1m \u001b[0m\u001b[1m      Param #\u001b[0m\u001b[1m \u001b[0m┃\n",
              "┡━━━━━━━━━━━━━━━━━━━━━━━━━━━━━━━━━╇━━━━━━━━━━━━━━━━━━━━━━━━╇━━━━━━━━━━━━━━━┩\n",
              "│ embedding_3 (\u001b[38;5;33mEmbedding\u001b[0m)         │ ?                      │   \u001b[38;5;34m0\u001b[0m (unbuilt) │\n",
              "├─────────────────────────────────┼────────────────────────┼───────────────┤\n",
              "│ simple_rnn_3 (\u001b[38;5;33mSimpleRNN\u001b[0m)        │ ?                      │   \u001b[38;5;34m0\u001b[0m (unbuilt) │\n",
              "├─────────────────────────────────┼────────────────────────┼───────────────┤\n",
              "│ dense_3 (\u001b[38;5;33mDense\u001b[0m)                 │ ?                      │   \u001b[38;5;34m0\u001b[0m (unbuilt) │\n",
              "└─────────────────────────────────┴────────────────────────┴───────────────┘\n"
            ],
            "text/html": [
              "<pre style=\"white-space:pre;overflow-x:auto;line-height:normal;font-family:Menlo,'DejaVu Sans Mono',consolas,'Courier New',monospace\">┏━━━━━━━━━━━━━━━━━━━━━━━━━━━━━━━━━┳━━━━━━━━━━━━━━━━━━━━━━━━┳━━━━━━━━━━━━━━━┓\n",
              "┃<span style=\"font-weight: bold\"> Layer (type)                    </span>┃<span style=\"font-weight: bold\"> Output Shape           </span>┃<span style=\"font-weight: bold\">       Param # </span>┃\n",
              "┡━━━━━━━━━━━━━━━━━━━━━━━━━━━━━━━━━╇━━━━━━━━━━━━━━━━━━━━━━━━╇━━━━━━━━━━━━━━━┩\n",
              "│ embedding_3 (<span style=\"color: #0087ff; text-decoration-color: #0087ff\">Embedding</span>)         │ ?                      │   <span style=\"color: #00af00; text-decoration-color: #00af00\">0</span> (unbuilt) │\n",
              "├─────────────────────────────────┼────────────────────────┼───────────────┤\n",
              "│ simple_rnn_3 (<span style=\"color: #0087ff; text-decoration-color: #0087ff\">SimpleRNN</span>)        │ ?                      │   <span style=\"color: #00af00; text-decoration-color: #00af00\">0</span> (unbuilt) │\n",
              "├─────────────────────────────────┼────────────────────────┼───────────────┤\n",
              "│ dense_3 (<span style=\"color: #0087ff; text-decoration-color: #0087ff\">Dense</span>)                 │ ?                      │   <span style=\"color: #00af00; text-decoration-color: #00af00\">0</span> (unbuilt) │\n",
              "└─────────────────────────────────┴────────────────────────┴───────────────┘\n",
              "</pre>\n"
            ]
          },
          "metadata": {}
        },
        {
          "output_type": "display_data",
          "data": {
            "text/plain": [
              "\u001b[1m Total params: \u001b[0m\u001b[38;5;34m0\u001b[0m (0.00 B)\n"
            ],
            "text/html": [
              "<pre style=\"white-space:pre;overflow-x:auto;line-height:normal;font-family:Menlo,'DejaVu Sans Mono',consolas,'Courier New',monospace\"><span style=\"font-weight: bold\"> Total params: </span><span style=\"color: #00af00; text-decoration-color: #00af00\">0</span> (0.00 B)\n",
              "</pre>\n"
            ]
          },
          "metadata": {}
        },
        {
          "output_type": "display_data",
          "data": {
            "text/plain": [
              "\u001b[1m Trainable params: \u001b[0m\u001b[38;5;34m0\u001b[0m (0.00 B)\n"
            ],
            "text/html": [
              "<pre style=\"white-space:pre;overflow-x:auto;line-height:normal;font-family:Menlo,'DejaVu Sans Mono',consolas,'Courier New',monospace\"><span style=\"font-weight: bold\"> Trainable params: </span><span style=\"color: #00af00; text-decoration-color: #00af00\">0</span> (0.00 B)\n",
              "</pre>\n"
            ]
          },
          "metadata": {}
        },
        {
          "output_type": "display_data",
          "data": {
            "text/plain": [
              "\u001b[1m Non-trainable params: \u001b[0m\u001b[38;5;34m0\u001b[0m (0.00 B)\n"
            ],
            "text/html": [
              "<pre style=\"white-space:pre;overflow-x:auto;line-height:normal;font-family:Menlo,'DejaVu Sans Mono',consolas,'Courier New',monospace\"><span style=\"font-weight: bold\"> Non-trainable params: </span><span style=\"color: #00af00; text-decoration-color: #00af00\">0</span> (0.00 B)\n",
              "</pre>\n"
            ]
          },
          "metadata": {}
        },
        {
          "output_type": "stream",
          "name": "stdout",
          "text": [
            "Epoch 1/20\n",
            "\u001b[1m4/4\u001b[0m \u001b[32m━━━━━━━━━━━━━━━━━━━━\u001b[0m\u001b[37m\u001b[0m \u001b[1m2s\u001b[0m 12ms/step - accuracy: 0.7667 - loss: 0.6671\n",
            "Epoch 2/20\n",
            "\u001b[1m4/4\u001b[0m \u001b[32m━━━━━━━━━━━━━━━━━━━━\u001b[0m\u001b[37m\u001b[0m \u001b[1m0s\u001b[0m 11ms/step - accuracy: 0.8667 - loss: 0.6470\n",
            "Epoch 3/20\n",
            "\u001b[1m4/4\u001b[0m \u001b[32m━━━━━━━━━━━━━━━━━━━━\u001b[0m\u001b[37m\u001b[0m \u001b[1m0s\u001b[0m 12ms/step - accuracy: 0.8667 - loss: 0.6296\n",
            "Epoch 4/20\n",
            "\u001b[1m4/4\u001b[0m \u001b[32m━━━━━━━━━━━━━━━━━━━━\u001b[0m\u001b[37m\u001b[0m \u001b[1m0s\u001b[0m 10ms/step - accuracy: 0.9167 - loss: 0.5908\n",
            "Epoch 5/20\n",
            "\u001b[1m4/4\u001b[0m \u001b[32m━━━━━━━━━━━━━━━━━━━━\u001b[0m\u001b[37m\u001b[0m \u001b[1m0s\u001b[0m 13ms/step - accuracy: 1.0000 - loss: 0.5640\n",
            "Epoch 6/20\n",
            "\u001b[1m4/4\u001b[0m \u001b[32m━━━━━━━━━━━━━━━━━━━━\u001b[0m\u001b[37m\u001b[0m \u001b[1m0s\u001b[0m 13ms/step - accuracy: 1.0000 - loss: 0.5158\n",
            "Epoch 7/20\n",
            "\u001b[1m4/4\u001b[0m \u001b[32m━━━━━━━━━━━━━━━━━━━━\u001b[0m\u001b[37m\u001b[0m \u001b[1m0s\u001b[0m 11ms/step - accuracy: 1.0000 - loss: 0.4605\n",
            "Epoch 8/20\n",
            "\u001b[1m4/4\u001b[0m \u001b[32m━━━━━━━━━━━━━━━━━━━━\u001b[0m\u001b[37m\u001b[0m \u001b[1m0s\u001b[0m 11ms/step - accuracy: 1.0000 - loss: 0.3918\n",
            "Epoch 9/20\n",
            "\u001b[1m4/4\u001b[0m \u001b[32m━━━━━━━━━━━━━━━━━━━━\u001b[0m\u001b[37m\u001b[0m \u001b[1m0s\u001b[0m 11ms/step - accuracy: 1.0000 - loss: 0.3318\n",
            "Epoch 10/20\n",
            "\u001b[1m4/4\u001b[0m \u001b[32m━━━━━━━━━━━━━━━━━━━━\u001b[0m\u001b[37m\u001b[0m \u001b[1m0s\u001b[0m 11ms/step - accuracy: 1.0000 - loss: 0.2535\n",
            "Epoch 11/20\n",
            "\u001b[1m4/4\u001b[0m \u001b[32m━━━━━━━━━━━━━━━━━━━━\u001b[0m\u001b[37m\u001b[0m \u001b[1m0s\u001b[0m 12ms/step - accuracy: 1.0000 - loss: 0.1615\n",
            "Epoch 12/20\n",
            "\u001b[1m4/4\u001b[0m \u001b[32m━━━━━━━━━━━━━━━━━━━━\u001b[0m\u001b[37m\u001b[0m \u001b[1m0s\u001b[0m 12ms/step - accuracy: 1.0000 - loss: 0.1161\n",
            "Epoch 13/20\n",
            "\u001b[1m4/4\u001b[0m \u001b[32m━━━━━━━━━━━━━━━━━━━━\u001b[0m\u001b[37m\u001b[0m \u001b[1m0s\u001b[0m 12ms/step - accuracy: 1.0000 - loss: 0.0678\n",
            "Epoch 14/20\n",
            "\u001b[1m4/4\u001b[0m \u001b[32m━━━━━━━━━━━━━━━━━━━━\u001b[0m\u001b[37m\u001b[0m \u001b[1m0s\u001b[0m 11ms/step - accuracy: 1.0000 - loss: 0.0456\n",
            "Epoch 15/20\n",
            "\u001b[1m4/4\u001b[0m \u001b[32m━━━━━━━━━━━━━━━━━━━━\u001b[0m\u001b[37m\u001b[0m \u001b[1m0s\u001b[0m 17ms/step - accuracy: 1.0000 - loss: 0.0298\n",
            "Epoch 16/20\n",
            "\u001b[1m4/4\u001b[0m \u001b[32m━━━━━━━━━━━━━━━━━━━━\u001b[0m\u001b[37m\u001b[0m \u001b[1m0s\u001b[0m 19ms/step - accuracy: 1.0000 - loss: 0.0222\n",
            "Epoch 17/20\n",
            "\u001b[1m4/4\u001b[0m \u001b[32m━━━━━━━━━━━━━━━━━━━━\u001b[0m\u001b[37m\u001b[0m \u001b[1m0s\u001b[0m 17ms/step - accuracy: 1.0000 - loss: 0.0184\n",
            "Epoch 18/20\n",
            "\u001b[1m4/4\u001b[0m \u001b[32m━━━━━━━━━━━━━━━━━━━━\u001b[0m\u001b[37m\u001b[0m \u001b[1m0s\u001b[0m 16ms/step - accuracy: 1.0000 - loss: 0.0153\n",
            "Epoch 19/20\n",
            "\u001b[1m4/4\u001b[0m \u001b[32m━━━━━━━━━━━━━━━━━━━━\u001b[0m\u001b[37m\u001b[0m \u001b[1m0s\u001b[0m 15ms/step - accuracy: 1.0000 - loss: 0.0124\n",
            "Epoch 20/20\n",
            "\u001b[1m4/4\u001b[0m \u001b[32m━━━━━━━━━━━━━━━━━━━━\u001b[0m\u001b[37m\u001b[0m \u001b[1m0s\u001b[0m 14ms/step - accuracy: 1.0000 - loss: 0.0112\n",
            "\u001b[1m1/1\u001b[0m \u001b[32m━━━━━━━━━━━━━━━━━━━━\u001b[0m\u001b[37m\u001b[0m \u001b[1m0s\u001b[0m 255ms/step\n",
            "\n",
            "🔹 예측 결과:\n",
            "정말 감동적이고 훌륭한 영화 → 긍정😀\n",
            "별로야 지루했어 → 부정😞\n"
          ]
        }
      ]
    },
    {
      "cell_type": "code",
      "source": [
        "# ======================\n",
        "# 0) 환경\n",
        "# ======================\n",
        "import numpy as np\n",
        "import tensorflow as tf\n",
        "from tensorflow.keras.preprocessing.text import Tokenizer\n",
        "from tensorflow.keras.preprocessing.sequence import pad_sequences\n",
        "from tensorflow.keras import Sequential\n",
        "from tensorflow.keras.layers import Embedding, LSTM, Dense, Dropout, Bidirectional\n",
        "\n",
        "# 난수를 미리 지정함으로써 편하게 분석환경을 구축 - 계속 같은 값이 출력 되도록\n",
        "np.random.seed(42)\n",
        "tf.random.set_seed(42)\n",
        "\n",
        "# ======================\n",
        "# 1) 미니 데이터\n",
        "# ======================\n",
        "texts = [\n",
        "    \"이 영화 정말 재미있다\", \"배우 연기가 훌륭하다\", \"감동적인 스토리에 눈물이 났다\", \"완전 추천한다 최고다\",\n",
        "    \"음악과 영상미가 너무 좋았다\", \"유머가 자연스럽고 몰입됐다\", \"따뜻하고 여운이 긴 작품\", \"감독의 연출이 인상적이다\",\n",
        "    \"최악이다 돈이 아깝다\", \"지루하고 시간 낭비였다\", \"스토리가 엉성하고 별로다\", \"다시는 보고 싶지 않다\",\n",
        "    \"캐릭터가 매력 없고 산만했다\", \"전개가 느리고 답답했다\", \"웃음 포인트가 전혀 없었다\", \"실망스러운 마무리였다\"\n",
        "]\n",
        "labels = [1,1,1,1, 1,1,1,1, 0,0,0,0, 0,0,0,0]\n",
        "\n",
        "# ======================\n",
        "# 2) 토크나이징 & 패딩\n",
        "# ======================\n",
        "from tensorflow.keras.preprocessing.text import Tokenizer\n",
        "from tensorflow.keras.preprocessing.sequence import pad_sequences\n",
        "from sklearn.model_selection import train_test_split\n",
        "import numpy as np\n",
        "\n",
        "vocab_size = 2000\n",
        "maxlen = 10\n",
        "\n",
        "tok = Tokenizer(num_words=vocab_size, oov_token=\"<OOV>\")\n",
        "tok.fit_on_texts(texts) # 단어화\n",
        "\n",
        "# 문장 → 시퀀스 → 패딩\n",
        "X = pad_sequences(tok.texts_to_sequences(texts), maxlen=maxlen, padding=\"post\")\n",
        "y = np.array(labels)\n",
        "\n",
        "# ======================\n",
        "# 3) 데이터 분리 (train/test)\n",
        "# ======================\n",
        "X_train, X_val, y_train, y_val = train_test_split(\n",
        "    X, y, test_size=0.25, random_state=42, stratify=y\n",
        ")\n",
        "\n",
        "print(\"훈련 데이터 크기:\", X_train.shape)\n",
        "print(\"검증 데이터 크기:\", X_val.shape)\n",
        "\n",
        "# ======================\n",
        "# 3) 모델 빌더\n",
        "# ======================\n",
        "embedding_dim = 32\n",
        "units = 32\n",
        "\n",
        "# --- (1) 기본 LSTM 모델 ---\n",
        "def build_base():\n",
        "    m = Sequential([\n",
        "        Embedding(vocab_size, embedding_dim),   # input_length 제거 (자동 인식)\n",
        "        LSTM(units),\n",
        "        Dense(1, activation=\"sigmoid\")\n",
        "    ])\n",
        "    m.compile(optimizer=\"adam\", loss=\"binary_crossentropy\", metrics=[\"accuracy\"])\n",
        "    return m\n",
        "\n",
        "# --- (2) Dropout 추가 LSTM ---\n",
        "def build_dropout():\n",
        "    m = Sequential([\n",
        "        Embedding(vocab_size, embedding_dim),\n",
        "        Dropout(0.2),                 # Embedding 출력 정규화\n",
        "        LSTM(units, dropout=0.2),     # 내부 입력 드롭아웃\n",
        "        Dropout(0.2),                 # LSTM 출력 정규화\n",
        "        Dense(1, activation=\"sigmoid\")\n",
        "    ])\n",
        "    m.compile(optimizer=\"adam\", loss=\"binary_crossentropy\", metrics=[\"accuracy\"])\n",
        "    return m\n",
        "\n",
        "# --- (3) 양방향 LSTM ---\n",
        "def build_bilstm():\n",
        "    m = Sequential([\n",
        "        Embedding(vocab_size, embedding_dim),\n",
        "        Bidirectional(LSTM(units)),   # 순방향 + 역방향 학습\n",
        "        Dense(1, activation=\"sigmoid\")\n",
        "    ])\n",
        "    m.compile(optimizer=\"adam\", loss=\"binary_crossentropy\", metrics=[\"accuracy\"])\n",
        "    return m\n",
        "\n",
        "\n",
        "# ======================\n",
        "# 4) 학습 & 리포트\n",
        "# ======================\n",
        "def train(name, model):\n",
        "    \"\"\"\n",
        "    모델을 학습시키고, 마지막 epoch의 train/val 정확도를 출력\n",
        "    \"\"\"\n",
        "    h = model.fit(\n",
        "        X_train, y_train,             # ✅ 변수명 수정됨\n",
        "        epochs=12, batch_size=4,\n",
        "        validation_data=(X_val, y_val),\n",
        "        verbose=0\n",
        "    )\n",
        "    print(f\"{name:>16} | Train={h.history['accuracy'][-1]:.3f} | Val={h.history['val_accuracy'][-1]:.3f}\")\n",
        "    return model\n",
        "\n",
        "\n",
        "print(\"✅ 모델별 성능(소형 데이터, 참고용)\")\n",
        "m_base   = train(\"Base LSTM\",        build_base())\n",
        "m_drop   = train(\"LSTM + Dropout\",   build_dropout())\n",
        "m_bilstm = train(\"BiLSTM\",           build_bilstm())\n",
        "\n",
        "\n",
        "# ======================\n",
        "# 5) 샘플 예측\n",
        "# ======================\n",
        "samples = [\"정말 감동적이고 훌륭한 영화\", \"지루하고 별로였어 다시 안봐\"]\n",
        "\n",
        "# 문장 → 시퀀스 → 패딩\n",
        "pad_s = pad_sequences(tok.texts_to_sequences(samples), maxlen=maxlen, padding=\"post\")\n",
        "\n",
        "# 모델별 예측 결과 확인\n",
        "for m, tag in [(m_base, \"Base\"), (m_drop, \"Dropout\"), (m_bilstm, \"BiLSTM\")]:\n",
        "    p = (m.predict(pad_s, verbose=0) > 0.5).astype(int).ravel()\n",
        "    print(f\"{tag:>7} 예측:\", list(zip(samples, p)))\n"
      ],
      "metadata": {
        "colab": {
          "base_uri": "https://localhost:8080/"
        },
        "id": "Bx7cm_I5ZnrM",
        "outputId": "79121a78-480f-4050-cba1-9e118f5d5ef0"
      },
      "execution_count": null,
      "outputs": [
        {
          "output_type": "stream",
          "name": "stdout",
          "text": [
            "훈련 데이터 크기: (12, 10)\n",
            "검증 데이터 크기: (4, 10)\n",
            "✅ 모델별 성능(소형 데이터, 참고용)\n",
            "       Base LSTM | Train=1.000 | Val=0.250\n",
            "  LSTM + Dropout | Train=0.833 | Val=0.500\n",
            "          BiLSTM | Train=1.000 | Val=1.000\n",
            "   Base 예측: [('정말 감동적이고 훌륭한 영화', np.int64(1)), ('지루하고 별로였어 다시 안봐', np.int64(0))]\n",
            "Dropout 예측: [('정말 감동적이고 훌륭한 영화', np.int64(0)), ('지루하고 별로였어 다시 안봐', np.int64(0))]\n",
            " BiLSTM 예측: [('정말 감동적이고 훌륭한 영화', np.int64(1)), ('지루하고 별로였어 다시 안봐', np.int64(0))]\n"
          ]
        }
      ]
    },
    {
      "cell_type": "code",
      "source": [
        "import pandas as pd\n",
        "from tensorflow.keras.preprocessing.text import Tokenizer\n",
        "from tensorflow.keras.preprocessing.sequence import pad_sequences\n",
        "from tensorflow.keras.models import Sequential\n",
        "from tensorflow.keras.layers import Embedding, Dense, GlobalAveragePooling1D\n",
        "from sklearn.model_selection import train_test_split\n",
        "\n",
        "# 데이터 로드\n",
        "data = pd.read_csv('nsmc_train.csv', encoding='utf-8').dropna()\n",
        "X, y = data['review'].values, data['rating'].values\n",
        "\n",
        "# 학습/테스트 분할\n",
        "X_train, X_test, y_train, y_test = train_test_split(X, y, test_size=0.2, random_state=42)\n",
        "\n",
        "# 토큰화 및 패딩\n",
        "tokenizer = Tokenizer(num_words=5000)\n",
        "tokenizer.fit_on_texts(X_train)\n",
        "X_train_seq = pad_sequences(tokenizer.texts_to_sequences(X_train), maxlen=50)\n",
        "X_test_seq = pad_sequences(tokenizer.texts_to_sequences(X_test), maxlen=50)\n",
        "\n",
        "# 모델 구성\n",
        "model = Sequential([\n",
        "    Embedding(5000, 64, input_length=50),\n",
        "    LSTM(64, dropout=0.2, recurrent_dropout=0.2),\n",
        "    Dense(32, activation='relu'),\n",
        "    Dropout(0.5),\n",
        "    Dense(1, activation='sigmoid')\n",
        "])\n",
        "\n",
        "model.compile(optimizer='adam', loss='binary_crossentropy', metrics=['accuracy'])\n",
        "\n",
        "# 학습\n",
        "model.fit(X_train_seq, y_train, epochs=5, batch_size=128, validation_split=0.2)\n",
        "\n",
        "# 평가\n",
        "loss, accuracy = model.evaluate(X_test_seq, y_test)\n",
        "print(f\"정확도: {accuracy:.4f}\")\n",
        "\n",
        "# 예측 테스트\n",
        "test_text = [\"정말 재미있어요!\", \"별로였어요\"]\n",
        "for text in test_text:\n",
        "    seq = pad_sequences(tokenizer.texts_to_sequences([text]), maxlen=50)\n",
        "    pred = model.predict(seq)[0][0]\n",
        "    print(f\"{text} → {'긍정' if pred > 0.5 else '부정'} ({pred:.3f})\")"
      ],
      "metadata": {
        "colab": {
          "base_uri": "https://localhost:8080/",
          "height": 571
        },
        "id": "vVjkv31Gg0Sf",
        "outputId": "1bdb17fd-5ac0-4314-9f1c-3c5c2e6e40ed"
      },
      "execution_count": null,
      "outputs": [
        {
          "output_type": "stream",
          "name": "stdout",
          "text": [
            "Epoch 1/5\n"
          ]
        },
        {
          "output_type": "stream",
          "name": "stderr",
          "text": [
            "/usr/local/lib/python3.12/dist-packages/keras/src/layers/core/embedding.py:97: UserWarning: Argument `input_length` is deprecated. Just remove it.\n",
            "  warnings.warn(\n"
          ]
        },
        {
          "output_type": "stream",
          "name": "stdout",
          "text": [
            "\u001b[1m750/750\u001b[0m \u001b[32m━━━━━━━━━━━━━━━━━━━━\u001b[0m\u001b[37m\u001b[0m \u001b[1m121s\u001b[0m 155ms/step - accuracy: 0.6903 - loss: 0.5528 - val_accuracy: 0.7850 - val_loss: 0.4247\n",
            "Epoch 2/5\n",
            "\u001b[1m750/750\u001b[0m \u001b[32m━━━━━━━━━━━━━━━━━━━━\u001b[0m\u001b[37m\u001b[0m \u001b[1m111s\u001b[0m 148ms/step - accuracy: 0.7922 - loss: 0.4159 - val_accuracy: 0.7854 - val_loss: 0.4250\n",
            "Epoch 3/5\n",
            "\u001b[1m471/750\u001b[0m \u001b[32m━━━━━━━━━━━━\u001b[0m\u001b[37m━━━━━━━━\u001b[0m \u001b[1m34s\u001b[0m 123ms/step - accuracy: 0.8000 - loss: 0.3984"
          ]
        },
        {
          "output_type": "error",
          "ename": "KeyboardInterrupt",
          "evalue": "",
          "traceback": [
            "\u001b[0;31m---------------------------------------------------------------------------\u001b[0m",
            "\u001b[0;31mKeyboardInterrupt\u001b[0m                         Traceback (most recent call last)",
            "\u001b[0;32m/tmp/ipython-input-1876231310.py\u001b[0m in \u001b[0;36m<cell line: 0>\u001b[0;34m()\u001b[0m\n\u001b[1;32m     31\u001b[0m \u001b[0;34m\u001b[0m\u001b[0m\n\u001b[1;32m     32\u001b[0m \u001b[0;31m# 학습\u001b[0m\u001b[0;34m\u001b[0m\u001b[0;34m\u001b[0m\u001b[0m\n\u001b[0;32m---> 33\u001b[0;31m \u001b[0mmodel\u001b[0m\u001b[0;34m.\u001b[0m\u001b[0mfit\u001b[0m\u001b[0;34m(\u001b[0m\u001b[0mX_train_seq\u001b[0m\u001b[0;34m,\u001b[0m \u001b[0my_train\u001b[0m\u001b[0;34m,\u001b[0m \u001b[0mepochs\u001b[0m\u001b[0;34m=\u001b[0m\u001b[0;36m5\u001b[0m\u001b[0;34m,\u001b[0m \u001b[0mbatch_size\u001b[0m\u001b[0;34m=\u001b[0m\u001b[0;36m128\u001b[0m\u001b[0;34m,\u001b[0m \u001b[0mvalidation_split\u001b[0m\u001b[0;34m=\u001b[0m\u001b[0;36m0.2\u001b[0m\u001b[0;34m)\u001b[0m\u001b[0;34m\u001b[0m\u001b[0;34m\u001b[0m\u001b[0m\n\u001b[0m\u001b[1;32m     34\u001b[0m \u001b[0;34m\u001b[0m\u001b[0m\n\u001b[1;32m     35\u001b[0m \u001b[0;31m# 평가\u001b[0m\u001b[0;34m\u001b[0m\u001b[0;34m\u001b[0m\u001b[0m\n",
            "\u001b[0;32m/usr/local/lib/python3.12/dist-packages/keras/src/utils/traceback_utils.py\u001b[0m in \u001b[0;36merror_handler\u001b[0;34m(*args, **kwargs)\u001b[0m\n\u001b[1;32m    115\u001b[0m         \u001b[0mfiltered_tb\u001b[0m \u001b[0;34m=\u001b[0m \u001b[0;32mNone\u001b[0m\u001b[0;34m\u001b[0m\u001b[0;34m\u001b[0m\u001b[0m\n\u001b[1;32m    116\u001b[0m         \u001b[0;32mtry\u001b[0m\u001b[0;34m:\u001b[0m\u001b[0;34m\u001b[0m\u001b[0;34m\u001b[0m\u001b[0m\n\u001b[0;32m--> 117\u001b[0;31m             \u001b[0;32mreturn\u001b[0m \u001b[0mfn\u001b[0m\u001b[0;34m(\u001b[0m\u001b[0;34m*\u001b[0m\u001b[0margs\u001b[0m\u001b[0;34m,\u001b[0m \u001b[0;34m**\u001b[0m\u001b[0mkwargs\u001b[0m\u001b[0;34m)\u001b[0m\u001b[0;34m\u001b[0m\u001b[0;34m\u001b[0m\u001b[0m\n\u001b[0m\u001b[1;32m    118\u001b[0m         \u001b[0;32mexcept\u001b[0m \u001b[0mException\u001b[0m \u001b[0;32mas\u001b[0m \u001b[0me\u001b[0m\u001b[0;34m:\u001b[0m\u001b[0;34m\u001b[0m\u001b[0;34m\u001b[0m\u001b[0m\n\u001b[1;32m    119\u001b[0m             \u001b[0mfiltered_tb\u001b[0m \u001b[0;34m=\u001b[0m \u001b[0m_process_traceback_frames\u001b[0m\u001b[0;34m(\u001b[0m\u001b[0me\u001b[0m\u001b[0;34m.\u001b[0m\u001b[0m__traceback__\u001b[0m\u001b[0;34m)\u001b[0m\u001b[0;34m\u001b[0m\u001b[0;34m\u001b[0m\u001b[0m\n",
            "\u001b[0;32m/usr/local/lib/python3.12/dist-packages/keras/src/backend/tensorflow/trainer.py\u001b[0m in \u001b[0;36mfit\u001b[0;34m(self, x, y, batch_size, epochs, verbose, callbacks, validation_split, validation_data, shuffle, class_weight, sample_weight, initial_epoch, steps_per_epoch, validation_steps, validation_batch_size, validation_freq)\u001b[0m\n\u001b[1;32m    375\u001b[0m                 \u001b[0;32mfor\u001b[0m \u001b[0mstep\u001b[0m\u001b[0;34m,\u001b[0m \u001b[0miterator\u001b[0m \u001b[0;32min\u001b[0m \u001b[0mepoch_iterator\u001b[0m\u001b[0;34m:\u001b[0m\u001b[0;34m\u001b[0m\u001b[0;34m\u001b[0m\u001b[0m\n\u001b[1;32m    376\u001b[0m                     \u001b[0mcallbacks\u001b[0m\u001b[0;34m.\u001b[0m\u001b[0mon_train_batch_begin\u001b[0m\u001b[0;34m(\u001b[0m\u001b[0mstep\u001b[0m\u001b[0;34m)\u001b[0m\u001b[0;34m\u001b[0m\u001b[0;34m\u001b[0m\u001b[0m\n\u001b[0;32m--> 377\u001b[0;31m                     \u001b[0mlogs\u001b[0m \u001b[0;34m=\u001b[0m \u001b[0mself\u001b[0m\u001b[0;34m.\u001b[0m\u001b[0mtrain_function\u001b[0m\u001b[0;34m(\u001b[0m\u001b[0miterator\u001b[0m\u001b[0;34m)\u001b[0m\u001b[0;34m\u001b[0m\u001b[0;34m\u001b[0m\u001b[0m\n\u001b[0m\u001b[1;32m    378\u001b[0m                     \u001b[0mcallbacks\u001b[0m\u001b[0;34m.\u001b[0m\u001b[0mon_train_batch_end\u001b[0m\u001b[0;34m(\u001b[0m\u001b[0mstep\u001b[0m\u001b[0;34m,\u001b[0m \u001b[0mlogs\u001b[0m\u001b[0;34m)\u001b[0m\u001b[0;34m\u001b[0m\u001b[0;34m\u001b[0m\u001b[0m\n\u001b[1;32m    379\u001b[0m                     \u001b[0;32mif\u001b[0m \u001b[0mself\u001b[0m\u001b[0;34m.\u001b[0m\u001b[0mstop_training\u001b[0m\u001b[0;34m:\u001b[0m\u001b[0;34m\u001b[0m\u001b[0;34m\u001b[0m\u001b[0m\n",
            "\u001b[0;32m/usr/local/lib/python3.12/dist-packages/keras/src/backend/tensorflow/trainer.py\u001b[0m in \u001b[0;36mfunction\u001b[0;34m(iterator)\u001b[0m\n\u001b[1;32m    218\u001b[0m                 \u001b[0miterator\u001b[0m\u001b[0;34m,\u001b[0m \u001b[0;34m(\u001b[0m\u001b[0mtf\u001b[0m\u001b[0;34m.\u001b[0m\u001b[0mdata\u001b[0m\u001b[0;34m.\u001b[0m\u001b[0mIterator\u001b[0m\u001b[0;34m,\u001b[0m \u001b[0mtf\u001b[0m\u001b[0;34m.\u001b[0m\u001b[0mdistribute\u001b[0m\u001b[0;34m.\u001b[0m\u001b[0mDistributedIterator\u001b[0m\u001b[0;34m)\u001b[0m\u001b[0;34m\u001b[0m\u001b[0;34m\u001b[0m\u001b[0m\n\u001b[1;32m    219\u001b[0m             ):\n\u001b[0;32m--> 220\u001b[0;31m                 \u001b[0mopt_outputs\u001b[0m \u001b[0;34m=\u001b[0m \u001b[0mmulti_step_on_iterator\u001b[0m\u001b[0;34m(\u001b[0m\u001b[0miterator\u001b[0m\u001b[0;34m)\u001b[0m\u001b[0;34m\u001b[0m\u001b[0;34m\u001b[0m\u001b[0m\n\u001b[0m\u001b[1;32m    221\u001b[0m                 \u001b[0;32mif\u001b[0m \u001b[0;32mnot\u001b[0m \u001b[0mopt_outputs\u001b[0m\u001b[0;34m.\u001b[0m\u001b[0mhas_value\u001b[0m\u001b[0;34m(\u001b[0m\u001b[0;34m)\u001b[0m\u001b[0;34m:\u001b[0m\u001b[0;34m\u001b[0m\u001b[0;34m\u001b[0m\u001b[0m\n\u001b[1;32m    222\u001b[0m                     \u001b[0;32mraise\u001b[0m \u001b[0mStopIteration\u001b[0m\u001b[0;34m\u001b[0m\u001b[0;34m\u001b[0m\u001b[0m\n",
            "\u001b[0;32m/usr/local/lib/python3.12/dist-packages/tensorflow/python/util/traceback_utils.py\u001b[0m in \u001b[0;36merror_handler\u001b[0;34m(*args, **kwargs)\u001b[0m\n\u001b[1;32m    148\u001b[0m     \u001b[0mfiltered_tb\u001b[0m \u001b[0;34m=\u001b[0m \u001b[0;32mNone\u001b[0m\u001b[0;34m\u001b[0m\u001b[0;34m\u001b[0m\u001b[0m\n\u001b[1;32m    149\u001b[0m     \u001b[0;32mtry\u001b[0m\u001b[0;34m:\u001b[0m\u001b[0;34m\u001b[0m\u001b[0;34m\u001b[0m\u001b[0m\n\u001b[0;32m--> 150\u001b[0;31m       \u001b[0;32mreturn\u001b[0m \u001b[0mfn\u001b[0m\u001b[0;34m(\u001b[0m\u001b[0;34m*\u001b[0m\u001b[0margs\u001b[0m\u001b[0;34m,\u001b[0m \u001b[0;34m**\u001b[0m\u001b[0mkwargs\u001b[0m\u001b[0;34m)\u001b[0m\u001b[0;34m\u001b[0m\u001b[0;34m\u001b[0m\u001b[0m\n\u001b[0m\u001b[1;32m    151\u001b[0m     \u001b[0;32mexcept\u001b[0m \u001b[0mException\u001b[0m \u001b[0;32mas\u001b[0m \u001b[0me\u001b[0m\u001b[0;34m:\u001b[0m\u001b[0;34m\u001b[0m\u001b[0;34m\u001b[0m\u001b[0m\n\u001b[1;32m    152\u001b[0m       \u001b[0mfiltered_tb\u001b[0m \u001b[0;34m=\u001b[0m \u001b[0m_process_traceback_frames\u001b[0m\u001b[0;34m(\u001b[0m\u001b[0me\u001b[0m\u001b[0;34m.\u001b[0m\u001b[0m__traceback__\u001b[0m\u001b[0;34m)\u001b[0m\u001b[0;34m\u001b[0m\u001b[0;34m\u001b[0m\u001b[0m\n",
            "\u001b[0;32m/usr/local/lib/python3.12/dist-packages/tensorflow/python/eager/polymorphic_function/polymorphic_function.py\u001b[0m in \u001b[0;36m__call__\u001b[0;34m(self, *args, **kwds)\u001b[0m\n\u001b[1;32m    831\u001b[0m \u001b[0;34m\u001b[0m\u001b[0m\n\u001b[1;32m    832\u001b[0m       \u001b[0;32mwith\u001b[0m \u001b[0mOptionalXlaContext\u001b[0m\u001b[0;34m(\u001b[0m\u001b[0mself\u001b[0m\u001b[0;34m.\u001b[0m\u001b[0m_jit_compile\u001b[0m\u001b[0;34m)\u001b[0m\u001b[0;34m:\u001b[0m\u001b[0;34m\u001b[0m\u001b[0;34m\u001b[0m\u001b[0m\n\u001b[0;32m--> 833\u001b[0;31m         \u001b[0mresult\u001b[0m \u001b[0;34m=\u001b[0m \u001b[0mself\u001b[0m\u001b[0;34m.\u001b[0m\u001b[0m_call\u001b[0m\u001b[0;34m(\u001b[0m\u001b[0;34m*\u001b[0m\u001b[0margs\u001b[0m\u001b[0;34m,\u001b[0m \u001b[0;34m**\u001b[0m\u001b[0mkwds\u001b[0m\u001b[0;34m)\u001b[0m\u001b[0;34m\u001b[0m\u001b[0;34m\u001b[0m\u001b[0m\n\u001b[0m\u001b[1;32m    834\u001b[0m \u001b[0;34m\u001b[0m\u001b[0m\n\u001b[1;32m    835\u001b[0m       \u001b[0mnew_tracing_count\u001b[0m \u001b[0;34m=\u001b[0m \u001b[0mself\u001b[0m\u001b[0;34m.\u001b[0m\u001b[0mexperimental_get_tracing_count\u001b[0m\u001b[0;34m(\u001b[0m\u001b[0;34m)\u001b[0m\u001b[0;34m\u001b[0m\u001b[0;34m\u001b[0m\u001b[0m\n",
            "\u001b[0;32m/usr/local/lib/python3.12/dist-packages/tensorflow/python/eager/polymorphic_function/polymorphic_function.py\u001b[0m in \u001b[0;36m_call\u001b[0;34m(self, *args, **kwds)\u001b[0m\n\u001b[1;32m    876\u001b[0m       \u001b[0;31m# In this case we have not created variables on the first call. So we can\u001b[0m\u001b[0;34m\u001b[0m\u001b[0;34m\u001b[0m\u001b[0m\n\u001b[1;32m    877\u001b[0m       \u001b[0;31m# run the first trace but we should fail if variables are created.\u001b[0m\u001b[0;34m\u001b[0m\u001b[0;34m\u001b[0m\u001b[0m\n\u001b[0;32m--> 878\u001b[0;31m       results = tracing_compilation.call_function(\n\u001b[0m\u001b[1;32m    879\u001b[0m           \u001b[0margs\u001b[0m\u001b[0;34m,\u001b[0m \u001b[0mkwds\u001b[0m\u001b[0;34m,\u001b[0m \u001b[0mself\u001b[0m\u001b[0;34m.\u001b[0m\u001b[0m_variable_creation_config\u001b[0m\u001b[0;34m\u001b[0m\u001b[0;34m\u001b[0m\u001b[0m\n\u001b[1;32m    880\u001b[0m       )\n",
            "\u001b[0;32m/usr/local/lib/python3.12/dist-packages/tensorflow/python/eager/polymorphic_function/tracing_compilation.py\u001b[0m in \u001b[0;36mcall_function\u001b[0;34m(args, kwargs, tracing_options)\u001b[0m\n\u001b[1;32m    137\u001b[0m   \u001b[0mbound_args\u001b[0m \u001b[0;34m=\u001b[0m \u001b[0mfunction\u001b[0m\u001b[0;34m.\u001b[0m\u001b[0mfunction_type\u001b[0m\u001b[0;34m.\u001b[0m\u001b[0mbind\u001b[0m\u001b[0;34m(\u001b[0m\u001b[0;34m*\u001b[0m\u001b[0margs\u001b[0m\u001b[0;34m,\u001b[0m \u001b[0;34m**\u001b[0m\u001b[0mkwargs\u001b[0m\u001b[0;34m)\u001b[0m\u001b[0;34m\u001b[0m\u001b[0;34m\u001b[0m\u001b[0m\n\u001b[1;32m    138\u001b[0m   \u001b[0mflat_inputs\u001b[0m \u001b[0;34m=\u001b[0m \u001b[0mfunction\u001b[0m\u001b[0;34m.\u001b[0m\u001b[0mfunction_type\u001b[0m\u001b[0;34m.\u001b[0m\u001b[0munpack_inputs\u001b[0m\u001b[0;34m(\u001b[0m\u001b[0mbound_args\u001b[0m\u001b[0;34m)\u001b[0m\u001b[0;34m\u001b[0m\u001b[0;34m\u001b[0m\u001b[0m\n\u001b[0;32m--> 139\u001b[0;31m   return function._call_flat(  # pylint: disable=protected-access\n\u001b[0m\u001b[1;32m    140\u001b[0m       \u001b[0mflat_inputs\u001b[0m\u001b[0;34m,\u001b[0m \u001b[0mcaptured_inputs\u001b[0m\u001b[0;34m=\u001b[0m\u001b[0mfunction\u001b[0m\u001b[0;34m.\u001b[0m\u001b[0mcaptured_inputs\u001b[0m\u001b[0;34m\u001b[0m\u001b[0;34m\u001b[0m\u001b[0m\n\u001b[1;32m    141\u001b[0m   )\n",
            "\u001b[0;32m/usr/local/lib/python3.12/dist-packages/tensorflow/python/eager/polymorphic_function/concrete_function.py\u001b[0m in \u001b[0;36m_call_flat\u001b[0;34m(self, tensor_inputs, captured_inputs)\u001b[0m\n\u001b[1;32m   1320\u001b[0m         and executing_eagerly):\n\u001b[1;32m   1321\u001b[0m       \u001b[0;31m# No tape is watching; skip to running the function.\u001b[0m\u001b[0;34m\u001b[0m\u001b[0;34m\u001b[0m\u001b[0m\n\u001b[0;32m-> 1322\u001b[0;31m       \u001b[0;32mreturn\u001b[0m \u001b[0mself\u001b[0m\u001b[0;34m.\u001b[0m\u001b[0m_inference_function\u001b[0m\u001b[0;34m.\u001b[0m\u001b[0mcall_preflattened\u001b[0m\u001b[0;34m(\u001b[0m\u001b[0margs\u001b[0m\u001b[0;34m)\u001b[0m\u001b[0;34m\u001b[0m\u001b[0;34m\u001b[0m\u001b[0m\n\u001b[0m\u001b[1;32m   1323\u001b[0m     forward_backward = self._select_forward_and_backward_functions(\n\u001b[1;32m   1324\u001b[0m         \u001b[0margs\u001b[0m\u001b[0;34m,\u001b[0m\u001b[0;34m\u001b[0m\u001b[0;34m\u001b[0m\u001b[0m\n",
            "\u001b[0;32m/usr/local/lib/python3.12/dist-packages/tensorflow/python/eager/polymorphic_function/atomic_function.py\u001b[0m in \u001b[0;36mcall_preflattened\u001b[0;34m(self, args)\u001b[0m\n\u001b[1;32m    214\u001b[0m   \u001b[0;32mdef\u001b[0m \u001b[0mcall_preflattened\u001b[0m\u001b[0;34m(\u001b[0m\u001b[0mself\u001b[0m\u001b[0;34m,\u001b[0m \u001b[0margs\u001b[0m\u001b[0;34m:\u001b[0m \u001b[0mSequence\u001b[0m\u001b[0;34m[\u001b[0m\u001b[0mcore\u001b[0m\u001b[0;34m.\u001b[0m\u001b[0mTensor\u001b[0m\u001b[0;34m]\u001b[0m\u001b[0;34m)\u001b[0m \u001b[0;34m->\u001b[0m \u001b[0mAny\u001b[0m\u001b[0;34m:\u001b[0m\u001b[0;34m\u001b[0m\u001b[0;34m\u001b[0m\u001b[0m\n\u001b[1;32m    215\u001b[0m     \u001b[0;34m\"\"\"Calls with flattened tensor inputs and returns the structured output.\"\"\"\u001b[0m\u001b[0;34m\u001b[0m\u001b[0;34m\u001b[0m\u001b[0m\n\u001b[0;32m--> 216\u001b[0;31m     \u001b[0mflat_outputs\u001b[0m \u001b[0;34m=\u001b[0m \u001b[0mself\u001b[0m\u001b[0;34m.\u001b[0m\u001b[0mcall_flat\u001b[0m\u001b[0;34m(\u001b[0m\u001b[0;34m*\u001b[0m\u001b[0margs\u001b[0m\u001b[0;34m)\u001b[0m\u001b[0;34m\u001b[0m\u001b[0;34m\u001b[0m\u001b[0m\n\u001b[0m\u001b[1;32m    217\u001b[0m     \u001b[0;32mreturn\u001b[0m \u001b[0mself\u001b[0m\u001b[0;34m.\u001b[0m\u001b[0mfunction_type\u001b[0m\u001b[0;34m.\u001b[0m\u001b[0mpack_output\u001b[0m\u001b[0;34m(\u001b[0m\u001b[0mflat_outputs\u001b[0m\u001b[0;34m)\u001b[0m\u001b[0;34m\u001b[0m\u001b[0;34m\u001b[0m\u001b[0m\n\u001b[1;32m    218\u001b[0m \u001b[0;34m\u001b[0m\u001b[0m\n",
            "\u001b[0;32m/usr/local/lib/python3.12/dist-packages/tensorflow/python/eager/polymorphic_function/atomic_function.py\u001b[0m in \u001b[0;36mcall_flat\u001b[0;34m(self, *args)\u001b[0m\n\u001b[1;32m    249\u001b[0m         \u001b[0;32mwith\u001b[0m \u001b[0mrecord\u001b[0m\u001b[0;34m.\u001b[0m\u001b[0mstop_recording\u001b[0m\u001b[0;34m(\u001b[0m\u001b[0;34m)\u001b[0m\u001b[0;34m:\u001b[0m\u001b[0;34m\u001b[0m\u001b[0;34m\u001b[0m\u001b[0m\n\u001b[1;32m    250\u001b[0m           \u001b[0;32mif\u001b[0m \u001b[0mself\u001b[0m\u001b[0;34m.\u001b[0m\u001b[0m_bound_context\u001b[0m\u001b[0;34m.\u001b[0m\u001b[0mexecuting_eagerly\u001b[0m\u001b[0;34m(\u001b[0m\u001b[0;34m)\u001b[0m\u001b[0;34m:\u001b[0m\u001b[0;34m\u001b[0m\u001b[0;34m\u001b[0m\u001b[0m\n\u001b[0;32m--> 251\u001b[0;31m             outputs = self._bound_context.call_function(\n\u001b[0m\u001b[1;32m    252\u001b[0m                 \u001b[0mself\u001b[0m\u001b[0;34m.\u001b[0m\u001b[0mname\u001b[0m\u001b[0;34m,\u001b[0m\u001b[0;34m\u001b[0m\u001b[0;34m\u001b[0m\u001b[0m\n\u001b[1;32m    253\u001b[0m                 \u001b[0mlist\u001b[0m\u001b[0;34m(\u001b[0m\u001b[0margs\u001b[0m\u001b[0;34m)\u001b[0m\u001b[0;34m,\u001b[0m\u001b[0;34m\u001b[0m\u001b[0;34m\u001b[0m\u001b[0m\n",
            "\u001b[0;32m/usr/local/lib/python3.12/dist-packages/tensorflow/python/eager/context.py\u001b[0m in \u001b[0;36mcall_function\u001b[0;34m(self, name, tensor_inputs, num_outputs)\u001b[0m\n\u001b[1;32m   1686\u001b[0m     \u001b[0mcancellation_context\u001b[0m \u001b[0;34m=\u001b[0m \u001b[0mcancellation\u001b[0m\u001b[0;34m.\u001b[0m\u001b[0mcontext\u001b[0m\u001b[0;34m(\u001b[0m\u001b[0;34m)\u001b[0m\u001b[0;34m\u001b[0m\u001b[0;34m\u001b[0m\u001b[0m\n\u001b[1;32m   1687\u001b[0m     \u001b[0;32mif\u001b[0m \u001b[0mcancellation_context\u001b[0m \u001b[0;32mis\u001b[0m \u001b[0;32mNone\u001b[0m\u001b[0;34m:\u001b[0m\u001b[0;34m\u001b[0m\u001b[0;34m\u001b[0m\u001b[0m\n\u001b[0;32m-> 1688\u001b[0;31m       outputs = execute.execute(\n\u001b[0m\u001b[1;32m   1689\u001b[0m           \u001b[0mname\u001b[0m\u001b[0;34m.\u001b[0m\u001b[0mdecode\u001b[0m\u001b[0;34m(\u001b[0m\u001b[0;34m\"utf-8\"\u001b[0m\u001b[0;34m)\u001b[0m\u001b[0;34m,\u001b[0m\u001b[0;34m\u001b[0m\u001b[0;34m\u001b[0m\u001b[0m\n\u001b[1;32m   1690\u001b[0m           \u001b[0mnum_outputs\u001b[0m\u001b[0;34m=\u001b[0m\u001b[0mnum_outputs\u001b[0m\u001b[0;34m,\u001b[0m\u001b[0;34m\u001b[0m\u001b[0;34m\u001b[0m\u001b[0m\n",
            "\u001b[0;32m/usr/local/lib/python3.12/dist-packages/tensorflow/python/eager/execute.py\u001b[0m in \u001b[0;36mquick_execute\u001b[0;34m(op_name, num_outputs, inputs, attrs, ctx, name)\u001b[0m\n\u001b[1;32m     51\u001b[0m   \u001b[0;32mtry\u001b[0m\u001b[0;34m:\u001b[0m\u001b[0;34m\u001b[0m\u001b[0;34m\u001b[0m\u001b[0m\n\u001b[1;32m     52\u001b[0m     \u001b[0mctx\u001b[0m\u001b[0;34m.\u001b[0m\u001b[0mensure_initialized\u001b[0m\u001b[0;34m(\u001b[0m\u001b[0;34m)\u001b[0m\u001b[0;34m\u001b[0m\u001b[0;34m\u001b[0m\u001b[0m\n\u001b[0;32m---> 53\u001b[0;31m     tensors = pywrap_tfe.TFE_Py_Execute(ctx._handle, device_name, op_name,\n\u001b[0m\u001b[1;32m     54\u001b[0m                                         inputs, attrs, num_outputs)\n\u001b[1;32m     55\u001b[0m   \u001b[0;32mexcept\u001b[0m \u001b[0mcore\u001b[0m\u001b[0;34m.\u001b[0m\u001b[0m_NotOkStatusException\u001b[0m \u001b[0;32mas\u001b[0m \u001b[0me\u001b[0m\u001b[0;34m:\u001b[0m\u001b[0;34m\u001b[0m\u001b[0;34m\u001b[0m\u001b[0m\n",
            "\u001b[0;31mKeyboardInterrupt\u001b[0m: "
          ]
        }
      ]
    },
    {
      "cell_type": "code",
      "source": [
        "# ===================\n",
        "# 1. 딥러닝 라이브러리 불러오기\n",
        "\n",
        "import pandas as pd\n",
        "# 토크나이저 - 문장은 단어화\n",
        "from tensorflow.keras.preprocessing.text import Tokenizer\n",
        "# pad는 모든 문장을 동일한 길이로 맞추는 기능\n",
        "from tensorflow.keras.preprocessing.sequence import pad_sequences\n",
        "# Sequential -> 딥러닝 모델을 레고처럼 구축\n",
        "from tensorflow.keras.models import Sequential\n",
        "# Embedding -> 단어 -> 가중치화 / Dense 기본 딥러닝 뉴런 구조 / Pooling\n",
        "from tensorflow.keras.layers import Embedding, Dense, GlobalAveragePooling1D\n",
        "# train_test_split -> 데이터를 80:20으로 분할\n",
        "from sklearn.model_selection import train_test_split"
      ],
      "metadata": {
        "id": "RcML3w-0hJuY"
      },
      "execution_count": null,
      "outputs": []
    },
    {
      "cell_type": "code",
      "source": [
        "data = pd.read_csv('nsmc_train.csv', encoding='utf-8')"
      ],
      "metadata": {
        "id": "AO-Mbo_zg5CD"
      },
      "execution_count": null,
      "outputs": []
    },
    {
      "cell_type": "code",
      "source": [
        "print(data)"
      ],
      "metadata": {
        "colab": {
          "base_uri": "https://localhost:8080/"
        },
        "id": "-D1nbwFeiPQ3",
        "outputId": "0fbef50e-73b0-4f7b-a964-2083a98b51d9"
      },
      "execution_count": null,
      "outputs": [
        {
          "output_type": "stream",
          "name": "stdout",
          "text": [
            "             id                                             review  rating\n",
            "0       9324809                         배우들의 인생연기가 돋보였던... 최고의 드라마       1\n",
            "1       9305425                                아 혜리 보고싶다 ... 여군좀 ㅠ       0\n",
            "2       5239110                    눈이 팅팅..... 정말 ,..... 대박이다......       1\n",
            "3       9148159                                   캐슬린 터너의 보디는 볼만했다       0\n",
            "4       6144938                                           진짜 최고였다.       1\n",
            "...         ...                                                ...     ...\n",
            "149988  8507630                                     개소리지꺼리지마 변태년들아       0\n",
            "149989  7960767  지루하고 짜증나고 어지럽고 싱겁고...재수가 없고 불쾌한 영화..영화라고 부르기도 ...       0\n",
            "149990  8849726                     스크림같은 반전영화를 만들고 싶었나본데 택도 없음-_-       0\n",
            "149991  4239351     제작비 탓만 하기에는 너무 빈약한 각본. 원작을 못살린 채 이유없이 연결되는 플롯.       0\n",
            "149992  7626480                                        재미없음.......       0\n",
            "\n",
            "[149993 rows x 3 columns]\n"
          ]
        }
      ]
    },
    {
      "cell_type": "code",
      "source": [
        "# 3. 데이터 준비\n",
        "X, y = data['review'], data['rating']\n",
        "# 학습, 테스트 데이터로 분할\n",
        "X_train, X_test, y_train, y_test = train_test_split(X, y, test_size=0.2, random_state=42)"
      ],
      "metadata": {
        "id": "olSJPrHHiptL"
      },
      "execution_count": null,
      "outputs": []
    },
    {
      "cell_type": "code",
      "source": [
        "# 4 .토큰화 및 패딩\n",
        "tokenizer = Tokenizer(num_words= 5000)\n",
        "tokenizer.fit_on_texts(X_train)"
      ],
      "metadata": {
        "id": "tvYkNb0qixdG"
      },
      "execution_count": null,
      "outputs": []
    },
    {
      "cell_type": "code",
      "source": [
        "\n",
        "X_train_seq = pad_sequences(tokenizer.texts_to_sequences(X_train), maxlen=50)\n",
        "X_test_seq = pad_sequences(tokenizer.texts_to_sequences(X_test), maxlen=50)"
      ],
      "metadata": {
        "id": "JFM0g8aLjf-8"
      },
      "execution_count": null,
      "outputs": []
    },
    {
      "cell_type": "code",
      "source": [
        "print(X_train_seq)"
      ],
      "metadata": {
        "colab": {
          "base_uri": "https://localhost:8080/"
        },
        "id": "xq3uX3ODkLN3",
        "outputId": "b444fae6-f2bf-421b-fe91-2a2ff2430807"
      },
      "execution_count": null,
      "outputs": [
        {
          "output_type": "stream",
          "name": "stdout",
          "text": [
            "[[   0    0    0 ... 1561 1853   43]\n",
            " [   0    0    0 ...    0    0    0]\n",
            " [   0    0    0 ...    6  390 3691]\n",
            " ...\n",
            " [   0    0    0 ...  693 3510 4019]\n",
            " [   0    0    0 ...    0    0  585]\n",
            " [   0    0    0 ...    0  986 2143]]\n"
          ]
        }
      ]
    },
    {
      "cell_type": "code",
      "source": [
        "# 5. 모델 구성\n",
        "model = Sequential([\n",
        "    Embedding(5000, 64, input_length=50),# input_length = maxlen과 동일하게 둔다\n",
        "    LSTM(64, dropout=0.2),# 63개의 뉴런으로 되어있는\n",
        "    Dense(32, activation='relu'),# 기본 은닉층 32개 ,렐루 방식으로 활성함수계산\n",
        "    Dropout(0.5),# 드랍아웃으로 절반만 학습\n",
        "    Dense(1, activation='sigmoid')\n",
        "])\n",
        "# 어떻게 모델이 구성되었을때 가장 최적의 성과를 나타내는지 논문을 통해서 응용\n",
        "\n",
        "# 모델 컴파일\n",
        "# 여러분들이 컴파일을 변경할 일은 분류 -> 다중분류/회귀\n",
        "model.compile(optimizer ='adam',\n",
        "              loss = 'binary_crossentropy',\n",
        "              metrics=['accuracy'])"
      ],
      "metadata": {
        "colab": {
          "base_uri": "https://localhost:8080/"
        },
        "id": "BjQCeBzYkP3X",
        "outputId": "b0b2e993-695a-4aee-c0f1-07ec0905a0ba"
      },
      "execution_count": null,
      "outputs": [
        {
          "output_type": "stream",
          "name": "stderr",
          "text": [
            "/usr/local/lib/python3.12/dist-packages/keras/src/layers/core/embedding.py:97: UserWarning: Argument `input_length` is deprecated. Just remove it.\n",
            "  warnings.warn(\n"
          ]
        }
      ]
    },
    {
      "cell_type": "code",
      "source": [
        "# 6. 모델 학습 진행\n",
        "model.fit(X_train_seq, y_train, epochs = 5, batch_size = 128, validation_split=0.2)\n",
        "\n",
        "# train과 loss 가 처음과 차이가 많이 없는지 확인"
      ],
      "metadata": {
        "colab": {
          "base_uri": "https://localhost:8080/"
        },
        "id": "SWKRCsrQkn9Z",
        "outputId": "425764b0-5c50-4774-9d86-6abf9a794a50"
      },
      "execution_count": null,
      "outputs": [
        {
          "output_type": "stream",
          "name": "stdout",
          "text": [
            "Epoch 1/5\n",
            "\u001b[1m750/750\u001b[0m \u001b[32m━━━━━━━━━━━━━━━━━━━━\u001b[0m\u001b[37m\u001b[0m \u001b[1m78s\u001b[0m 99ms/step - accuracy: 0.6944 - loss: 0.5527 - val_accuracy: 0.7838 - val_loss: 0.4241\n",
            "Epoch 2/5\n",
            "\u001b[1m750/750\u001b[0m \u001b[32m━━━━━━━━━━━━━━━━━━━━\u001b[0m\u001b[37m\u001b[0m \u001b[1m80s\u001b[0m 96ms/step - accuracy: 0.7930 - loss: 0.4175 - val_accuracy: 0.7836 - val_loss: 0.4233\n",
            "Epoch 3/5\n",
            "\u001b[1m750/750\u001b[0m \u001b[32m━━━━━━━━━━━━━━━━━━━━\u001b[0m\u001b[37m\u001b[0m \u001b[1m82s\u001b[0m 97ms/step - accuracy: 0.7981 - loss: 0.4000 - val_accuracy: 0.7839 - val_loss: 0.4269\n",
            "Epoch 4/5\n",
            "\u001b[1m750/750\u001b[0m \u001b[32m━━━━━━━━━━━━━━━━━━━━\u001b[0m\u001b[37m\u001b[0m \u001b[1m81s\u001b[0m 95ms/step - accuracy: 0.8066 - loss: 0.3806 - val_accuracy: 0.7817 - val_loss: 0.4464\n",
            "Epoch 5/5\n",
            "\u001b[1m750/750\u001b[0m \u001b[32m━━━━━━━━━━━━━━━━━━━━\u001b[0m\u001b[37m\u001b[0m \u001b[1m85s\u001b[0m 113ms/step - accuracy: 0.8133 - loss: 0.3641 - val_accuracy: 0.7785 - val_loss: 0.4722\n"
          ]
        },
        {
          "output_type": "execute_result",
          "data": {
            "text/plain": [
              "<keras.src.callbacks.history.History at 0x7c3fe0e88170>"
            ]
          },
          "metadata": {},
          "execution_count": 88
        }
      ]
    },
    {
      "cell_type": "code",
      "source": [
        "# 7. 평가 코드\n",
        "loss, accyracy = model.evaluate(X_test_seq, y_test)\n",
        "# 테스트 데이터에 대해서도 위의 값과 비슷한 값이 나왔기 때문에 잘된 모델이다 라고 판정"
      ],
      "metadata": {
        "colab": {
          "base_uri": "https://localhost:8080/"
        },
        "id": "e4jSjHejn3y_",
        "outputId": "4d3411bd-2540-445a-bb9d-c616840ee717"
      },
      "execution_count": null,
      "outputs": [
        {
          "output_type": "stream",
          "name": "stdout",
          "text": [
            "\u001b[1m938/938\u001b[0m \u001b[32m━━━━━━━━━━━━━━━━━━━━\u001b[0m\u001b[37m\u001b[0m \u001b[1m14s\u001b[0m 15ms/step - accuracy: 0.7759 - loss: 0.4836\n"
          ]
        }
      ]
    },
    {
      "cell_type": "code",
      "source": [
        "# 8. 예측 테스트\n",
        "test_text = ['정말 재미있었고, 내용이 슬펏어요 ', \"영화가 너무 지루했지만 그래도 전반적으로는 만족합니다\"]\n",
        "for text in test_text:\n",
        "    seq = pad_sequences(tokenizer.texts_to_sequences([text]), maxlen=50)\n",
        "    pred = model.predict(seq)[0][0]\n",
        "    print(f\"{text} → {'긍정' if pred > 0.5 else '부정'} ({pred:.3f})\")"
      ],
      "metadata": {
        "colab": {
          "base_uri": "https://localhost:8080/"
        },
        "id": "xTytg22kooUJ",
        "outputId": "fdd1210f-5e4c-42ce-bdd9-29499d7a0461"
      },
      "execution_count": null,
      "outputs": [
        {
          "output_type": "stream",
          "name": "stdout",
          "text": [
            "\u001b[1m1/1\u001b[0m \u001b[32m━━━━━━━━━━━━━━━━━━━━\u001b[0m\u001b[37m\u001b[0m \u001b[1m0s\u001b[0m 65ms/step\n",
            "정말 재미있었고, 내용이 슬펏어요  → 긍정 (0.951)\n",
            "\u001b[1m1/1\u001b[0m \u001b[32m━━━━━━━━━━━━━━━━━━━━\u001b[0m\u001b[37m\u001b[0m \u001b[1m0s\u001b[0m 91ms/step\n",
            "영화가 너무 지루했지만 그래도 전반적으로는 만족합니다 → 긍정 (0.531)\n"
          ]
        }
      ]
    },
    {
      "cell_type": "code",
      "source": [
        "# 결과 시각화\n",
        "fig, axes = plt.subplots(1, 2, figsize=(12, 4))\n",
        "\n",
        "# 정확도 그래프\n",
        "axes[0].plot(history.history['accuracy'], label='Train Accuracy', marker='o')\n",
        "axes[0].plot(history.history['val_accuracy'], label='Val Accuracy', marker='s')\n",
        "axes[0].set_title('Model Accuracy')\n",
        "axes[0].set_xlabel('Epoch')\n",
        "axes[0].set_ylabel('Accuracy')\n",
        "axes[0].legend()\n",
        "axes[0].grid(True)\n",
        "\n",
        "# 손실 그래프\n",
        "axes[1].plot(history.history['loss'], label='Train Loss', marker='o')\n",
        "axes[1].plot(history.history['val_loss'], label='Val Loss', marker='s')\n",
        "axes[1].set_title('Model Loss')\n",
        "axes[1].set_xlabel('Epoch')\n",
        "axes[1].set_ylabel('Loss')\n",
        "axes[1].legend()\n",
        "axes[1].grid(True)\n",
        "\n",
        "plt.tight_layout()\n",
        "plt.savefig('training_history.png', dpi=150)\n",
        "plt.show()\n",
        "print(\"그래프 저장 완료: training_history.png\")"
      ],
      "metadata": {
        "colab": {
          "base_uri": "https://localhost:8080/",
          "height": 470
        },
        "id": "5qv_awyEqPg2",
        "outputId": "df116056-7d5d-45a8-82e7-5ada13d12570"
      },
      "execution_count": null,
      "outputs": [
        {
          "output_type": "error",
          "ename": "KeyError",
          "evalue": "'val_accuracy'",
          "traceback": [
            "\u001b[0;31m---------------------------------------------------------------------------\u001b[0m",
            "\u001b[0;31mKeyError\u001b[0m                                  Traceback (most recent call last)",
            "\u001b[0;32m/tmp/ipython-input-1751497773.py\u001b[0m in \u001b[0;36m<cell line: 0>\u001b[0;34m()\u001b[0m\n\u001b[1;32m      4\u001b[0m \u001b[0;31m# 정확도 그래프\u001b[0m\u001b[0;34m\u001b[0m\u001b[0;34m\u001b[0m\u001b[0m\n\u001b[1;32m      5\u001b[0m \u001b[0maxes\u001b[0m\u001b[0;34m[\u001b[0m\u001b[0;36m0\u001b[0m\u001b[0;34m]\u001b[0m\u001b[0;34m.\u001b[0m\u001b[0mplot\u001b[0m\u001b[0;34m(\u001b[0m\u001b[0mhistory\u001b[0m\u001b[0;34m.\u001b[0m\u001b[0mhistory\u001b[0m\u001b[0;34m[\u001b[0m\u001b[0;34m'accuracy'\u001b[0m\u001b[0;34m]\u001b[0m\u001b[0;34m,\u001b[0m \u001b[0mlabel\u001b[0m\u001b[0;34m=\u001b[0m\u001b[0;34m'Train Accuracy'\u001b[0m\u001b[0;34m,\u001b[0m \u001b[0mmarker\u001b[0m\u001b[0;34m=\u001b[0m\u001b[0;34m'o'\u001b[0m\u001b[0;34m)\u001b[0m\u001b[0;34m\u001b[0m\u001b[0;34m\u001b[0m\u001b[0m\n\u001b[0;32m----> 6\u001b[0;31m \u001b[0maxes\u001b[0m\u001b[0;34m[\u001b[0m\u001b[0;36m0\u001b[0m\u001b[0;34m]\u001b[0m\u001b[0;34m.\u001b[0m\u001b[0mplot\u001b[0m\u001b[0;34m(\u001b[0m\u001b[0mhistory\u001b[0m\u001b[0;34m.\u001b[0m\u001b[0mhistory\u001b[0m\u001b[0;34m[\u001b[0m\u001b[0;34m'val_accuracy'\u001b[0m\u001b[0;34m]\u001b[0m\u001b[0;34m,\u001b[0m \u001b[0mlabel\u001b[0m\u001b[0;34m=\u001b[0m\u001b[0;34m'Val Accuracy'\u001b[0m\u001b[0;34m,\u001b[0m \u001b[0mmarker\u001b[0m\u001b[0;34m=\u001b[0m\u001b[0;34m's'\u001b[0m\u001b[0;34m)\u001b[0m\u001b[0;34m\u001b[0m\u001b[0;34m\u001b[0m\u001b[0m\n\u001b[0m\u001b[1;32m      7\u001b[0m \u001b[0maxes\u001b[0m\u001b[0;34m[\u001b[0m\u001b[0;36m0\u001b[0m\u001b[0;34m]\u001b[0m\u001b[0;34m.\u001b[0m\u001b[0mset_title\u001b[0m\u001b[0;34m(\u001b[0m\u001b[0;34m'Model Accuracy'\u001b[0m\u001b[0;34m)\u001b[0m\u001b[0;34m\u001b[0m\u001b[0;34m\u001b[0m\u001b[0m\n\u001b[1;32m      8\u001b[0m \u001b[0maxes\u001b[0m\u001b[0;34m[\u001b[0m\u001b[0;36m0\u001b[0m\u001b[0;34m]\u001b[0m\u001b[0;34m.\u001b[0m\u001b[0mset_xlabel\u001b[0m\u001b[0;34m(\u001b[0m\u001b[0;34m'Epoch'\u001b[0m\u001b[0;34m)\u001b[0m\u001b[0;34m\u001b[0m\u001b[0;34m\u001b[0m\u001b[0m\n",
            "\u001b[0;31mKeyError\u001b[0m: 'val_accuracy'"
          ]
        },
        {
          "output_type": "display_data",
          "data": {
            "text/plain": [
              "<Figure size 1200x400 with 2 Axes>"
            ],
            "image/png": "[encoded data removed]"
          },
          "metadata": {}
        }
      ]
    },
    {
      "cell_type": "code",
      "source": [
        "fig, axes = plt.subplots(1, 2, figsize=(10, 4))\n",
        "\n",
        "# 1) 정확도\n",
        "axes[0].plot(history.history.get('accuracy', []), label='Train Accuracy', marker='o')\n",
        "val_acc = history.history.get('val_accuracy') or history.history.get('val_acc')  # 둘 중 있는 것\n",
        "if val_acc is not None:\n",
        "    axes[0].plot(val_acc, label='Val Accuracy', marker='s')\n",
        "axes[0].set_title('Model Accuracy')\n",
        "axes[0].set_xlabel('Epoch')\n",
        "axes[0].set_ylabel('Accuracy')\n",
        "axes[0].legend()\n",
        "\n",
        "# 2) 손실\n",
        "axes[1].plot(history.history.get('loss', []), label='Train Loss', marker='o')\n",
        "val_loss = history.history.get('val_loss')\n",
        "if val_loss is not None:\n",
        "    axes[1].plot(val_loss, label='Val Loss', marker='s')\n",
        "axes[1].set_title('Model Loss')\n",
        "axes[1].set_xlabel('Epoch')\n",
        "axes[1].set_ylabel('Loss')\n",
        "axes[1].legend()\n",
        "\n",
        "plt.tight_layout()\n",
        "plt.show()\n"
      ],
      "metadata": {
        "id": "M_gY8jrvqvAA",
        "outputId": "3d7a4fbc-5437-44cb-f29a-06b0a5858f92",
        "colab": {
          "base_uri": "https://localhost:8080/",
          "height": 256
        }
      },
      "execution_count": null,
      "outputs": [
        {
          "output_type": "display_data",
          "data": {
            "text/plain": [
              "<Figure size 1000x400 with 2 Axes>"
            ],
            "image/png": "[encoded data removed]"
          },
          "metadata": {}
        }
      ]
    },
    {
      "cell_type": "markdown",
      "source": [],
      "metadata": {
        "id": "PRKR-9lMqupn"
      }
    }
  ]
}