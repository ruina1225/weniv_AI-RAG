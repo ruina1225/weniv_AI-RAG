{
 "cells": [
  {
   "cell_type": "markdown",
   "id": "10571373",
   "metadata": {},
   "source": [
    "# 실습1 - 단어 개수 세는 함수"
   ]
  },
  {
   "cell_type": "code",
   "execution_count": 2,
   "id": "e439494b",
   "metadata": {},
   "outputs": [],
   "source": [
    "def count_words(text):\n",
    "    # 공백 기준으로 단어 분리\n",
    "    words = text.split()\n",
    "    return len(words)\n",
    "    "
   ]
  },
  {
   "cell_type": "code",
   "execution_count": 5,
   "id": "3a8fae1c",
   "metadata": {},
   "outputs": [
    {
     "name": "stdout",
     "output_type": "stream",
     "text": [
      "단어갯수 : 5\n"
     ]
    }
   ],
   "source": [
    "sentence = \"python makes data anlysis easy\"\n",
    "count = count_words(sentence)\n",
    "print(f\"단어갯수 : {count}\")"
   ]
  },
  {
   "cell_type": "markdown",
   "id": "1bad913b",
   "metadata": {},
   "source": [
    "# 실습2 - 특정 문자 제거 함수"
   ]
  },
  {
   "cell_type": "code",
   "execution_count": 7,
   "id": "83f34c15",
   "metadata": {},
   "outputs": [],
   "source": [
    "def remove_symbol(text, symbol):\n",
    "    return text.replace(symbol, \"\")"
   ]
  },
  {
   "cell_type": "code",
   "execution_count": 11,
   "id": "c5cd5fe5",
   "metadata": {},
   "outputs": [
    {
     "name": "stdout",
     "output_type": "stream",
     "text": [
      "정제결과 Hello Python is  fun...\n"
     ]
    }
   ],
   "source": [
    "sentence = \"Hello!!! Python@@@ is ### fun...\"\n",
    "cleaned = remove_symbol(sentence, \"!\")\n",
    "cleaned = remove_symbol(cleaned, \"@\")\n",
    "cleaned = remove_symbol(cleaned, \"#\")\n",
    "print(\"정제결과\", cleaned)"
   ]
  },
  {
   "cell_type": "code",
   "execution_count": null,
   "id": "cef00b91",
   "metadata": {},
   "outputs": [],
   "source": [
    "# 기호 한번에 제거하기\n",
    "def clean_text(text):\n",
    "    for s in [\"!\",\"@\",\"#\",\",\",\".\"]"
   ]
  },
  {
   "cell_type": "markdown",
   "id": "bfc90b10",
   "metadata": {},
   "source": []
  }
 ],
 "metadata": {
  "kernelspec": {
   "display_name": "Python 3",
   "language": "python",
   "name": "python3"
  },
  "language_info": {
   "codemirror_mode": {
    "name": "ipython",
    "version": 3
   },
   "file_extension": ".py",
   "mimetype": "text/x-python",
   "name": "python",
   "nbconvert_exporter": "python",
   "pygments_lexer": "ipython3",
   "version": "3.9.13"
  }
 },
 "nbformat": 4,
 "nbformat_minor": 5
}
