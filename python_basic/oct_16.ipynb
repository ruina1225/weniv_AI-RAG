{
  "nbformat": 4,
  "nbformat_minor": 0,
  "metadata": {
    "colab": {
      "provenance": []
    },
    "kernelspec": {
      "name": "python3",
      "display_name": "Python 3"
    },
    "language_info": {
      "name": "python"
    }
  },
  "cells": [
    {
      "cell_type": "code",
      "execution_count": null,
      "metadata": {
        "id": "JxUFa2fyZImL"
      },
      "outputs": [],
      "source": [
        "# 26교시 - 1. numpy 기초\n",
        "\n",
        "# 일반 리스트\n",
        "list_data = [1,2,3,4,5]\n",
        "print(list_data)\n",
        "type(list_data)"
      ]
    },
    {
      "cell_type": "code",
      "source": [
        "import numpy as np # numpy를 불러오고 사용할때는 np라는 별칭으로 사용\n",
        "array_data = np.array(list_data)\n",
        "#\n",
        "print(array_data)\n",
        "type(array_data)"
      ],
      "metadata": {
        "id": "ODdlJQnSqy5F"
      },
      "execution_count": null,
      "outputs": []
    },
    {
      "cell_type": "code",
      "source": [
        "# 리스트랑 배열의 연산\n",
        "\n",
        "# 리스트의 데이터는 사칙연산을 하면 데이터가 합쳐진다.\n",
        "list_a = [1,2,3]\n",
        "list_b = [4,5,6]\n",
        "print(list_a + list_b)\n"
      ],
      "metadata": {
        "colab": {
          "base_uri": "https://localhost:8080/"
        },
        "id": "veQrIPCjZwlo",
        "outputId": "24b81d60-1782-46ba-9e34-0ab84f74ad1e"
      },
      "execution_count": 4,
      "outputs": [
        {
          "output_type": "stream",
          "name": "stdout",
          "text": [
            "[1, 2, 3, 4, 5, 6]\n"
          ]
        }
      ]
    },
    {
      "cell_type": "code",
      "source": [
        "# 넘파이 배열에서는 같은 위치에 있는 데이터가 서로 연산이 가능해진다.\n",
        "\n",
        "arr_a = np.array(list_a)\n",
        "arr_b = np.array(list_b)\n",
        "print(arr_a + arr_b)"
      ],
      "metadata": {
        "colab": {
          "base_uri": "https://localhost:8080/"
        },
        "id": "MfhIVx9XaOx4",
        "outputId": "6e913509-4416-41e7-b77d-48669c0994ee"
      },
      "execution_count": 9,
      "outputs": [
        {
          "output_type": "stream",
          "name": "stdout",
          "text": [
            "[5 7 9]\n"
          ]
        }
      ]
    },
    {
      "cell_type": "code",
      "source": [
        "# 배열 생성 방법\n",
        "\n",
        "# 1. 1차원\n",
        "arr_1 = np.array([1,2,3])\n",
        "\n",
        "# 2. 2ckdnjs\n",
        "arr_2 = np.array([\n",
        "                [1,2,3],\n",
        "                [4,5,6]\n",
        "                ]) # 2차원 배열의 행, 열\n",
        "\n",
        "print(arr_2)\n"
      ],
      "metadata": {
        "colab": {
          "base_uri": "https://localhost:8080/"
        },
        "id": "RUxm_Tsxaf4t",
        "outputId": "8b7e6227-643f-4353-a93c-36bc4c47e57d"
      },
      "execution_count": 10,
      "outputs": [
        {
          "output_type": "stream",
          "name": "stdout",
          "text": [
            "[[1 2 3]\n",
            " [4 5 6]]\n"
          ]
        }
      ]
    },
    {
      "cell_type": "code",
      "source": [
        "# 0으로만 된 배열\n",
        "a = np.zeros(5)\n",
        "print(a)\n",
        "# Start, stop, step 형식으로 자료 생성\n",
        "b = np.arange(1, 10, 2)\n",
        "print(b)\n",
        "# 0과 1사이의 난수 생성 - 3개\n",
        "c = np.random.rand(3)\n",
        "print(c)"
      ],
      "metadata": {
        "colab": {
          "base_uri": "https://localhost:8080/"
        },
        "id": "ohPJpF0RbxSk",
        "outputId": "1b6217fc-88b1-4c33-b69c-0bfa75028029"
      },
      "execution_count": 14,
      "outputs": [
        {
          "output_type": "stream",
          "name": "stdout",
          "text": [
            "[0. 0. 0. 0. 0.]\n",
            "[1 3 5 7 9]\n",
            "[0.71448018 0.81627999 0.2816717 ]\n"
          ]
        }
      ]
    },
    {
      "cell_type": "code",
      "source": [
        "# 배열에 대한 속성 확인\n",
        "\n",
        "# arr_2에 대한 정보!\n",
        "# 데이터가 아주 큰 경우\n",
        "\n",
        "print(\"차원\", arr_2.ndim)\n",
        "print(\"크기\", arr_2.shape)\n",
        "print(\"원소 개수\", arr_2.size)\n",
        "print(\"데이터타입\", arr_2.dtype)"
      ],
      "metadata": {
        "colab": {
          "base_uri": "https://localhost:8080/"
        },
        "id": "4kqCoSjKdjDx",
        "outputId": "4b7e1230-8960-42a5-b9b5-558649786d62"
      },
      "execution_count": 15,
      "outputs": [
        {
          "output_type": "stream",
          "name": "stdout",
          "text": [
            "차원 2\n",
            "크기 (2, 3)\n",
            "원소 개수 6\n",
            "데이터타입 int64\n"
          ]
        }
      ]
    },
    {
      "cell_type": "code",
      "source": [
        "# arr_1을 활용한 numpy연산\n",
        "\n",
        "# 전체 배열에 덧셈이 되는 것을 알 수 있다.\n",
        "# 브로드캐스팅(broadcasting)\n",
        "\n",
        "print(\"덧셈\", arr_1+5)\n",
        "print(\"뺄셈\", arr_1-5)\n",
        "print(\"곱셈\", arr_1*5)\n",
        "print(\"나눗셈\", arr_1/5) # 소수점으로 바뀐다\n",
        "print(\"평균\", np.mean(arr_1))\n",
        "print(\"표준편차\", np.std(arr_1))"
      ],
      "metadata": {
        "colab": {
          "base_uri": "https://localhost:8080/"
        },
        "id": "ufyJxpTod6yi",
        "outputId": "542c9223-f391-4002-88b1-6d98ac9c5f62"
      },
      "execution_count": 20,
      "outputs": [
        {
          "output_type": "stream",
          "name": "stdout",
          "text": [
            "덧셈 [6 7 8]\n",
            "뺄셈 [-4 -3 -2]\n",
            "곱셈 [ 5 10 15]\n",
            "나눗셈 [0.2 0.4 0.6]\n",
            "평균 2.0\n",
            "표준편차 0.816496580927726\n"
          ]
        }
      ]
    },
    {
      "cell_type": "code",
      "source": [
        "# 실습 아이디어 단어 길이 통계 분석기\n",
        "\n",
        "# 단어 5개\n",
        "# 6 / 4 / 2 / 7 / 8\n",
        "\n",
        "# numpy는 수치계산에 용이하기 때문에 문자에 대한 데이터는 숫자로 변경한 뒤에 처리가 필요하다\n",
        "words = [\"Python\", \"Data\", \"AI\", \"Machine\", \"Learning\"]\n",
        "# 반복문을 한줄로 간단하게 표현하는 방법\n",
        "# 리스트 컴프리핸션 리스트안에 반복문이나 조건문 연산을 바로 하는 구문\n",
        "# np.array 에는 리스트가 들어가서 배열로 전환\n",
        "lengths = np.array([len(w) for w in words])\n",
        "\n",
        "print(\"단어 길이 배열:\", lengths)\n",
        "print(\"평균 길이:\", np.mean(lengths))\n",
        "print(\"가장 긴 단어 길이:\", np.max(lengths))\n"
      ],
      "metadata": {
        "colab": {
          "base_uri": "https://localhost:8080/"
        },
        "id": "1ky58Xaqe2xH",
        "outputId": "4c3723cf-7a59-4125-af30-39f0ea266884"
      },
      "execution_count": 21,
      "outputs": [
        {
          "output_type": "stream",
          "name": "stdout",
          "text": [
            "단어 길이 배열: [6 4 2 7 8]\n",
            "평균 길이: 5.4\n",
            "가장 긴 단어 길이: 8\n"
          ]
        }
      ]
    },
    {
      "cell_type": "code",
      "source": [
        "# 26교시 - 실습1\n",
        "import numpy as np\n",
        "\n",
        "# 1차원 배열 생성\n",
        "arr = np.array([10, 20, 30, 40, 50])\n",
        "print(\"배열:\", arr)\n",
        "\n",
        "# 인덱싱\n",
        "print(\"첫 번째 요소:\", arr[0])\n",
        "print(\"마지막 요소:\", arr[-1])\n",
        "\n",
        "# 수정\n",
        "arr[2] = 99\n",
        "print(\"수정 후 배열:\", arr)"
      ],
      "metadata": {
        "colab": {
          "base_uri": "https://localhost:8080/"
        },
        "id": "qm9C_uqAfGK_",
        "outputId": "c18282e1-1105-4a6f-b36e-d6e4e199038b"
      },
      "execution_count": 22,
      "outputs": [
        {
          "output_type": "stream",
          "name": "stdout",
          "text": [
            "배열: [10 20 30 40 50]\n",
            "첫 번째 요소: 10\n",
            "마지막 요소: 50\n",
            "수정 후 배열: [10 20 99 40 50]\n"
          ]
        }
      ]
    },
    {
      "cell_type": "code",
      "source": [
        "arr2 = np.array([[1,2,3],[4,5,6]])\n",
        "print(arr2[1,2]) # 두번째 행의 3번째 값"
      ],
      "metadata": {
        "colab": {
          "base_uri": "https://localhost:8080/"
        },
        "id": "1t8aoYJ4e5LH",
        "outputId": "6512dafd-735e-4233-af2c-93f664038cb8"
      },
      "execution_count": 26,
      "outputs": [
        {
          "output_type": "stream",
          "name": "stdout",
          "text": [
            "6\n"
          ]
        }
      ]
    },
    {
      "cell_type": "code",
      "source": [
        "array3 = np.array([10,20,30,40,50])"
      ],
      "metadata": {
        "id": "AsSDHFyOloLN"
      },
      "execution_count": 28,
      "outputs": []
    },
    {
      "cell_type": "code",
      "source": [
        "# 기본 통계함수\n",
        "print(np.sum(array3)) # 합계\n",
        "print(np.mean(array3)) # 평균\n",
        "print(np.max(array3)) # 최대값\n",
        "print(np.min(array3)) # 최소값\n",
        "print(np.std(array3)) # 표준편차"
      ],
      "metadata": {
        "colab": {
          "base_uri": "https://localhost:8080/"
        },
        "id": "B0l556YPlrhB",
        "outputId": "8297ff83-7b84-43f6-e300-efcc92b1fce9"
      },
      "execution_count": 31,
      "outputs": [
        {
          "output_type": "stream",
          "name": "stdout",
          "text": [
            "150\n",
            "30.0\n",
            "50\n",
            "10\n",
            "14.142135623730951\n"
          ]
        }
      ]
    },
    {
      "cell_type": "code",
      "source": [
        "# 로또 당첨 번호 생성기\n",
        "# 복원 추출\n",
        "lotto = np.random.randint(1,46, size = 6)\n",
        "print(lotto)\n",
        "# array() ()괄호 안에는 리스트가 있죠\n",
        "# 리스트에는 콤마가 있고, array로 출력하면 콤마가 없습니다."
      ],
      "metadata": {
        "colab": {
          "base_uri": "https://localhost:8080/"
        },
        "id": "awfL2Zldl1YD",
        "outputId": "838c61e7-c8ba-4ca3-acfc-23dfa22f0a6a"
      },
      "execution_count": 37,
      "outputs": [
        {
          "output_type": "stream",
          "name": "stdout",
          "text": [
            "[23 25 28 29 31 37]\n"
          ]
        }
      ]
    },
    {
      "cell_type": "code",
      "source": [
        "# 겹치지 않는 로또 당첨 번호 생성기\n",
        "# 비복원 추출\n",
        "lotto = np.random.choice(range(1,46), size=6, replace=False)\n",
        "lotto.sort() # 데이터 오름차순 정렬\n",
        "print(lotto)\n"
      ],
      "metadata": {
        "colab": {
          "base_uri": "https://localhost:8080/"
        },
        "id": "RIyCgQPjmqVo",
        "outputId": "b89f12a7-937e-4111-fa5e-6ec3d0822198"
      },
      "execution_count": 33,
      "outputs": [
        {
          "output_type": "stream",
          "name": "stdout",
          "text": [
            "[23 25 28 29 31 37]\n"
          ]
        }
      ]
    },
    {
      "cell_type": "code",
      "source": [
        "# 실습 미니프로젝트 - 단어 길이 통계 분석기\n",
        "\n",
        "import numpy as np\n",
        "\n",
        "# 텍스트 데이터\n",
        "words = [\"Python\", \"AI\", \"Data\", \"Analysis\", \"Deep\", \"Learning\"]\n",
        "\n",
        "# 단어 길이 배열화\n",
        "lengths = np.array([len(w) for w in words])\n",
        "print(\"단어 길이 배열:\", lengths)\n",
        "\n",
        "# 통계 계산\n",
        "print(\"평균 길이:\", np.mean(lengths))\n",
        "print(\"최댓값:\", np.max(lengths))\n",
        "print(\"분산:\", np.var(lengths))\n",
        "\n",
        "# 가장 긴 단어 찾기\n",
        "max_len = np.max(lengths)\n",
        "longest_word = [w for w in words if len(w) == max_len]\n",
        "print(\"가장 긴 단어:\", longest_word)"
      ],
      "metadata": {
        "colab": {
          "base_uri": "https://localhost:8080/"
        },
        "id": "Q9Id4XQOn194",
        "outputId": "fde60b90-0d5b-4bcc-e7ca-905ef7abf237"
      },
      "execution_count": 38,
      "outputs": [
        {
          "output_type": "stream",
          "name": "stdout",
          "text": [
            "단어 길이 배열: [6 2 4 8 4 8]\n",
            "평균 길이: 5.333333333333333\n",
            "최댓값: 8\n",
            "분산: 4.888888888888889\n",
            "가장 긴 단어: ['Analysis', 'Learning']\n"
          ]
        }
      ]
    },
    {
      "cell_type": "code",
      "source": [
        "# 27교시 - 판다스pandas\n",
        "# 판다스 1차원 자료 생성 - 시리즈(series)\n",
        "\n",
        "import pandas as pd\n",
        "\n",
        "# 1차원 판다스 시리즈 생성 - 출력결과는 엑셀의 세로 열이 보여지는 것과 동일하게 출력된다.\n",
        "# index는 자동으로 생성된다. 만약 index를 변경하고 싶으면 데이터에 맞게 구조를 일치해서 변경하면 된다.\n",
        "\n",
        "s = pd.Series([100,200,300,400], index = ['a','b','c','d'])\n",
        "print(s)\n",
        "type(s)"
      ],
      "metadata": {
        "colab": {
          "base_uri": "https://localhost:8080/",
          "height": 296
        },
        "id": "YKNL7tekqhps",
        "outputId": "317015d1-fe14-42ba-ebb2-3f92e39e5f92"
      },
      "execution_count": 42,
      "outputs": [
        {
          "output_type": "stream",
          "name": "stdout",
          "text": [
            "a    100\n",
            "b    200\n",
            "c    300\n",
            "d    400\n",
            "dtype: int64\n"
          ]
        },
        {
          "output_type": "execute_result",
          "data": {
            "text/plain": [
              "pandas.core.series.Series"
            ],
            "text/html": [
              "<div style=\"max-width:800px; border: 1px solid var(--colab-border-color);\"><style>\n",
              "      pre.function-repr-contents {\n",
              "        overflow-x: auto;\n",
              "        padding: 8px 12px;\n",
              "        max-height: 500px;\n",
              "      }\n",
              "\n",
              "      pre.function-repr-contents.function-repr-contents-collapsed {\n",
              "        cursor: pointer;\n",
              "        max-height: 100px;\n",
              "      }\n",
              "    </style>\n",
              "    <pre style=\"white-space: initial; background:\n",
              "         var(--colab-secondary-surface-color); padding: 8px 12px;\n",
              "         border-bottom: 1px solid var(--colab-border-color);\"><b>pandas.core.series.Series</b><br/>def __init__(data=None, index=None, dtype: Dtype | None=None, name=None, copy: bool | None=None, fastpath: bool | lib.NoDefault=lib.no_default) -&gt; None</pre><pre class=\"function-repr-contents function-repr-contents-collapsed\" style=\"\"><a class=\"filepath\" style=\"display:none\" href=\"#\">/usr/local/lib/python3.12/dist-packages/pandas/core/series.py</a>One-dimensional ndarray with axis labels (including time series).\n",
              "\n",
              "Labels need not be unique but must be a hashable type. The object\n",
              "supports both integer- and label-based indexing and provides a host of\n",
              "methods for performing operations involving the index. Statistical\n",
              "methods from ndarray have been overridden to automatically exclude\n",
              "missing data (currently represented as NaN).\n",
              "\n",
              "Operations between Series (+, -, /, \\*, \\*\\*) align values based on their\n",
              "associated index values-- they need not be the same length. The result\n",
              "index will be the sorted union of the two indexes.\n",
              "\n",
              "Parameters\n",
              "----------\n",
              "data : array-like, Iterable, dict, or scalar value\n",
              "    Contains data stored in Series. If data is a dict, argument order is\n",
              "    maintained.\n",
              "index : array-like or Index (1d)\n",
              "    Values must be hashable and have the same length as `data`.\n",
              "    Non-unique index values are allowed. Will default to\n",
              "    RangeIndex (0, 1, 2, ..., n) if not provided. If data is dict-like\n",
              "    and index is None, then the keys in the data are used as the index. If the\n",
              "    index is not None, the resulting Series is reindexed with the index values.\n",
              "dtype : str, numpy.dtype, or ExtensionDtype, optional\n",
              "    Data type for the output Series. If not specified, this will be\n",
              "    inferred from `data`.\n",
              "    See the :ref:`user guide &lt;basics.dtypes&gt;` for more usages.\n",
              "name : Hashable, default None\n",
              "    The name to give to the Series.\n",
              "copy : bool, default False\n",
              "    Copy input data. Only affects Series or 1d ndarray input. See examples.\n",
              "\n",
              "Notes\n",
              "-----\n",
              "Please reference the :ref:`User Guide &lt;basics.series&gt;` for more information.\n",
              "\n",
              "Examples\n",
              "--------\n",
              "Constructing Series from a dictionary with an Index specified\n",
              "\n",
              "&gt;&gt;&gt; d = {&#x27;a&#x27;: 1, &#x27;b&#x27;: 2, &#x27;c&#x27;: 3}\n",
              "&gt;&gt;&gt; ser = pd.Series(data=d, index=[&#x27;a&#x27;, &#x27;b&#x27;, &#x27;c&#x27;])\n",
              "&gt;&gt;&gt; ser\n",
              "a   1\n",
              "b   2\n",
              "c   3\n",
              "dtype: int64\n",
              "\n",
              "The keys of the dictionary match with the Index values, hence the Index\n",
              "values have no effect.\n",
              "\n",
              "&gt;&gt;&gt; d = {&#x27;a&#x27;: 1, &#x27;b&#x27;: 2, &#x27;c&#x27;: 3}\n",
              "&gt;&gt;&gt; ser = pd.Series(data=d, index=[&#x27;x&#x27;, &#x27;y&#x27;, &#x27;z&#x27;])\n",
              "&gt;&gt;&gt; ser\n",
              "x   NaN\n",
              "y   NaN\n",
              "z   NaN\n",
              "dtype: float64\n",
              "\n",
              "Note that the Index is first build with the keys from the dictionary.\n",
              "After this the Series is reindexed with the given Index values, hence we\n",
              "get all NaN as a result.\n",
              "\n",
              "Constructing Series from a list with `copy=False`.\n",
              "\n",
              "&gt;&gt;&gt; r = [1, 2]\n",
              "&gt;&gt;&gt; ser = pd.Series(r, copy=False)\n",
              "&gt;&gt;&gt; ser.iloc[0] = 999\n",
              "&gt;&gt;&gt; r\n",
              "[1, 2]\n",
              "&gt;&gt;&gt; ser\n",
              "0    999\n",
              "1      2\n",
              "dtype: int64\n",
              "\n",
              "Due to input data type the Series has a `copy` of\n",
              "the original data even though `copy=False`, so\n",
              "the data is unchanged.\n",
              "\n",
              "Constructing Series from a 1d ndarray with `copy=False`.\n",
              "\n",
              "&gt;&gt;&gt; r = np.array([1, 2])\n",
              "&gt;&gt;&gt; ser = pd.Series(r, copy=False)\n",
              "&gt;&gt;&gt; ser.iloc[0] = 999\n",
              "&gt;&gt;&gt; r\n",
              "array([999,   2])\n",
              "&gt;&gt;&gt; ser\n",
              "0    999\n",
              "1      2\n",
              "dtype: int64\n",
              "\n",
              "Due to input data type the Series has a `view` on\n",
              "the original data, so\n",
              "the data is changed as well.</pre>\n",
              "      <script>\n",
              "      if (google.colab.kernel.accessAllowed && google.colab.files && google.colab.files.view) {\n",
              "        for (const element of document.querySelectorAll('.filepath')) {\n",
              "          element.style.display = 'block'\n",
              "          element.onclick = (event) => {\n",
              "            event.preventDefault();\n",
              "            event.stopPropagation();\n",
              "            google.colab.files.view(element.textContent, 263);\n",
              "          };\n",
              "        }\n",
              "      }\n",
              "      for (const element of document.querySelectorAll('.function-repr-contents')) {\n",
              "        element.onclick = (event) => {\n",
              "          event.preventDefault();\n",
              "          event.stopPropagation();\n",
              "          element.classList.toggle('function-repr-contents-collapsed');\n",
              "        };\n",
              "      }\n",
              "      </script>\n",
              "      </div>"
            ]
          },
          "metadata": {},
          "execution_count": 42
        }
      ]
    },
    {
      "cell_type": "code",
      "source": [
        "# DataFrame 2차원 배열(자료) 생성\n",
        "# JSON 형태의 자료구조 형태를 볼 수 있다.\n",
        "# 또는 CSV, JSON이러한 기존 자료구조 형태가 있으면 그 파일을 그대로 적용할 수 있다.\n",
        "\n",
        "data = {\n",
        "    \"이름\" : [\"홍길동\", \"이몽룡\",\"성춘향\"],\n",
        "    \"나이\" : [30,25,22],\n",
        "    \"직업\" : [\"의적\",\"공무원\",\"학생\"]\n",
        "}\n",
        "df = pd.DataFrame(data)\n",
        "print(data)\n",
        "print(df)\n"
      ],
      "metadata": {
        "colab": {
          "base_uri": "https://localhost:8080/"
        },
        "id": "5QbGTQ9fx1V7",
        "outputId": "ca60a0a0-0dd2-4f9f-e007-780b33e313e8"
      },
      "execution_count": 49,
      "outputs": [
        {
          "output_type": "stream",
          "name": "stdout",
          "text": [
            "{'이름': ['홍길동', '이몽룡', '성춘향'], '나이': [30, 25, 22], '직업': ['의적', '공무원', '학생']}\n",
            "    이름  나이   직업\n",
            "0  홍길동  30   의적\n",
            "1  이몽룡  25  공무원\n",
            "2  성춘향  22   학생\n"
          ]
        }
      ]
    },
    {
      "cell_type": "code",
      "source": [
        "# 데이터프레임을 csv파일로 저장하기\n",
        "df.to_csv(\"test.csv\", index=False, encoding='utf-8')"
      ],
      "metadata": {
        "id": "tv2uDtR2x_0U"
      },
      "execution_count": 51,
      "outputs": []
    },
    {
      "cell_type": "code",
      "source": [
        "# 외부의 csv파일을 읽어오기 -> 데이터프레임으로 변환\n",
        "df2 = pd.read_csv(\"test.csv\", encoding=\"utf-8\")\n",
        "print(df2)"
      ],
      "metadata": {
        "colab": {
          "base_uri": "https://localhost:8080/"
        },
        "id": "BRmdU6dhz_-P",
        "outputId": "030d90be-3c07-4be6-e5b7-f2f80ac9e98b"
      },
      "execution_count": 58,
      "outputs": [
        {
          "output_type": "stream",
          "name": "stdout",
          "text": [
            "    이름  나이   직업\n",
            "0  홍길동  30   의적\n",
            "1  이몽룡  25  공무원\n",
            "2  성춘향  22   학생\n"
          ]
        }
      ]
    },
    {
      "cell_type": "code",
      "source": [
        "# 데이터 확인 메서드 - 데이터를 외부에서 읽었을때 또는 생성했을때 가장 먼저 해야하는 3가지\n",
        "# 1. - head() : 상위 5개의 자료를 보는 방법\n",
        "#    - tail() : 하위 5개의 자료를 보는 방법\n",
        "# 1) 데이터가 제대로 출력이 되는지 여부를 파악 - 만약에 인코딩이나 기타 한글인식이 제대로 되지 않으면\n",
        "#   특수문자처럼 보여지거나 자료가 밀리는 현상이 발생\n",
        "\n",
        "print(df2.head())\n",
        "print(df2.tail())\n",
        "print(\"-----\")\n",
        "# 2. info()\n",
        "# range index - 3 entries -> 총 데이터의 갯수를 파악 (행 파악)\n",
        "# Data columns - total 3 columns -> 총 자료의 갯수를 파악(열 파악)\n",
        "# Non-Null Count - 결측치가 얼마나 있는지 여부를 파악\n",
        "# Dtype- 데이터의 자료구조가 숫자, 문자형, 소수형, 불린, 날짜\n",
        "# memory usage - 데이터를 읽었을때 시간이 얼마나 걸리고, 내 컴퓨터에서 감당 가능한 자료인지?\n",
        "\n",
        "print(df2.info())\n",
        "print(\"-----\")\n",
        "\n",
        "# 3. describe()\n",
        "# : 통계량을 확인하는 문법 - 수치형 자료에 대해서만 통계량을 확인 할 수 있음\n",
        "# 1. 이상치는 없는지 - 너무 큰 값이나, 너무 작은 값 또는 999999 8888888 특이한 값은 없는지\n",
        "# 2. 평균 / 중앙값 / 표준편차 -> 데이터의 구조 / 분포 등을 확인\n",
        "# 3. 한가지값으로만 이루어지지 않았는지 빠르게 파악 min 0 25% 0 50% 0 75% ... -> 모든 자료가 0 -> 의미가 없음 : 통계량을 확인하는 문법 - 수치형 자료에 대해서만 통계량을 확인 할 수 있음\n",
        "# 1. 이상치는 없는지 - 너무 큰 값이나, 너무 작은 값 또는 999999 8888888 특이한 값은 없는지\n",
        "# 2. 평균 / 중앙값 / 표준편차 -> 데이터의 구조 / 분포 등을 확인\n",
        "# 3. 한가지값으로만 이루어지지 않았는지 빠르게 파악 min 0 25% 0 50% 0 75% ... -> 모든 자료가 0 -> 의미가 없음\n",
        "print(df2.describe())"
      ],
      "metadata": {
        "colab": {
          "base_uri": "https://localhost:8080/"
        },
        "id": "BqLQxzy_0SI7",
        "outputId": "81037402-8628-4278-e9a7-a753c75c3d86"
      },
      "execution_count": 60,
      "outputs": [
        {
          "output_type": "stream",
          "name": "stdout",
          "text": [
            "    이름  나이   직업\n",
            "0  홍길동  30   의적\n",
            "1  이몽룡  25  공무원\n",
            "2  성춘향  22   학생\n",
            "-----\n",
            "    이름  나이   직업\n",
            "0  홍길동  30   의적\n",
            "1  이몽룡  25  공무원\n",
            "2  성춘향  22   학생\n",
            "-----\n",
            "<class 'pandas.core.frame.DataFrame'>\n",
            "RangeIndex: 3 entries, 0 to 2\n",
            "Data columns (total 3 columns):\n",
            " #   Column  Non-Null Count  Dtype \n",
            "---  ------  --------------  ----- \n",
            " 0   이름      3 non-null      object\n",
            " 1   나이      3 non-null      int64 \n",
            " 2   직업      3 non-null      object\n",
            "dtypes: int64(1), object(2)\n",
            "memory usage: 204.0+ bytes\n",
            "None\n",
            "-----\n",
            "              나이\n",
            "count   3.000000\n",
            "mean   25.666667\n",
            "std     4.041452\n",
            "min    22.000000\n",
            "25%    23.500000\n",
            "50%    25.000000\n",
            "75%    27.500000\n",
            "max    30.000000\n"
          ]
        }
      ]
    },
    {
      "cell_type": "code",
      "source": [
        "# 추가 실습 - 직원 정보 데이터 미리보기\n",
        "\n",
        "# 1) 데이터 프레임을 만들어 보세요\n",
        "# 2) 데이터 프레임을 csv파일로 만드세요\n",
        "# 3) 데이터 프레임의 현황을 살펴보세요\n",
        "# 4) 데이터 프레임의 연봉 평균, 최대값을 구하세요\n",
        "\n",
        "import pandas as pd\n",
        "\n",
        "data = {\n",
        "    \"이름\" : [\"홍길동\",\"이몽룡\",\"성춘향\"],\n",
        "    \"부서\" : [\"개발\", \"기획\",\"디자인\"],\n",
        "    \"직급\" : [\"대리\", \"사원\",\"과장\"],\n",
        "    \"연봉\" : [5500, 4200,6000]\n",
        "}\n",
        "df1 = pd.DataFrame(data)\n",
        "df1.to_csv(\"employees.csv\", index=False, encoding='utf-8')\n",
        "\n",
        "df = pd.read_csv(\"employees.csv\", encoding=\"utf-8\")\n",
        "\n",
        "print(\"👀 데이터 상위 2행 미리보기:\")\n",
        "print(df.head(2))\n",
        "\n",
        "print(\"\\n💡 평균 연봉:\", df[\"연봉\"].mean())\n",
        "print(\"💰 최고 연봉:\", df[\"연봉\"].max())\n"
      ],
      "metadata": {
        "colab": {
          "base_uri": "https://localhost:8080/"
        },
        "id": "mBYbHAtO3s9a",
        "outputId": "86b51b24-8279-446c-b586-f8363a81f24a"
      },
      "execution_count": 65,
      "outputs": [
        {
          "output_type": "stream",
          "name": "stdout",
          "text": [
            "👀 데이터 상위 2행 미리보기:\n",
            "    이름  부서  직급    연봉\n",
            "0  홍길동  개발  대리  5500\n",
            "1  이몽룡  기획  사원  4200\n",
            "\n",
            "💡 평균 연봉: 5233.333333333333\n",
            "💰 최고 연봉: 6000\n"
          ]
        }
      ]
    },
    {
      "cell_type": "code",
      "source": [
        "# 판다스는 시리즈로 계산이 된다."
      ],
      "metadata": {
        "id": "o2n1k2OO6dan"
      },
      "execution_count": null,
      "outputs": []
    },
    {
      "cell_type": "code",
      "source": [
        "print(df1) # 데이터 프레임\n",
        "print(\"----\")\n",
        "print(df1[\"연봉\"]) # 인덱싱을 활용하면 열자료의 모든 것을 가져올 수 있음 ->시리즈\n",
        "print(\"-----\")\n",
        "print(df1[\"연봉\"].mean()) # 계산은 시리즈 형태에서 된다.\n",
        "print(\"-----\")\n",
        "print(df1[[\"연봉\",\"직급\"]]) # 2차원 원하는 열만 출력하고 싶을때(데이터프레임) [[]] 대괄호를 두개를 써서 새로운 테이더 프레임을 만든다.\n"
      ],
      "metadata": {
        "colab": {
          "base_uri": "https://localhost:8080/"
        },
        "id": "F0xncSJf6LUv",
        "outputId": "f1046a04-438c-4bbe-a662-08038dd006c2"
      },
      "execution_count": 72,
      "outputs": [
        {
          "output_type": "stream",
          "name": "stdout",
          "text": [
            "    이름   부서  직급    연봉\n",
            "0  홍길동   개발  대리  5500\n",
            "1  이몽룡   기획  사원  4200\n",
            "2  성춘향  디자인  과장  6000\n",
            "----\n",
            "0    5500\n",
            "1    4200\n",
            "2    6000\n",
            "Name: 연봉, dtype: int64\n",
            "-----\n",
            "5233.333333333333\n",
            "-----\n",
            "     연봉  직급\n",
            "0  5500  대리\n",
            "1  4200  사원\n",
            "2  6000  과장\n"
          ]
        }
      ]
    },
    {
      "cell_type": "code",
      "source": [
        "# csv파일 불러오기\n",
        "df = pd.read_csv(\"news_data.csv\", encoding='utf-8')\n",
        "print(df)"
      ],
      "metadata": {
        "colab": {
          "base_uri": "https://localhost:8080/"
        },
        "id": "rhVtRpQ96Yl9",
        "outputId": "decfa4b9-e41b-452a-da9b-b2143e1cf470"
      },
      "execution_count": 74,
      "outputs": [
        {
          "output_type": "stream",
          "name": "stdout",
          "text": [
            "                title       source        date\n",
            "0  ChatGPT, 새로운 기능 발표  OpenAI Blog  2025-10-01\n",
            "1   삼성전자, AI 사업 강화 발표         조선일보  2025-10-01\n",
            "2  LG전자, 로봇 신제품 출시 계획         중앙일보  2025-10-02\n",
            "3  네이버, 클라우드 시장 확대 추진          한겨레  2025-10-03\n",
            "4   카카오, AI 번역 서비스 공개        머니투데이  2025-10-03\n"
          ]
        }
      ]
    },
    {
      "cell_type": "code",
      "source": [
        "print(df.info())\n",
        "\n",
        "# 고유값 - 고유값\n",
        "#\n",
        "print(df.describe(include = 'all'))"
      ],
      "metadata": {
        "colab": {
          "base_uri": "https://localhost:8080/"
        },
        "id": "pWg4LKv0Mo6E",
        "outputId": "32dfe8dd-8d0b-477c-990b-011889002a3a"
      },
      "execution_count": 79,
      "outputs": [
        {
          "output_type": "stream",
          "name": "stdout",
          "text": [
            "<class 'pandas.core.frame.DataFrame'>\n",
            "RangeIndex: 5 entries, 0 to 4\n",
            "Data columns (total 3 columns):\n",
            " #   Column  Non-Null Count  Dtype \n",
            "---  ------  --------------  ----- \n",
            " 0   title   5 non-null      object\n",
            " 1   source  5 non-null      object\n",
            " 2   date    5 non-null      object\n",
            "dtypes: object(3)\n",
            "memory usage: 252.0+ bytes\n",
            "None\n",
            "                     title       source        date\n",
            "count                    5            5           5\n",
            "unique                   5            5           3\n",
            "top     ChatGPT, 새로운 기능 발표  OpenAI Blog  2025-10-01\n",
            "freq                     1            1           2\n"
          ]
        }
      ]
    },
    {
      "cell_type": "code",
      "source": [
        "# 텍스트 컬럼을 다룰때 판다스에서 잊지 말아야할 접근자 str\n",
        "df['title'].str.lower()\n",
        "df['title_lower'] = df['title'].str.lower()\n",
        "print(df)\n",
        "\n",
        "# 만약 title title_lower\n",
        "print(df[['title','title_lower']])"
      ],
      "metadata": {
        "colab": {
          "base_uri": "https://localhost:8080/"
        },
        "id": "3ZdhrFnuNh4N",
        "outputId": "5a7de501-54ba-493c-deb6-0c02fdd32260"
      },
      "execution_count": 84,
      "outputs": [
        {
          "output_type": "stream",
          "name": "stdout",
          "text": [
            "                title       source        date         title_lower\n",
            "0  ChatGPT, 새로운 기능 발표  OpenAI Blog  2025-10-01  chatgpt, 새로운 기능 발표\n",
            "1   삼성전자, AI 사업 강화 발표         조선일보  2025-10-01   삼성전자, ai 사업 강화 발표\n",
            "2  LG전자, 로봇 신제품 출시 계획         중앙일보  2025-10-02  lg전자, 로봇 신제품 출시 계획\n",
            "3  네이버, 클라우드 시장 확대 추진          한겨레  2025-10-03  네이버, 클라우드 시장 확대 추진\n",
            "4   카카오, AI 번역 서비스 공개        머니투데이  2025-10-03   카카오, ai 번역 서비스 공개\n",
            "                title         title_lower\n",
            "0  ChatGPT, 새로운 기능 발표  chatgpt, 새로운 기능 발표\n",
            "1   삼성전자, AI 사업 강화 발표   삼성전자, ai 사업 강화 발표\n",
            "2  LG전자, 로봇 신제품 출시 계획  lg전자, 로봇 신제품 출시 계획\n",
            "3  네이버, 클라우드 시장 확대 추진  네이버, 클라우드 시장 확대 추진\n",
            "4   카카오, AI 번역 서비스 공개   카카오, ai 번역 서비스 공개\n"
          ]
        }
      ]
    },
    {
      "cell_type": "code",
      "source": [
        "# 특정 단어가 포함된 여부 필터링\n",
        "\n",
        "# AI라는 단어가 들어간 뉴스만 추출\n",
        "# 필터링\n",
        "\n",
        "# 기본 필터링\n",
        "# 데이터프레임명[조건식] -> 원하는 데이터만 가져온다.\n",
        "# df[df['title'] == 'ChatGPT, 새로운 기능 발표']\n",
        "\n",
        "# AI가 들어간 뉴스에 대해서 추출\n",
        "# contains를 활용하면 특정단어가 들어간 문장을 쉽게 찾을 수 있다.\n",
        "df[df['title'].str.contains(\"AI\")]"
      ],
      "metadata": {
        "colab": {
          "base_uri": "https://localhost:8080/",
          "height": 112
        },
        "id": "fBREVbDxOJ83",
        "outputId": "138199a7-7f87-46e8-f032-b04c6c570abe"
      },
      "execution_count": 86,
      "outputs": [
        {
          "output_type": "execute_result",
          "data": {
            "text/plain": [
              "               title source        date        title_lower\n",
              "1  삼성전자, AI 사업 강화 발표   조선일보  2025-10-01  삼성전자, ai 사업 강화 발표\n",
              "4  카카오, AI 번역 서비스 공개  머니투데이  2025-10-03  카카오, ai 번역 서비스 공개"
            ],
            "text/html": [
              "\n",
              "  <div id=\"df-8ffab507-2510-4f2c-9bb4-ed26b152c1f9\" class=\"colab-df-container\">\n",
              "    <div>\n",
              "<style scoped>\n",
              "    .dataframe tbody tr th:only-of-type {\n",
              "        vertical-align: middle;\n",
              "    }\n",
              "\n",
              "    .dataframe tbody tr th {\n",
              "        vertical-align: top;\n",
              "    }\n",
              "\n",
              "    .dataframe thead th {\n",
              "        text-align: right;\n",
              "    }\n",
              "</style>\n",
              "<table border=\"1\" class=\"dataframe\">\n",
              "  <thead>\n",
              "    <tr style=\"text-align: right;\">\n",
              "      <th></th>\n",
              "      <th>title</th>\n",
              "      <th>source</th>\n",
              "      <th>date</th>\n",
              "      <th>title_lower</th>\n",
              "    </tr>\n",
              "  </thead>\n",
              "  <tbody>\n",
              "    <tr>\n",
              "      <th>1</th>\n",
              "      <td>삼성전자, AI 사업 강화 발표</td>\n",
              "      <td>조선일보</td>\n",
              "      <td>2025-10-01</td>\n",
              "      <td>삼성전자, ai 사업 강화 발표</td>\n",
              "    </tr>\n",
              "    <tr>\n",
              "      <th>4</th>\n",
              "      <td>카카오, AI 번역 서비스 공개</td>\n",
              "      <td>머니투데이</td>\n",
              "      <td>2025-10-03</td>\n",
              "      <td>카카오, ai 번역 서비스 공개</td>\n",
              "    </tr>\n",
              "  </tbody>\n",
              "</table>\n",
              "</div>\n",
              "    <div class=\"colab-df-buttons\">\n",
              "\n",
              "  <div class=\"colab-df-container\">\n",
              "    <button class=\"colab-df-convert\" onclick=\"convertToInteractive('df-8ffab507-2510-4f2c-9bb4-ed26b152c1f9')\"\n",
              "            title=\"Convert this dataframe to an interactive table.\"\n",
              "            style=\"display:none;\">\n",
              "\n",
              "  <svg xmlns=\"http://www.w3.org/2000/svg\" height=\"24px\" viewBox=\"0 -960 960 960\">\n",
              "    <path d=\"M120-120v-720h720v720H120Zm60-500h600v-160H180v160Zm220 220h160v-160H400v160Zm0 220h160v-160H400v160ZM180-400h160v-160H180v160Zm440 0h160v-160H620v160ZM180-180h160v-160H180v160Zm440 0h160v-160H620v160Z\"/>\n",
              "  </svg>\n",
              "    </button>\n",
              "\n",
              "  <style>\n",
              "    .colab-df-container {\n",
              "      display:flex;\n",
              "      gap: 12px;\n",
              "    }\n",
              "\n",
              "    .colab-df-convert {\n",
              "      background-color: #E8F0FE;\n",
              "      border: none;\n",
              "      border-radius: 50%;\n",
              "      cursor: pointer;\n",
              "      display: none;\n",
              "      fill: #1967D2;\n",
              "      height: 32px;\n",
              "      padding: 0 0 0 0;\n",
              "      width: 32px;\n",
              "    }\n",
              "\n",
              "    .colab-df-convert:hover {\n",
              "      background-color: #E2EBFA;\n",
              "      box-shadow: 0px 1px 2px rgba(60, 64, 67, 0.3), 0px 1px 3px 1px rgba(60, 64, 67, 0.15);\n",
              "      fill: #174EA6;\n",
              "    }\n",
              "\n",
              "    .colab-df-buttons div {\n",
              "      margin-bottom: 4px;\n",
              "    }\n",
              "\n",
              "    [theme=dark] .colab-df-convert {\n",
              "      background-color: #3B4455;\n",
              "      fill: #D2E3FC;\n",
              "    }\n",
              "\n",
              "    [theme=dark] .colab-df-convert:hover {\n",
              "      background-color: #434B5C;\n",
              "      box-shadow: 0px 1px 3px 1px rgba(0, 0, 0, 0.15);\n",
              "      filter: drop-shadow(0px 1px 2px rgba(0, 0, 0, 0.3));\n",
              "      fill: #FFFFFF;\n",
              "    }\n",
              "  </style>\n",
              "\n",
              "    <script>\n",
              "      const buttonEl =\n",
              "        document.querySelector('#df-8ffab507-2510-4f2c-9bb4-ed26b152c1f9 button.colab-df-convert');\n",
              "      buttonEl.style.display =\n",
              "        google.colab.kernel.accessAllowed ? 'block' : 'none';\n",
              "\n",
              "      async function convertToInteractive(key) {\n",
              "        const element = document.querySelector('#df-8ffab507-2510-4f2c-9bb4-ed26b152c1f9');\n",
              "        const dataTable =\n",
              "          await google.colab.kernel.invokeFunction('convertToInteractive',\n",
              "                                                    [key], {});\n",
              "        if (!dataTable) return;\n",
              "\n",
              "        const docLinkHtml = 'Like what you see? Visit the ' +\n",
              "          '<a target=\"_blank\" href=https://colab.research.google.com/notebooks/data_table.ipynb>data table notebook</a>'\n",
              "          + ' to learn more about interactive tables.';\n",
              "        element.innerHTML = '';\n",
              "        dataTable['output_type'] = 'display_data';\n",
              "        await google.colab.output.renderOutput(dataTable, element);\n",
              "        const docLink = document.createElement('div');\n",
              "        docLink.innerHTML = docLinkHtml;\n",
              "        element.appendChild(docLink);\n",
              "      }\n",
              "    </script>\n",
              "  </div>\n",
              "\n",
              "\n",
              "    <div id=\"df-4f05bbb7-7e75-40d7-a175-8e22a5f0796a\">\n",
              "      <button class=\"colab-df-quickchart\" onclick=\"quickchart('df-4f05bbb7-7e75-40d7-a175-8e22a5f0796a')\"\n",
              "                title=\"Suggest charts\"\n",
              "                style=\"display:none;\">\n",
              "\n",
              "<svg xmlns=\"http://www.w3.org/2000/svg\" height=\"24px\"viewBox=\"0 0 24 24\"\n",
              "     width=\"24px\">\n",
              "    <g>\n",
              "        <path d=\"M19 3H5c-1.1 0-2 .9-2 2v14c0 1.1.9 2 2 2h14c1.1 0 2-.9 2-2V5c0-1.1-.9-2-2-2zM9 17H7v-7h2v7zm4 0h-2V7h2v10zm4 0h-2v-4h2v4z\"/>\n",
              "    </g>\n",
              "</svg>\n",
              "      </button>\n",
              "\n",
              "<style>\n",
              "  .colab-df-quickchart {\n",
              "      --bg-color: #E8F0FE;\n",
              "      --fill-color: #1967D2;\n",
              "      --hover-bg-color: #E2EBFA;\n",
              "      --hover-fill-color: #174EA6;\n",
              "      --disabled-fill-color: #AAA;\n",
              "      --disabled-bg-color: #DDD;\n",
              "  }\n",
              "\n",
              "  [theme=dark] .colab-df-quickchart {\n",
              "      --bg-color: #3B4455;\n",
              "      --fill-color: #D2E3FC;\n",
              "      --hover-bg-color: #434B5C;\n",
              "      --hover-fill-color: #FFFFFF;\n",
              "      --disabled-bg-color: #3B4455;\n",
              "      --disabled-fill-color: #666;\n",
              "  }\n",
              "\n",
              "  .colab-df-quickchart {\n",
              "    background-color: var(--bg-color);\n",
              "    border: none;\n",
              "    border-radius: 50%;\n",
              "    cursor: pointer;\n",
              "    display: none;\n",
              "    fill: var(--fill-color);\n",
              "    height: 32px;\n",
              "    padding: 0;\n",
              "    width: 32px;\n",
              "  }\n",
              "\n",
              "  .colab-df-quickchart:hover {\n",
              "    background-color: var(--hover-bg-color);\n",
              "    box-shadow: 0 1px 2px rgba(60, 64, 67, 0.3), 0 1px 3px 1px rgba(60, 64, 67, 0.15);\n",
              "    fill: var(--button-hover-fill-color);\n",
              "  }\n",
              "\n",
              "  .colab-df-quickchart-complete:disabled,\n",
              "  .colab-df-quickchart-complete:disabled:hover {\n",
              "    background-color: var(--disabled-bg-color);\n",
              "    fill: var(--disabled-fill-color);\n",
              "    box-shadow: none;\n",
              "  }\n",
              "\n",
              "  .colab-df-spinner {\n",
              "    border: 2px solid var(--fill-color);\n",
              "    border-color: transparent;\n",
              "    border-bottom-color: var(--fill-color);\n",
              "    animation:\n",
              "      spin 1s steps(1) infinite;\n",
              "  }\n",
              "\n",
              "  @keyframes spin {\n",
              "    0% {\n",
              "      border-color: transparent;\n",
              "      border-bottom-color: var(--fill-color);\n",
              "      border-left-color: var(--fill-color);\n",
              "    }\n",
              "    20% {\n",
              "      border-color: transparent;\n",
              "      border-left-color: var(--fill-color);\n",
              "      border-top-color: var(--fill-color);\n",
              "    }\n",
              "    30% {\n",
              "      border-color: transparent;\n",
              "      border-left-color: var(--fill-color);\n",
              "      border-top-color: var(--fill-color);\n",
              "      border-right-color: var(--fill-color);\n",
              "    }\n",
              "    40% {\n",
              "      border-color: transparent;\n",
              "      border-right-color: var(--fill-color);\n",
              "      border-top-color: var(--fill-color);\n",
              "    }\n",
              "    60% {\n",
              "      border-color: transparent;\n",
              "      border-right-color: var(--fill-color);\n",
              "    }\n",
              "    80% {\n",
              "      border-color: transparent;\n",
              "      border-right-color: var(--fill-color);\n",
              "      border-bottom-color: var(--fill-color);\n",
              "    }\n",
              "    90% {\n",
              "      border-color: transparent;\n",
              "      border-bottom-color: var(--fill-color);\n",
              "    }\n",
              "  }\n",
              "</style>\n",
              "\n",
              "      <script>\n",
              "        async function quickchart(key) {\n",
              "          const quickchartButtonEl =\n",
              "            document.querySelector('#' + key + ' button');\n",
              "          quickchartButtonEl.disabled = true;  // To prevent multiple clicks.\n",
              "          quickchartButtonEl.classList.add('colab-df-spinner');\n",
              "          try {\n",
              "            const charts = await google.colab.kernel.invokeFunction(\n",
              "                'suggestCharts', [key], {});\n",
              "          } catch (error) {\n",
              "            console.error('Error during call to suggestCharts:', error);\n",
              "          }\n",
              "          quickchartButtonEl.classList.remove('colab-df-spinner');\n",
              "          quickchartButtonEl.classList.add('colab-df-quickchart-complete');\n",
              "        }\n",
              "        (() => {\n",
              "          let quickchartButtonEl =\n",
              "            document.querySelector('#df-4f05bbb7-7e75-40d7-a175-8e22a5f0796a button');\n",
              "          quickchartButtonEl.style.display =\n",
              "            google.colab.kernel.accessAllowed ? 'block' : 'none';\n",
              "        })();\n",
              "      </script>\n",
              "    </div>\n",
              "\n",
              "    </div>\n",
              "  </div>\n"
            ],
            "application/vnd.google.colaboratory.intrinsic+json": {
              "type": "dataframe",
              "repr_error": "0"
            }
          },
          "metadata": {},
          "execution_count": 86
        }
      ]
    },
    {
      "cell_type": "code",
      "source": [
        "# , 를 -으로 바꾸는 텍스트 처리\n",
        "# 특수문자는 보통 텍스트 분석을 할때 제외를 하거나 변경을 하는 상황\n",
        "\n",
        "# replace(기존 값, 새로운 값)\n",
        "# df['title'].str.replace(',', ' -')\n",
        "\n",
        "# 문장의 길이를 파악 len()\n",
        "df['title'].str.len()"
      ],
      "metadata": {
        "colab": {
          "base_uri": "https://localhost:8080/",
          "height": 241
        },
        "id": "7jrvTEjjTXp-",
        "outputId": "5854d065-43f8-4c71-99fb-c2ec1d609348"
      },
      "execution_count": 89,
      "outputs": [
        {
          "output_type": "execute_result",
          "data": {
            "text/plain": [
              "0    18\n",
              "1    17\n",
              "2    18\n",
              "3    18\n",
              "4    17\n",
              "Name: title, dtype: int64"
            ],
            "text/html": [
              "<div>\n",
              "<style scoped>\n",
              "    .dataframe tbody tr th:only-of-type {\n",
              "        vertical-align: middle;\n",
              "    }\n",
              "\n",
              "    .dataframe tbody tr th {\n",
              "        vertical-align: top;\n",
              "    }\n",
              "\n",
              "    .dataframe thead th {\n",
              "        text-align: right;\n",
              "    }\n",
              "</style>\n",
              "<table border=\"1\" class=\"dataframe\">\n",
              "  <thead>\n",
              "    <tr style=\"text-align: right;\">\n",
              "      <th></th>\n",
              "      <th>title</th>\n",
              "    </tr>\n",
              "  </thead>\n",
              "  <tbody>\n",
              "    <tr>\n",
              "      <th>0</th>\n",
              "      <td>18</td>\n",
              "    </tr>\n",
              "    <tr>\n",
              "      <th>1</th>\n",
              "      <td>17</td>\n",
              "    </tr>\n",
              "    <tr>\n",
              "      <th>2</th>\n",
              "      <td>18</td>\n",
              "    </tr>\n",
              "    <tr>\n",
              "      <th>3</th>\n",
              "      <td>18</td>\n",
              "    </tr>\n",
              "    <tr>\n",
              "      <th>4</th>\n",
              "      <td>17</td>\n",
              "    </tr>\n",
              "  </tbody>\n",
              "</table>\n",
              "</div><br><label><b>dtype:</b> int64</label>"
            ]
          },
          "metadata": {},
          "execution_count": 89
        }
      ]
    },
    {
      "cell_type": "code",
      "source": [
        "# 미니 프로젝트 - 뉴스 제목 csv 분석기\n",
        "\n",
        "import pandas as pd\n",
        "\n",
        "# 1️⃣ 데이터 불러오기\n",
        "df = pd.read_csv(\"news_titles.csv\", encoding=\"utf-8\")\n",
        "\n",
        "# 2️⃣ 텍스트 정제 # 만약 정규표현식을 사용할 거라면 regex = True\n",
        "df[\"title_clean\"] = df[\"title\"].str.replace(\",\", \"\", regex=False).str.strip() # ,를 공백으로 만들어라\n",
        "\n",
        "# 3️⃣ 키워드 필터링\n",
        "# case=False는 대소문자를 무시하고 검색\n",
        "# na=False는 NaN 값에 대해서 포함 안함\n",
        "ai_news = df[df[\"title_clean\"].str.contains(\"AI\", case=False, na=False)]\n",
        "chatgpt_news = df[df[\"title_clean\"].str.contains(\"ChatGPT\", case=False, na=False)]\n",
        "\n",
        "# 4️⃣ 길이 계산\n",
        "df[\"length\"] = df[\"title_clean\"].str.len()\n",
        "avg_len = df[\"length\"].mean()\n",
        "\n",
        "# 5️⃣ 결과 저장\n",
        "df.to_csv(\"news_cleaned.csv\", index=False, encoding=\"utf-8\") # index를 사용하지 않고 = False\n",
        "\n",
        "# 출력\n",
        "print(\"✅ 정제된 뉴스 데이터 저장 완료 (news_cleaned.csv)\")\n",
        "print(f\"전체 평균 제목 길이: {avg_len:.1f}자\")\n",
        "print(f\"AI 관련 뉴스 개수: {len(ai_news)}건 / ChatGPT 관련: {len(chatgpt_news)}건\")\n",
        "\n"
      ],
      "metadata": {
        "colab": {
          "base_uri": "https://localhost:8080/"
        },
        "id": "9QTwq-cvT8La",
        "outputId": "bc25a489-0265-4121-8fcd-4f00a36f0201"
      },
      "execution_count": 98,
      "outputs": [
        {
          "output_type": "stream",
          "name": "stdout",
          "text": [
            "✅ 정제된 뉴스 데이터 저장 완료 (news_cleaned.csv)\n",
            "전체 평균 제목 길이: 16.6자\n",
            "AI 관련 뉴스 개수: 2건 / ChatGPT 관련: 1건\n"
          ]
        }
      ]
    },
    {
      "cell_type": "code",
      "source": [
        "# 29교시 - 판다스 문자열 처리"
      ],
      "metadata": {
        "id": "BDrRpG3Ya1LP"
      },
      "execution_count": 99,
      "outputs": []
    },
    {
      "cell_type": "code",
      "source": [
        "df = pd.DataFrame({\n",
        "    \"title\" : [\n",
        "        \"     ChatGPT, AI 혁신\", # 앞에만 공백\n",
        "        \"카카오 AI번역\", # 일반 문장\n",
        "        None, # 데이터 없음\n",
        "        \"   LG 전자 로봇 출시     \" # 앞뒤 공백\n",
        "    ]\n",
        "})"
      ],
      "metadata": {
        "id": "LbSeyPrnbOu-"
      },
      "execution_count": 100,
      "outputs": []
    },
    {
      "cell_type": "code",
      "source": [
        "print(df)"
      ],
      "metadata": {
        "colab": {
          "base_uri": "https://localhost:8080/"
        },
        "id": "3FQHe1DRbpmV",
        "outputId": "140449fc-1d34-4fd7-906e-dbd06b796e4e"
      },
      "execution_count": 102,
      "outputs": [
        {
          "output_type": "stream",
          "name": "stdout",
          "text": [
            "                 title\n",
            "0       ChatGPT, AI 혁신\n",
            "1             카카오 AI번역\n",
            "2                 None\n",
            "3     LG 전자 로봇 출시     \n"
          ]
        }
      ]
    },
    {
      "cell_type": "markdown",
      "source": [
        "함수\t설명\t예시\n",
        "* str.lower()\t소문자로 변환\t\"HELLO\" → \"hello\"\n",
        "* str.upper()\t대문자로 변환\t\"hello\" → \"HELLO\"\n",
        "* str.strip()\t좌우 공백 제거\t\"  hi  \" → \"hi\"\n",
        "* str.replace(a, b)\t특정 문자열 대체\t\"AI, 혁신\" → \"AI 혁신\"\n",
        "* str.contains(\"단어\")\t특정 단어 포함 여부 확인\tTrue/False\n",
        "* str.len()\t문자열 길이 계산\t\"AI\" → 2\n",
        "* str.split(\"구분자\")\t문자열 분리\t\"A-B-C\" → [\"A\",\"B\",\"C\"]"
      ],
      "metadata": {
        "id": "tf64JO0WbwtX"
      }
    },
    {
      "cell_type": "code",
      "source": [
        "# 기본 문자열 변환\n",
        "# 공백 제거 / 점, !, - 구두점 제거 / 대소문자 -> 하나로 통일 / 기타 값 대체\n",
        "\n",
        "# title에 대해서. 공백제거 . , 을 공백으로 대체 . 소문자 변환\n",
        "df['title_clean']= df['title'].str.strip().str.replace(',', '').str.lower()"
      ],
      "metadata": {
        "id": "6aA_fv4rcOjv"
      },
      "execution_count": 106,
      "outputs": []
    },
    {
      "cell_type": "code",
      "source": [
        "print(df)"
      ],
      "metadata": {
        "colab": {
          "base_uri": "https://localhost:8080/"
        },
        "id": "PlzyXHNMcpeQ",
        "outputId": "f56a0dbf-6c29-485d-c562-8491df98a5c6"
      },
      "execution_count": 107,
      "outputs": [
        {
          "output_type": "stream",
          "name": "stdout",
          "text": [
            "                 title    title_clean\n",
            "0       ChatGPT, AI 혁신  chatgpt ai 혁신\n",
            "1             카카오 AI번역       카카오 ai번역\n",
            "2                 None           None\n",
            "3     LG 전자 로봇 출시         lg 전자 로봇 출시\n"
          ]
        }
      ]
    },
    {
      "cell_type": "code",
      "source": [
        "# 결측치 처리\n",
        "# 결측치 처리하는 이유?\n",
        "# 결측치가 있으면 향후 머신러닝/딥러닝 모델에서는 계산값이 잘못되거나 오류가 날 가능성이 커지기 때문\n",
        "# 결측치가 값의 왜곡을 줄 수 있기 때문에\n",
        "\n",
        "# isnull - 결측치가 있는지 없는지 확인(True/False)\n",
        "# fillna - na를 특정값으로 대체\n",
        "# dropna - na를 제거\n",
        "\n",
        "print(df.isnull()) # 결측치가 있는지 없는지 확인\n",
        "# title에 결측치가 전체 몇개가 있는지 확인? -> sum() True = 숫자 1과 동일 -> sum의 갯수가 결측치의 갯수\n",
        "print(df.isnull().sum())\n",
        "\n",
        "# 결측치를 대체 -> 결측치를 fillna 를 통해 fillna()안에 넣은 값으로 결측치를 대체\n",
        "df['title_fill'] = df['title'].fillna(\"여기에는 정보가 없습니다.\")\n",
        "print(df)\n",
        "\n",
        "# 결측치를 제거 후 자료가 있는 행만 남긴다.-> 결측치 None Na NaN 공백\n",
        "df_drop = df.dropna() # 결측치가 있는 모든 행을 제거\n",
        "print(df_drop)\n",
        "\n",
        "df_drop2 = df.dropna(subset=['title_fill'])\n",
        "print(df_drop2)"
      ],
      "metadata": {
        "colab": {
          "base_uri": "https://localhost:8080/"
        },
        "id": "CWwKcmDWc4U0",
        "outputId": "ab956fe9-0f75-4f0a-a56c-221202a067f3"
      },
      "execution_count": 115,
      "outputs": [
        {
          "output_type": "stream",
          "name": "stdout",
          "text": [
            "   title  title_clean  title_fill\n",
            "0  False        False       False\n",
            "1  False        False       False\n",
            "2   True         True       False\n",
            "3  False        False       False\n",
            "title          1\n",
            "title_clean    1\n",
            "title_fill     0\n",
            "dtype: int64\n",
            "                 title    title_clean           title_fill\n",
            "0       ChatGPT, AI 혁신  chatgpt ai 혁신       ChatGPT, AI 혁신\n",
            "1             카카오 AI번역       카카오 ai번역             카카오 AI번역\n",
            "2                 None           None       여기에는 정보가 없습니다.\n",
            "3     LG 전자 로봇 출시         lg 전자 로봇 출시     LG 전자 로봇 출시     \n",
            "                 title    title_clean           title_fill\n",
            "0       ChatGPT, AI 혁신  chatgpt ai 혁신       ChatGPT, AI 혁신\n",
            "1             카카오 AI번역       카카오 ai번역             카카오 AI번역\n",
            "3     LG 전자 로봇 출시         lg 전자 로봇 출시     LG 전자 로봇 출시     \n",
            "                 title    title_clean           title_fill\n",
            "0       ChatGPT, AI 혁신  chatgpt ai 혁신       ChatGPT, AI 혁신\n",
            "1             카카오 AI번역       카카오 ai번역             카카오 AI번역\n",
            "2                 None           None       여기에는 정보가 없습니다.\n",
            "3     LG 전자 로봇 출시         lg 전자 로봇 출시     LG 전자 로봇 출시     \n"
          ]
        }
      ]
    },
    {
      "cell_type": "code",
      "source": [
        "# 예제 종합 - 뉴스제목 정제 파이프라인\n",
        "import pandas as pd\n",
        "\n",
        "df = pd.DataFrame({\n",
        "    \"title\": [\"  ChatGPT, AI 혁신\", \"카카오 AI 번역\", None, \"   LG전자 로봇 출시  \"]\n",
        "})\n",
        "\n",
        "# 문자열 정제 파이프라인\n",
        "df[\"clean\"] = (\n",
        "    df[\"title\"]\n",
        "    .fillna(\"정보 없음\")           # 결측치 처리\n",
        "    .str.strip()                   # 공백 제거\n",
        "    .str.replace(\",\", \"\", regex=False)  # 구두점 제거\n",
        "    .str.lower()                   # 소문자 변환\n",
        ")\n",
        "\n",
        "# 길이 계산\n",
        "df[\"length\"] = df[\"clean\"].str.len()\n",
        "\n",
        "print(df)\n"
      ],
      "metadata": {
        "colab": {
          "base_uri": "https://localhost:8080/"
        },
        "id": "k3Q9q8nOe7yV",
        "outputId": "64d27d99-d249-4acc-da06-4cdfdd87bb0e"
      },
      "execution_count": 116,
      "outputs": [
        {
          "output_type": "stream",
          "name": "stdout",
          "text": [
            "              title          clean  length\n",
            "0    ChatGPT, AI 혁신  chatgpt ai 혁신      13\n",
            "1         카카오 AI 번역      카카오 ai 번역       9\n",
            "2              None          정보 없음       5\n",
            "3      LG전자 로봇 출시       lg전자 로봇 출시      10\n"
          ]
        }
      ]
    },
    {
      "cell_type": "code",
      "source": [
        "import pandas as pd\n",
        "\n",
        "# 샘플 리뷰 데이터 생성 (또는 review.csv 불러오기)\n",
        "data = {\n",
        "    \"review\": [\n",
        "        \"너무 좋아요! 제품 퀄리티 👍\",\n",
        "        \"배송이 느려요...ㅠㅠ\",\n",
        "        \"가격이 저렴하고 품질도 만족합니다!\",\n",
        "        \"재구매 의사 100% 있습니다!!!\",\n",
        "        \"별로예요. 다시는 안 살 듯😢\"\n",
        "    ]\n",
        "}\n",
        "\n",
        "df = pd.DataFrame(data)\n",
        "print(\"📦 원본 리뷰 데이터:\")\n",
        "print(df)"
      ],
      "metadata": {
        "colab": {
          "base_uri": "https://localhost:8080/"
        },
        "id": "XNYnFjXvfMWf",
        "outputId": "1d9737b7-8360-4ea5-d205-3fdc2e1870bb"
      },
      "execution_count": 123,
      "outputs": [
        {
          "output_type": "stream",
          "name": "stdout",
          "text": [
            "📦 원본 리뷰 데이터:\n",
            "                review\n",
            "0     너무 좋아요! 제품 퀄리티 👍\n",
            "1         배송이 느려요...ㅠㅠ\n",
            "2  가격이 저렴하고 품질도 만족합니다!\n",
            "3  재구매 의사 100% 있습니다!!!\n",
            "4     별로예요. 다시는 안 살 듯😢\n"
          ]
        }
      ]
    },
    {
      "cell_type": "code",
      "source": [
        "# 정규표현식 전용 라이브러리 re\n",
        "import re\n",
        "\n",
        "# 특수문자에 대해서 제거!\n",
        "# 한글, 영문, 숫자, 공백정도만 남기고 나머지는 다 제거\n",
        "\n",
        "# 1. 특수문자를 모두 제거\n",
        "# ^ -> 부정(not)\n",
        "# ㄱ-ㅎ 한글의 자모\n",
        "# 가-힝 한글의 전체 문자\n",
        "# a-z 영소문자\n",
        "# A-Z 영대문자\n",
        "# 0-9 숫자\n",
        "# \" \" 공백\n",
        "# -> 한글, 영문자, 숫자, 공백을 제외한 나머지는 모두 => \"\"로 대체해라\n",
        "df['clean_review'] = df['review'].str.replace(\"[^ㄱ-ㅎ가-힣a-zA-Z0-9 ]\", \"\", regex=True)\n",
        "df['clean_review_1'] = df['clean_review'].str.strip()\n",
        "\n",
        "print(df[['review','clean_review']])"
      ],
      "metadata": {
        "colab": {
          "base_uri": "https://localhost:8080/"
        },
        "id": "FBk-iJxQiHf3",
        "outputId": "cefb66e1-13f2-41ea-b28a-929c1f308630"
      },
      "execution_count": 126,
      "outputs": [
        {
          "output_type": "stream",
          "name": "stdout",
          "text": [
            "                review        clean_review\n",
            "0     너무 좋아요! 제품 퀄리티 👍      너무 좋아요 제품 퀄리티 \n",
            "1         배송이 느려요...ㅠㅠ             배송이 느려요\n",
            "2  가격이 저렴하고 품질도 만족합니다!  가격이 저렴하고 품질도 만족합니다\n",
            "3  재구매 의사 100% 있습니다!!!     재구매 의사 100 있습니다\n",
            "4     별로예요. 다시는 안 살 듯😢      별로예요 다시는 안 살 듯\n"
          ]
        }
      ]
    },
    {
      "cell_type": "code",
      "source": [
        "df['review'].str.len()"
      ],
      "metadata": {
        "colab": {
          "base_uri": "https://localhost:8080/",
          "height": 241
        },
        "id": "-HZvJDehjybP",
        "outputId": "f532142e-cdb6-408c-b0ed-f1a500051da4"
      },
      "execution_count": 128,
      "outputs": [
        {
          "output_type": "execute_result",
          "data": {
            "text/plain": [
              "0    16\n",
              "1    12\n",
              "2    19\n",
              "3    19\n",
              "4    16\n",
              "Name: review, dtype: int64"
            ],
            "text/html": [
              "<div>\n",
              "<style scoped>\n",
              "    .dataframe tbody tr th:only-of-type {\n",
              "        vertical-align: middle;\n",
              "    }\n",
              "\n",
              "    .dataframe tbody tr th {\n",
              "        vertical-align: top;\n",
              "    }\n",
              "\n",
              "    .dataframe thead th {\n",
              "        text-align: right;\n",
              "    }\n",
              "</style>\n",
              "<table border=\"1\" class=\"dataframe\">\n",
              "  <thead>\n",
              "    <tr style=\"text-align: right;\">\n",
              "      <th></th>\n",
              "      <th>review</th>\n",
              "    </tr>\n",
              "  </thead>\n",
              "  <tbody>\n",
              "    <tr>\n",
              "      <th>0</th>\n",
              "      <td>16</td>\n",
              "    </tr>\n",
              "    <tr>\n",
              "      <th>1</th>\n",
              "      <td>12</td>\n",
              "    </tr>\n",
              "    <tr>\n",
              "      <th>2</th>\n",
              "      <td>19</td>\n",
              "    </tr>\n",
              "    <tr>\n",
              "      <th>3</th>\n",
              "      <td>19</td>\n",
              "    </tr>\n",
              "    <tr>\n",
              "      <th>4</th>\n",
              "      <td>16</td>\n",
              "    </tr>\n",
              "  </tbody>\n",
              "</table>\n",
              "</div><br><label><b>dtype:</b> int64</label>"
            ]
          },
          "metadata": {},
          "execution_count": 128
        }
      ]
    },
    {
      "cell_type": "code",
      "source": [
        "df['clean_review'].str.len()"
      ],
      "metadata": {
        "colab": {
          "base_uri": "https://localhost:8080/",
          "height": 241
        },
        "id": "2Wvkxax7nsSp",
        "outputId": "2d376db5-221e-4861-cd70-f211a5cf28b2"
      },
      "execution_count": 129,
      "outputs": [
        {
          "output_type": "execute_result",
          "data": {
            "text/plain": [
              "0    14\n",
              "1     7\n",
              "2    18\n",
              "3    15\n",
              "4    14\n",
              "Name: clean_review, dtype: int64"
            ],
            "text/html": [
              "<div>\n",
              "<style scoped>\n",
              "    .dataframe tbody tr th:only-of-type {\n",
              "        vertical-align: middle;\n",
              "    }\n",
              "\n",
              "    .dataframe tbody tr th {\n",
              "        vertical-align: top;\n",
              "    }\n",
              "\n",
              "    .dataframe thead th {\n",
              "        text-align: right;\n",
              "    }\n",
              "</style>\n",
              "<table border=\"1\" class=\"dataframe\">\n",
              "  <thead>\n",
              "    <tr style=\"text-align: right;\">\n",
              "      <th></th>\n",
              "      <th>clean_review</th>\n",
              "    </tr>\n",
              "  </thead>\n",
              "  <tbody>\n",
              "    <tr>\n",
              "      <th>0</th>\n",
              "      <td>14</td>\n",
              "    </tr>\n",
              "    <tr>\n",
              "      <th>1</th>\n",
              "      <td>7</td>\n",
              "    </tr>\n",
              "    <tr>\n",
              "      <th>2</th>\n",
              "      <td>18</td>\n",
              "    </tr>\n",
              "    <tr>\n",
              "      <th>3</th>\n",
              "      <td>15</td>\n",
              "    </tr>\n",
              "    <tr>\n",
              "      <th>4</th>\n",
              "      <td>14</td>\n",
              "    </tr>\n",
              "  </tbody>\n",
              "</table>\n",
              "</div><br><label><b>dtype:</b> int64</label>"
            ]
          },
          "metadata": {},
          "execution_count": 129
        }
      ]
    },
    {
      "cell_type": "code",
      "source": [
        "# 긍정 / 부정에 대한 리뷰를 찾는데 -> 긍정에 해당하는 용어들 / 부정에 해당하는 용어들을\n",
        "# |(파이프)를 통해서 비교조건문 or과 동일한 역할 -> 다양한 필터링이 가능해진다.\n",
        "\n",
        "positive = df[df['clean_review'].str.contains(\"좋아요|만족합니다\")]\n",
        "negative = df[df['clean_review'].str.contains(\"별로|느려요\")]\n",
        "\n",
        "print(positive)\n",
        "print(negative)"
      ],
      "metadata": {
        "colab": {
          "base_uri": "https://localhost:8080/"
        },
        "id": "2aORCsq1nsvp",
        "outputId": "f7e79be0-308b-454b-d794-37cd3aa20579"
      },
      "execution_count": 127,
      "outputs": [
        {
          "output_type": "stream",
          "name": "stdout",
          "text": [
            "                review        clean_review      clean_review_1\n",
            "0     너무 좋아요! 제품 퀄리티 👍      너무 좋아요 제품 퀄리티        너무 좋아요 제품 퀄리티\n",
            "2  가격이 저렴하고 품질도 만족합니다!  가격이 저렴하고 품질도 만족합니다  가격이 저렴하고 품질도 만족합니다\n",
            "             review    clean_review  clean_review_1\n",
            "1      배송이 느려요...ㅠㅠ         배송이 느려요         배송이 느려요\n",
            "4  별로예요. 다시는 안 살 듯😢  별로예요 다시는 안 살 듯  별로예요 다시는 안 살 듯\n"
          ]
        }
      ]
    },
    {
      "cell_type": "code",
      "source": [
        "import pandas as pd\n",
        "\n",
        "# 1️⃣ 데이터 로드\n",
        "data = {\n",
        "    \"review\": [\n",
        "        \"너무 좋아요! 제품 퀄리티 👍\",\n",
        "        \"배송이 느려요...ㅠㅠ\",\n",
        "        \"가격이 저렴하고 품질도 만족합니다!\",\n",
        "        \"재구매 의사 100% 있습니다!!!\",\n",
        "        \"별로예요. 다시는 안 살 듯😢\"\n",
        "    ]\n",
        "}\n",
        "\n",
        "df = pd.DataFrame(data)\n",
        "print(\"📦 원본 리뷰 데이터:\")\n",
        "print(df)\n",
        "\n",
        "# 2️⃣ 텍스트 정제\n",
        "df[\"clean\"] = (\n",
        "    df[\"review\"]\n",
        "    .fillna(\"내용 없음\")\n",
        "    .str.replace(\"[^ㄱ-ㅎ가-힣a-zA-Z0-9 ]\", \"\", regex=True)\n",
        "    .str.strip()\n",
        ")\n",
        "\n",
        "# 3️⃣ 키워드 기반 필터링\n",
        "df[\"sentiment\"] = \"중립\"\n",
        "df.loc[df[\"clean\"].str.contains(\"좋아요|만족\", na=False), \"sentiment\"] = \"긍정\"\n",
        "df.loc[df[\"clean\"].str.contains(\"별로|불만|느려요|최악\", na=False), \"sentiment\"] = \"부정\"\n",
        "\n",
        "# 4️⃣ 리뷰 길이 분석\n",
        "df[\"length\"] = df[\"clean\"].str.len()\n",
        "avg_len = df[\"length\"].mean()\n",
        "\n",
        "# 5️⃣ 파일 저장\n",
        "df.to_csv(\"review_cleaned.csv\", index=False, encoding=\"utf-8\")\n",
        "\n",
        "print(\"✅ 리뷰 데이터 정제 완료!\")\n",
        "print(f\"평균 리뷰 길이: {avg_len:.1f}자\")\n",
        "print(df[\"sentiment\"].value_counts())\n"
      ],
      "metadata": {
        "colab": {
          "base_uri": "https://localhost:8080/"
        },
        "id": "5X2GQSLIo4Gm",
        "outputId": "5a466393-7fa6-4bfc-f1a8-99916469319f"
      },
      "execution_count": 135,
      "outputs": [
        {
          "output_type": "stream",
          "name": "stdout",
          "text": [
            "📦 원본 리뷰 데이터:\n",
            "                review\n",
            "0     너무 좋아요! 제품 퀄리티 👍\n",
            "1         배송이 느려요...ㅠㅠ\n",
            "2  가격이 저렴하고 품질도 만족합니다!\n",
            "3  재구매 의사 100% 있습니다!!!\n",
            "4     별로예요. 다시는 안 살 듯😢\n",
            "✅ 리뷰 데이터 정제 완료!\n",
            "평균 리뷰 길이: 13.4자\n",
            "sentiment\n",
            "긍정    2\n",
            "부정    2\n",
            "중립    1\n",
            "Name: count, dtype: int64\n"
          ]
        }
      ]
    },
    {
      "cell_type": "code",
      "source": [
        "# 31교시 - 실습- 판다르 그룹화 분석\n",
        "\n",
        "import pandas as pd\n",
        "\n",
        "data = {\n",
        "    \"부서\": [\"개발\", \"개발\", \"기획\", \"디자인\", \"기획\", \"디자인\"],\n",
        "    \"직원\": [\"홍길동\", \"이몽룡\", \"성춘향\", \"변학도\", \"방자\", \"춘향이\"],\n",
        "    \"연봉\": [6000, 5500, 4800, 5200, 4500, 5300]\n",
        "}\n",
        "\n",
        "df = pd.DataFrame(data)\n",
        "print(df)"
      ],
      "metadata": {
        "colab": {
          "base_uri": "https://localhost:8080/"
        },
        "id": "D3PZGrLfrYes",
        "outputId": "0202c944-4878-4687-96b5-ff439c0113c3"
      },
      "execution_count": 136,
      "outputs": [
        {
          "output_type": "stream",
          "name": "stdout",
          "text": [
            "    부서   직원    연봉\n",
            "0   개발  홍길동  6000\n",
            "1   개발  이몽룡  5500\n",
            "2   기획  성춘향  4800\n",
            "3  디자인  변학도  5200\n",
            "4   기획   방자  4500\n",
            "5  디자인  춘향이  5300\n"
          ]
        }
      ]
    },
    {
      "cell_type": "code",
      "source": [
        "# 1가지 값(평균값)에 대해서 그룹화 분석을 진행\n",
        "# 데이터프레임.groupby(카테고리이름)[계산할 값].계산방법메서드\n",
        "result = df. groupby(\"부서\")[\"연봉\"].mean()\n",
        "print(result)"
      ],
      "metadata": {
        "colab": {
          "base_uri": "https://localhost:8080/"
        },
        "id": "_x5SL4M6r-7q",
        "outputId": "a29a5905-7ad2-4eca-8150-a9d48a51647c"
      },
      "execution_count": 139,
      "outputs": [
        {
          "output_type": "stream",
          "name": "stdout",
          "text": [
            "부서\n",
            "개발     5750.0\n",
            "기획     4650.0\n",
            "디자인    5250.0\n",
            "Name: 연봉, dtype: float64\n"
          ]
        }
      ]
    },
    {
      "cell_type": "code",
      "source": [
        "# 자료의 정렬이 필요하다. sort_values\n",
        "# 만약에 내림차순으로 정렬이 필요하다. -> (ascending=False) / 아무것도 안쓰거나 True 오름차순\n",
        "result = df. groupby(\"부서\")[\"연봉\"].mean().sort_values(ascending=False)\n",
        "print(result)"
      ],
      "metadata": {
        "colab": {
          "base_uri": "https://localhost:8080/"
        },
        "id": "fBsUAbWJt1gf",
        "outputId": "0c885ad6-1535-48a2-957d-9c4cb60908b8"
      },
      "execution_count": 142,
      "outputs": [
        {
          "output_type": "stream",
          "name": "stdout",
          "text": [
            "부서\n",
            "개발     5750.0\n",
            "디자인    5250.0\n",
            "기획     4650.0\n",
            "Name: 연봉, dtype: float64\n"
          ]
        }
      ]
    },
    {
      "cell_type": "code",
      "source": [
        "# 2가지 이상의 값에 대해서 그룹화 분석을 진행\n",
        "df.groupby(\"부서\")[\"연봉\"].agg(['count','mean','max','min'])"
      ],
      "metadata": {
        "colab": {
          "base_uri": "https://localhost:8080/",
          "height": 175
        },
        "id": "e85hVkcJslig",
        "outputId": "0adb9d8c-a4f1-4ea2-a51e-8ca34edc2e7e"
      },
      "execution_count": 140,
      "outputs": [
        {
          "output_type": "execute_result",
          "data": {
            "text/plain": [
              "     count    mean   max   min\n",
              "부서                            \n",
              "개발       2  5750.0  6000  5500\n",
              "기획       2  4650.0  4800  4500\n",
              "디자인      2  5250.0  5300  5200"
            ],
            "text/html": [
              "\n",
              "  <div id=\"df-0d10e1d4-d8c2-442d-a13e-4f077133d137\" class=\"colab-df-container\">\n",
              "    <div>\n",
              "<style scoped>\n",
              "    .dataframe tbody tr th:only-of-type {\n",
              "        vertical-align: middle;\n",
              "    }\n",
              "\n",
              "    .dataframe tbody tr th {\n",
              "        vertical-align: top;\n",
              "    }\n",
              "\n",
              "    .dataframe thead th {\n",
              "        text-align: right;\n",
              "    }\n",
              "</style>\n",
              "<table border=\"1\" class=\"dataframe\">\n",
              "  <thead>\n",
              "    <tr style=\"text-align: right;\">\n",
              "      <th></th>\n",
              "      <th>count</th>\n",
              "      <th>mean</th>\n",
              "      <th>max</th>\n",
              "      <th>min</th>\n",
              "    </tr>\n",
              "    <tr>\n",
              "      <th>부서</th>\n",
              "      <th></th>\n",
              "      <th></th>\n",
              "      <th></th>\n",
              "      <th></th>\n",
              "    </tr>\n",
              "  </thead>\n",
              "  <tbody>\n",
              "    <tr>\n",
              "      <th>개발</th>\n",
              "      <td>2</td>\n",
              "      <td>5750.0</td>\n",
              "      <td>6000</td>\n",
              "      <td>5500</td>\n",
              "    </tr>\n",
              "    <tr>\n",
              "      <th>기획</th>\n",
              "      <td>2</td>\n",
              "      <td>4650.0</td>\n",
              "      <td>4800</td>\n",
              "      <td>4500</td>\n",
              "    </tr>\n",
              "    <tr>\n",
              "      <th>디자인</th>\n",
              "      <td>2</td>\n",
              "      <td>5250.0</td>\n",
              "      <td>5300</td>\n",
              "      <td>5200</td>\n",
              "    </tr>\n",
              "  </tbody>\n",
              "</table>\n",
              "</div>\n",
              "    <div class=\"colab-df-buttons\">\n",
              "\n",
              "  <div class=\"colab-df-container\">\n",
              "    <button class=\"colab-df-convert\" onclick=\"convertToInteractive('df-0d10e1d4-d8c2-442d-a13e-4f077133d137')\"\n",
              "            title=\"Convert this dataframe to an interactive table.\"\n",
              "            style=\"display:none;\">\n",
              "\n",
              "  <svg xmlns=\"http://www.w3.org/2000/svg\" height=\"24px\" viewBox=\"0 -960 960 960\">\n",
              "    <path d=\"M120-120v-720h720v720H120Zm60-500h600v-160H180v160Zm220 220h160v-160H400v160Zm0 220h160v-160H400v160ZM180-400h160v-160H180v160Zm440 0h160v-160H620v160ZM180-180h160v-160H180v160Zm440 0h160v-160H620v160Z\"/>\n",
              "  </svg>\n",
              "    </button>\n",
              "\n",
              "  <style>\n",
              "    .colab-df-container {\n",
              "      display:flex;\n",
              "      gap: 12px;\n",
              "    }\n",
              "\n",
              "    .colab-df-convert {\n",
              "      background-color: #E8F0FE;\n",
              "      border: none;\n",
              "      border-radius: 50%;\n",
              "      cursor: pointer;\n",
              "      display: none;\n",
              "      fill: #1967D2;\n",
              "      height: 32px;\n",
              "      padding: 0 0 0 0;\n",
              "      width: 32px;\n",
              "    }\n",
              "\n",
              "    .colab-df-convert:hover {\n",
              "      background-color: #E2EBFA;\n",
              "      box-shadow: 0px 1px 2px rgba(60, 64, 67, 0.3), 0px 1px 3px 1px rgba(60, 64, 67, 0.15);\n",
              "      fill: #174EA6;\n",
              "    }\n",
              "\n",
              "    .colab-df-buttons div {\n",
              "      margin-bottom: 4px;\n",
              "    }\n",
              "\n",
              "    [theme=dark] .colab-df-convert {\n",
              "      background-color: #3B4455;\n",
              "      fill: #D2E3FC;\n",
              "    }\n",
              "\n",
              "    [theme=dark] .colab-df-convert:hover {\n",
              "      background-color: #434B5C;\n",
              "      box-shadow: 0px 1px 3px 1px rgba(0, 0, 0, 0.15);\n",
              "      filter: drop-shadow(0px 1px 2px rgba(0, 0, 0, 0.3));\n",
              "      fill: #FFFFFF;\n",
              "    }\n",
              "  </style>\n",
              "\n",
              "    <script>\n",
              "      const buttonEl =\n",
              "        document.querySelector('#df-0d10e1d4-d8c2-442d-a13e-4f077133d137 button.colab-df-convert');\n",
              "      buttonEl.style.display =\n",
              "        google.colab.kernel.accessAllowed ? 'block' : 'none';\n",
              "\n",
              "      async function convertToInteractive(key) {\n",
              "        const element = document.querySelector('#df-0d10e1d4-d8c2-442d-a13e-4f077133d137');\n",
              "        const dataTable =\n",
              "          await google.colab.kernel.invokeFunction('convertToInteractive',\n",
              "                                                    [key], {});\n",
              "        if (!dataTable) return;\n",
              "\n",
              "        const docLinkHtml = 'Like what you see? Visit the ' +\n",
              "          '<a target=\"_blank\" href=https://colab.research.google.com/notebooks/data_table.ipynb>data table notebook</a>'\n",
              "          + ' to learn more about interactive tables.';\n",
              "        element.innerHTML = '';\n",
              "        dataTable['output_type'] = 'display_data';\n",
              "        await google.colab.output.renderOutput(dataTable, element);\n",
              "        const docLink = document.createElement('div');\n",
              "        docLink.innerHTML = docLinkHtml;\n",
              "        element.appendChild(docLink);\n",
              "      }\n",
              "    </script>\n",
              "  </div>\n",
              "\n",
              "\n",
              "    <div id=\"df-329cf635-19e5-41b7-9755-8b1b99f8c1db\">\n",
              "      <button class=\"colab-df-quickchart\" onclick=\"quickchart('df-329cf635-19e5-41b7-9755-8b1b99f8c1db')\"\n",
              "                title=\"Suggest charts\"\n",
              "                style=\"display:none;\">\n",
              "\n",
              "<svg xmlns=\"http://www.w3.org/2000/svg\" height=\"24px\"viewBox=\"0 0 24 24\"\n",
              "     width=\"24px\">\n",
              "    <g>\n",
              "        <path d=\"M19 3H5c-1.1 0-2 .9-2 2v14c0 1.1.9 2 2 2h14c1.1 0 2-.9 2-2V5c0-1.1-.9-2-2-2zM9 17H7v-7h2v7zm4 0h-2V7h2v10zm4 0h-2v-4h2v4z\"/>\n",
              "    </g>\n",
              "</svg>\n",
              "      </button>\n",
              "\n",
              "<style>\n",
              "  .colab-df-quickchart {\n",
              "      --bg-color: #E8F0FE;\n",
              "      --fill-color: #1967D2;\n",
              "      --hover-bg-color: #E2EBFA;\n",
              "      --hover-fill-color: #174EA6;\n",
              "      --disabled-fill-color: #AAA;\n",
              "      --disabled-bg-color: #DDD;\n",
              "  }\n",
              "\n",
              "  [theme=dark] .colab-df-quickchart {\n",
              "      --bg-color: #3B4455;\n",
              "      --fill-color: #D2E3FC;\n",
              "      --hover-bg-color: #434B5C;\n",
              "      --hover-fill-color: #FFFFFF;\n",
              "      --disabled-bg-color: #3B4455;\n",
              "      --disabled-fill-color: #666;\n",
              "  }\n",
              "\n",
              "  .colab-df-quickchart {\n",
              "    background-color: var(--bg-color);\n",
              "    border: none;\n",
              "    border-radius: 50%;\n",
              "    cursor: pointer;\n",
              "    display: none;\n",
              "    fill: var(--fill-color);\n",
              "    height: 32px;\n",
              "    padding: 0;\n",
              "    width: 32px;\n",
              "  }\n",
              "\n",
              "  .colab-df-quickchart:hover {\n",
              "    background-color: var(--hover-bg-color);\n",
              "    box-shadow: 0 1px 2px rgba(60, 64, 67, 0.3), 0 1px 3px 1px rgba(60, 64, 67, 0.15);\n",
              "    fill: var(--button-hover-fill-color);\n",
              "  }\n",
              "\n",
              "  .colab-df-quickchart-complete:disabled,\n",
              "  .colab-df-quickchart-complete:disabled:hover {\n",
              "    background-color: var(--disabled-bg-color);\n",
              "    fill: var(--disabled-fill-color);\n",
              "    box-shadow: none;\n",
              "  }\n",
              "\n",
              "  .colab-df-spinner {\n",
              "    border: 2px solid var(--fill-color);\n",
              "    border-color: transparent;\n",
              "    border-bottom-color: var(--fill-color);\n",
              "    animation:\n",
              "      spin 1s steps(1) infinite;\n",
              "  }\n",
              "\n",
              "  @keyframes spin {\n",
              "    0% {\n",
              "      border-color: transparent;\n",
              "      border-bottom-color: var(--fill-color);\n",
              "      border-left-color: var(--fill-color);\n",
              "    }\n",
              "    20% {\n",
              "      border-color: transparent;\n",
              "      border-left-color: var(--fill-color);\n",
              "      border-top-color: var(--fill-color);\n",
              "    }\n",
              "    30% {\n",
              "      border-color: transparent;\n",
              "      border-left-color: var(--fill-color);\n",
              "      border-top-color: var(--fill-color);\n",
              "      border-right-color: var(--fill-color);\n",
              "    }\n",
              "    40% {\n",
              "      border-color: transparent;\n",
              "      border-right-color: var(--fill-color);\n",
              "      border-top-color: var(--fill-color);\n",
              "    }\n",
              "    60% {\n",
              "      border-color: transparent;\n",
              "      border-right-color: var(--fill-color);\n",
              "    }\n",
              "    80% {\n",
              "      border-color: transparent;\n",
              "      border-right-color: var(--fill-color);\n",
              "      border-bottom-color: var(--fill-color);\n",
              "    }\n",
              "    90% {\n",
              "      border-color: transparent;\n",
              "      border-bottom-color: var(--fill-color);\n",
              "    }\n",
              "  }\n",
              "</style>\n",
              "\n",
              "      <script>\n",
              "        async function quickchart(key) {\n",
              "          const quickchartButtonEl =\n",
              "            document.querySelector('#' + key + ' button');\n",
              "          quickchartButtonEl.disabled = true;  // To prevent multiple clicks.\n",
              "          quickchartButtonEl.classList.add('colab-df-spinner');\n",
              "          try {\n",
              "            const charts = await google.colab.kernel.invokeFunction(\n",
              "                'suggestCharts', [key], {});\n",
              "          } catch (error) {\n",
              "            console.error('Error during call to suggestCharts:', error);\n",
              "          }\n",
              "          quickchartButtonEl.classList.remove('colab-df-spinner');\n",
              "          quickchartButtonEl.classList.add('colab-df-quickchart-complete');\n",
              "        }\n",
              "        (() => {\n",
              "          let quickchartButtonEl =\n",
              "            document.querySelector('#df-329cf635-19e5-41b7-9755-8b1b99f8c1db button');\n",
              "          quickchartButtonEl.style.display =\n",
              "            google.colab.kernel.accessAllowed ? 'block' : 'none';\n",
              "        })();\n",
              "      </script>\n",
              "    </div>\n",
              "\n",
              "    </div>\n",
              "  </div>\n"
            ],
            "application/vnd.google.colaboratory.intrinsic+json": {
              "type": "dataframe",
              "summary": "{\n  \"name\": \"df\",\n  \"rows\": 3,\n  \"fields\": [\n    {\n      \"column\": \"\\ubd80\\uc11c\",\n      \"properties\": {\n        \"dtype\": \"string\",\n        \"num_unique_values\": 3,\n        \"samples\": [\n          \"\\uac1c\\ubc1c\",\n          \"\\uae30\\ud68d\",\n          \"\\ub514\\uc790\\uc778\"\n        ],\n        \"semantic_type\": \"\",\n        \"description\": \"\"\n      }\n    },\n    {\n      \"column\": \"count\",\n      \"properties\": {\n        \"dtype\": \"number\",\n        \"std\": 0,\n        \"min\": 2,\n        \"max\": 2,\n        \"num_unique_values\": 1,\n        \"samples\": [\n          2\n        ],\n        \"semantic_type\": \"\",\n        \"description\": \"\"\n      }\n    },\n    {\n      \"column\": \"mean\",\n      \"properties\": {\n        \"dtype\": \"number\",\n        \"std\": 550.7570547286102,\n        \"min\": 4650.0,\n        \"max\": 5750.0,\n        \"num_unique_values\": 3,\n        \"samples\": [\n          5750.0\n        ],\n        \"semantic_type\": \"\",\n        \"description\": \"\"\n      }\n    },\n    {\n      \"column\": \"max\",\n      \"properties\": {\n        \"dtype\": \"number\",\n        \"std\": 602,\n        \"min\": 4800,\n        \"max\": 6000,\n        \"num_unique_values\": 3,\n        \"samples\": [\n          6000\n        ],\n        \"semantic_type\": \"\",\n        \"description\": \"\"\n      }\n    },\n    {\n      \"column\": \"min\",\n      \"properties\": {\n        \"dtype\": \"number\",\n        \"std\": 513,\n        \"min\": 4500,\n        \"max\": 5500,\n        \"num_unique_values\": 3,\n        \"samples\": [\n          5500\n        ],\n        \"semantic_type\": \"\",\n        \"description\": \"\"\n      }\n    }\n  ]\n}"
            }
          },
          "metadata": {},
          "execution_count": 140
        }
      ]
    },
    {
      "cell_type": "code",
      "source": [
        "df2 = pd.DataFrame({\n",
        "    \"부서\": [\"개발\", \"개발\", \"기획\", \"기획\", \"디자인\", \"디자인\"],\n",
        "    \"직급\": [\"대리\", \"과장\", \"대리\", \"과장\", \"사원\", \"대리\"],\n",
        "    \"연봉\": [5500, 6200, 4700, 5000, 4200, 5100]\n",
        "})\n",
        "\n",
        "result = df2.groupby([\"부서\", \"직급\"])[\"연봉\"].mean()  # 부서별 직급별 평균 연봉\n",
        "print(result)"
      ],
      "metadata": {
        "colab": {
          "base_uri": "https://localhost:8080/"
        },
        "id": "huNy4C-ftVPU",
        "outputId": "a0e506ad-41d2-4a4f-bb6b-74dd56a0e630"
      },
      "execution_count": 141,
      "outputs": [
        {
          "output_type": "stream",
          "name": "stdout",
          "text": [
            "부서   직급\n",
            "개발   과장    6200.0\n",
            "     대리    5500.0\n",
            "기획   과장    5000.0\n",
            "     대리    4700.0\n",
            "디자인  대리    5100.0\n",
            "     사원    4200.0\n",
            "Name: 연봉, dtype: float64\n"
          ]
        }
      ]
    },
    {
      "cell_type": "code",
      "source": [
        "# 32교시 - 실습 : 텍스트 데이터 분석 종합\n",
        "\n",
        "# 소셜 미디어 댓글 분석기 만들기\n",
        "df = pd.read_csv(\"comments.csv\", encoding=\"utf-8\")\n",
        "print(df.head())"
      ],
      "metadata": {
        "colab": {
          "base_uri": "https://localhost:8080/"
        },
        "id": "tE4GXX9vtVIB",
        "outputId": "50d86012-f8f9-4e18-de02-556572785692"
      },
      "execution_count": 143,
      "outputs": [
        {
          "output_type": "stream",
          "name": "stdout",
          "text": [
            "                   comment        date\n",
            "0          ChatGPT 너무 좋아요!  2025-10-05\n",
            "1       AI가 점점 똑똑해지는 것 같아요  2025-10-05\n",
            "2         요즘 GPT로 보고서 작성 중  2025-10-06\n",
            "3         생성형 AI가 무섭기도 하네요  2025-10-06\n",
            "4  ChatGPT 덕분에 일 효율이 높아졌어요  2025-10-06\n"
          ]
        }
      ]
    }
  ]
}