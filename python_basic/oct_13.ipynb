{
  "nbformat": 4,
  "nbformat_minor": 0,
  "metadata": {
    "colab": {
      "provenance": []
    },
    "kernelspec": {
      "name": "python3",
      "display_name": "Python 3"
    },
    "language_info": {
      "name": "python"
    }
  },
  "cells": [
    {
      "cell_type": "code",
      "execution_count": null,
      "metadata": {
        "colab": {
          "base_uri": "https://localhost:8080/"
        },
        "id": "nvvsNmy4N2RJ",
        "outputId": "f61a9147-9f62-441f-947d-63df8aa11253"
      },
      "outputs": [
        {
          "output_type": "stream",
          "name": "stdout",
          "text": [
            "hello world\n"
          ]
        }
      ],
      "source": [
        "print('hello world')"
      ]
    },
    {
      "cell_type": "code",
      "source": [
        "name = \"홍길동\" # 문자열은 큰따옴표로 사용할 수 있습니다.\n",
        "name2 = '임꺽정' # 문자열은 작은따옴표로 사용할 수 있습니다.\n",
        "height = 172.5 # 소수형은(실수형) 정수뒤에 소수점이 나옵니다.\n",
        "age = 30 # 정수형은 정수뒤에 소수점이 없는 깔끔한 숫자입니다.\n",
        "student = True # True = 1\n",
        "teacher = False # False = 0\n",
        "\n",
        "# 파이썬은 변수의 구분은 보통 콤마로 합니다.\n",
        "print(name, name2, height, age, student, teacher)"
      ],
      "metadata": {
        "colab": {
          "base_uri": "https://localhost:8080/"
        },
        "id": "dIHPlyFBYFkB",
        "outputId": "7c09f96e-8c77-4f09-dafa-b5bcf1af2f40"
      },
      "execution_count": null,
      "outputs": [
        {
          "output_type": "stream",
          "name": "stdout",
          "text": [
            "홍길동 임꺽정 172.5 30 True False\n"
          ]
        }
      ]
    },
    {
      "cell_type": "code",
      "source": [
        "# 변수의 값이 바뀌면 동환 / 재훈 / 현아 / 현성\n",
        "# 동환 -> 파이썬에 대해서 알려줘 -> 출력 -> 파이썬 ...\n",
        "# 재훈 -> 파이썬에 대해서 알려줘 -> 출력 -> 대표적인 프로그래밍...\n",
        "\n",
        "# chatgpt 똑같은 말을 적어도, 랜덤으로 값을 출력하기\n",
        "\n",
        "age = 50\n",
        "print(age)"
      ],
      "metadata": {
        "colab": {
          "base_uri": "https://localhost:8080/"
        },
        "id": "BEoV5wbgZdgz",
        "outputId": "03e4620d-e9f1-4c9a-ec9f-e481fa8f1e3e"
      },
      "execution_count": null,
      "outputs": [
        {
          "output_type": "stream",
          "name": "stdout",
          "text": [
            "50\n"
          ]
        }
      ]
    },
    {
      "cell_type": "code",
      "source": [
        "# f-string 파이썬 3.6이상부터 적용된 문법\n",
        "# print(name, name2, height, age, student, teacher)\n",
        "# f-string은\n",
        "# 1) print()안에 맨 앞에 f를 붙인다.\n",
        "# 2) 변수는 중괄호{}로 묶는다.\n",
        "# 3) 그외에 일반 텍스트는 그냥 적는다. 따옴표 안에\n",
        "\n",
        "print(f'안녕하세요 {name} 입니다. {height},{age}')"
      ],
      "metadata": {
        "colab": {
          "base_uri": "https://localhost:8080/"
        },
        "id": "kg-QYmL2aMR3",
        "outputId": "5c5e2bc5-8146-40cb-e427-73a337cd81e3"
      },
      "execution_count": null,
      "outputs": [
        {
          "output_type": "stream",
          "name": "stdout",
          "text": [
            "안녕하세요 홍길동 입니다. 172.5,50\n"
          ]
        }
      ]
    },
    {
      "cell_type": "code",
      "source": [
        "# 1) 변수\n",
        "# 2) f-string print 문\n",
        "\n",
        "name  = '최예나'\n",
        "hobby = '영화감상'\n",
        "\n",
        "print(f'안녕하세요! 저는 {name} 입니다. 취미는 {hobby}입니다.')"
      ],
      "metadata": {
        "colab": {
          "base_uri": "https://localhost:8080/"
        },
        "id": "-5GUJ9fubM_X",
        "outputId": "6af2cb4c-ca79-4718-c243-3f703a25ba43"
      },
      "execution_count": null,
      "outputs": [
        {
          "output_type": "stream",
          "name": "stdout",
          "text": [
            "안녕하세요! 저는 최예나 입니다. 취미는 영화감상입니다.\n"
          ]
        }
      ]
    },
    {
      "cell_type": "code",
      "source": [
        "# 2. input을 활용한 자기소개\n",
        "\n",
        "name = input(\"이름은 무엇인가요? : \")\n"
      ],
      "metadata": {
        "colab": {
          "base_uri": "https://localhost:8080/"
        },
        "id": "mamXgayOxX_6",
        "outputId": "e7e89120-1f45-4d09-e045-692744f944c9"
      },
      "execution_count": 8,
      "outputs": [
        {
          "name": "stdout",
          "output_type": "stream",
          "text": [
            "이름은 무엇인가요? : 최예나\n"
          ]
        }
      ]
    },
    {
      "cell_type": "code",
      "source": [
        "height = int(input('키는 얼마나 되시나요?'))"
      ],
      "metadata": {
        "colab": {
          "base_uri": "https://localhost:8080/"
        },
        "id": "CgrbY20ayH2U",
        "outputId": "3f9c06b7-a6d0-4216-bd6f-752d0dc1e645"
      },
      "execution_count": 10,
      "outputs": [
        {
          "name": "stdout",
          "output_type": "stream",
          "text": [
            "키는 얼마나 되시나요?183\n"
          ]
        }
      ]
    },
    {
      "cell_type": "code",
      "source": [
        "print(height)"
      ],
      "metadata": {
        "colab": {
          "base_uri": "https://localhost:8080/"
        },
        "id": "-4c9OppZyPgI",
        "outputId": "bcc0baac-6b5a-47a4-c839-200b0939eac2"
      },
      "execution_count": 13,
      "outputs": [
        {
          "output_type": "stream",
          "name": "stdout",
          "text": [
            "183\n"
          ]
        }
      ]
    },
    {
      "cell_type": "code",
      "source": [
        "# 1) 서로 다른 자료형은 덧셈이 되지 않는다.\n",
        "# 2) 문자형의 합은 그 문자가 서로 합쳐지는 효과를 발생한다.\n",
        "# 3) 숫자형으로 변경해야만 우리가 아는 사칙연산을 할 수 있게 된다.\n",
        "\n",
        "print(height + '1')"
      ],
      "metadata": {
        "id": "A8k70EOEyny3"
      },
      "execution_count": null,
      "outputs": []
    },
    {
      "cell_type": "code",
      "source": [
        "# 해당 변수의 특성을 확인할 수 있습니다.\n",
        "# str = 문자열 / int = 정수형 / float = 소수형 / bool = 불린형\n",
        "type(height)"
      ],
      "metadata": {
        "colab": {
          "base_uri": "https://localhost:8080/"
        },
        "id": "Dmdn_pdvyREy",
        "outputId": "d05bdf0d-4677-4fc5-b7a8-f3b2201b02de"
      },
      "execution_count": 14,
      "outputs": [
        {
          "output_type": "execute_result",
          "data": {
            "text/plain": [
              "int"
            ]
          },
          "metadata": {},
          "execution_count": 14
        }
      ]
    },
    {
      "cell_type": "code",
      "source": [
        "# 실습 3. 2개의 값을 받는 계산기 만들기\n",
        "a = int(input(\"첫 번째 숫자를 입력하세요: \"))\n",
        "b = int(input(\"두 번째 숫자를 입력하세요: \"))"
      ],
      "metadata": {
        "colab": {
          "base_uri": "https://localhost:8080/"
        },
        "id": "dzpv_Pv1y96w",
        "outputId": "f88d0d92-04f0-4528-fad3-577422337d53"
      },
      "execution_count": 15,
      "outputs": [
        {
          "name": "stdout",
          "output_type": "stream",
          "text": [
            "첫 번째 숫자를 입력하세요: 3\n",
            "두 번째 숫자를 입력하세요: 5\n"
          ]
        }
      ]
    },
    {
      "cell_type": "code",
      "source": [
        "print(f\"덧셈 : 첫번째 입력값 : {a}, 두번째 입력값 : {b} = {a + b}입니다.\")\n",
        "print(f\"뺄셈 : 첫번째 입력값 : {a}, 두번째 입력값 : {b} = {a - b}입니다.\")\n",
        "print(f\"곱셈 : 첫번째 입력값 : {a}, 두번째 입력값 : {b} = {a * b}입니다.\")\n",
        "print(f\"나눗셈 : 첫번째 입력값 : {a}, 두번째 입력값 : {b} = {a / b}입니다.\")\n",
        "# 소수점에 대한 부분을 다루기 위해서 :(콜론) :.2f -> 소수점 2자리까지 계산\n",
        "print(f\"나눗셈 : 첫번째 입력값 : {a}, 두번째 입력값 : {b} = {a / b:.2f}입니다.\")\n",
        "# 3.4059304932\n",
        "# 3.40"
      ],
      "metadata": {
        "colab": {
          "base_uri": "https://localhost:8080/"
        },
        "id": "oatRm1eFz3Ig",
        "outputId": "2e34304b-8b1a-4041-fc73-01ebabb69f26"
      },
      "execution_count": 17,
      "outputs": [
        {
          "output_type": "stream",
          "name": "stdout",
          "text": [
            "덧셈 : 첫번째 입력값 : 3, 두번째 입력값 : 5 = 8입니다.\n",
            "뺄셈 : 첫번째 입력값 : 3, 두번째 입력값 : 5 = -2입니다.\n",
            "곱셈 : 첫번째 입력값 : 3, 두번째 입력값 : 5 = 15입니다.\n",
            "나눗셈 : 첫번째 입력값 : 3, 두번째 입력값 : 5 = 0.6입니다.\n",
            "나눗셈 : 첫번째 입력값 : 3, 두번째 입력값 : 5 = 0.60입니다.\n"
          ]
        }
      ]
    },
    {
      "cell_type": "code",
      "source": [
        "# 예제3\n",
        "title = \"python\"\n",
        "score = 95.678\n",
        "\n",
        "print(f\"{'과목':<8} | {'점수':>8}\")\n",
        "print(\"-\" * 20)\n",
        "print(f\"{title:<8} | {score:>8.2f}\")"
      ],
      "metadata": {
        "colab": {
          "base_uri": "https://localhost:8080/"
        },
        "id": "fSHQXcp41ndI",
        "outputId": "2ebcd736-b38c-49ed-cb79-869b72703088"
      },
      "execution_count": 21,
      "outputs": [
        {
          "output_type": "stream",
          "name": "stdout",
          "text": [
            "과목       |       점수\n",
            "--------------------\n",
            "python   |    95.68\n"
          ]
        }
      ]
    },
    {
      "cell_type": "code",
      "source": [
        "if 조건식1:\n",
        "  print(\"조건식 1이 참이면 print문을 수행해라\")\n",
        "elif 조건식2:\n",
        "  print2(\"조건식 1이 참이 아닌 상태에서 조건식 2가 참이면 print2문을 수행해라\")\n",
        "else:\n",
        "  print3('조건식 1도아니고 2도 아닌상태에서 나머지는 모두 print3을 수행하라')"
      ],
      "metadata": {
        "id": "TBTDfGIvPIwo"
      },
      "execution_count": null,
      "outputs": []
    },
    {
      "cell_type": "code",
      "source": [
        "# 조건문 1 -  성적관련 조건문\n",
        "# 조건 - 90점 이상 - A / 80점 ~ 90 미만 - B / 70 ~ 80점 - C / 그 외는 - D\n",
        "\n",
        "score = 85\n",
        "\n",
        "# if 변수명 (연산자 + 조건):\n",
        "    # 들여쓰기는 스페이스바 4번입니다. 4칸\n",
        "\n",
        "\n",
        "# 1번째 if와 else만 있는 조건문\n",
        "if score >= 90:\n",
        "  print(\"A학점 입니다.\")\n",
        "elif score >= 80: #(연속되는 숫자일때) 위에서 적었던 조건은 자동으로 적용!\n",
        "  print(\"B학점 입니다.\")\n",
        "elif score >= 70:\n",
        "  print(\"C학점 입니다.\")\n",
        "else:\n",
        "  print(\"D학점 입니다.\")"
      ],
      "metadata": {
        "colab": {
          "base_uri": "https://localhost:8080/"
        },
        "id": "Cc5tUi5XCilX",
        "outputId": "11db2608-7223-416a-f95f-ae27c5e40a0c"
      },
      "execution_count": 23,
      "outputs": [
        {
          "output_type": "stream",
          "name": "stdout",
          "text": [
            "B학점 입니다.\n"
          ]
        }
      ]
    },
    {
      "cell_type": "code",
      "source": [
        "# 조건문은 조건에 맞으면 들여쓰기 부분이 실행된다.\n",
        "score = 92"
      ],
      "metadata": {
        "id": "LgaCs-pjO_TF"
      },
      "execution_count": null,
      "outputs": []
    },
    {
      "cell_type": "code",
      "source": [
        "# 작은따옴표로 시작되면 작은따옴표로 끝나야 되고\n",
        "# 큰따옴표로 시작되면 큰따옴표로 끝나야 됩니다."
      ],
      "metadata": {
        "id": "CwqY4mkKO9bO"
      },
      "execution_count": null,
      "outputs": []
    },
    {
      "cell_type": "code",
      "source": [
        "# 조건이 늘어나면 elif만 추가하면 된다.\n",
        "if score >= 90:\n",
        "    print(\"A학점 입니다.\")\n",
        "elif score >= 80: # (연속되는 숫자일때) 위에서 적었던 조건은 자동으로 적용!\n",
        "    print('B학점 입니다.')\n",
        "elif score >= 70:\n",
        "    print(\"C학점 입니다.\")\n",
        "else:\n",
        "    print(\"D학점 입니다.\")"
      ],
      "metadata": {
        "id": "YlT3ytPHO7j_"
      },
      "execution_count": null,
      "outputs": []
    },
    {
      "cell_type": "code",
      "source": [
        "# 문자열 조건문\n",
        "\n",
        "name = '김진환'\n",
        "print(name)"
      ],
      "metadata": {
        "id": "hhrKVROWO5AC"
      },
      "execution_count": null,
      "outputs": []
    },
    {
      "cell_type": "code",
      "source": [
        "# 문자열은 숫자처럼 크다, 작다를 구분할 수 없기 때문에 같다, 또는 같지 않다로 조건을 걸고 비교를 한다."
      ],
      "metadata": {
        "id": "eb33vec0F-wR"
      },
      "execution_count": null,
      "outputs": []
    },
    {
      "cell_type": "code",
      "source": [],
      "metadata": {
        "id": "x7f9BD8sO1KB"
      },
      "execution_count": null,
      "outputs": []
    },
    {
      "cell_type": "code",
      "source": [
        "# 문자열의 주의점 - 어떻게 해야 조건 안에 내가 조건을 걸고싶은 텍스트만 출력되게 할 수 있는가?\n",
        "if name == '김진환':\n",
        "    print('반갑습니다. 김진환님')"
      ],
      "metadata": {
        "id": "HiQcLwCBOyse"
      },
      "execution_count": null,
      "outputs": []
    },
    {
      "cell_type": "code",
      "source": [
        "# 실습 - and or의 차이점 - 둘다 충족할때의 and - True\n",
        "\n",
        "age = 25\n",
        "country = 'korea'\n",
        "\n",
        "# and -> 두가지 조건 모두 참일때 -> 참이다.\n",
        "if (age >= 20) and (country == 'korea'):\n",
        "    print('성인 한국인 입니다.')\n",
        "else:\n",
        "    print('조건에 해당하지 않습니다.')"
      ],
      "metadata": {
        "colab": {
          "base_uri": "https://localhost:8080/"
        },
        "id": "L5G_tKLhOv-G",
        "outputId": "fa83e626-400d-4bc0-df56-15ea1189ebdf"
      },
      "execution_count": 1,
      "outputs": [
        {
          "output_type": "stream",
          "name": "stdout",
          "text": [
            "성인 한국인 입니다.\n"
          ]
        }
      ]
    },
    {
      "cell_type": "code",
      "source": [
        "# 실습 - and or의 차이점 - 1개만 충족할때의 and - False\n",
        "\n",
        "age = 15\n",
        "country = 'korea'\n",
        "\n",
        "# and -> 두가지 조건 모두 참일때 -> 참이다.\n",
        "if (age >= 20) and (country == 'korea'):\n",
        "    print('성인 한국인 입니다.')\n",
        "else:\n",
        "    print('조건에 해당하지 않습니다.')"
      ],
      "metadata": {
        "colab": {
          "base_uri": "https://localhost:8080/"
        },
        "id": "MTVR8Z0qOtAe",
        "outputId": "c62df97d-2331-4a99-cf1e-bc4fc06b00fa"
      },
      "execution_count": 2,
      "outputs": [
        {
          "output_type": "stream",
          "name": "stdout",
          "text": [
            "조건에 해당하지 않습니다.\n"
          ]
        }
      ]
    },
    {
      "cell_type": "code",
      "source": [
        "# 실습 - and or의 차이점 - 1개만 충족할때의 or - True\n",
        "\n",
        "age = 15\n",
        "country = 'korea'\n",
        "\n",
        "# and -> 두가지 조건 모두 참일때 -> 참이다.\n",
        "if (age >= 20) or (country == 'korea'):\n",
        "    print('성인 한국인 입니다.')\n",
        "else:\n",
        "    print('조건에 해당하지 않습니다.')"
      ],
      "metadata": {
        "colab": {
          "base_uri": "https://localhost:8080/"
        },
        "id": "uOjlBqFSGESt",
        "outputId": "4bb67d91-d367-42a3-ef81-d69e82194e4b"
      },
      "execution_count": 3,
      "outputs": [
        {
          "output_type": "stream",
          "name": "stdout",
          "text": [
            "성인 한국인 입니다.\n"
          ]
        }
      ]
    },
    {
      "cell_type": "code",
      "source": [
        "\n",
        "# 3교시"
      ],
      "metadata": {
        "id": "82-W18sNKj7W"
      },
      "execution_count": null,
      "outputs": []
    },
    {
      "cell_type": "code",
      "source": [
        "# 로그인 검사 로직\n",
        "# 운영자 계정\n",
        "\n",
        "user_id = 'admin'\n",
        "user_pw = '1234'\n",
        "\n",
        "id_input = input(\"아이디를 입력하세요: \")\n",
        "pw_input = input(\"password를 입력하세요: \")\n",
        "\n",
        "if id_input == user_id and pw_input == user_pw:\n",
        "  print(\"로그인 완료\")\n",
        "else:\n",
        "  print(\"로그인 실패, 아이디 또는 패스워드를 확인하세요.\")"
      ],
      "metadata": {
        "colab": {
          "base_uri": "https://localhost:8080/"
        },
        "id": "saN8-2NmKjvo",
        "outputId": "98c018d0-ddbe-4513-9e88-9fb47dcfb1ff"
      },
      "execution_count": 24,
      "outputs": [
        {
          "output_type": "stream",
          "name": "stdout",
          "text": [
            "아이디를 입력하세요: admin\n",
            "password를 입력하세요: 1234\n",
            "로그인 완료\n"
          ]
        }
      ]
    },
    {
      "cell_type": "code",
      "source": [
        "# 실습 5\n",
        "role = input(\"당신의 역할을 입력하세요 (student/teacher/admin): \")\n",
        "\n",
        "if role == \"student\":\n",
        "    print(\"📚 학생 모드입니다. 과제를 제출할 수 있습니다.\")\n",
        "elif role == \"teacher\":\n",
        "    print(\"🧑‍🏫 교사 모드입니다. 학생 점수를 관리할 수 있습니다.\")\n",
        "elif role == \"admin\":\n",
        "    print(\"💻 관리자 모드입니다. 시스템 설정을 변경할 수 있습니다.\")\n",
        "else:\n",
        "    print(\"❌ 알 수 없는 역할입니다. 다시 입력해주세요.\")"
      ],
      "metadata": {
        "colab": {
          "base_uri": "https://localhost:8080/"
        },
        "id": "3bpKHayRNiIZ",
        "outputId": "bcfa7430-95f2-4fba-c7f5-5fa1f8928a55"
      },
      "execution_count": 25,
      "outputs": [
        {
          "output_type": "stream",
          "name": "stdout",
          "text": [
            "당신의 역할을 입력하세요 (student/teacher/admin): student\n",
            "📚 학생 모드입니다. 과제를 제출할 수 있습니다.\n"
          ]
        }
      ]
    },
    {
      "cell_type": "code",
      "source": [
        "# 실습 6\n",
        "\n",
        "role = input(\"역할을 입력하세요 (student/teacher/admin): \")\n",
        "command = input(\"명령을 입력하세요 (조회/추가/삭제): \")\n",
        "\n",
        "if role == \"student\" and command == \"조회\":\n",
        "  print(\"📖 성적을 조회합니다.\")\n",
        "elif role == \"teacher\" and command == \"추가\":\n",
        "  print(\"🧾 새로운 과제를 추가합니다.\")\n",
        "elif role == \"admin\" and command == \"삭제\":\n",
        "  print(\"⚙️ 시스템 로그를 삭제합니다.\")\n",
        "else:\n",
        "  print(\"⛔ 권한이 없거나 잘못된 명령입니다.\")"
      ],
      "metadata": {
        "colab": {
          "base_uri": "https://localhost:8080/"
        },
        "id": "Oot06JfaPdvU",
        "outputId": "6f995de4-e663-458b-938e-85bd1468f813"
      },
      "execution_count": 26,
      "outputs": [
        {
          "output_type": "stream",
          "name": "stdout",
          "text": [
            "역할을 입력하세요 (student/teacher/admin): admin\n",
            "명령을 입력하세요 (조회/추가/삭제): 삭제\n",
            "⚙️ 시스템 로그를 삭제합니다.\n"
          ]
        }
      ]
    },
    {
      "cell_type": "code",
      "source": [
        "# 반복문 기초\n",
        "\n",
        "# 1. 파이썬은 숫자의 시작이 0부터 시작한다\n",
        "# 2. 파이썬에서는\n",
        "# 3. i는 이름을 원하는대로 변경할 수 있다.\n",
        "# 4. for in은 고정\n",
        "\n",
        "for i in range(5):\n",
        "  print(i)"
      ],
      "metadata": {
        "colab": {
          "base_uri": "https://localhost:8080/"
        },
        "id": "ipRABxijPlBS",
        "outputId": "a42edb31-319a-4f36-d10d-540bc3a749cc"
      },
      "execution_count": 27,
      "outputs": [
        {
          "output_type": "stream",
          "name": "stdout",
          "text": [
            "0\n",
            "1\n",
            "2\n",
            "3\n",
            "4\n"
          ]
        }
      ]
    },
    {
      "cell_type": "code",
      "source": [
        "# 반복문 기초\n",
        "# range(start, stop, step)\n",
        "# start는 0부터 시작한다.(start에 아무것도 적지 않았을 경우), stop에서 -1까지 출력이 된다.\n",
        "# step은 얼마나 띄워서 출력할지를 정하는 것이다.\n",
        "\n",
        "for i in range(5,0,-1):\n",
        "  print(i)"
      ],
      "metadata": {
        "colab": {
          "base_uri": "https://localhost:8080/"
        },
        "id": "rHcZwk_vZLyM",
        "outputId": "f9a9170b-7cec-485e-da37-904468d6aeec"
      },
      "execution_count": 45,
      "outputs": [
        {
          "output_type": "stream",
          "name": "stdout",
          "text": [
            "5\n",
            "4\n",
            "3\n",
            "2\n",
            "1\n"
          ]
        }
      ]
    },
    {
      "cell_type": "code",
      "source": [
        "# 시퀀스 자료형\n",
        "\n",
        "for i in 'python':\n",
        "  print(i)"
      ],
      "metadata": {
        "colab": {
          "base_uri": "https://localhost:8080/"
        },
        "id": "1-bq7R7Lawmf",
        "outputId": "be6eca65-67e8-4d21-fad5-0971047d6d25"
      },
      "execution_count": 31,
      "outputs": [
        {
          "output_type": "stream",
          "name": "stdout",
          "text": [
            "p\n",
            "y\n",
            "t\n",
            "h\n",
            "o\n",
            "n\n"
          ]
        }
      ]
    },
    {
      "cell_type": "code",
      "source": [
        "for i in ['사과', '바나나', '포도']:\n",
        "  print(i)\n"
      ],
      "metadata": {
        "colab": {
          "base_uri": "https://localhost:8080/"
        },
        "id": "5qyAKW5ma9br",
        "outputId": "fc500a76-1a1c-4ba6-f40d-add33611b5bf"
      },
      "execution_count": 32,
      "outputs": [
        {
          "output_type": "stream",
          "name": "stdout",
          "text": [
            "사과\n",
            "바나나\n",
            "포도\n"
          ]
        }
      ]
    },
    {
      "cell_type": "code",
      "source": [
        "# 누적합계 구하기 실습\n",
        "\n",
        "total = 0\n",
        "for i in range(1,11): # range(1, 11) -> 1,2,3,4,5,6,7,8,9,10\n",
        "  total = total + i # total += i 동일하다\n",
        "print(total)\n",
        "\n"
      ],
      "metadata": {
        "colab": {
          "base_uri": "https://localhost:8080/"
        },
        "id": "7tpSAHyocwbj",
        "outputId": "71f6fb80-3eff-4d52-8e27-ffc536ba38a4"
      },
      "execution_count": 47,
      "outputs": [
        {
          "output_type": "stream",
          "name": "stdout",
          "text": [
            "55\n"
          ]
        }
      ]
    },
    {
      "cell_type": "code",
      "source": [
        "count = 0\n",
        "\n",
        "while count < 5:\n",
        "  print(f\"{count}번째 반복\")\n",
        "  count += 1\n"
      ],
      "metadata": {
        "colab": {
          "base_uri": "https://localhost:8080/"
        },
        "id": "LIWyAJYcgJyn",
        "outputId": "dc40e623-a441-4e27-a182-fb9cc8d4ea92"
      },
      "execution_count": 1,
      "outputs": [
        {
          "output_type": "stream",
          "name": "stdout",
          "text": [
            "0번째 반복\n",
            "1번째 반복\n",
            "2번째 반복\n",
            "3번째 반복\n",
            "4번째 반복\n"
          ]
        }
      ]
    },
    {
      "cell_type": "code",
      "source": [
        "# break 는 반복문을 자동으로 중지 시키는 구문 보통 if 조건문과 같이 사용된다.\n",
        "for i in range(10):\n",
        "  if i == 5:\n",
        "    break\n",
        "  print(i)"
      ],
      "metadata": {
        "colab": {
          "base_uri": "https://localhost:8080/"
        },
        "id": "45BAVmqigT-K",
        "outputId": "5d8f1d80-8cb6-4645-ff07-fdf79c25f816"
      },
      "execution_count": 2,
      "outputs": [
        {
          "output_type": "stream",
          "name": "stdout",
          "text": [
            "0\n",
            "1\n",
            "2\n",
            "3\n",
            "4\n"
          ]
        }
      ]
    },
    {
      "cell_type": "code",
      "source": [
        "# continue는 특정 조건을 건너뛰는\n",
        "for i in range(10):\n",
        "  if i == 5:\n",
        "    continue\n",
        "  print(i)"
      ],
      "metadata": {
        "colab": {
          "base_uri": "https://localhost:8080/"
        },
        "id": "8c4rNUD3hlLW",
        "outputId": "221366bc-ee4b-4325-898f-d39b72dc9624"
      },
      "execution_count": 3,
      "outputs": [
        {
          "output_type": "stream",
          "name": "stdout",
          "text": [
            "0\n",
            "1\n",
            "2\n",
            "3\n",
            "4\n",
            "6\n",
            "7\n",
            "8\n",
            "9\n"
          ]
        }
      ]
    }
  ]
}