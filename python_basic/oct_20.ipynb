{
  "nbformat": 4,
  "nbformat_minor": 0,
  "metadata": {
    "colab": {
      "provenance": []
    },
    "kernelspec": {
      "name": "python3",
      "display_name": "Python 3"
    },
    "language_info": {
      "name": "python"
    }
  },
  "cells": [
    {
      "cell_type": "markdown",
      "source": [
        "기본 내장 함수"
      ],
      "metadata": {
        "id": "Q0PVVaXQ_o83"
      }
    },
    {
      "cell_type": "code",
      "execution_count": 3,
      "metadata": {
        "colab": {
          "base_uri": "https://localhost:8080/"
        },
        "id": "lYn7U35C_ZM0",
        "outputId": "67a25d87-e822-43dc-e15f-781599b2ca0d"
      },
      "outputs": [
        {
          "output_type": "stream",
          "name": "stdout",
          "text": [
            "32\n",
            "7\n"
          ]
        }
      ],
      "source": [
        "# 1) len - 텍스트 또는 토큰의 숫자를 구하는 len\n",
        "s = \"오늘 날씨가 너무 추워요. 집에 있는데 집에 가고 싶어요.\"\n",
        "# 오 부터 . 까지 공백을 포함한 모든 텍스트에 대한 집계\n",
        "print(len(s))\n",
        "\n",
        "# 토큰을 정할때는 의미 중심으로 구두점이나 공백을 최대한 제거한 내용을 토큰으로 설정합니다.\n",
        "tokens = ['오늘','날씨','너무','추워요','집','가다','싶다']\n",
        "print(len(tokens))"
      ]
    },
    {
      "cell_type": "code",
      "source": [
        "# 2) split - 대표적으로 토큰화시키는 가장 기본적인 메서드(기능)\n",
        "\n",
        "# 연속 공뱅을 하나의 구분자 처럼 취급을 하는 것이 기본이나 , 이나 다른 구분자도 구분할 수 있게 하는 메서드\n",
        "s = \"    오늘    날씨가    정말    추워요    \"\n",
        "print(s.split())\n",
        "\n",
        "# 변수처리하지 않고 ,(콤마)로 구분되어 있는 문장을 토큰화\n",
        "print(\"사과,포도,배\".split(\",\"))\n",
        "\n",
        "# maxsplit 분할 횟수 제한 하는 기능\n",
        "# 분할을 한번만 한다.\n",
        "# maxsplit은 split() 메서드의 하나의 기능-\n",
        "print(\"사과,포도,배\".split(\",\" , maxsplit = 1))\n",
        "# maxsplit 숫자 대로 분류를 한다."
      ],
      "metadata": {
        "colab": {
          "base_uri": "https://localhost:8080/"
        },
        "id": "Inhp7eRFAESx",
        "outputId": "92989300-b457-49e2-8ce3-3f5e3223f837"
      },
      "execution_count": 16,
      "outputs": [
        {
          "output_type": "stream",
          "name": "stdout",
          "text": [
            "['오늘', '날씨가', '정말', '추워요']\n",
            "['사과', '포도', '배']\n",
            "['사과', '포도,배']\n"
          ]
        }
      ]
    },
    {
      "cell_type": "code",
      "source": [
        "# 3) set(): 중복을 제거하는 구문(고유 단어 집합)\n",
        "# 토큰에 대한 전체 리스트 중에 중복 된 단어를 제거하는 구문\n",
        "\n",
        "# set() 자료구조 - list, dictionary와 같은 하나의 자료구조이다. tuple()\n",
        "# set()의 특집은 수학 집합 -> 정렬이 마음대로 된다.(랜덤)\n",
        "\n",
        "tokens = ['오늘','날씨','정말','추워요','집','오늘','정말']\n",
        "vocab = set(tokens)\n",
        "print(vocab)\n",
        "print(len(tokens))\n",
        "print(len(vocab))"
      ],
      "metadata": {
        "colab": {
          "base_uri": "https://localhost:8080/"
        },
        "id": "rzyFN5D4BqjC",
        "outputId": "d4a47664-ae33-45af-ca01-78431d6723ff"
      },
      "execution_count": 10,
      "outputs": [
        {
          "output_type": "stream",
          "name": "stdout",
          "text": [
            "{'추워요', '정말', '집', '날씨', '오늘'}\n",
            "7\n",
            "5\n"
          ]
        }
      ]
    },
    {
      "cell_type": "markdown",
      "source": [
        "텍스트를 처음 받았을때 자주 하는 작업이\n",
        "1. 길이 확인\n",
        "2. 토큰화\n",
        "3. 토큰 중복 제거"
      ],
      "metadata": {
        "id": "uT610tRqCbm8"
      }
    },
    {
      "cell_type": "code",
      "source": [],
      "metadata": {
        "id": "3-2WLxoYDOTe"
      },
      "execution_count": null,
      "outputs": []
    },
    {
      "cell_type": "markdown",
      "source": [
        "# 실무에서 가장 많이 사용하는 텍스트 처리 규칙\n"
      ],
      "metadata": {
        "id": "B7LlA736Da0f"
      }
    },
    {
      "cell_type": "code",
      "source": [
        "# 1.strip() / lower()\n",
        "# srtip은 양쪽 공백을 제거\n",
        "# lower는 (영어) 모든 문자를 소문자화\n",
        "\n",
        "s = \"     Hello, Wolrd.   \"\n",
        "clean1 = s.strip()\n",
        "clean2 = s.lower()\n",
        "clean3 = s.strip().lower()\n",
        "\n",
        "print(clean1)\n",
        "print(clean2)\n",
        "print(clean3)\n",
        "\n",
        "# , .  이러한 구분자는 향후 제거가 필요하겠지만 그래도 이런식으로 영문자를 구분할 수 있다.\n",
        "print(clean3.split())"
      ],
      "metadata": {
        "colab": {
          "base_uri": "https://localhost:8080/"
        },
        "id": "leazJaisDeXk",
        "outputId": "e5e49185-ba9b-41b2-ef9c-608f72dd4eb3"
      },
      "execution_count": 18,
      "outputs": [
        {
          "output_type": "stream",
          "name": "stdout",
          "text": [
            "Hello, Wolrd.\n",
            "     hello, wolrd.   \n",
            "hello, wolrd.\n",
            "['hello,', 'wolrd.']\n"
          ]
        }
      ]
    },
    {
      "cell_type": "code",
      "source": [
        "# csv 파일 한줄을 안전하게 구분하기\n",
        "# csv = Comma-Seperated Values\n",
        "# 엑셀 파일 중 csv 파일을 열면 우리눈에는 보이지는 않지만 콤마로 구분되어 있다.\n",
        "\n",
        "row = \"2025-10-18,김진수,제품A,구매완료,서울\"\n",
        "cols = row.split(\",\") #[2025-10-18,김진수,제품A,구매완료,서울]\n",
        "date, name, product, status, location = cols[0], cols[1], cols[2], cols[3], cols[4]\n",
        "print(date, name, product, status, location)"
      ],
      "metadata": {
        "colab": {
          "base_uri": "https://localhost:8080/"
        },
        "id": "6TZdvykrEYLn",
        "outputId": "061d5641-697c-4f6a-b517-e845b408b544"
      },
      "execution_count": 22,
      "outputs": [
        {
          "output_type": "stream",
          "name": "stdout",
          "text": [
            "2025-10-18 김진수 제품A 구매완료 서울\n"
          ]
        }
      ]
    },
    {
      "cell_type": "code",
      "source": [
        "# 미니실습\n",
        "\n",
        "text = \"파이썬 텍스트 분석 시작!   공백과, 구두점을 관찰합니다...\"\n",
        "# 1) 기본 나누기\n",
        "tokens = text.split()\n",
        "print(\"tokens:\", tokens)\n",
        "print(\"토큰 수:\", len(tokens))\n",
        "\n",
        "# 2) 고유 단어 집합\n",
        "vocab = set(tokens)\n",
        "print(\"vocab:\", vocab)\n",
        "print(\"어휘 크기:\", len(vocab))\n",
        "\n",
        "# 3) 제목/본문 분리 연습\n",
        "msg = \"제목: 입문 수업 안내 - 본문: 오늘은 문자열 기본을 학습합니다.\"\n",
        "parts = msg.split(\"본문:\", maxsplit=1)\n",
        "print(\"parts:\", parts)\n",
        "\n",
        "# 4) 여러 줄 처리\n",
        "multi = \"첫째 줄\\n둘째 줄\\n\\n넷째 줄\"\n",
        "lines = multi.splitlines()\n",
        "print(\"줄 수:\", len(lines), \"| 내용:\", lines)\n"
      ],
      "metadata": {
        "colab": {
          "base_uri": "https://localhost:8080/"
        },
        "id": "qbHWddbzFkqh",
        "outputId": "55890e27-2aff-464c-c422-20f346218cf3"
      },
      "execution_count": 23,
      "outputs": [
        {
          "output_type": "stream",
          "name": "stdout",
          "text": [
            "tokens: ['파이썬', '텍스트', '분석', '시작!', '공백과,', '구두점을', '관찰합니다...']\n",
            "토큰 수: 7\n",
            "vocab: {'구두점을', '분석', '파이썬', '텍스트', '관찰합니다...', '공백과,', '시작!'}\n",
            "어휘 크기: 7\n",
            "parts: ['제목: 입문 수업 안내 - ', ' 오늘은 문자열 기본을 학습합니다.']\n",
            "줄 수: 4 | 내용: ['첫째 줄', '둘째 줄', '', '넷째 줄']\n"
          ]
        }
      ]
    },
    {
      "cell_type": "code",
      "source": [
        "# 10분 과제\n",
        "\n",
        "s = \"안녕하세요. 저는 최예나 입니다. 저는 개발자가 되고 싶습니다. 저는 여자 입니다. 저는 노란색을 좋아합니다.\"\n",
        "tokens = s.split()\n",
        "vocab = set(tokens)\n",
        "longest = max(tokens, key=len) if tokens else \"\"\n",
        "print(\"토큰 수:\", len(tokens))\n",
        "print(\"어휘 크기:\", len(vocab))\n",
        "print(\"가장 긴 토큰:\", longest, \"| 길이:\", len(longest))\n"
      ],
      "metadata": {
        "colab": {
          "base_uri": "https://localhost:8080/"
        },
        "id": "eVF_DGqCJ3Np",
        "outputId": "5790e62e-0132-4ab3-ef4c-7016714214af"
      },
      "execution_count": 24,
      "outputs": [
        {
          "output_type": "stream",
          "name": "stdout",
          "text": [
            "토큰 수: 14\n",
            "어휘 크기: 10\n",
            "가장 긴 토큰: 안녕하세요. | 길이: 6\n"
          ]
        }
      ]
    },
    {
      "cell_type": "markdown",
      "source": [
        "# apply 함수 실습\n"
      ],
      "metadata": {
        "id": "RmfXQlJCLifs"
      }
    },
    {
      "cell_type": "code",
      "source": [
        "import pandas as pd\n",
        "\n",
        "df = pd.DataFrame({\"text\" : ['데이터', 'AI', \"Python 공부\"]})\n",
        "print(df)"
      ],
      "metadata": {
        "colab": {
          "base_uri": "https://localhost:8080/"
        },
        "id": "dzOh_oJ5Lkv4",
        "outputId": "d19a0155-d376-4ac3-d630-af36659025c1"
      },
      "execution_count": 26,
      "outputs": [
        {
          "output_type": "stream",
          "name": "stdout",
          "text": [
            "        text\n",
            "0        데이터\n",
            "1         AI\n",
            "2  Python 공부\n"
          ]
        }
      ]
    },
    {
      "cell_type": "code",
      "source": [
        "# apply 사용할때는 메서드의 괄호부분이 필요없다. (기본 메서드일때)\n",
        "df['len']=df['text'].apply(len) # text라는 시리즈를 가져오고\n",
        "print(df)"
      ],
      "metadata": {
        "colab": {
          "base_uri": "https://localhost:8080/"
        },
        "id": "doA1Q9t1L0c7",
        "outputId": "78da63c7-7107-401b-cb12-26b5fc140528"
      },
      "execution_count": 32,
      "outputs": [
        {
          "output_type": "stream",
          "name": "stdout",
          "text": [
            "        text  len\n",
            "0        데이터    3\n",
            "1         AI    2\n",
            "2  Python 공부    9\n"
          ]
        }
      ]
    },
    {
      "cell_type": "code",
      "source": [
        "# 사용자 정의 함수를 적용\n",
        "def word_count(text):\n",
        "  return len(text.split())\n",
        "\n",
        "df['word_count'] = df['text'].apply(word_count)\n",
        "print(df)"
      ],
      "metadata": {
        "colab": {
          "base_uri": "https://localhost:8080/"
        },
        "id": "pEj-D7VcMTNd",
        "outputId": "7aade23e-f0f2-411a-f6ce-fa14c434e73a"
      },
      "execution_count": 33,
      "outputs": [
        {
          "output_type": "stream",
          "name": "stdout",
          "text": [
            "        text  len  word_count\n",
            "0        데이터    3           1\n",
            "1         AI    2           1\n",
            "2  Python 공부    9           2\n"
          ]
        }
      ]
    },
    {
      "cell_type": "markdown",
      "source": [
        "# 람다 함수"
      ],
      "metadata": {
        "id": "poyKXcaDOW2R"
      }
    },
    {
      "cell_type": "code",
      "source": [
        "# 장점 1. 함수를 만들지 않아도 되니까 메모리 사용량 측면에서도 좋고\n",
        "# 장점 2. 가독성 및 효율성\n",
        "\n",
        "df['len2'] = df['text'].apply(lambda x : len(x.split()))\n",
        "print(df)"
      ],
      "metadata": {
        "colab": {
          "base_uri": "https://localhost:8080/"
        },
        "id": "HTO0k44TOXPk",
        "outputId": "e3e4b7ab-5dd3-4d38-881d-4fddcfde8d3c"
      },
      "execution_count": 35,
      "outputs": [
        {
          "output_type": "stream",
          "name": "stdout",
          "text": [
            "        text  len  word_count  len2\n",
            "0        데이터    3           1     1\n",
            "1         AI    2           1     1\n",
            "2  Python 공부    9           2     2\n"
          ]
        }
      ]
    },
    {
      "cell_type": "markdown",
      "source": [
        "# 리스트 컴프리헨션"
      ],
      "metadata": {
        "id": "thivimllO1aI"
      }
    },
    {
      "cell_type": "code",
      "source": [
        "# 예시1. 문자열의 소문자화\n",
        "\n",
        "words = ['Data', 'Science', 'Ai']\n",
        "lower_words = [w.lower() for w in words] # 축약된 반복문 형태\n",
        "print(lower_words)"
      ],
      "metadata": {
        "colab": {
          "base_uri": "https://localhost:8080/"
        },
        "id": "UcwQP3YtO3sy",
        "outputId": "2686c957-08cd-43b8-c810-d94d83489d87"
      },
      "execution_count": 38,
      "outputs": [
        {
          "output_type": "stream",
          "name": "stdout",
          "text": [
            "['data', 'science', 'ai']\n"
          ]
        }
      ]
    },
    {
      "cell_type": "code",
      "source": [
        "# 예시 2. 텍스트 정제 함수 반복 적용\n",
        "import re\n",
        "\n",
        "sample = [\"데이터 분석 너무 좋아요~\",\"\", \" 오늘의 날씨는 맑음    \"]\n",
        "\n",
        "# 람다 함수\n",
        "clean = lambda x: re.sub(r'[^ㄱ-ㅎ가-힣a-zA-Z0-9]', '',x).strip()\n",
        "cleaned = [clean(t) for t in sample]\n",
        "\n",
        "print(cleaned)"
      ],
      "metadata": {
        "colab": {
          "base_uri": "https://localhost:8080/"
        },
        "id": "0LMiT8pYPlYy",
        "outputId": "db4286dc-503d-44dc-cbb5-91ed4bf24611"
      },
      "execution_count": 41,
      "outputs": [
        {
          "output_type": "stream",
          "name": "stdout",
          "text": [
            "['데이터분석너무좋아요', '', '오늘의날씨는맑음']\n"
          ]
        }
      ]
    },
    {
      "cell_type": "code",
      "source": [
        "# 조건을 포함한 리스트에 대해서 간단한 실습\n",
        "nums =[1,2,3,4,5]\n",
        "even = [n for n in nums if n % 2 == 0] # nums에 있는 것을 2로 나누었을때 나머지가 0인것만\n",
        "print(even)"
      ],
      "metadata": {
        "colab": {
          "base_uri": "https://localhost:8080/"
        },
        "id": "DHEQhh7nQvbo",
        "outputId": "504b9187-b9ea-4d00-ce10-518f6a1a3bea"
      },
      "execution_count": 43,
      "outputs": [
        {
          "output_type": "stream",
          "name": "stdout",
          "text": [
            "[2, 4]\n"
          ]
        }
      ]
    },
    {
      "cell_type": "code",
      "source": [
        "# 실습 : 쿠팡 리뷰 분석 확장\n",
        "\n",
        "import pandas as pd\n",
        "import re\n",
        "\n",
        "# Define the clean_text function\n",
        "def clean_text(text):\n",
        "  # Remove special characters and punctuation\n",
        "  text = re.sub(r'[^ㄱ-ㅎ가-힣a-zA-Z0-9\\s]', '', text)\n",
        "  # Remove extra spaces\n",
        "  text = re.sub(r'\\s+', ' ', text).strip()\n",
        "  return text\n",
        "\n",
        "df = pd.DataFrame({\n",
        "    \"review\": [\n",
        "        \"깔끔한 알루미늄 바디 + 실용성과 가성비!\",\n",
        "        \"왜 이제야 샀을까... 거북목 완전 방지해줌 가성비 최고\",\n",
        "        \"가성비로 사용해보기 좋아요 ㅎ\",\n",
        "        \"휴대성/견고함/디자인 3박자 완벽! 목어깨 부담 완화\",\n",
        "        \"목이 편안해지는 노트북 거치대 짱!\",\n",
        "        \"가볍고 튼튼한 노트북 거치대\",\n",
        "        \"자세교정의 첫걸음 거치대 사용후기 !! \",\n",
        "        \"아쉬운 점이 있으나 휴대용으로는 적합.\",\n",
        "        \"가성비라고 하지만 싼값이라 아쉬운 부분이 많음\",\n",
        "        \"싸지만, 조금 엉성함\"\n",
        "    ]\n",
        "})\n",
        "\n",
        "df[\"cleaned\"] = df[\"review\"].apply(clean_text)\n",
        "# 중복 포함된 숫자\n",
        "df[\"token_count\"] = df[\"cleaned\"].apply(lambda x: len(x.split()))\n",
        "#\n",
        "df[\"vocab_size\"] = df[\"cleaned\"].apply(lambda x: len(set(x.split())))\n",
        "\n",
        "print(df)\n",
        "\n",
        "df\n"
      ],
      "metadata": {
        "colab": {
          "base_uri": "https://localhost:8080/",
          "height": 785
        },
        "id": "jeP8FTL7RYFG",
        "outputId": "be490b12-421d-48fb-c025-53f655a1169d"
      },
      "execution_count": 56,
      "outputs": [
        {
          "output_type": "stream",
          "name": "stdout",
          "text": [
            "                            review                       cleaned  token_count  \\\n",
            "0          깔끔한 알루미늄 바디 + 실용성과 가성비!          깔끔한 알루미늄 바디 실용성과 가성비            5   \n",
            "1  왜 이제야 샀을까... 거북목 완전 방지해줌 가성비 최고  왜 이제야 샀을까 거북목 완전 방지해줌 가성비 최고            8   \n",
            "2                 가성비로 사용해보기 좋아요 ㅎ              가성비로 사용해보기 좋아요 ㅎ            4   \n",
            "3    휴대성/견고함/디자인 3박자 완벽! 목어깨 부담 완화    휴대성견고함디자인 3박자 완벽 목어깨 부담 완화            6   \n",
            "4              목이 편안해지는 노트북 거치대 짱!            목이 편안해지는 노트북 거치대 짱            5   \n",
            "5                  가볍고 튼튼한 노트북 거치대               가볍고 튼튼한 노트북 거치대            4   \n",
            "6           자세교정의 첫걸음 거치대 사용후기 !!             자세교정의 첫걸음 거치대 사용후기            4   \n",
            "7            아쉬운 점이 있으나 휴대용으로는 적합.          아쉬운 점이 있으나 휴대용으로는 적합            5   \n",
            "8        가성비라고 하지만 싼값이라 아쉬운 부분이 많음     가성비라고 하지만 싼값이라 아쉬운 부분이 많음            6   \n",
            "9                      싸지만, 조금 엉성함                    싸지만 조금 엉성함            3   \n",
            "\n",
            "   vocab_size  \n",
            "0           5  \n",
            "1           8  \n",
            "2           4  \n",
            "3           6  \n",
            "4           5  \n",
            "5           4  \n",
            "6           4  \n",
            "7           5  \n",
            "8           6  \n",
            "9           3  \n"
          ]
        },
        {
          "output_type": "execute_result",
          "data": {
            "text/plain": [
              "                            review                       cleaned  token_count  \\\n",
              "0          깔끔한 알루미늄 바디 + 실용성과 가성비!          깔끔한 알루미늄 바디 실용성과 가성비            5   \n",
              "1  왜 이제야 샀을까... 거북목 완전 방지해줌 가성비 최고  왜 이제야 샀을까 거북목 완전 방지해줌 가성비 최고            8   \n",
              "2                 가성비로 사용해보기 좋아요 ㅎ              가성비로 사용해보기 좋아요 ㅎ            4   \n",
              "3    휴대성/견고함/디자인 3박자 완벽! 목어깨 부담 완화    휴대성견고함디자인 3박자 완벽 목어깨 부담 완화            6   \n",
              "4              목이 편안해지는 노트북 거치대 짱!            목이 편안해지는 노트북 거치대 짱            5   \n",
              "5                  가볍고 튼튼한 노트북 거치대               가볍고 튼튼한 노트북 거치대            4   \n",
              "6           자세교정의 첫걸음 거치대 사용후기 !!             자세교정의 첫걸음 거치대 사용후기            4   \n",
              "7            아쉬운 점이 있으나 휴대용으로는 적합.          아쉬운 점이 있으나 휴대용으로는 적합            5   \n",
              "8        가성비라고 하지만 싼값이라 아쉬운 부분이 많음     가성비라고 하지만 싼값이라 아쉬운 부분이 많음            6   \n",
              "9                      싸지만, 조금 엉성함                    싸지만 조금 엉성함            3   \n",
              "\n",
              "   vocab_size  \n",
              "0           5  \n",
              "1           8  \n",
              "2           4  \n",
              "3           6  \n",
              "4           5  \n",
              "5           4  \n",
              "6           4  \n",
              "7           5  \n",
              "8           6  \n",
              "9           3  "
            ],
            "text/html": [
              "\n",
              "  <div id=\"df-60212ea9-48c2-471d-b754-af7de0795729\" class=\"colab-df-container\">\n",
              "    <div>\n",
              "<style scoped>\n",
              "    .dataframe tbody tr th:only-of-type {\n",
              "        vertical-align: middle;\n",
              "    }\n",
              "\n",
              "    .dataframe tbody tr th {\n",
              "        vertical-align: top;\n",
              "    }\n",
              "\n",
              "    .dataframe thead th {\n",
              "        text-align: right;\n",
              "    }\n",
              "</style>\n",
              "<table border=\"1\" class=\"dataframe\">\n",
              "  <thead>\n",
              "    <tr style=\"text-align: right;\">\n",
              "      <th></th>\n",
              "      <th>review</th>\n",
              "      <th>cleaned</th>\n",
              "      <th>token_count</th>\n",
              "      <th>vocab_size</th>\n",
              "    </tr>\n",
              "  </thead>\n",
              "  <tbody>\n",
              "    <tr>\n",
              "      <th>0</th>\n",
              "      <td>깔끔한 알루미늄 바디 + 실용성과 가성비!</td>\n",
              "      <td>깔끔한 알루미늄 바디 실용성과 가성비</td>\n",
              "      <td>5</td>\n",
              "      <td>5</td>\n",
              "    </tr>\n",
              "    <tr>\n",
              "      <th>1</th>\n",
              "      <td>왜 이제야 샀을까... 거북목 완전 방지해줌 가성비 최고</td>\n",
              "      <td>왜 이제야 샀을까 거북목 완전 방지해줌 가성비 최고</td>\n",
              "      <td>8</td>\n",
              "      <td>8</td>\n",
              "    </tr>\n",
              "    <tr>\n",
              "      <th>2</th>\n",
              "      <td>가성비로 사용해보기 좋아요 ㅎ</td>\n",
              "      <td>가성비로 사용해보기 좋아요 ㅎ</td>\n",
              "      <td>4</td>\n",
              "      <td>4</td>\n",
              "    </tr>\n",
              "    <tr>\n",
              "      <th>3</th>\n",
              "      <td>휴대성/견고함/디자인 3박자 완벽! 목어깨 부담 완화</td>\n",
              "      <td>휴대성견고함디자인 3박자 완벽 목어깨 부담 완화</td>\n",
              "      <td>6</td>\n",
              "      <td>6</td>\n",
              "    </tr>\n",
              "    <tr>\n",
              "      <th>4</th>\n",
              "      <td>목이 편안해지는 노트북 거치대 짱!</td>\n",
              "      <td>목이 편안해지는 노트북 거치대 짱</td>\n",
              "      <td>5</td>\n",
              "      <td>5</td>\n",
              "    </tr>\n",
              "    <tr>\n",
              "      <th>5</th>\n",
              "      <td>가볍고 튼튼한 노트북 거치대</td>\n",
              "      <td>가볍고 튼튼한 노트북 거치대</td>\n",
              "      <td>4</td>\n",
              "      <td>4</td>\n",
              "    </tr>\n",
              "    <tr>\n",
              "      <th>6</th>\n",
              "      <td>자세교정의 첫걸음 거치대 사용후기 !!</td>\n",
              "      <td>자세교정의 첫걸음 거치대 사용후기</td>\n",
              "      <td>4</td>\n",
              "      <td>4</td>\n",
              "    </tr>\n",
              "    <tr>\n",
              "      <th>7</th>\n",
              "      <td>아쉬운 점이 있으나 휴대용으로는 적합.</td>\n",
              "      <td>아쉬운 점이 있으나 휴대용으로는 적합</td>\n",
              "      <td>5</td>\n",
              "      <td>5</td>\n",
              "    </tr>\n",
              "    <tr>\n",
              "      <th>8</th>\n",
              "      <td>가성비라고 하지만 싼값이라 아쉬운 부분이 많음</td>\n",
              "      <td>가성비라고 하지만 싼값이라 아쉬운 부분이 많음</td>\n",
              "      <td>6</td>\n",
              "      <td>6</td>\n",
              "    </tr>\n",
              "    <tr>\n",
              "      <th>9</th>\n",
              "      <td>싸지만, 조금 엉성함</td>\n",
              "      <td>싸지만 조금 엉성함</td>\n",
              "      <td>3</td>\n",
              "      <td>3</td>\n",
              "    </tr>\n",
              "  </tbody>\n",
              "</table>\n",
              "</div>\n",
              "    <div class=\"colab-df-buttons\">\n",
              "\n",
              "  <div class=\"colab-df-container\">\n",
              "    <button class=\"colab-df-convert\" onclick=\"convertToInteractive('df-60212ea9-48c2-471d-b754-af7de0795729')\"\n",
              "            title=\"Convert this dataframe to an interactive table.\"\n",
              "            style=\"display:none;\">\n",
              "\n",
              "  <svg xmlns=\"http://www.w3.org/2000/svg\" height=\"24px\" viewBox=\"0 -960 960 960\">\n",
              "    <path d=\"M120-120v-720h720v720H120Zm60-500h600v-160H180v160Zm220 220h160v-160H400v160Zm0 220h160v-160H400v160ZM180-400h160v-160H180v160Zm440 0h160v-160H620v160ZM180-180h160v-160H180v160Zm440 0h160v-160H620v160Z\"/>\n",
              "  </svg>\n",
              "    </button>\n",
              "\n",
              "  <style>\n",
              "    .colab-df-container {\n",
              "      display:flex;\n",
              "      gap: 12px;\n",
              "    }\n",
              "\n",
              "    .colab-df-convert {\n",
              "      background-color: #E8F0FE;\n",
              "      border: none;\n",
              "      border-radius: 50%;\n",
              "      cursor: pointer;\n",
              "      display: none;\n",
              "      fill: #1967D2;\n",
              "      height: 32px;\n",
              "      padding: 0 0 0 0;\n",
              "      width: 32px;\n",
              "    }\n",
              "\n",
              "    .colab-df-convert:hover {\n",
              "      background-color: #E2EBFA;\n",
              "      box-shadow: 0px 1px 2px rgba(60, 64, 67, 0.3), 0px 1px 3px 1px rgba(60, 64, 67, 0.15);\n",
              "      fill: #174EA6;\n",
              "    }\n",
              "\n",
              "    .colab-df-buttons div {\n",
              "      margin-bottom: 4px;\n",
              "    }\n",
              "\n",
              "    [theme=dark] .colab-df-convert {\n",
              "      background-color: #3B4455;\n",
              "      fill: #D2E3FC;\n",
              "    }\n",
              "\n",
              "    [theme=dark] .colab-df-convert:hover {\n",
              "      background-color: #434B5C;\n",
              "      box-shadow: 0px 1px 3px 1px rgba(0, 0, 0, 0.15);\n",
              "      filter: drop-shadow(0px 1px 2px rgba(0, 0, 0, 0.3));\n",
              "      fill: #FFFFFF;\n",
              "    }\n",
              "  </style>\n",
              "\n",
              "    <script>\n",
              "      const buttonEl =\n",
              "        document.querySelector('#df-60212ea9-48c2-471d-b754-af7de0795729 button.colab-df-convert');\n",
              "      buttonEl.style.display =\n",
              "        google.colab.kernel.accessAllowed ? 'block' : 'none';\n",
              "\n",
              "      async function convertToInteractive(key) {\n",
              "        const element = document.querySelector('#df-60212ea9-48c2-471d-b754-af7de0795729');\n",
              "        const dataTable =\n",
              "          await google.colab.kernel.invokeFunction('convertToInteractive',\n",
              "                                                    [key], {});\n",
              "        if (!dataTable) return;\n",
              "\n",
              "        const docLinkHtml = 'Like what you see? Visit the ' +\n",
              "          '<a target=\"_blank\" href=https://colab.research.google.com/notebooks/data_table.ipynb>data table notebook</a>'\n",
              "          + ' to learn more about interactive tables.';\n",
              "        element.innerHTML = '';\n",
              "        dataTable['output_type'] = 'display_data';\n",
              "        await google.colab.output.renderOutput(dataTable, element);\n",
              "        const docLink = document.createElement('div');\n",
              "        docLink.innerHTML = docLinkHtml;\n",
              "        element.appendChild(docLink);\n",
              "      }\n",
              "    </script>\n",
              "  </div>\n",
              "\n",
              "\n",
              "    <div id=\"df-dadbb7da-d964-46a2-ba7f-7c04b0f2453d\">\n",
              "      <button class=\"colab-df-quickchart\" onclick=\"quickchart('df-dadbb7da-d964-46a2-ba7f-7c04b0f2453d')\"\n",
              "                title=\"Suggest charts\"\n",
              "                style=\"display:none;\">\n",
              "\n",
              "<svg xmlns=\"http://www.w3.org/2000/svg\" height=\"24px\"viewBox=\"0 0 24 24\"\n",
              "     width=\"24px\">\n",
              "    <g>\n",
              "        <path d=\"M19 3H5c-1.1 0-2 .9-2 2v14c0 1.1.9 2 2 2h14c1.1 0 2-.9 2-2V5c0-1.1-.9-2-2-2zM9 17H7v-7h2v7zm4 0h-2V7h2v10zm4 0h-2v-4h2v4z\"/>\n",
              "    </g>\n",
              "</svg>\n",
              "      </button>\n",
              "\n",
              "<style>\n",
              "  .colab-df-quickchart {\n",
              "      --bg-color: #E8F0FE;\n",
              "      --fill-color: #1967D2;\n",
              "      --hover-bg-color: #E2EBFA;\n",
              "      --hover-fill-color: #174EA6;\n",
              "      --disabled-fill-color: #AAA;\n",
              "      --disabled-bg-color: #DDD;\n",
              "  }\n",
              "\n",
              "  [theme=dark] .colab-df-quickchart {\n",
              "      --bg-color: #3B4455;\n",
              "      --fill-color: #D2E3FC;\n",
              "      --hover-bg-color: #434B5C;\n",
              "      --hover-fill-color: #FFFFFF;\n",
              "      --disabled-bg-color: #3B4455;\n",
              "      --disabled-fill-color: #666;\n",
              "  }\n",
              "\n",
              "  .colab-df-quickchart {\n",
              "    background-color: var(--bg-color);\n",
              "    border: none;\n",
              "    border-radius: 50%;\n",
              "    cursor: pointer;\n",
              "    display: none;\n",
              "    fill: var(--fill-color);\n",
              "    height: 32px;\n",
              "    padding: 0;\n",
              "    width: 32px;\n",
              "  }\n",
              "\n",
              "  .colab-df-quickchart:hover {\n",
              "    background-color: var(--hover-bg-color);\n",
              "    box-shadow: 0 1px 2px rgba(60, 64, 67, 0.3), 0 1px 3px 1px rgba(60, 64, 67, 0.15);\n",
              "    fill: var(--button-hover-fill-color);\n",
              "  }\n",
              "\n",
              "  .colab-df-quickchart-complete:disabled,\n",
              "  .colab-df-quickchart-complete:disabled:hover {\n",
              "    background-color: var(--disabled-bg-color);\n",
              "    fill: var(--disabled-fill-color);\n",
              "    box-shadow: none;\n",
              "  }\n",
              "\n",
              "  .colab-df-spinner {\n",
              "    border: 2px solid var(--fill-color);\n",
              "    border-color: transparent;\n",
              "    border-bottom-color: var(--fill-color);\n",
              "    animation:\n",
              "      spin 1s steps(1) infinite;\n",
              "  }\n",
              "\n",
              "  @keyframes spin {\n",
              "    0% {\n",
              "      border-color: transparent;\n",
              "      border-bottom-color: var(--fill-color);\n",
              "      border-left-color: var(--fill-color);\n",
              "    }\n",
              "    20% {\n",
              "      border-color: transparent;\n",
              "      border-left-color: var(--fill-color);\n",
              "      border-top-color: var(--fill-color);\n",
              "    }\n",
              "    30% {\n",
              "      border-color: transparent;\n",
              "      border-left-color: var(--fill-color);\n",
              "      border-top-color: var(--fill-color);\n",
              "      border-right-color: var(--fill-color);\n",
              "    }\n",
              "    40% {\n",
              "      border-color: transparent;\n",
              "      border-right-color: var(--fill-color);\n",
              "      border-top-color: var(--fill-color);\n",
              "    }\n",
              "    60% {\n",
              "      border-color: transparent;\n",
              "      border-right-color: var(--fill-color);\n",
              "    }\n",
              "    80% {\n",
              "      border-color: transparent;\n",
              "      border-right-color: var(--fill-color);\n",
              "      border-bottom-color: var(--fill-color);\n",
              "    }\n",
              "    90% {\n",
              "      border-color: transparent;\n",
              "      border-bottom-color: var(--fill-color);\n",
              "    }\n",
              "  }\n",
              "</style>\n",
              "\n",
              "      <script>\n",
              "        async function quickchart(key) {\n",
              "          const quickchartButtonEl =\n",
              "            document.querySelector('#' + key + ' button');\n",
              "          quickchartButtonEl.disabled = true;  // To prevent multiple clicks.\n",
              "          quickchartButtonEl.classList.add('colab-df-spinner');\n",
              "          try {\n",
              "            const charts = await google.colab.kernel.invokeFunction(\n",
              "                'suggestCharts', [key], {});\n",
              "          } catch (error) {\n",
              "            console.error('Error during call to suggestCharts:', error);\n",
              "          }\n",
              "          quickchartButtonEl.classList.remove('colab-df-spinner');\n",
              "          quickchartButtonEl.classList.add('colab-df-quickchart-complete');\n",
              "        }\n",
              "        (() => {\n",
              "          let quickchartButtonEl =\n",
              "            document.querySelector('#df-dadbb7da-d964-46a2-ba7f-7c04b0f2453d button');\n",
              "          quickchartButtonEl.style.display =\n",
              "            google.colab.kernel.accessAllowed ? 'block' : 'none';\n",
              "        })();\n",
              "      </script>\n",
              "    </div>\n",
              "\n",
              "  <div id=\"id_2db99763-1da1-4689-9360-a861854faa6f\">\n",
              "    <style>\n",
              "      .colab-df-generate {\n",
              "        background-color: #E8F0FE;\n",
              "        border: none;\n",
              "        border-radius: 50%;\n",
              "        cursor: pointer;\n",
              "        display: none;\n",
              "        fill: #1967D2;\n",
              "        height: 32px;\n",
              "        padding: 0 0 0 0;\n",
              "        width: 32px;\n",
              "      }\n",
              "\n",
              "      .colab-df-generate:hover {\n",
              "        background-color: #E2EBFA;\n",
              "        box-shadow: 0px 1px 2px rgba(60, 64, 67, 0.3), 0px 1px 3px 1px rgba(60, 64, 67, 0.15);\n",
              "        fill: #174EA6;\n",
              "      }\n",
              "\n",
              "      [theme=dark] .colab-df-generate {\n",
              "        background-color: #3B4455;\n",
              "        fill: #D2E3FC;\n",
              "      }\n",
              "\n",
              "      [theme=dark] .colab-df-generate:hover {\n",
              "        background-color: #434B5C;\n",
              "        box-shadow: 0px 1px 3px 1px rgba(0, 0, 0, 0.15);\n",
              "        filter: drop-shadow(0px 1px 2px rgba(0, 0, 0, 0.3));\n",
              "        fill: #FFFFFF;\n",
              "      }\n",
              "    </style>\n",
              "    <button class=\"colab-df-generate\" onclick=\"generateWithVariable('df')\"\n",
              "            title=\"Generate code using this dataframe.\"\n",
              "            style=\"display:none;\">\n",
              "\n",
              "  <svg xmlns=\"http://www.w3.org/2000/svg\" height=\"24px\"viewBox=\"0 0 24 24\"\n",
              "       width=\"24px\">\n",
              "    <path d=\"M7,19H8.4L18.45,9,17,7.55,7,17.6ZM5,21V16.75L18.45,3.32a2,2,0,0,1,2.83,0l1.4,1.43a1.91,1.91,0,0,1,.58,1.4,1.91,1.91,0,0,1-.58,1.4L9.25,21ZM18.45,9,17,7.55Zm-12,3A5.31,5.31,0,0,0,4.9,8.1,5.31,5.31,0,0,0,1,6.5,5.31,5.31,0,0,0,4.9,4.9,5.31,5.31,0,0,0,6.5,1,5.31,5.31,0,0,0,8.1,4.9,5.31,5.31,0,0,0,12,6.5,5.46,5.46,0,0,0,6.5,12Z\"/>\n",
              "  </svg>\n",
              "    </button>\n",
              "    <script>\n",
              "      (() => {\n",
              "      const buttonEl =\n",
              "        document.querySelector('#id_2db99763-1da1-4689-9360-a861854faa6f button.colab-df-generate');\n",
              "      buttonEl.style.display =\n",
              "        google.colab.kernel.accessAllowed ? 'block' : 'none';\n",
              "\n",
              "      buttonEl.onclick = () => {\n",
              "        google.colab.notebook.generateWithVariable('df');\n",
              "      }\n",
              "      })();\n",
              "    </script>\n",
              "  </div>\n",
              "\n",
              "    </div>\n",
              "  </div>\n"
            ],
            "application/vnd.google.colaboratory.intrinsic+json": {
              "type": "dataframe",
              "variable_name": "df",
              "summary": "{\n  \"name\": \"df\",\n  \"rows\": 10,\n  \"fields\": [\n    {\n      \"column\": \"review\",\n      \"properties\": {\n        \"dtype\": \"string\",\n        \"num_unique_values\": 10,\n        \"samples\": [\n          \"\\uac00\\uc131\\ube44\\ub77c\\uace0 \\ud558\\uc9c0\\ub9cc \\uc2fc\\uac12\\uc774\\ub77c \\uc544\\uc26c\\uc6b4 \\ubd80\\ubd84\\uc774 \\ub9ce\\uc74c\",\n          \"\\uc65c \\uc774\\uc81c\\uc57c \\uc0c0\\uc744\\uae4c... \\uac70\\ubd81\\ubaa9 \\uc644\\uc804 \\ubc29\\uc9c0\\ud574\\uc90c \\uac00\\uc131\\ube44 \\ucd5c\\uace0\",\n          \"\\uac00\\ubccd\\uace0 \\ud2bc\\ud2bc\\ud55c \\ub178\\ud2b8\\ubd81 \\uac70\\uce58\\ub300\"\n        ],\n        \"semantic_type\": \"\",\n        \"description\": \"\"\n      }\n    },\n    {\n      \"column\": \"cleaned\",\n      \"properties\": {\n        \"dtype\": \"string\",\n        \"num_unique_values\": 10,\n        \"samples\": [\n          \"\\uac00\\uc131\\ube44\\ub77c\\uace0 \\ud558\\uc9c0\\ub9cc \\uc2fc\\uac12\\uc774\\ub77c \\uc544\\uc26c\\uc6b4 \\ubd80\\ubd84\\uc774 \\ub9ce\\uc74c\",\n          \"\\uc65c \\uc774\\uc81c\\uc57c \\uc0c0\\uc744\\uae4c \\uac70\\ubd81\\ubaa9 \\uc644\\uc804 \\ubc29\\uc9c0\\ud574\\uc90c \\uac00\\uc131\\ube44 \\ucd5c\\uace0\",\n          \"\\uac00\\ubccd\\uace0 \\ud2bc\\ud2bc\\ud55c \\ub178\\ud2b8\\ubd81 \\uac70\\uce58\\ub300\"\n        ],\n        \"semantic_type\": \"\",\n        \"description\": \"\"\n      }\n    },\n    {\n      \"column\": \"token_count\",\n      \"properties\": {\n        \"dtype\": \"number\",\n        \"std\": 1,\n        \"min\": 3,\n        \"max\": 8,\n        \"num_unique_values\": 5,\n        \"samples\": [\n          8,\n          3,\n          4\n        ],\n        \"semantic_type\": \"\",\n        \"description\": \"\"\n      }\n    },\n    {\n      \"column\": \"vocab_size\",\n      \"properties\": {\n        \"dtype\": \"number\",\n        \"std\": 1,\n        \"min\": 3,\n        \"max\": 8,\n        \"num_unique_values\": 5,\n        \"samples\": [\n          8,\n          3,\n          4\n        ],\n        \"semantic_type\": \"\",\n        \"description\": \"\"\n      }\n    }\n  ]\n}"
            }
          },
          "metadata": {},
          "execution_count": 56
        }
      ]
    },
    {
      "cell_type": "code",
      "source": [
        "# 1-3교시 통합 실습자료\n",
        "\n",
        "# 실습 1. 기본 문장 실습\n",
        "s = \"오늘은 파이썬 텍스트 분석을 배우는 첫날입니다.\"\n",
        "tokens = s.split()\n",
        "vocab = set(tokens)\n",
        "longest = max(tokens, key=len) # key=len 최댓값을 고를 때 “비교 기준”을 길이로 하라\n",
        "\n",
        "print(\"문자 수 : \", len(s))\n",
        "print(\"토큰 리스트 : \", tokens)\n",
        "print(\"토큰 수 : \", len(tokens))\n",
        "print(\"어휘 크기 : \", len(vocab))\n",
        "print(\"가장 긴 토큰 : \", longest, \"| 길이 :\", len(longest))\n",
        "\n",
        "\n"
      ],
      "metadata": {
        "colab": {
          "base_uri": "https://localhost:8080/"
        },
        "id": "4Jrv_HSSZVIR",
        "outputId": "9c891d70-c036-4087-f325-cd5348556f6b"
      },
      "execution_count": 62,
      "outputs": [
        {
          "output_type": "stream",
          "name": "stdout",
          "text": [
            "문자 수 :  26\n",
            "토큰 리스트 :  ['오늘은', '파이썬', '텍스트', '분석을', '배우는', '첫날입니다.']\n",
            "토큰 수 :  6\n",
            "어휘 크기 :  6\n",
            "가장 긴 토큰 :  첫날입니다. | 길이 : 6\n"
          ]
        }
      ]
    },
    {
      "cell_type": "code",
      "source": [
        "# 실습 2 - 텍스트 정제(전처리 기초)\n",
        "import re\n",
        "\n",
        "# (1) 텍스트 정제 함수\n",
        "def clean_text(text):\n",
        "    text = str(text).lower()                            # 소문자 변환\n",
        "    text = re.sub(r\"[^ㄱ-ㅎ가-힣a-z0-9 ]\", \"\", text)     # 한글·영문·숫자 외 제거\n",
        "    text = re.sub(r\"\\s+\", \" \", text).strip()             # 공백 정리\n",
        "    return text\n",
        "\n",
        "# (2) 테스트\n",
        "s = \"와우!!! 파이썬 너무 재밌어요 😊😊  1234\"\n",
        "print(\"Before:\", s)\n",
        "print(\"After :\", clean_text(s))\n"
      ],
      "metadata": {
        "colab": {
          "base_uri": "https://localhost:8080/"
        },
        "id": "nALTIrPtaebY",
        "outputId": "c2a1457e-ff78-494b-dbd9-d147763716c6"
      },
      "execution_count": 63,
      "outputs": [
        {
          "output_type": "stream",
          "name": "stdout",
          "text": [
            "Before: 와우!!! 파이썬 너무 재밌어요 😊😊  1234\n",
            "After : 와우 파이썬 너무 재밌어요 1234\n"
          ]
        }
      ]
    },
    {
      "cell_type": "code",
      "source": [
        "# 실습 3 - 리뷰 데이터 전처리(pandas실습)\n",
        "import pandas as pd\n",
        "import numpy as np\n",
        "\n",
        "# 데이터 경로\n",
        "path = \"nsmc_train.csv\"\n",
        "\n",
        "# 인코딩 문제 대비 (UTF-8 → CP949 순차 시도)\n",
        "try:\n",
        "    df = pd.read_csv(path, encoding=\"utf-8\")\n",
        "except:\n",
        "    df = pd.read_csv(path, encoding=\"cp949\")\n",
        "\n",
        "print(\"✅ 데이터 로드 완료:\", df.shape)\n",
        "print(df.head())\n"
      ],
      "metadata": {
        "colab": {
          "base_uri": "https://localhost:8080/"
        },
        "id": "Ivvwr94-a3v6",
        "outputId": "269c3810-3246-4784-c2f2-641bb967985d"
      },
      "execution_count": 64,
      "outputs": [
        {
          "output_type": "stream",
          "name": "stdout",
          "text": [
            "✅ 데이터 로드 완료: (21510, 3)\n",
            "        id                           review  rating\n",
            "0  9324809       배우들의 인생연기가 돋보였던... 최고의 드라마     1.0\n",
            "1  9305425              아 혜리 보고싶다 ... 여군좀 ㅠ     0.0\n",
            "2  5239110  눈이 팅팅..... 정말 ,..... 대박이다......     1.0\n",
            "3  9148159                 캐슬린 터너의 보디는 볼만했다     0.0\n",
            "4  6144938                         진짜 최고였다.     1.0\n"
          ]
        }
      ]
    },
    {
      "cell_type": "code",
      "source": [
        "# 텍스트 컬럼 자동 탐색\n",
        "# 2️⃣ 텍스트 컬럼 지정\n",
        "# nsmc 데이터는 'review' 컬럼에 텍스트가 저장되어 있음\n",
        "text_col = 'review' # 전처리할 텍스트 컬럼 이름 지정\n",
        "\n",
        "# 결측치 제거\n",
        "df = df.dropna(subset=[text_col]).copy() # 결측치(NaN) 제거: 'review' 컬럼에 NaN이 있는 행을 삭제하고 새 데이터프레임으로 복사\n",
        "df[text_col] = df[text_col].astype(str).str.strip()\n",
        "\n",
        "print(\"✅ 결측치 제거 후:\", df.shape)\n",
        "print(df.head(3))\n"
      ],
      "metadata": {
        "colab": {
          "base_uri": "https://localhost:8080/"
        },
        "id": "ejSwqIPobYfr",
        "outputId": "6635602a-9aa8-4c01-e30e-94a4a615fd69"
      },
      "execution_count": 70,
      "outputs": [
        {
          "output_type": "stream",
          "name": "stdout",
          "text": [
            "✅ 결측치 제거 후: (21509, 8)\n",
            "        id                           review  rating                  cleaned  \\\n",
            "0  9324809       배우들의 인생연기가 돋보였던... 최고의 드라마     1.0  배우들의 인생연기가 돋보였던 최고의 드라마   \n",
            "1  9305425              아 혜리 보고싶다 ... 여군좀 ㅠ     0.0            아 혜리 보고싶다 여군좀   \n",
            "2  5239110  눈이 팅팅..... 정말 ,..... 대박이다......     1.0            눈이 팅팅 정말 대박이다   \n",
            "\n",
            "                          tokens  token_count  vocab_size  char_len  \n",
            "0  [배우들의, 인생연기가, 돋보였던, 최고의, 드라마]            5           5        23  \n",
            "1             [아, 혜리, 보고싶다, 여군좀]            4           4        13  \n",
            "2             [눈이, 팅팅, 정말, 대박이다]            4           4        13  \n"
          ]
        }
      ]
    },
    {
      "cell_type": "code",
      "source": [
        "# clean_text 함수 재사용\n",
        "df[\"cleaned\"] = df[text_col].apply(clean_text)\n",
        "print(df[[\"review\", \"cleaned\"]].head(5))\n"
      ],
      "metadata": {
        "colab": {
          "base_uri": "https://localhost:8080/"
        },
        "id": "WpP1soBEd6Fj",
        "outputId": "c4b45a50-6be5-4e7f-b19a-417e74258712"
      },
      "execution_count": 71,
      "outputs": [
        {
          "output_type": "stream",
          "name": "stdout",
          "text": [
            "                            review                  cleaned\n",
            "0       배우들의 인생연기가 돋보였던... 최고의 드라마  배우들의 인생연기가 돋보였던 최고의 드라마\n",
            "1              아 혜리 보고싶다 ... 여군좀 ㅠ            아 혜리 보고싶다 여군좀\n",
            "2  눈이 팅팅..... 정말 ,..... 대박이다......            눈이 팅팅 정말 대박이다\n",
            "3                 캐슬린 터너의 보디는 볼만했다         캐슬린 터너의 보디는 볼만했다\n",
            "4                         진짜 최고였다.                  진짜 최고였다\n"
          ]
        }
      ]
    },
    {
      "cell_type": "code",
      "source": [
        "# 토큰화 및 통계 계산\n",
        "df[\"tokens\"] = df[\"cleaned\"].apply(lambda x: x.split()) # 토큰 전처리\n",
        "df[\"token_count\"] = df[\"tokens\"].apply(len) # 토큰 개수\n",
        "df[\"vocab_size\"] = df[\"tokens\"].apply(lambda x: len(set(x))) # 중복제거\n",
        "df[\"char_len\"] = df[\"cleaned\"].apply(len) # 자료에 대한 길이\n",
        "\n",
        "# 간단한 통계 요약\n",
        "print(\"✅ 기본 통계\")\n",
        "print(df[[\"char_len\", \"token_count\", \"vocab_size\"]].describe())\n"
      ],
      "metadata": {
        "colab": {
          "base_uri": "https://localhost:8080/"
        },
        "id": "pLJoUO1Fd7YO",
        "outputId": "e21f80eb-cb56-4eaf-eb53-4959adc90362"
      },
      "execution_count": 73,
      "outputs": [
        {
          "output_type": "stream",
          "name": "stdout",
          "text": [
            "✅ 기본 통계\n",
            "           char_len   token_count    vocab_size\n",
            "count  21509.000000  21509.000000  21509.000000\n",
            "mean      32.446371      7.454414      7.342787\n",
            "std       27.957179      6.400025      6.220312\n",
            "min        0.000000      0.000000      0.000000\n",
            "25%       14.000000      3.000000      3.000000\n",
            "50%       25.000000      6.000000      6.000000\n",
            "75%       39.000000      9.000000      9.000000\n",
            "max      140.000000     39.000000     38.000000\n"
          ]
        }
      ]
    },
    {
      "cell_type": "code",
      "source": [
        "# 결과 파일 저장\n",
        "save_path = \"nsmc_train_cleaned.csv\"\n",
        "df[[\"cleaned\", \"token_count\", \"vocab_size\", \"char_len\"]].to_csv(save_path, index=False, encoding=\"utf-8-sig\")\n",
        "print(\"💾 전처리된 데이터 저장 완료:\", save_path)\n"
      ],
      "metadata": {
        "colab": {
          "base_uri": "https://localhost:8080/"
        },
        "id": "0w0J2tm_d8qY",
        "outputId": "b62108ef-0c13-4986-9e63-50bcf56f5c8f"
      },
      "execution_count": 69,
      "outputs": [
        {
          "output_type": "stream",
          "name": "stdout",
          "text": [
            "💾 전처리된 데이터 저장 완료: nsmc_train_cleaned.csv\n"
          ]
        }
      ]
    },
    {
      "cell_type": "markdown",
      "source": [
        "# 4교시"
      ],
      "metadata": {
        "id": "pmUib1LL48x4"
      }
    },
    {
      "cell_type": "code",
      "source": [
        "# 간단한 예시 문장 4개\n",
        "docs = [\n",
        "    \"나는 커피를 좋아한다\",\n",
        "    \"나는 차를 좋아한다\",\n",
        "    \"커피는 맛있다\",\n",
        "    \"차는 향기롭다\",\n",
        "    \"커피를 정말정말 좋아한다\"\n",
        "]\n"
      ],
      "metadata": {
        "id": "S5gtOW2844tH"
      },
      "execution_count": 93,
      "outputs": []
    },
    {
      "cell_type": "code",
      "source": [
        "from sklearn.feature_extraction.text import CountVectorizer\n",
        "from sklearn.feature_extraction.text import TfidfVectorizer\n",
        "import numpy as np"
      ],
      "metadata": {
        "id": "3xWQzs155gFw"
      },
      "execution_count": 84,
      "outputs": []
    },
    {
      "cell_type": "code",
      "source": [
        "# 1. 벡터라이저 생성\n",
        "cv = CountVectorizer()\n",
        "\n",
        "# 2. 문장들을 숫자로 변환 (문서-단어 행렬)\n",
        "X = cv.fit_transform(docs)\n"
      ],
      "metadata": {
        "id": "No6V2AAI54pC"
      },
      "execution_count": 94,
      "outputs": []
    },
    {
      "cell_type": "code",
      "source": [
        "# 3. 단어 목록(어휘집) 확인\n",
        "print(\"단어 목록:\", cv.get_feature_names_out())\n",
        "\n",
        "# 4. 문서-단어 행렬 확인\n",
        "print(\"문서-단어 행렬:\\n\", X.toarray())\n",
        "\n"
      ],
      "metadata": {
        "colab": {
          "base_uri": "https://localhost:8080/"
        },
        "id": "hP4DyPrY6RUK",
        "outputId": "4b6d6443-5aa9-4f29-f9ab-2b9794497e44"
      },
      "execution_count": 95,
      "outputs": [
        {
          "output_type": "stream",
          "name": "stdout",
          "text": [
            "단어 목록: ['나는' '맛있다' '정말정말' '좋아한다' '차는' '차를' '커피는' '커피를' '향기롭다']\n",
            "문서-단어 행렬:\n",
            " [[1 0 0 1 0 0 0 1 0]\n",
            " [1 0 0 1 0 1 0 0 0]\n",
            " [0 1 0 0 0 0 1 0 0]\n",
            " [0 0 0 0 1 0 0 0 1]\n",
            " [0 0 1 1 0 0 0 1 0]]\n"
          ]
        }
      ]
    },
    {
      "cell_type": "code",
      "source": [
        "# tf-idf\n",
        "\n",
        "# 1. TF-IDF 벡터라이저 생성\n",
        "tv = TfidfVectorizer()\n",
        "\n",
        "# 2. 문장 → TF-IDF 행렬로 변환\n",
        "X_tfidf = tv.fit_transform(docs)"
      ],
      "metadata": {
        "id": "HCJlb89_7B1t"
      },
      "execution_count": 96,
      "outputs": []
    },
    {
      "cell_type": "code",
      "source": [
        "\n",
        "# 3. 단어 목록 확인\n",
        "print(tv.get_feature_names_out())"
      ],
      "metadata": {
        "colab": {
          "base_uri": "https://localhost:8080/"
        },
        "id": "nv5LKfZZ7Cj2",
        "outputId": "84837f26-ac3d-4ae0-d2b6-1c5c63cee5a4"
      },
      "execution_count": 97,
      "outputs": [
        {
          "output_type": "stream",
          "name": "stdout",
          "text": [
            "['나는' '맛있다' '정말정말' '좋아한다' '차는' '차를' '커피는' '커피를' '향기롭다']\n"
          ]
        }
      ]
    },
    {
      "cell_type": "code",
      "source": [
        "# ft-idf 행렬은 각 단어의 가중치가 나오게 된다.\n",
        "X_tfidf.toarray()"
      ],
      "metadata": {
        "colab": {
          "base_uri": "https://localhost:8080/"
        },
        "id": "xTmeq_KF77wu",
        "outputId": "619e3a87-0382-4013-e6c8-9af4705d4f7e"
      },
      "execution_count": 105,
      "outputs": [
        {
          "output_type": "execute_result",
          "data": {
            "text/plain": [
              "array([[0.60981846, 0.50620441, 0.60981846],\n",
              "       [0.76944707, 0.63871058, 0.        ],\n",
              "       [0.        , 0.        , 0.        ],\n",
              "       [0.        , 0.        , 0.        ],\n",
              "       [0.        , 0.63871058, 0.76944707]])"
            ]
          },
          "metadata": {},
          "execution_count": 105
        }
      ]
    },
    {
      "cell_type": "code",
      "source": [
        "# numpy 반올림 함수 = round\n",
        "\n",
        "np.round(X_tfidf.toarray(), 2)"
      ],
      "metadata": {
        "colab": {
          "base_uri": "https://localhost:8080/"
        },
        "id": "pjFWWfUz7SwV",
        "outputId": "5dd05807-ca20-4099-f4c3-aedcd85dbba3"
      },
      "execution_count": 99,
      "outputs": [
        {
          "output_type": "execute_result",
          "data": {
            "text/plain": [
              "array([[0.61, 0.  , 0.  , 0.51, 0.  , 0.  , 0.  , 0.61, 0.  ],\n",
              "       [0.56, 0.  , 0.  , 0.46, 0.  , 0.69, 0.  , 0.  , 0.  ],\n",
              "       [0.  , 0.71, 0.  , 0.  , 0.  , 0.  , 0.71, 0.  , 0.  ],\n",
              "       [0.  , 0.  , 0.  , 0.  , 0.71, 0.  , 0.  , 0.  , 0.71],\n",
              "       [0.  , 0.  , 0.69, 0.46, 0.  , 0.  , 0.  , 0.56, 0.  ]])"
            ]
          },
          "metadata": {},
          "execution_count": 99
        }
      ]
    },
    {
      "cell_type": "code",
      "source": [
        "# tf-idf\n",
        "\n",
        "# ngram_range -> (1,2) -> 단어를 두개를 사용한 것이 하나의 토콘\n",
        "# min_df = 빈도 갯수가 2개가 최소!\n",
        "\n",
        "tv = TfidfVectorizer(ngram_range=(1,2), min_df=2)\n",
        "\n",
        "# 2. 문장 → TF-IDF 행렬로 변환\n",
        "X_tfidf = tv.fit_transform(docs)\n",
        "\n",
        "\n",
        "# 3. 단어 목록 확인\n",
        "print(tv.get_feature_names_out())\n",
        "\n",
        "# ft-idf 행렬은 각 단어의 가중치가 나오게 된다.\n",
        "X_tfidf.toarray()"
      ],
      "metadata": {
        "colab": {
          "base_uri": "https://localhost:8080/"
        },
        "id": "5h49fnw577Ze",
        "outputId": "c303a7c1-78bf-4dff-bcb5-4126f3b8a5a0"
      },
      "execution_count": 106,
      "outputs": [
        {
          "output_type": "stream",
          "name": "stdout",
          "text": [
            "['나는' '좋아한다' '커피를']\n"
          ]
        },
        {
          "output_type": "execute_result",
          "data": {
            "text/plain": [
              "array([[0.60981846, 0.50620441, 0.60981846],\n",
              "       [0.76944707, 0.63871058, 0.        ],\n",
              "       [0.        , 0.        , 0.        ],\n",
              "       [0.        , 0.        , 0.        ],\n",
              "       [0.        , 0.63871058, 0.76944707]])"
            ]
          },
          "metadata": {},
          "execution_count": 106
        }
      ]
    },
    {
      "cell_type": "code",
      "source": [
        "# 단어별 빈도수 계산하는 함수 - Counter\n",
        "docs = [\n",
        "    \"나는 커피를 좋아한다\",\n",
        "    \"나는 차를 좋아한다\",\n",
        "    \"커피는 맛있다\",\n",
        "    \"차는 향기롭다\",\n",
        "    \"커피를 정말정말 좋아한다\"\n",
        "]\n"
      ],
      "metadata": {
        "id": "qGa0S7vuA9nj"
      },
      "execution_count": 107,
      "outputs": []
    },
    {
      "cell_type": "code",
      "source": [
        "from collections import Counter\n",
        "\n",
        "# join - 나는 커피를 좋아한다 나는 차를 좋아한다 커피는 맛있다 ....\n",
        "# split - ['나는', '커피를', '좋아한다'...]\n",
        "words = \" \".join(docs).split() # 모든 문장을 합치고, 단어로 나누기"
      ],
      "metadata": {
        "id": "hDmJKDAVCVqj"
      },
      "execution_count": 109,
      "outputs": []
    },
    {
      "cell_type": "code",
      "source": [
        "count = Counter(words)\n",
        "count.most_common(10) # 가장 많이 언급된 10가지 추출"
      ],
      "metadata": {
        "colab": {
          "base_uri": "https://localhost:8080/"
        },
        "id": "qIIX6_XPC4pz",
        "outputId": "06e54add-1b5f-4866-faa1-a3ae47ba6bb7"
      },
      "execution_count": 110,
      "outputs": [
        {
          "output_type": "execute_result",
          "data": {
            "text/plain": [
              "[('좋아한다', 3),\n",
              " ('나는', 2),\n",
              " ('커피를', 2),\n",
              " ('차를', 1),\n",
              " ('커피는', 1),\n",
              " ('맛있다', 1),\n",
              " ('차는', 1),\n",
              " ('향기롭다', 1),\n",
              " ('정말정말', 1)]"
            ]
          },
          "metadata": {},
          "execution_count": 110
        }
      ]
    },
    {
      "cell_type": "code",
      "source": [
        "# 워드클라우드를 위한 준비~!\n",
        "!pip install -q koreanize-matplotlib\n",
        "!apt-get install -y fonts-noto-cjk"
      ],
      "metadata": {
        "colab": {
          "base_uri": "https://localhost:8080/"
        },
        "id": "YJZ4Dr_FDeGx",
        "outputId": "45bfc84c-24c0-4b51-a58d-ddddb676e109"
      },
      "execution_count": 111,
      "outputs": [
        {
          "output_type": "stream",
          "name": "stdout",
          "text": [
            "\u001b[2K   \u001b[90m━━━━━━━━━━━━━━━━━━━━━━━━━━━━━━━━━━━━━━━━\u001b[0m \u001b[32m7.9/7.9 MB\u001b[0m \u001b[31m105.9 MB/s\u001b[0m eta \u001b[36m0:00:00\u001b[0m\n",
            "Reading package lists... Done\n",
            "Building dependency tree... Done\n",
            "Reading state information... Done\n",
            "Suggested packages:\n",
            "  fonts-noto-cjk-extra\n",
            "The following NEW packages will be installed:\n",
            "  fonts-noto-cjk\n",
            "0 upgraded, 1 newly installed, 0 to remove and 38 not upgraded.\n",
            "Need to get 61.2 MB of archives.\n",
            "After this operation, 93.2 MB of additional disk space will be used.\n",
            "Get:1 http://archive.ubuntu.com/ubuntu jammy/main amd64 fonts-noto-cjk all 1:20220127+repack1-1 [61.2 MB]\n",
            "Fetched 61.2 MB in 2s (29.7 MB/s)\n",
            "Selecting previously unselected package fonts-noto-cjk.\n",
            "(Reading database ... 126675 files and directories currently installed.)\n",
            "Preparing to unpack .../fonts-noto-cjk_1%3a20220127+repack1-1_all.deb ...\n",
            "Unpacking fonts-noto-cjk (1:20220127+repack1-1) ...\n",
            "Setting up fonts-noto-cjk (1:20220127+repack1-1) ...\n",
            "Processing triggers for fontconfig (2.13.1-4.2ubuntu5) ...\n"
          ]
        }
      ]
    },
    {
      "cell_type": "code",
      "source": [
        "import koreanize_matplotlib # matplotlib의 한글화\n",
        "from wordcloud import WordCloud # 워드클라우드\n",
        "import matplotlib.pyplot as plt # 파이썬 그래프 그리는 라이브러리"
      ],
      "metadata": {
        "id": "6U38rqjFDzyF"
      },
      "execution_count": 112,
      "outputs": []
    },
    {
      "cell_type": "code",
      "source": [
        "# 1. font_path 폰트에 대한 경로를 잘 지정해야함\n",
        "# 해당 경로에 한글로 인식 할 수 있는 폰트 여부에 대한 파악!\n",
        "font_path = '/usr/share/fonts/opentype/noto/NotoSansCJK-Regular.ttc'"
      ],
      "metadata": {
        "id": "dnPB1XUhEM8T"
      },
      "execution_count": 113,
      "outputs": []
    },
    {
      "cell_type": "code",
      "source": [
        "# 2. wordcloud 에 대한 옵션 잘 적어야함\n",
        "wc = WordCloud(\n",
        "    font_path = font_path, # 폰트\n",
        "    background_color = 'white', # 배경색\n",
        "    width = 600, # 넓이\n",
        "    height = 400 # 길이\n",
        ")"
      ],
      "metadata": {
        "id": "JMUMGpD5EM2q"
      },
      "execution_count": 116,
      "outputs": []
    },
    {
      "cell_type": "code",
      "source": [
        "# 3. 그래프 설정\n",
        "plt.figure(figsize= (8,6)) # 가로세로 사이즈\n",
        "plt.imshow(wc.generate_from_frequencies(count)) # 워드클라우드 그리는 명령어"
      ],
      "metadata": {
        "colab": {
          "base_uri": "https://localhost:8080/",
          "height": 495
        },
        "id": "bS-F7YT8FG9r",
        "outputId": "93b5b9a6-fc79-40ca-f44a-f1b5dcc045ef"
      },
      "execution_count": 117,
      "outputs": [
        {
          "output_type": "execute_result",
          "data": {
            "text/plain": [
              "<matplotlib.image.AxesImage at 0x7b645c8cb9e0>"
            ]
          },
          "metadata": {},
          "execution_count": 117
        },
        {
          "output_type": "display_data",
          "data": {
            "text/plain": [
              "<Figure size 800x600 with 1 Axes>"
            ],
            "image/png": "[encoded data removed]"
          },
          "metadata": {}
        }
      ]
    },
    {
      "cell_type": "code",
      "source": [
        "# 두번째 실습 - 막대그래프\n",
        "\n",
        "import pandas as pd\n",
        "\n",
        "# 상위 10개 단어를 데이터프레임으로 변환\n",
        "df_top = pd.DataFrame(count.most_common(10), columns = ['단어', '빈도'])\n",
        "print(df_top)\n",
        "\n",
        "# 막대그래프 시각화 - bar (막대그래프 x축은 단어, y축은 빈도)\n",
        "plt.bar(df_top['단어'],df_top['빈도'])\n",
        "plt.show()"
      ],
      "metadata": {
        "colab": {
          "base_uri": "https://localhost:8080/",
          "height": 613
        },
        "id": "yyRBUzBqGFhm",
        "outputId": "054edcdd-9c8c-402c-a22e-27e95f4e7a08"
      },
      "execution_count": 119,
      "outputs": [
        {
          "output_type": "stream",
          "name": "stdout",
          "text": [
            "     단어  빈도\n",
            "0  좋아한다   3\n",
            "1    나는   2\n",
            "2   커피를   2\n",
            "3    차를   1\n",
            "4   커피는   1\n",
            "5   맛있다   1\n",
            "6    차는   1\n",
            "7  향기롭다   1\n",
            "8  정말정말   1\n"
          ]
        },
        {
          "output_type": "display_data",
          "data": {
            "text/plain": [
              "<Figure size 640x480 with 1 Axes>"
            ],
            "image/png": "[encoded data removed]"
          },
          "metadata": {}
        }
      ]
    },
    {
      "cell_type": "code",
      "source": [
        "!pip install wordcloud\n",
        "!apt-get -qq install fonts-nanum"
      ],
      "metadata": {
        "colab": {
          "base_uri": "https://localhost:8080/"
        },
        "id": "A1o5NHFyHna4",
        "outputId": "7ed8f243-0c81-4824-e1a4-7ca2fd44255a"
      },
      "execution_count": 120,
      "outputs": [
        {
          "output_type": "stream",
          "name": "stdout",
          "text": [
            "Requirement already satisfied: wordcloud in /usr/local/lib/python3.12/dist-packages (1.9.4)\n",
            "Requirement already satisfied: numpy>=1.6.1 in /usr/local/lib/python3.12/dist-packages (from wordcloud) (2.0.2)\n",
            "Requirement already satisfied: pillow in /usr/local/lib/python3.12/dist-packages (from wordcloud) (11.3.0)\n",
            "Requirement already satisfied: matplotlib in /usr/local/lib/python3.12/dist-packages (from wordcloud) (3.10.0)\n",
            "Requirement already satisfied: contourpy>=1.0.1 in /usr/local/lib/python3.12/dist-packages (from matplotlib->wordcloud) (1.3.3)\n",
            "Requirement already satisfied: cycler>=0.10 in /usr/local/lib/python3.12/dist-packages (from matplotlib->wordcloud) (0.12.1)\n",
            "Requirement already satisfied: fonttools>=4.22.0 in /usr/local/lib/python3.12/dist-packages (from matplotlib->wordcloud) (4.60.1)\n",
            "Requirement already satisfied: kiwisolver>=1.3.1 in /usr/local/lib/python3.12/dist-packages (from matplotlib->wordcloud) (1.4.9)\n",
            "Requirement already satisfied: packaging>=20.0 in /usr/local/lib/python3.12/dist-packages (from matplotlib->wordcloud) (25.0)\n",
            "Requirement already satisfied: pyparsing>=2.3.1 in /usr/local/lib/python3.12/dist-packages (from matplotlib->wordcloud) (3.2.5)\n",
            "Requirement already satisfied: python-dateutil>=2.7 in /usr/local/lib/python3.12/dist-packages (from matplotlib->wordcloud) (2.9.0.post0)\n",
            "Requirement already satisfied: six>=1.5 in /usr/local/lib/python3.12/dist-packages (from python-dateutil>=2.7->matplotlib->wordcloud) (1.17.0)\n",
            "Selecting previously unselected package fonts-nanum.\n",
            "(Reading database ... 126693 files and directories currently installed.)\n",
            "Preparing to unpack .../fonts-nanum_20200506-1_all.deb ...\n",
            "Unpacking fonts-nanum (20200506-1) ...\n",
            "Setting up fonts-nanum (20200506-1) ...\n",
            "Processing triggers for fontconfig (2.13.1-4.2ubuntu5) ...\n"
          ]
        }
      ]
    },
    {
      "cell_type": "code",
      "source": [
        "# 5교시 실습자료 - 단어 시각화\n",
        "\n",
        "# 1단계 - 실습용 샘플 문장 만들기\n",
        "# 간단한 리뷰 예시\n",
        "docs = [\n",
        "    \"커피가 맛있어요 향이 좋아요\",\n",
        "    \"차는 향기롭고 따뜻해요\",\n",
        "    \"저는 커피를 좋아하고 매일 마셔요\",\n",
        "    \"차보다 커피를 더 자주 마셔요\",\n",
        "    \"따뜻한 커피는 최고의 음료에요\"\n",
        "]\n",
        "\n",
        "print(\"샘플 문장 수:\", len(docs))\n",
        "for i, s in enumerate(docs, 1):\n",
        "    print(f\"{i}. {s}\")"
      ],
      "metadata": {
        "colab": {
          "base_uri": "https://localhost:8080/"
        },
        "id": "iDX0fRwdHH1h",
        "outputId": "4649073d-1387-46a0-fa79-e94697b492bc"
      },
      "execution_count": 121,
      "outputs": [
        {
          "output_type": "stream",
          "name": "stdout",
          "text": [
            "샘플 문장 수: 5\n",
            "1. 커피가 맛있어요 향이 좋아요\n",
            "2. 차는 향기롭고 따뜻해요\n",
            "3. 저는 커피를 좋아하고 매일 마셔요\n",
            "4. 차보다 커피를 더 자주 마셔요\n",
            "5. 따뜻한 커피는 최고의 음료에요\n"
          ]
        }
      ]
    },
    {
      "cell_type": "code",
      "source": [
        "# 2단계. 단어별 등장 빈도 계산하기\n",
        "from collections import Counter\n",
        "\n",
        "# 모든 문장을 하나로 합치고 단어 단위로 나누기\n",
        "words = \" \".join(docs).split()\n",
        "\n",
        "# 단어 빈도 계산\n",
        "count = Counter(words)\n",
        "\n",
        "# 상위 10개 단어 확인\n",
        "print(\"단어 개수:\", len(count))\n",
        "print(\"상위 10개 단어:\")\n",
        "for w, c in count.most_common(10):\n",
        "    print(f\"{w}: {c}\")\n"
      ],
      "metadata": {
        "colab": {
          "base_uri": "https://localhost:8080/"
        },
        "id": "QoE9wKD-HQko",
        "outputId": "2b9416ec-174c-44d5-b86d-eec6dd713a0d"
      },
      "execution_count": 122,
      "outputs": [
        {
          "output_type": "stream",
          "name": "stdout",
          "text": [
            "단어 개수: 19\n",
            "상위 10개 단어:\n",
            "커피를: 2\n",
            "마셔요: 2\n",
            "커피가: 1\n",
            "맛있어요: 1\n",
            "향이: 1\n",
            "좋아요: 1\n",
            "차는: 1\n",
            "향기롭고: 1\n",
            "따뜻해요: 1\n",
            "저는: 1\n"
          ]
        }
      ]
    },
    {
      "cell_type": "code",
      "source": [
        "# 3단계 wordCloud로 시각화\n",
        "from wordcloud import WordCloud\n",
        "import matplotlib.pyplot as plt\n",
        "\n",
        "# 한글 폰트 지정 (나눔고딕)\n",
        "font_path = \"/usr/share/fonts/truetype/nanum/NanumGothic.ttf\"\n",
        "\n",
        "# WordCloud 생성\n",
        "wc = WordCloud(font_path=font_path,\n",
        "               background_color=\"white\",\n",
        "               width=600, height=400,\n",
        "               colormap=\"cool\")\n",
        "\n",
        "plt.figure(figsize=(8,6))\n",
        "plt.imshow(wc.generate_from_frequencies(count))\n",
        "plt.axis(\"off\")\n",
        "plt.title(\"☁️ 단어 워드클라우드\", fontsize=16)\n",
        "plt.show()\n"
      ],
      "metadata": {
        "colab": {
          "base_uri": "https://localhost:8080/",
          "height": 547
        },
        "id": "qmuyJcJWIXpD",
        "outputId": "977c3014-de83-4fe2-ab30-70c67aac4205"
      },
      "execution_count": 123,
      "outputs": [
        {
          "output_type": "stream",
          "name": "stderr",
          "text": [
            "/usr/local/lib/python3.12/dist-packages/IPython/core/pylabtools.py:151: UserWarning: Glyph 9729 (\\N{CLOUD}) missing from font(s) NanumGothic.\n",
            "  fig.canvas.print_figure(bytes_io, **kw)\n",
            "/usr/local/lib/python3.12/dist-packages/IPython/core/pylabtools.py:151: UserWarning: Glyph 65039 (\\N{VARIATION SELECTOR-16}) missing from font(s) NanumGothic.\n",
            "  fig.canvas.print_figure(bytes_io, **kw)\n"
          ]
        },
        {
          "output_type": "display_data",
          "data": {
            "text/plain": [
              "<Figure size 800x600 with 1 Axes>"
            ],
            "image/png": "[encoded data removed]"
          },
          "metadata": {}
        }
      ]
    },
    {
      "cell_type": "code",
      "source": [
        "# 4단계. 막대그래프로 시각화\n",
        "import pandas as pd\n",
        "\n",
        "# 상위 10개 단어를 데이터프레임으로 변환\n",
        "df_top = pd.DataFrame(count.most_common(10), columns=[\"단어\", \"빈도\"])\n",
        "\n",
        "# 막대그래프 그리기\n",
        "plt.figure(figsize=(8,4))\n",
        "plt.bar(df_top[\"단어\"], df_top[\"빈도\"], color=\"lightcoral\")\n",
        "plt.title(\"📊 단어 빈도 상위 10개\", fontsize=14)\n",
        "plt.xlabel(\"단어\")\n",
        "plt.ylabel(\"빈도수\")\n",
        "plt.show()\n"
      ],
      "metadata": {
        "colab": {
          "base_uri": "https://localhost:8080/",
          "height": 446
        },
        "id": "RVjJSDNuImU4",
        "outputId": "156e33bc-137f-4808-993d-e92261e3183e"
      },
      "execution_count": 124,
      "outputs": [
        {
          "output_type": "stream",
          "name": "stderr",
          "text": [
            "/usr/local/lib/python3.12/dist-packages/IPython/core/pylabtools.py:151: UserWarning: Glyph 128202 (\\N{BAR CHART}) missing from font(s) NanumGothic.\n",
            "  fig.canvas.print_figure(bytes_io, **kw)\n"
          ]
        },
        {
          "output_type": "display_data",
          "data": {
            "text/plain": [
              "<Figure size 800x400 with 1 Axes>"
            ],
            "image/png": "[encoded data removed]"
          },
          "metadata": {}
        }
      ]
    },
    {
      "cell_type": "markdown",
      "source": [
        "# 최종 6교시 실습\n"
      ],
      "metadata": {
        "id": "zNfU3wIFO3gX"
      }
    },
    {
      "cell_type": "code",
      "source": [
        "# 데이터 불러오기\n",
        "import pandas as pd\n",
        "import re\n"
      ],
      "metadata": {
        "id": "LzYxMGyJO2iG"
      },
      "execution_count": null,
      "outputs": []
    },
    {
      "cell_type": "code",
      "source": [
        "# 데이터 불러오기\n",
        "df = pd.read_csv('nsmc_train_cleaned.csv', encoding='utf-8')"
      ],
      "metadata": {
        "id": "WPBPf8WYPG78"
      },
      "execution_count": 140,
      "outputs": []
    },
    {
      "cell_type": "code",
      "source": [
        "text_col ='review'"
      ],
      "metadata": {
        "id": "Dge2AlVfPPEy"
      },
      "execution_count": 141,
      "outputs": []
    },
    {
      "cell_type": "code",
      "source": [
        "# 텍스트 정제 함수\n",
        "def clean_text(s):\n",
        "  # 단어 소문자와\n",
        "  s = str(s).lower()\n",
        "  # 두번째 한글, 영문, 숫자 - 정규표현식\n",
        "  s = re.sub(r\"[^ㄱ-ㅎ가-힣a-zA-Z0-9 ]\", \" \", s)\n",
        "  # 중간에 공백이 여러 공백이 있으면 공백을 하나만 적용 / 양쪽의 공백을 모두 제거\n",
        "  return re.sub(r\"\\s+\", \" \", s).strip()"
      ],
      "metadata": {
        "id": "no1edI-VPSTo"
      },
      "execution_count": 142,
      "outputs": []
    },
    {
      "cell_type": "code",
      "source": [
        "df = df.dropna(subset=[text_col]).copy()\n",
        "df['cleaned'] = df[text_col].apply(clean_text)"
      ],
      "metadata": {
        "colab": {
          "base_uri": "https://localhost:8080/",
          "height": 294
        },
        "id": "Mb3QdIudQAp7",
        "outputId": "7672da9e-60cc-4eaf-9573-3caf737fbdc4"
      },
      "execution_count": 143,
      "outputs": [
        {
          "output_type": "error",
          "ename": "KeyError",
          "evalue": "['review']",
          "traceback": [
            "\u001b[0;31m---------------------------------------------------------------------------\u001b[0m",
            "\u001b[0;31mKeyError\u001b[0m                                  Traceback (most recent call last)",
            "\u001b[0;32m/tmp/ipython-input-2092738808.py\u001b[0m in \u001b[0;36m<cell line: 0>\u001b[0;34m()\u001b[0m\n\u001b[0;32m----> 1\u001b[0;31m \u001b[0mdf\u001b[0m \u001b[0;34m=\u001b[0m \u001b[0mdf\u001b[0m\u001b[0;34m.\u001b[0m\u001b[0mdropna\u001b[0m\u001b[0;34m(\u001b[0m\u001b[0msubset\u001b[0m\u001b[0;34m=\u001b[0m\u001b[0;34m[\u001b[0m\u001b[0mtext_col\u001b[0m\u001b[0;34m]\u001b[0m\u001b[0;34m)\u001b[0m\u001b[0;34m.\u001b[0m\u001b[0mcopy\u001b[0m\u001b[0;34m(\u001b[0m\u001b[0;34m)\u001b[0m\u001b[0;34m\u001b[0m\u001b[0;34m\u001b[0m\u001b[0m\n\u001b[0m\u001b[1;32m      2\u001b[0m \u001b[0mdf\u001b[0m\u001b[0;34m[\u001b[0m\u001b[0;34m'cleaned'\u001b[0m\u001b[0;34m]\u001b[0m \u001b[0;34m=\u001b[0m \u001b[0mdf\u001b[0m\u001b[0;34m[\u001b[0m\u001b[0mtext_col\u001b[0m\u001b[0;34m]\u001b[0m\u001b[0;34m.\u001b[0m\u001b[0mapply\u001b[0m\u001b[0;34m(\u001b[0m\u001b[0mclean_text\u001b[0m\u001b[0;34m)\u001b[0m\u001b[0;34m\u001b[0m\u001b[0;34m\u001b[0m\u001b[0m\n",
            "\u001b[0;32m/usr/local/lib/python3.12/dist-packages/pandas/core/frame.py\u001b[0m in \u001b[0;36mdropna\u001b[0;34m(self, axis, how, thresh, subset, inplace, ignore_index)\u001b[0m\n\u001b[1;32m   6668\u001b[0m             \u001b[0mcheck\u001b[0m \u001b[0;34m=\u001b[0m \u001b[0mindices\u001b[0m \u001b[0;34m==\u001b[0m \u001b[0;34m-\u001b[0m\u001b[0;36m1\u001b[0m\u001b[0;34m\u001b[0m\u001b[0;34m\u001b[0m\u001b[0m\n\u001b[1;32m   6669\u001b[0m             \u001b[0;32mif\u001b[0m \u001b[0mcheck\u001b[0m\u001b[0;34m.\u001b[0m\u001b[0many\u001b[0m\u001b[0;34m(\u001b[0m\u001b[0;34m)\u001b[0m\u001b[0;34m:\u001b[0m\u001b[0;34m\u001b[0m\u001b[0;34m\u001b[0m\u001b[0m\n\u001b[0;32m-> 6670\u001b[0;31m                 \u001b[0;32mraise\u001b[0m \u001b[0mKeyError\u001b[0m\u001b[0;34m(\u001b[0m\u001b[0mnp\u001b[0m\u001b[0;34m.\u001b[0m\u001b[0marray\u001b[0m\u001b[0;34m(\u001b[0m\u001b[0msubset\u001b[0m\u001b[0;34m)\u001b[0m\u001b[0;34m[\u001b[0m\u001b[0mcheck\u001b[0m\u001b[0;34m]\u001b[0m\u001b[0;34m.\u001b[0m\u001b[0mtolist\u001b[0m\u001b[0;34m(\u001b[0m\u001b[0;34m)\u001b[0m\u001b[0;34m)\u001b[0m\u001b[0;34m\u001b[0m\u001b[0;34m\u001b[0m\u001b[0m\n\u001b[0m\u001b[1;32m   6671\u001b[0m             \u001b[0magg_obj\u001b[0m \u001b[0;34m=\u001b[0m \u001b[0mself\u001b[0m\u001b[0;34m.\u001b[0m\u001b[0mtake\u001b[0m\u001b[0;34m(\u001b[0m\u001b[0mindices\u001b[0m\u001b[0;34m,\u001b[0m \u001b[0maxis\u001b[0m\u001b[0;34m=\u001b[0m\u001b[0magg_axis\u001b[0m\u001b[0;34m)\u001b[0m\u001b[0;34m\u001b[0m\u001b[0;34m\u001b[0m\u001b[0m\n\u001b[1;32m   6672\u001b[0m \u001b[0;34m\u001b[0m\u001b[0m\n",
            "\u001b[0;31mKeyError\u001b[0m: ['review']"
          ]
        }
      ]
    },
    {
      "cell_type": "code",
      "source": [
        "# 1. 데이터 불러오기\n",
        "\n",
        "import pandas as pd\n",
        "import re\n",
        "\n",
        "# 데이터 불러오기\n",
        "df = pd.read_csv('nsmc_train.csv', encoding = 'utf-8')\n",
        "\n",
        "text_col = 'review'\n",
        "\n",
        "# 텍스트 정제 함수\n",
        "def clean_text(s):\n",
        "    # 단어 소문자 화\n",
        "    s = str(s).lower()\n",
        "    # 두번째 한글,영문,숫자 - 정규표현식\n",
        "    s = re.sub(r\"[^ㄱ-ㅎ가-힣a-zA-Z0-9 ]\", \" \", s)\n",
        "    # 중간에 공백이 여러 공백이 있으면 공백을 하나만 적용 / 양쪽의 공백을 모두 제거\n",
        "    return re.sub(r\"\\s+\", \" \",s).strip()\n",
        "\n",
        "df = df.dropna(subset=[text_col]).copy()\n",
        "df['cleaned'] = df[text_col].apply(clean_text)\n",
        "\n",
        "print(df)"
      ],
      "metadata": {
        "colab": {
          "base_uri": "https://localhost:8080/"
        },
        "id": "5n3l8GJNQn47",
        "outputId": "e4ff8091-7f2d-426a-aff2-39960ef38b8f"
      },
      "execution_count": 144,
      "outputs": [
        {
          "output_type": "stream",
          "name": "stdout",
          "text": [
            "             id                                             review  rating  \\\n",
            "0       9324809                         배우들의 인생연기가 돋보였던... 최고의 드라마       1   \n",
            "1       9305425                                아 혜리 보고싶다 ... 여군좀 ㅠ       0   \n",
            "2       5239110                    눈이 팅팅..... 정말 ,..... 대박이다......       1   \n",
            "3       9148159                                   캐슬린 터너의 보디는 볼만했다       0   \n",
            "4       6144938                                           진짜 최고였다.       1   \n",
            "...         ...                                                ...     ...   \n",
            "149988  8507630                                     개소리지꺼리지마 변태년들아       0   \n",
            "149989  7960767  지루하고 짜증나고 어지럽고 싱겁고...재수가 없고 불쾌한 영화..영화라고 부르기도 ...       0   \n",
            "149990  8849726                     스크림같은 반전영화를 만들고 싶었나본데 택도 없음-_-       0   \n",
            "149991  4239351     제작비 탓만 하기에는 너무 빈약한 각본. 원작을 못살린 채 이유없이 연결되는 플롯.       0   \n",
            "149992  7626480                                        재미없음.......       0   \n",
            "\n",
            "                                               cleaned  \n",
            "0                              배우들의 인생연기가 돋보였던 최고의 드라마  \n",
            "1                                        아 혜리 보고싶다 여군좀  \n",
            "2                                        눈이 팅팅 정말 대박이다  \n",
            "3                                     캐슬린 터너의 보디는 볼만했다  \n",
            "4                                              진짜 최고였다  \n",
            "...                                                ...  \n",
            "149988                                  개소리지꺼리지마 변태년들아  \n",
            "149989  지루하고 짜증나고 어지럽고 싱겁고 재수가 없고 불쾌한 영화 영화라고 부르기도 민망함  \n",
            "149990                     스크림같은 반전영화를 만들고 싶었나본데 택도 없음  \n",
            "149991    제작비 탓만 하기에는 너무 빈약한 각본 원작을 못살린 채 이유없이 연결되는 플롯  \n",
            "149992                                            재미없음  \n",
            "\n",
            "[149993 rows x 4 columns]\n"
          ]
        }
      ]
    },
    {
      "cell_type": "code",
      "source": [
        "# 2단계 - countervectorizer - 단어 빈도 벡터화\n",
        "\n",
        "from sklearn.feature_extraction.text import CountVectorizer\n",
        "import numpy as np\n",
        "\n",
        "# 1. 벡터라이저 생성 / 상위 1000개 단어까지 생성 / 최소 단어 횟수가 5는 넘어야 출력\n",
        "cv = CountVectorizer(max_features=1000, min_df = 5)\n",
        "\n",
        "# 2. countervectorizer적용 - 문장들을 숫자로 변환 (문서-단어 행렬) -> 학습 시키기\n",
        "x_cnt = cv.fit_transform(df['cleaned'])\n",
        "vocab = cv.get_feature_names_out()"
      ],
      "metadata": {
        "id": "7AL1rThQQyjD"
      },
      "execution_count": 145,
      "outputs": []
    },
    {
      "cell_type": "code",
      "source": [
        "print(vocab)"
      ],
      "metadata": {
        "colab": {
          "base_uri": "https://localhost:8080/"
        },
        "id": "Wy3TkWaVRZXn",
        "outputId": "611af711-9d4c-4a58-9123-2ff220e1ece8"
      },
      "execution_count": 146,
      "outputs": [
        {
          "output_type": "stream",
          "name": "stdout",
          "text": [
            "['0점' '0점은' '10' '10점' '1점' '1점도' '2점' '3류' '3점' '4점' '80년대' '8점' '90년대'\n",
            " '9점' 'b급' 'cg' 'good' 'oo' 'ooo' 'ooo기' 'ost' 'the' 'tv' 'ㄷㄷ' 'ㅅㅂ' 'ㅇㅇ'\n",
            " 'ㅉㅉ' 'ㅋㅋ' 'ㅋㅋㅋ' 'ㅋㅋㅋㅋ' 'ㅋㅋㅋㅋㅋ' 'ㅎㅎ' 'ㅎㅎㅎ' '가끔' '가는' '가볍게' '가서' '가슴' '가슴이'\n",
            " '가장' '가족' '가지고' '가진' '각본' '간만에' '갈수록' '감독' '감독님' '감독은' '감독의' '감독이' '감동'\n",
            " '감동과' '감동도' '감동을' '감동이' '감동적이고' '감동적인' '감사합니다' '감정을' '갑자기' '강추' '같네요'\n",
            " '같다' '같습니다' '같아' '같아서' '같아요' '같은' '같은데' '같음' '같이' '개연성' '개인적으로' '거의' '건지'\n",
            " '걸작' '겁나' '것도' '것은' '것을' '것이' '것이다' '게다가' '결국' '결말' '결말도' '결말은' '결말이'\n",
            " '계속' '공감' '공감이' '공포' '공포영화' '과연' '괜찮은' '괜히' '굉장히' '구성' '굳이' '굿굿' '귀여운'\n",
            " '귀엽고' '그걸' '그게' '그나마' '그냥' '그다지' '그닥' '그대로' '그들의' '그때' '그래' '그래도' '그래서'\n",
            " '그러나' '그럭저럭' '그런' '그런가' '그런데' '그런지' '그럼' '그렇게' '그렇고' '그렇다' '그렇다고' '그리'\n",
            " '그리고' '그만' '그의' '그저' '극장에서' '극장판' '근데' '글쎄' '기대' '기대를' '기대하고' '기대했는데'\n",
            " '기분' '기분이' '기억' '기억에' '기억이' '긴장감' '긴장감도' '깊은' '까지' '꿀잼' '끝까지' '끝나고' '나는'\n",
            " '나도' '나를' '나름' '나만' '나서' '나에게' '나오고' '나오는' '나온' '나온다' '나옴' '나와서' '나왔으면'\n",
            " '나의' '나중에' '난다' '남는' '남는다' '남자' '남자가' '남자의' '낫다' '낮아서' '낮은' '내가' '내내'\n",
            " '내용' '내용도' '내용은' '내용을' '내용이' '내인생' '너무' '너무나' '너무나도' '너무너무' '네이버' '노래'\n",
            " '노잼' '높다' '높은' '누가' '누구나' '눈물' '눈물을' '눈물이' '눈을' '눈이' '느껴지는' '느끼게' '느낄'\n",
            " '느낌' '느낌을' '느낌이' '다들' '다른' '다만' '다소' '다시' '다시봐도' '다시한번' '단순한' '단지' '당시'\n",
            " '대단하다' '대단한' '대박' '대사' '대사가' '대체' '대충' '대한' '대한민국' '대해' '더럽게' '더불어' '더빙'\n",
            " '더욱' '더이상' '덕분에' '도대체' '도저히' '독특한' '돈이' '돈주고' '되게' '되는' '되었다' '되지' '된다'\n",
            " '둘다' '드는' '드라마' '드라마가' '드라마는' '드라마를' '드럽게' '든다' '듯한' '따뜻한' '딱히' '때문에'\n",
            " '떠나서' '떨어지는' '또한' '뛰어난' '라고' '라는' '로맨스' '마라' '마세요' '마음' '마음에' '마음을' '마음이'\n",
            " '마지막' '마지막에' '마치' '막장' '만드는' '만든' '만든다' '만들' '만들고' '만들어' '만들어진' '만들었다'\n",
            " '만들지' '만큼' '만화' '많다' '많은' '많이' '말고' '말도' '말로' '말을' '말이' '맘에' '망작' '맞는'\n",
            " '매력' '매력이' '매력적인' '매우' '먼저' '멋지다' '멋진' '멜로' '명작' '명작이다' '몇번을' '모두' '모든'\n",
            " '모든게' '모르겠고' '모르겠다' '모르고' '모르는' '모습' '모습을' '모습이' '목소리' '몰라도' '몰입도' '몰입이'\n",
            " '못하고' '못하는' '못한' '못했다' '무서운' '무섭지도' '무슨' '무엇보다' '무엇을' '무조건' '물론' '뭐가'\n",
            " '뭐냐' '뭐야' '뭐지' '뭔가' '뭔지' '미국' '미친' '믿고' '밑에' '바로' '박수를' '밖에' '반전' '반전도'\n",
            " '반전이' '발연기' '배우' '배우가' '배우들' '배우들도' '배우들의' '배우들이' '배우의' '벌써' '별로' '별로다'\n",
            " '별루' '별점' '보게' '보고' '보고나서' '보고싶다' '보기' '보기엔' '보는' '보는게' '보는내내' '보는데' '보니'\n",
            " '보니까' '보다' '보다가' '보면' '보면서' '보세요' '보시길' '보았다' '보여주는' '보여준' '보이는' '보지'\n",
            " '보지마세요' '본다' '본다면' '볼때마다' '볼만' '볼만하다' '볼만한' '볼만함' '볼수' '볼수록' '봐도' '봐라'\n",
            " '봐서' '봐야' '봐야할' '봣는데' '봤네요' '봤는데' '봤다' '봤다가' '봤던' '봤습니다' '봤어요' '봤었는데'\n",
            " '봤으면' '봤음' '봤지만' '부분이' '부족한' '부터' '분위기' '불구하고' '비디오' '비슷한' '비추' '비해' '빨리'\n",
            " '빼고' '빼고는' '뻔하고' '뻔한' '사는' '사람' '사람들' '사람들은' '사람들이' '사람은' '사람을' '사람의'\n",
            " '사람이' '사랑' '사랑과' '사랑스러운' '사랑에' '사랑을' '사랑의' '사랑이' '사랑하는' '사실' '살짝' '삶을'\n",
            " '삶의' '삼류' '상당히' '새로운' '생각' '생각보다' '생각없이' '생각을' '생각이' '생각하게' '생각한다'\n",
            " '생각합니다' '생애' '서로' '설정' '성룡' '세상에' '소름' '소재' '소재가' '소재는' '소재로' '소재를' '속에'\n",
            " '솔직히' '수가' '수도' '수작' '수준' '수준이' '순수한' '쉽게' '스릴러' '스토리' '스토리가' '스토리는'\n",
            " '스토리도' '스토리를' '스토리에' '스토리와' '슬프고' '슬프다' '슬픈' '시간' '시간낭비' '시간을' '시간이'\n",
            " '시나리오' '시대를' '시리즈' '시절' '신선하고' '신선한' '실망' '실제' '싫다' '싶네요' '싶다' '싶은' '쓰레기'\n",
            " '쓰레기다' '쓰레기영화' '아까운' '아까움' '아까워' '아깝다' '아깝지' '아놔' '아는' '아니' '아니고' '아니다'\n",
            " '아니라' '아니면' '아니지만' '아닌' '아닌가' '아닌데' '아닌듯' '아닐까' '아님' '아름다운' '아름답고' '아름답다'\n",
            " '아무' '아무것도' '아무리' '아쉬운' '아쉽네요' '아쉽다' '아오' '아이들이' '아주' '아직' '아직도' '안되고'\n",
            " '안되는' '안된다' '안됨' '안타깝다' '안하고' '않게' '않고' '않는' '않는다' '않다' '않아' '않았다' '않은'\n",
            " '않을' '않음' '않지만' '알게' '알고' '알바' '알았는데' '알았다' '암튼' '앞으로' '앞으로도' '애니'\n",
            " '애니메이션' '애들' '애들이' '액션' '액션도' '액션은' '액션이' '약간' '어느' '어디서' '어떤' '어떻게'\n",
            " '어렸을때' '어린' '어릴때' '어릴적' '어색한' '어설픈' '어이가' '어이없는' '어제' '어휴' '억지' '억지로'\n",
            " '언제' '언제나' '얼마나' '엄청' '엄청난' '없고' '없나' '없네' '없네요' '없는' '없는데' '없다' '없어'\n",
            " '없어서' '없었다' '없을' '없음' '없이' '없지만' '엉성한' '에휴' '엔딩' '여기' '여기서' '여배우' '여운이'\n",
            " '여자' '여자가' '여전히' '여주' '여주인공' '역대' '역시' '역시나' '연기' '연기가' '연기는' '연기도' '연기력'\n",
            " '연기력도' '연기력이' '연기를' '연기에' '연기와' '연출' '연출도' '연출이' '열심히' '영상' '영화' '영화가'\n",
            " '영화관에서' '영화냐' '영화네요' '영화는' '영화다' '영화도' '영화라' '영화라고' '영화로' '영화를' '영화보고'\n",
            " '영화보다' '영화에' '영화에서' '영화에요' '영화였다' '영화였습니다' '영화였어요' '영화의' '영화이다' '영화인데'\n",
            " '영화임' '영화입니다' '영화중' '영화중에' '영화지만' '예전에' '옛날' '옛날에' '오늘' '오래' '오랜만에' '오히려'\n",
            " '와우' '완벽한' '완전' '완전히' '왜이렇게' '왜이리' '왜케' '왠만하면' '왠지' '요즘' '우리' '우리가'\n",
            " '우리나라' '우연히' '우와' '웃기고' '웃음' '원래' '원작' '원작을' '원작의' '위한' '위해' '유치하고' '유치한'\n",
            " '유쾌한' '음악' '음악도' '음악이' '의미를' '의외로' '이거' '이거보고' '이건' '이건뭐' '이걸' '이것도' '이게'\n",
            " '이딴' '이런' '이런거' '이런걸' '이런게' '이런영화' '이런영화가' '이렇게' '이리' '이미' '이쁘고' '이상'\n",
            " '이상한' '이야기' '이야기가' '이야기를' '이영화' '이영화가' '이영화는' '이영화를' '이유가' '이유는' '이정도면'\n",
            " '이제' '이제야' '이젠' '이해' '이해가' '이후' '인간' '인간의' '인생' '인생을' '인생의' '일단' '일본'\n",
            " '입니다' '있게' '있고' '있나' '있네요' '있는' '있는데' '있다' '있다는' '있다면' '있습니다' '있어' '있어서'\n",
            " '있어요' '있었다' '있었던' '있으면' '있을' '있을까' '있음' '있지' '있지만' '잊혀지지' '자기' '자꾸' '자신의'\n",
            " '자체가' '작가' '작가가' '작품' '작품을' '작품이' '작품이다' '잔잔하고' '잔잔한' '잘만든' '잘봤습니다' '장면'\n",
            " '장면은' '장면이' '재미' '재미가' '재미는' '재미도' '재미를' '재미없고' '재미없네' '재미없는' '재미없다'\n",
            " '재미없어' '재미없어요' '재미없음' '재미있게' '재미있고' '재미있네요' '재미있는' '재미있다' '재미있어요' '재미있었다'\n",
            " '재미있음' '재밌게' '재밌고' '재밌네' '재밌네요' '재밌는' '재밌는데' '재밌다' '재밌습니다' '재밌어요' '재밌었는데'\n",
            " '재밌었다' '재밌었어요' '재밌었음' '재밌음' '잼있게' '저는' '저도' '저런' '저렇게' '전개' '전개가' '전기세가'\n",
            " '전부' '전에' '전체적으로' '전혀' '전형적인' '절대' '점수' '점수를' '점점' '정도' '정도로' '정말' '정말로'\n",
            " '제가' '제대로' '제목' '제목이' '제발' '제일' '조금' '존나' '졸라' '졸작' '좀더' '좋겠다' '좋고' '좋네요'\n",
            " '좋다' '좋습니다' '좋아' '좋아서' '좋아요' '좋아하는' '좋아해서' '좋았고' '좋았는데' '좋았다' '좋았던'\n",
            " '좋았습니다' '좋았어요' '좋았음' '좋았지만' '좋은' '좋은데' '좋은영화' '좋음' '죄다' '주고' '주는' '주연'\n",
            " '주인공' '주인공의' '주인공이' '준다' '중간에' '중간중간' '중에' '즐겁게' '지금' '지금까지' '지금도' '지금봐도'\n",
            " '지금은' '지난' '지루' '지루하고' '지루하다' '지루하지' '지루한' '지루함' '지루해' '지루해서' '지루했다'\n",
            " '진부한' '진심' '진심으로' '진정한' '진짜' '질질' '집에서' '짜증' '짜증나는' '짱짱' '차라리' '참고' '처럼'\n",
            " '처음' '처음부터' '처음엔' '처음으로' '처음이다' '초반' '초반에' '최고' '최고다' '최고의' '최고입니다' '최악'\n",
            " '최악의' '최악이다' '추억의' '추천' '추천합니다' '충분히' '캐릭터' '캐스팅' '코메디' '코미디' '크게'\n",
            " '킬링타임용' '탄탄한' '통해' '특유의' '특히' '티비에서' '판타지' '평론가' '평범한' '평생' '평이' '평점'\n",
            " '평점에' '평점은' '평점을' '평점이' '표현한' '프랑스' '필요' '필요없는' '필요없다' '하게' '하고' '하나'\n",
            " '하나도' '하네요' '하는' '하는데' '하는지' '하다' '하면' '하면서' '하지' '하지만' '한국' '한국영화' '한다'\n",
            " '한데' '한마디로' '한번' '함께' '합니다' '항상' '해도' '해서' '해주는' '해준' '했는데' '했다' '했던'\n",
            " '했지만' '허접한' '현실' '현실을' '현실적인' '혼자' '화려한' '화이팅' '확실히' '훌륭한' '훨씬' '흔한' '힘든'\n",
            " '힘들다']\n"
          ]
        }
      ]
    },
    {
      "cell_type": "code",
      "source": [
        "# 3. 단어별 전체 빈도 계산\n",
        "# freq 단어별로 몇개의 값이 있는지를 파악할 수 있는 문법\n",
        "# axis = 0 -> 열에 해당하는 계산\n",
        "# A1 -> 2차원 배열 -> 1차원으로 변경\n",
        "freq = x_cnt.sum(axis=0).A1 # 첫번째 있는것만 출력\n",
        "print(freq)\n",
        "\n"
      ],
      "metadata": {
        "colab": {
          "base_uri": "https://localhost:8080/"
        },
        "id": "a3xvxd6uRoLe",
        "outputId": "92d81ecb-4a08-4464-8cde-f76ead56eb15"
      },
      "execution_count": 147,
      "outputs": [
        {
          "output_type": "stream",
          "name": "stdout",
          "text": [
            "[  165   118   144  1015   711   522   161   203   148   130   157   115\n",
            "   145   150   263   124   342   238   192   140   132   157   187   182\n",
            "   158   116   311  2498  1370   561   184  1053   251   139   175   127\n",
            "   162   276   415  1151   115   244   139   143   365   409   797   193\n",
            "   271   635   655   810   148   355   331   264   173   317   188   116\n",
            "   285   481   190   901   185   117   116   342   987   311   166   407\n",
            "   156   532   314   142   226   124   362   269   397   435   241   155\n",
            "   460   309   141   131   353   697   113   152   218   216   169   414\n",
            "   193   328   156   174   113   156   160   123   239   416  3511   146\n",
            "   223   271   168   132   141   930   456   333   148   511   162   204\n",
            "   290   139   459   190   115   139   147  1783   227   216   506   460\n",
            "   130   849   128   312   164   210   114   291   153   118   451   355\n",
            "   291   124   177   137   163  1007   137   684   587   183   606   165\n",
            "   125   152   155   660   372   159   121   310   149   297   137   174\n",
            "   488   157   248   117   114   216   135   122  2178   839   539   715\n",
            "   410   184   695   137  8699   470   200   216   228   161   268   119\n",
            "   169   323   140   221   130   403   169   166   161   196   199   695\n",
            "   122   334   338   839   186   188  1630   243   120   132   127   303\n",
            "   171   250   514   267   119   375   131   918   139   360   214   122\n",
            "   139   252   129   126   616   229   150   206   200   130   461   143\n",
            "   133   244   128   153  2066   185   178   199   119   178   221   243\n",
            "   127   658   128   139   209   133   171   258   193   153   133   138\n",
            "   300   202   411  1181   617   211   251   619   976   123   138   131\n",
            "   218   130   130   180   120   125   126   768  1514   206   272   121\n",
            "   130   876   258   116   127   132   161   195   413   166   153   479\n",
            "   115   751   208   134   721   655   129   125   455   222   173   127\n",
            "   200   203   117   150   262   146   194   194   385   124   113   113\n",
            "  1092   196   135   250   244   268   253   308   325   845   184   144\n",
            "   205   205   152   357   113   360   331   142   188   180   451   237\n",
            "   625   141   590   328   141   131  1005   206   123   229   304  2667\n",
            "   177   150   485   156  1655   164   538   245   330   120   653   719\n",
            "  1258   586   506   154   117   308   170   134   336   182   198   119\n",
            "   159   118   124   272   149   137   165   912   275   282   185   136\n",
            "   122   223  2380   791   157   471   575   420   160   142   250   294\n",
            "   188   167   127   159   130   119   188   119   279   212   129   124\n",
            "   133   510   130   357   303   269   329   284   174   138   431   399\n",
            "   126   116   151   247   130   175   150   203   153   194   134   151\n",
            "   352   260   245   338   119   346   470   262   178   169   119   133\n",
            "   128   113   181   118   186   163   191   131   174   121   980   260\n",
            "   114   338   332   128   160   127   343  1613   691   378   632   178\n",
            "   214   185   146   182   179   687   114   139   617   251   134   280\n",
            "   129   120   155   241   134   143   114   596   433  1579   123   292\n",
            "   573   258   153  1294   119   178   126   402   663   762   724   185\n",
            "   194   649   222   156   131   163   334   685   177   176   172   218\n",
            "   517   171   121   343   155   200   857   273   632   160   401   234\n",
            "   151   122   149   121   795   593   408   342   132   169   626   131\n",
            "   193   123   155   298   123   213   213   145   179   116   238   256\n",
            "   195   152   691   231   168   171   293   204   249   394   774   191\n",
            "   145   208   117   170   331   134   160   116   135   220   230   175\n",
            "   137   471   486   251  1330   128   245   225  2037   125  2051   247\n",
            "   272   349   141   528   522   151   128   165   136   144   115   121\n",
            "   584   320   181   175   119   188   152  1620   180  1776   778   515\n",
            "   750   333   121   163   386   180   164   658   152   204   133   181\n",
            " 19132  2490   359   155   420  2544  1119   493   208   637   482  2911\n",
            "   163   193   667   198   118   345   188   119   841   192   281   284\n",
            "   603   352   189   180   224   175   120   351   123   593   247   119\n",
            "   232  1830   119   186   183   115   117   192   549   339   162   331\n",
            "   224   114   129   179   226   204   297   116   403   417   217   185\n",
            "   164   297   162   161   120   129  1917   115  2142   141   762   247\n",
            "  1813   256  3477   173   197   194   160   118  1913   160   205   131\n",
            "   195   148   760   195   240   537   171   269   292   156   152   166\n",
            "   574   129   193   193   485   142   117   248   449   143   144   261\n",
            "   345   237   128   428   127   113  1751   266   874   183   175   139\n",
            "   197   293   139   210   159   123   160   294   199   140   307   119\n",
            "   128   225   198   298   148   125  1028   126   132   114   116   322\n",
            "   135   193   354   215   311   844   476   305   589   164   199   152\n",
            "   238   760   194   125   399   765   211   135   254   301   313   118\n",
            "   152  1407   360   114   309   381   230   756   155   589   165   223\n",
            "   183   143   396   123   285   210   214   149   346   239   166   201\n",
            "   166   192   894   237   520   188   129   252   334   318  8479   153\n",
            "   296   648   152   146   491   634   509   301   148   330   133   240\n",
            "   610   266   939   149   221   150   423   537   116   201   186   575\n",
            "   118   189   233   184   113  1704   314   162   210   124   287   475\n",
            "   118   443   172   252   304   328   155   223   117   890   213   211\n",
            "   184   134   156   162   531   442   141   408   324   156   151   115\n",
            "   187   559   153   323  6858   164   125   140   140   114   735   145\n",
            "   122   556   267   143   232   174   122   126  1619   532  2315   127\n",
            "   516   839   210   147   360   161   287   248   175   113   421   131\n",
            "   127   115   166   209   711   166   135   118   143   119   114  1849\n",
            "   232   246   292  1665   118   134   131   140   142   204   848   824\n",
            "   406   148  1340   211   125   286   232   151   278  1096   466   215\n",
            "   421   125   287   535   417   257   280   252   320   170   175   333\n",
            "   270   149   173   186   138   152   119   200   195   213   172   277\n",
            "   360   116   154   113]\n"
          ]
        }
      ]
    },
    {
      "cell_type": "code",
      "source": [
        "# argsort -> 사용을 자주하는 행렬 처리 함수\n",
        "# 작은 값 -> 큰값 순서로 정렬된 인덱스 배경을 반환하는 구문\n",
        "# freq = [3,1,3,1] -> np.argsort(freq) -> [1,3,0,2] -> # 1번 단어, 3번 단어, 0번 단어, 2번 단어\n",
        "# [::-1] -> 오름차순으로 되어야 하는것을 -> 내림차순으로 바꿔서 집계\n",
        "# [:20] 상위 20개에 해당하는 자료를 얻게 됨\n",
        "top_idx = np.argsort(freq)[::-1][:20] # 상위 20개만 인덱스 출력\n",
        "print(top_idx)"
      ],
      "metadata": {
        "colab": {
          "base_uri": "https://localhost:8080/"
        },
        "id": "NKiBttELSD7I",
        "outputId": "be4b9f70-6149-4ddf-c9e2-284b180c8bee"
      },
      "execution_count": 151,
      "outputs": [
        {
          "output_type": "stream",
          "name": "stdout",
          "text": [
            "[636 184 838 904 106 710 647 359 641  27 637 398 922 176 704 244 598 596\n",
            " 702 716]\n"
          ]
        }
      ]
    },
    {
      "cell_type": "code",
      "source": [
        "# top_idx에 해당하는 단어는 무엇인지? 갯수는 몇개인지?\n",
        "top_terms = [(vocab[i], int(freq[i])) for i in top_idx]"
      ],
      "metadata": {
        "id": "ZuXsEwoqSTdu"
      },
      "execution_count": 152,
      "outputs": []
    },
    {
      "cell_type": "code",
      "source": [
        "print(top_terms)"
      ],
      "metadata": {
        "colab": {
          "base_uri": "https://localhost:8080/"
        },
        "id": "3RbZ0DAASfwb",
        "outputId": "aa6a6cfe-e35b-4fd4-c8c4-1ff612a52d1f"
      },
      "execution_count": 154,
      "outputs": [
        {
          "output_type": "stream",
          "name": "stdout",
          "text": [
            "[('영화', 19132), ('너무', 8699), ('정말', 8479), ('진짜', 6858), ('그냥', 3511), ('이런', 3477), ('영화를', 2911), ('보고', 2667), ('영화는', 2544), ('ㅋㅋ', 2498), ('영화가', 2490), ('봤는데', 2380), ('최고의', 2315), ('내가', 2178), ('이건', 2142), ('드라마', 2066), ('없다', 2051), ('없는', 2037), ('이거', 1917), ('이렇게', 1913)]\n"
          ]
        }
      ]
    },
    {
      "cell_type": "code",
      "source": [
        "from sklearn.feature_extraction.text import TfidfVectorizer\n",
        "\n",
        "tv = TfidfVectorizer(max_features=1000, min_df=5)\n",
        "X_tfidf = tv.fit_transform(df[\"cleaned\"].head(5000))\n",
        "vocab_t = tv.get_feature_names_out()\n",
        "\n",
        "# 단어별 평균 TF-IDF 계산(추가)\n",
        "mean_tfidf = X_tfidf.mean(axis=0).A1\n",
        "top_idx_t = np.argsort(mean_tfidf)[::-1][:20]\n",
        "top_terms_tfidf = [(vocab_t[i], round(float(mean_tfidf[i]), 4)) for i in top_idx_t]\n",
        "top_terms_tfidf\n"
      ],
      "metadata": {
        "colab": {
          "base_uri": "https://localhost:8080/"
        },
        "id": "STI48MDgUf9o",
        "outputId": "2bc505e4-54e4-421e-ffba-92f88c85da54"
      },
      "execution_count": 155,
      "outputs": [
        {
          "output_type": "execute_result",
          "data": {
            "text/plain": [
              "[('영화', 0.0427),\n",
              " ('너무', 0.0215),\n",
              " ('정말', 0.0203),\n",
              " ('진짜', 0.0195),\n",
              " ('그냥', 0.0125),\n",
              " ('이런', 0.0115),\n",
              " ('ㅋㅋ', 0.0103),\n",
              " ('영화를', 0.0082),\n",
              " ('최고의', 0.0081),\n",
              " ('영화는', 0.008),\n",
              " ('이건', 0.0079),\n",
              " ('보고', 0.0078),\n",
              " ('드라마', 0.0071),\n",
              " ('없는', 0.0069),\n",
              " ('내가', 0.0069),\n",
              " ('최고', 0.0066),\n",
              " ('ㅋㅋㅋ', 0.0065),\n",
              " ('다시', 0.0062),\n",
              " ('이게', 0.0061),\n",
              " ('역시', 0.006)]"
            ]
          },
          "metadata": {},
          "execution_count": 155
        }
      ]
    },
    {
      "cell_type": "code",
      "source": [
        "# 워드클라우드\n",
        "freq_dict = dict(top_terms)\n",
        "print(freq_dict)"
      ],
      "metadata": {
        "colab": {
          "base_uri": "https://localhost:8080/"
        },
        "id": "wSbsQb93VJEV",
        "outputId": "39be541c-eeab-4406-8664-b0042172b903"
      },
      "execution_count": 157,
      "outputs": [
        {
          "output_type": "stream",
          "name": "stdout",
          "text": [
            "{'영화': 19132, '너무': 8699, '정말': 8479, '진짜': 6858, '그냥': 3511, '이런': 3477, '영화를': 2911, '보고': 2667, '영화는': 2544, 'ㅋㅋ': 2498, '영화가': 2490, '봤는데': 2380, '최고의': 2315, '내가': 2178, '이건': 2142, '드라마': 2066, '없다': 2051, '없는': 2037, '이거': 1917, '이렇게': 1913}\n"
          ]
        }
      ]
    },
    {
      "cell_type": "code",
      "source": [
        "wc = WordCloud(font_path=font_path)"
      ],
      "metadata": {
        "id": "2SuP_zelVOo7"
      },
      "execution_count": 158,
      "outputs": []
    },
    {
      "cell_type": "code",
      "source": [
        "plt.imshow(wc.generate_from_frequencies(freq_dict))\n",
        "plt.show()"
      ],
      "metadata": {
        "colab": {
          "base_uri": "https://localhost:8080/",
          "height": 312
        },
        "id": "L9CmzHnrVU8O",
        "outputId": "addb420d-88d7-4676-e406-732df46c8e5a"
      },
      "execution_count": 160,
      "outputs": [
        {
          "output_type": "display_data",
          "data": {
            "text/plain": [
              "<Figure size 640x480 with 1 Axes>"
            ],
            "image/png": "[encoded data removed]"
          },
          "metadata": {}
        }
      ]
    },
    {
      "cell_type": "code",
      "source": [
        "# 막대그래프\n",
        "df_top =pd.DataFrame(top_terms, columns=['단어','빈도'])\n",
        "\n",
        "plt.bar(df_top['단어'],df_top['빈도'])\n",
        "plt.xticks(rotation=45) # x축의 이름을 45도 각도로 회선 시킨다.\n",
        "plt.show()"
      ],
      "metadata": {
        "colab": {
          "base_uri": "https://localhost:8080/",
          "height": 456
        },
        "id": "MaBilHPaVsEQ",
        "outputId": "eac13305-c2b5-4c7e-835c-923c8039d57c"
      },
      "execution_count": 162,
      "outputs": [
        {
          "output_type": "display_data",
          "data": {
            "text/plain": [
              "<Figure size 640x480 with 1 Axes>"
            ],
            "image/png": "[encoded data removed]"
          },
          "metadata": {}
        }
      ]
    }
  ]
}