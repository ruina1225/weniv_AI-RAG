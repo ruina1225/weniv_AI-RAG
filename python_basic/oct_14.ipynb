{
  "nbformat": 4,
  "nbformat_minor": 0,
  "metadata": {
    "colab": {
      "provenance": []
    },
    "kernelspec": {
      "name": "python3",
      "display_name": "Python 3"
    },
    "language_info": {
      "name": "python"
    }
  },
  "cells": [
    {
      "cell_type": "code",
      "execution_count": 4,
      "metadata": {
        "id": "6KYDf9HKIZ7A"
      },
      "outputs": [],
      "source": [
        "# 리스트 만들기\n",
        "# 데이터가 3~4 -> 10만개 / 100만개\n",
        "# 단어 -> 리스\n",
        "\n",
        "fruits = ['사과', '바나나', '포도']"
      ]
    },
    {
      "cell_type": "code",
      "source": [
        "print(fruits)"
      ],
      "metadata": {
        "colab": {
          "base_uri": "https://localhost:8080/"
        },
        "id": "w38GjvgxInsk",
        "outputId": "d6d8783c-d8d8-4127-86e5-adae808ad36f"
      },
      "execution_count": 5,
      "outputs": [
        {
          "output_type": "stream",
          "name": "stdout",
          "text": [
            "['사과', '바나나', '포도']\n"
          ]
        }
      ]
    },
    {
      "cell_type": "code",
      "source": [
        "# 비어있는 리스트를 언제 쓰는지?\n",
        "# 향후 조건에 맞는 / 반복처리된 자료를 리스트에 넣을 때 사용\n",
        "empty = []"
      ],
      "metadata": {
        "id": "cB8sn_IZInee"
      },
      "execution_count": 6,
      "outputs": []
    },
    {
      "cell_type": "code",
      "source": [
        "print(empty)"
      ],
      "metadata": {
        "colab": {
          "base_uri": "https://localhost:8080/"
        },
        "id": "EY40Vf1nIqTl",
        "outputId": "0797c005-283b-44e6-98f0-7b2b4a334ea0"
      },
      "execution_count": 7,
      "outputs": [
        {
          "output_type": "stream",
          "name": "stdout",
          "text": [
            "[]\n"
          ]
        }
      ]
    },
    {
      "cell_type": "code",
      "source": [
        "# 1. 리스트를 생성한다.\n",
        "fruits = [\"사과\", \"바나나\", \"딸기\", \"포도\"]"
      ],
      "metadata": {
        "id": "N4K1IWXqJCB4"
      },
      "execution_count": 8,
      "outputs": []
    },
    {
      "cell_type": "code",
      "source": [
        "print(fruits[0])\n",
        "print(fruits[1])\n",
        "print(fruits[2])\n",
        "print(fruits[-1])"
      ],
      "metadata": {
        "colab": {
          "base_uri": "https://localhost:8080/"
        },
        "id": "b6R0z7gCLXx7",
        "outputId": "1bbe7318-67f0-4eda-f232-a8815ab2929f"
      },
      "execution_count": 9,
      "outputs": [
        {
          "output_type": "stream",
          "name": "stdout",
          "text": [
            "사과\n",
            "바나나\n",
            "딸기\n",
            "포도\n"
          ]
        }
      ]
    },
    {
      "cell_type": "code",
      "source": [
        "numbers = [10,20,30,40,50]"
      ],
      "metadata": {
        "id": "kXDYNWFvLiKv"
      },
      "execution_count": 10,
      "outputs": []
    },
    {
      "cell_type": "code",
      "source": [
        "# 슬라이싱 start, stop\n",
        "print(numbers[1:4])"
      ],
      "metadata": {
        "colab": {
          "base_uri": "https://localhost:8080/"
        },
        "id": "c0gla56I_xma",
        "outputId": "109bb720-59ec-4c68-e0ea-d8bbd62186e8"
      },
      "execution_count": 11,
      "outputs": [
        {
          "output_type": "stream",
          "name": "stdout",
          "text": [
            "[20, 30, 40]\n"
          ]
        }
      ]
    },
    {
      "cell_type": "code",
      "source": [
        "# 슬라이싱 start, stop\n",
        "print(numbers[:4])"
      ],
      "metadata": {
        "colab": {
          "base_uri": "https://localhost:8080/"
        },
        "id": "Vb7DbfFPMDyU",
        "outputId": "5dcda60e-4d01-4f5a-8915-a48a1f75df5d"
      },
      "execution_count": 12,
      "outputs": [
        {
          "output_type": "stream",
          "name": "stdout",
          "text": [
            "[10, 20, 30, 40]\n"
          ]
        }
      ]
    },
    {
      "cell_type": "code",
      "source": [
        "# 슬라이싱 start, stop\n",
        "print(numbers[4:1])"
      ],
      "metadata": {
        "colab": {
          "base_uri": "https://localhost:8080/"
        },
        "outputId": "0d03b09e-d3c4-42c6-9c99-b1c99e533b83",
        "id": "pCx3R7qy_-jz"
      },
      "execution_count": 13,
      "outputs": [
        {
          "output_type": "stream",
          "name": "stdout",
          "text": [
            "[]\n"
          ]
        }
      ]
    },
    {
      "cell_type": "code",
      "source": [
        "fruits = [\"사과\", \"바나나\", \"딸기\"]"
      ],
      "metadata": {
        "id": "QuTKKWR8Pnt9"
      },
      "execution_count": 14,
      "outputs": []
    },
    {
      "cell_type": "code",
      "source": [
        "fruits[1] = \"포도\"\n",
        "print(fruits)"
      ],
      "metadata": {
        "colab": {
          "base_uri": "https://localhost:8080/"
        },
        "id": "vOJ833OFPsjm",
        "outputId": "40c04d92-e411-498d-dcf1-20e7980e38bc"
      },
      "execution_count": 15,
      "outputs": [
        {
          "output_type": "stream",
          "name": "stdout",
          "text": [
            "['사과', '포도', '딸기']\n"
          ]
        }
      ]
    },
    {
      "cell_type": "code",
      "source": [
        "fruits[2] = \"산삼\"\n",
        "print(fruits)"
      ],
      "metadata": {
        "colab": {
          "base_uri": "https://localhost:8080/"
        },
        "id": "3aBR8a7qP2PN",
        "outputId": "74815e40-c1ba-4153-ea8b-d6c302d8a2eb"
      },
      "execution_count": 16,
      "outputs": [
        {
          "output_type": "stream",
          "name": "stdout",
          "text": [
            "['사과', '포도', '산삼']\n"
          ]
        }
      ]
    },
    {
      "cell_type": "code",
      "source": [
        "# 리스트에 값이 없으면 out of range오류가 난다. 해당 위치에 값이 없기 때문에\n",
        "fruits[3] = \"포도\"\n",
        "print(fruits)\n"
      ],
      "metadata": {
        "colab": {
          "base_uri": "https://localhost:8080/",
          "height": 184
        },
        "id": "b1C8XdcPP6dY",
        "outputId": "57c9d32d-36bd-49ec-c924-492bf8eb862b"
      },
      "execution_count": 17,
      "outputs": [
        {
          "output_type": "error",
          "ename": "IndexError",
          "evalue": "list assignment index out of range",
          "traceback": [
            "\u001b[0;31m---------------------------------------------------------------------------\u001b[0m",
            "\u001b[0;31mIndexError\u001b[0m                                Traceback (most recent call last)",
            "\u001b[0;32m/tmp/ipython-input-2925251196.py\u001b[0m in \u001b[0;36m<cell line: 0>\u001b[0;34m()\u001b[0m\n\u001b[1;32m      1\u001b[0m \u001b[0;31m# 리스트에 값이 없으면 out of range오류가 난다. 해당 위치에 값이 없기 때문에\u001b[0m\u001b[0;34m\u001b[0m\u001b[0;34m\u001b[0m\u001b[0m\n\u001b[0;32m----> 2\u001b[0;31m \u001b[0mfruits\u001b[0m\u001b[0;34m[\u001b[0m\u001b[0;36m3\u001b[0m\u001b[0;34m]\u001b[0m \u001b[0;34m=\u001b[0m \u001b[0;34m\"포도\"\u001b[0m\u001b[0;34m\u001b[0m\u001b[0;34m\u001b[0m\u001b[0m\n\u001b[0m\u001b[1;32m      3\u001b[0m \u001b[0mprint\u001b[0m\u001b[0;34m(\u001b[0m\u001b[0mfruits\u001b[0m\u001b[0;34m)\u001b[0m\u001b[0;34m\u001b[0m\u001b[0;34m\u001b[0m\u001b[0m\n",
            "\u001b[0;31mIndexError\u001b[0m: list assignment index out of range"
          ]
        }
      ]
    },
    {
      "cell_type": "code",
      "source": [
        "# 리스트 메서드 1 - append - 맨 뒤에 값을 추가하는 기능\n",
        "\n",
        "nums = [1,2,3]"
      ],
      "metadata": {
        "id": "WeizPni5Qk_B"
      },
      "execution_count": 19,
      "outputs": []
    },
    {
      "cell_type": "code",
      "source": [
        "print(nums)"
      ],
      "metadata": {
        "colab": {
          "base_uri": "https://localhost:8080/"
        },
        "id": "zX6OLmHsQoXy",
        "outputId": "5414e5b3-6f8d-4193-bc89-8a8030c5b7e5"
      },
      "execution_count": 20,
      "outputs": [
        {
          "output_type": "stream",
          "name": "stdout",
          "text": [
            "[1, 2, 3]\n"
          ]
        }
      ]
    },
    {
      "cell_type": "code",
      "source": [
        "# 4라는 숫자를 맨 뒤에 추가\n",
        "nums.append(4)\n",
        "print(nums)"
      ],
      "metadata": {
        "colab": {
          "base_uri": "https://localhost:8080/"
        },
        "id": "wLUcvQcvQrHS",
        "outputId": "9a3af189-74e4-4eff-b6a0-be02076844a6"
      },
      "execution_count": 27,
      "outputs": [
        {
          "output_type": "stream",
          "name": "stdout",
          "text": [
            "[1, 2, 5, 5, 4, 4]\n"
          ]
        }
      ]
    },
    {
      "cell_type": "code",
      "source": [
        "# 2) insert - 원하는 위치에 값을 추가 insert(위치, 값)\n",
        "# [1,2,3,4] 애서 맨 뒤에 4를 5로 삽입\n",
        "\n",
        "# 3번째 위치의 값을 5로 삽입해줘\n",
        "nums.insert(3,5)\n",
        "print(nums)"
      ],
      "metadata": {
        "colab": {
          "base_uri": "https://localhost:8080/"
        },
        "id": "W1w6sicbQ2Q9",
        "outputId": "6ac6d8a6-2527-4bfe-99df-8c6746673a22"
      },
      "execution_count": 28,
      "outputs": [
        {
          "output_type": "stream",
          "name": "stdout",
          "text": [
            "[1, 2, 5, 5, 5, 4, 4]\n"
          ]
        }
      ]
    },
    {
      "cell_type": "code",
      "source": [
        "# 3) remove(값) - 해당 값을 찾아서 삭제\n",
        "# remove는 값을 순차적으로 1개씩 제거를 한다.\n",
        "nums.remove(4)\n",
        "print(nums)"
      ],
      "metadata": {
        "colab": {
          "base_uri": "https://localhost:8080/"
        },
        "id": "3yBpl_jvRSDp",
        "outputId": "ac811f83-8ec4-4a9a-d0be-42997420efcb"
      },
      "execution_count": 30,
      "outputs": [
        {
          "output_type": "stream",
          "name": "stdout",
          "text": [
            "[1, 2, 5, 5, 5, 4]\n"
          ]
        }
      ]
    },
    {
      "cell_type": "code",
      "source": [
        "# 4) pop 은 마지막 요소를 제거\n",
        "# 1. 제거된 값도 가지고 있음 ****\n",
        "# 2. 남은 리스트도 출력 할 수 있다.\n",
        "\n",
        "deleted = nums.pop()\n",
        "print(deleted)\n",
        "print(nums)"
      ],
      "metadata": {
        "colab": {
          "base_uri": "https://localhost:8080/"
        },
        "id": "BRW8WQSrSOl8",
        "outputId": "08ce0d0c-c990-4221-de41-6267c8999a08"
      },
      "execution_count": 31,
      "outputs": [
        {
          "output_type": "stream",
          "name": "stdout",
          "text": [
            "4\n",
            "[1, 2, 5, 5, 5]\n"
          ]
        }
      ]
    },
    {
      "cell_type": "code",
      "source": [
        "# 5) 정렬 - sort() - 오름차순 (작은 값 -> 큰값) / 내림차순(큰값 -> 작은 값)\n",
        "# 기본적으로는 오름차순 / 내림차순 (reverse = True)\n",
        "\n",
        "nums.sort(reverse=True)\n",
        "print(nums)"
      ],
      "metadata": {
        "colab": {
          "base_uri": "https://localhost:8080/"
        },
        "id": "bwEVwGPrS1UL",
        "outputId": "c5350a75-dc4e-4187-e4e7-4751879ee3ea"
      },
      "execution_count": 33,
      "outputs": [
        {
          "output_type": "stream",
          "name": "stdout",
          "text": [
            "[5, 5, 5, 2, 1]\n"
          ]
        }
      ]
    },
    {
      "cell_type": "code",
      "source": [
        "# 6) count()와 index() - 탐색\n",
        "# count - 등장 횟수 ex) 5가 몇개 인지? 3이 몇개인지?\n",
        "# index - 데이터의 위치\n",
        "\n",
        "print(nums.count(5)) # 데이터가 몇개 있는지 파악! 없으면 0\n",
        "print(nums.index(5)) # 데이터의 위치를 파악하는데 용이"
      ],
      "metadata": {
        "colab": {
          "base_uri": "https://localhost:8080/"
        },
        "id": "sUZ15GyKTQzm",
        "outputId": "a9bfbc65-f766-4cc1-e615-56084a6ed5bc"
      },
      "execution_count": 38,
      "outputs": [
        {
          "output_type": "stream",
          "name": "stdout",
          "text": [
            "3\n",
            "0\n"
          ]
        }
      ]
    },
    {
      "cell_type": "markdown",
      "source": [
        "더블클릭 또는 enter 키를 눌러 수정"
      ],
      "metadata": {
        "id": "1_HHMGAEAkSa"
      }
    },
    {
      "cell_type": "code",
      "source": [
        "#  갯수를 셀때 len을 사용하면 리스트의 총 길이를 알수 잇다.(데이터의 갯수를 알 수 있다.)\n",
        "print(len(nums))"
      ],
      "metadata": {
        "colab": {
          "base_uri": "https://localhost:8080/"
        },
        "id": "pMRkdjYOUdLh",
        "outputId": "952941be-94b7-4af5-a87a-a93be7024bbf"
      },
      "execution_count": 40,
      "outputs": [
        {
          "output_type": "stream",
          "name": "stdout",
          "text": [
            "5\n"
          ]
        }
      ]
    },
    {
      "cell_type": "code",
      "source": [
        "# 반복문 + 조건문 + 리스트"
      ],
      "metadata": {
        "id": "nwpJD8MOVIOI"
      },
      "execution_count": null,
      "outputs": []
    },
    {
      "cell_type": "code",
      "source": [
        "# 리스트 + 반복문\n",
        "          # 0         1           2\n",
        "fruits = [\"apple\", \"banana\", \"strawberry\"]\n",
        "\n",
        "for f in fruits:\n",
        "  print(f)\n",
        "\n",
        "# 아! 결국 여러 데이터도 순차적으로 처리가 되는구나?!\n",
        "# 컴퓨터의 연산 -\n",
        "# RAM / CPU - 순차적으로 학습 # 데이터 1개를 처리하는데 1초가 걸리면 10만개면 - 10만초가 걸린다?!\n",
        "# GPU - 병렬 학습 # 데이터 10만개 -> 10만초(X) -> 1만초\n"
      ],
      "metadata": {
        "colab": {
          "base_uri": "https://localhost:8080/"
        },
        "id": "W40peBrUVLs_",
        "outputId": "d7b0fe9a-d4e6-4a53-caab-38bb373ec1a6"
      },
      "execution_count": 41,
      "outputs": [
        {
          "output_type": "stream",
          "name": "stdout",
          "text": [
            "apple\n",
            "banana\n",
            "strawberry\n"
          ]
        }
      ]
    },
    {
      "cell_type": "code",
      "source": [
        "# 인덱스와 함께 출력하는 enumerate\n",
        "# enumerate(리스트) -> i, f -> i는 인덱스, f는 리스트 안에 데이터\n",
        "for i, f in enumerate(fruits):\n",
        "  print(f\"{i}번째 과일은, {f}입니다.\")"
      ],
      "metadata": {
        "colab": {
          "base_uri": "https://localhost:8080/"
        },
        "id": "IpWiz5fVWpkU",
        "outputId": "d2324e48-0861-4c86-81ab-1cf53df97b0a"
      },
      "execution_count": 43,
      "outputs": [
        {
          "output_type": "stream",
          "name": "stdout",
          "text": [
            "0번째 과일은, apple입니다.\n",
            "1번째 과일은, banana입니다.\n",
            "2번째 과일은, strawberry입니다.\n"
          ]
        }
      ]
    },
    {
      "cell_type": "code",
      "source": [
        "# 리스트 - 조건문과 함께 사용\n",
        "\n",
        "numbers = [10, 25, 30, 55, 42]\n",
        "\n",
        "for n in numbers: # 변수 하나하나 씩 처리 가능\n",
        "  if n > 30:\n",
        "    print(n)"
      ],
      "metadata": {
        "colab": {
          "base_uri": "https://localhost:8080/"
        },
        "id": "CwRwZkImXTtm",
        "outputId": "8a184adc-bf6d-4baf-def6-cc8e0c83b15a"
      },
      "execution_count": 45,
      "outputs": [
        {
          "output_type": "stream",
          "name": "stdout",
          "text": [
            "55\n",
            "42\n"
          ]
        }
      ]
    },
    {
      "cell_type": "code",
      "source": [
        "# 실습 10\n",
        "\n",
        "items = [\"python\", \"sql\", \"java\"]\n",
        "\n",
        "#추가\n",
        "items.append(\"r\")\n",
        "\n",
        "#삽입\n",
        "items.insert(1, \"C++\")\n",
        "\n",
        "#삭제\n",
        "items.remove(\"sql\")\n",
        "\n",
        "#정렬\n",
        "items.sort()\n",
        "\n",
        "for i, item in enumerate(items):\n",
        "  print(f\"{i+1}. {item}\")"
      ],
      "metadata": {
        "colab": {
          "base_uri": "https://localhost:8080/"
        },
        "id": "RrtcvLAuXZvq",
        "outputId": "db8bc17a-0888-40e7-8274-d9a762cf415e"
      },
      "execution_count": 47,
      "outputs": [
        {
          "output_type": "stream",
          "name": "stdout",
          "text": [
            "1. C++\n",
            "2. java\n",
            "3. python\n",
            "4. r\n"
          ]
        }
      ]
    },
    {
      "cell_type": "code",
      "source": [
        "# 8교시"
      ],
      "metadata": {
        "id": "Ezotx7NveRPC"
      },
      "execution_count": null,
      "outputs": []
    },
    {
      "cell_type": "code",
      "source": [
        "# 실습 1\n",
        "words = []\n",
        "\n",
        "while True :\n",
        "  word = input(\"단어를 입력하세요 (종료 : exit): \")\n",
        "\n",
        "  if word == \"exit\":\n",
        "    break\n",
        "  elif word == \"\":\n",
        "    print(\"공백은 입력할 수 없습니다.\")\n",
        "  else:\n",
        "    words.append(word)\n",
        "    print(f\"'{word}' 추가 완료!\")\n",
        "\n",
        "print(\"입력한 단어 목록:\")\n",
        "for w in words:\n",
        "  print(\"-\",w)\n",
        ""
      ],
      "metadata": {
        "colab": {
          "base_uri": "https://localhost:8080/"
        },
        "id": "8XbIicYRZu61",
        "outputId": "bd14c483-162b-440a-d7e1-10b21d55dabd"
      },
      "execution_count": 54,
      "outputs": [
        {
          "output_type": "stream",
          "name": "stdout",
          "text": [
            "단어를 입력하세요 (종료 : exit): apple\n",
            "'apple' 추가 완료!\n",
            "단어를 입력하세요 (종료 : exit): banana\n",
            "'banana' 추가 완료!\n",
            "단어를 입력하세요 (종료 : exit): exit\n",
            "입력한 단어 목록:\n",
            "- apple\n",
            "- banana\n"
          ]
        }
      ]
    },
    {
      "cell_type": "code",
      "source": [
        "# 실습 2\n",
        "words = []\n",
        "\n",
        "while True:\n",
        "  word = input(\"단어 입력 (종료 : exit): \")\n",
        "\n",
        "  if word == \"exit\":\n",
        "    break\n",
        "  if word in words:\n",
        "    print(\"이미 존재하는 단어입니다.\")\n",
        "  else:\n",
        "    words.append(word)\n",
        "    print(f\"'{word}' 단어가 추가되었습니다.\")\n",
        "\n",
        "print(\"최종 단어 목록:\",words)"
      ],
      "metadata": {
        "colab": {
          "base_uri": "https://localhost:8080/"
        },
        "id": "XY8LgI9oeN6i",
        "outputId": "b3a5c588-22ae-4a81-94bd-2f4fe56d0e57"
      },
      "execution_count": 56,
      "outputs": [
        {
          "output_type": "stream",
          "name": "stdout",
          "text": [
            "단어 입력 (종료 : exit): apple\n",
            "'apple' 단어가 추가되었습니다.\n",
            "단어 입력 (종료 : exit): apple\n",
            "이미 존재하는 단어입니다.\n",
            "단어 입력 (종료 : exit): banana\n",
            "'banana' 단어가 추가되었습니다.\n",
            "단어 입력 (종료 : exit): exit\n",
            "최종 단어 목록: ['apple', 'banana']\n"
          ]
        }
      ]
    },
    {
      "cell_type": "code",
      "source": [
        "# 실습 3\n",
        "words = [\"python\", \"data\", \"ai\", \"machine\", \"deep\"]\n",
        "keyword = input(\"검색할 키워드를 입력하세요: \")\n",
        "\n",
        "found = False\n",
        "for w in words:\n",
        "  if keyword in w:\n",
        "    print(f\"'{keyword}' 포함: {w}\")\n",
        "    found = True\n",
        "if not found:\n",
        "  print(\"검색 결과가 없습니다.\")"
      ],
      "metadata": {
        "colab": {
          "base_uri": "https://localhost:8080/"
        },
        "id": "KDwUXsXNfHz-",
        "outputId": "f90a24b9-8101-4a6c-fe86-247e994256ac"
      },
      "execution_count": 58,
      "outputs": [
        {
          "output_type": "stream",
          "name": "stdout",
          "text": [
            "검색할 키워드를 입력하세요: banana\n",
            "검색 결과가 없습니다.\n"
          ]
        }
      ]
    },
    {
      "cell_type": "code",
      "source": [
        "nums = [50, 75, 40, 90, 65]\n",
        "nums.sort()\n",
        "\n",
        "print(\"정렬된 리스트:\", nums)\n",
        "print(\"70점 이상인 값: \")\n",
        "for n in nums:\n",
        "  if n >= 70:\n",
        "    print(\"-\", n)"
      ],
      "metadata": {
        "colab": {
          "base_uri": "https://localhost:8080/"
        },
        "id": "XbcdTD4rfvBU",
        "outputId": "48a870f1-c999-42a3-a9f5-469f1b13ee64"
      },
      "execution_count": 60,
      "outputs": [
        {
          "output_type": "stream",
          "name": "stdout",
          "text": [
            "정렬된 리스트: [40, 50, 65, 75, 90]\n",
            "70점 이상인 값: \n",
            "- 75\n",
            "- 90\n"
          ]
        }
      ]
    },
    {
      "cell_type": "code",
      "source": [
        "# 실습 5\n",
        "fruits = [\"사과\", \"바나나\", \"딸기\"]\n",
        "delete_item = input(\"삭제할 과일을 입력하세요 : \")\n",
        "\n",
        "if delete_item in fruits:\n",
        "  fruits.remove(delete_item)\n",
        "  print(f\"'{delete_item}' 삭제 완료!\")\n",
        "else:\n",
        "  print(\"해당과일이 리스트에 없습니다.\")\n",
        "print(\"현재리스트:\", fruits)"
      ],
      "metadata": {
        "colab": {
          "base_uri": "https://localhost:8080/"
        },
        "id": "0Z32SA1EgC1M",
        "outputId": "5bc5bd82-9316-4ac6-b1d1-fac59cd0e940"
      },
      "execution_count": 62,
      "outputs": [
        {
          "output_type": "stream",
          "name": "stdout",
          "text": [
            "삭제할 과일을 입력하세요 : 포도\n",
            "해당과일이 리스트에 없습니다.\n",
            "현재리스트: ['사과', '바나나', '딸기']\n"
          ]
        }
      ]
    },
    {
      "cell_type": "code",
      "source": [
        "# 실습 6\n",
        "data = []\n",
        "\n",
        "while True:\n",
        "  item = input(\"항목입력 (정렬:sort, 종료: exit): \")\n",
        "\n",
        "  if item == \"exit\":\n",
        "    print(\"프로그램 종료\")\n",
        "    break\n",
        "  elif item == \"sort\":\n",
        "    data.sort()\n",
        "    print(f\"정렬된 리스트: {data}\")\n",
        "  elif item == \"\":\n",
        "    print(\"빈 값은 추가할 수 없습니다.\")\n",
        "  else:\n",
        "    data.append(item)\n",
        "    print(f\"'{item}' 추가 완료! 현재 리스트: {data}\")\n",
        ""
      ],
      "metadata": {
        "colab": {
          "base_uri": "https://localhost:8080/"
        },
        "id": "aDLe9IFVgvrQ",
        "outputId": "f2862ee8-73c1-404d-d1b1-82d97f5d0a81"
      },
      "execution_count": 63,
      "outputs": [
        {
          "output_type": "stream",
          "name": "stdout",
          "text": [
            "항목입력 (정렬:sort, 종료: exit): sort\n",
            "정렬된 리스트: []\n",
            "항목입력 (정렬:sort, 종료: exit):  \n",
            "' ' 추가 완료! 현재 리스트: [' ']\n",
            "항목입력 (정렬:sort, 종료: exit): banana\n",
            "'banana' 추가 완료! 현재 리스트: [' ', 'banana']\n",
            "항목입력 (정렬:sort, 종료: exit): apple\n",
            "'apple' 추가 완료! 현재 리스트: [' ', 'banana', 'apple']\n",
            "항목입력 (정렬:sort, 종료: exit): \n",
            "빈 값은 추가할 수 없습니다.\n",
            "항목입력 (정렬:sort, 종료: exit): exit\n",
            "프로그램 종료\n"
          ]
        }
      ]
    },
    {
      "cell_type": "code",
      "source": [
        "# 1. 반복 구조에 대한 뼈대\n",
        "# 반복을 하는 이유가 있다. -> 단어를 지속적으로 입력을 받는다. 데이터가 다 처리될 때 까지 종료하지 않는다.\n",
        "\n",
        "while True: # 조건이 만족할 때는 계속 실행해라!\n",
        "  word = input(\"단어를 입력하세요(종료 : exit을 입력하세요)\")"
      ],
      "metadata": {
        "id": "zng6H7sSiA68"
      },
      "execution_count": null,
      "outputs": []
    },
    {
      "cell_type": "code",
      "source": [
        "# 2. while 같은 경우 특히 종료에 대한 조건을 추가하는 것이 중요\n",
        "# 왜냐하면 while은 특수한 상황이 아니면 종료를 하지 않는 반복문이기 때문\n",
        "# 프로그램에 대한 종료\n",
        "\n",
        "while True: # 조건이 만족할 때는 계속 실행해라!\n",
        "  word = input(\"단어를 입력하세요(종료 : exit을 입력하세요)\")\n",
        "  if word ==\"exit\":\n",
        "    break # exit를 입력 받으면 종료해라!"
      ],
      "metadata": {
        "id": "sGefQSKRivhk"
      },
      "execution_count": null,
      "outputs": []
    },
    {
      "cell_type": "code",
      "source": [
        "# 3. 빈 문자열에 대한 예외 처리(잘못 입력된 문자열)\n",
        "\n",
        "while True: # 조건이 만족할 때는 계속 실행해라!\n",
        "  word = input(\"단어를 입력하세요(종료 : exit을 입력하세요)\")\n",
        "  if word ==\"exit\":\n",
        "    break # exit를 입력 받으면 종료해라!\n",
        "\n",
        "  if word == \"\":\n",
        "    print(\"공백은 입력 할 수 었습니다.\")\n",
        ""
      ],
      "metadata": {
        "id": "r0RMtvFFjDq6"
      },
      "execution_count": null,
      "outputs": []
    },
    {
      "cell_type": "code",
      "source": [
        "# 4. 단어를 추가하기 위한 리스트가 필요\n",
        "words = []\n",
        "\n",
        "# 3. 빈 문자열에 대한 예외 처리(잘못 입력된 문자열)\n",
        "\n",
        "while True: # 조건이 만족할 때는 계속 실행해라!\n",
        "  word = input(\"단어를 입력하세요(종료 : exit을 입력하세요)\")\n",
        "  if word ==\"exit\":\n",
        "    break # exit를 입력 받으면 종료해라!\n",
        "\n",
        "  if word == \"\":\n",
        "    print(\"공백은 입력 할 수 었습니다.\")\n",
        "\n",
        "# 4. 위의 조건에 부합하면 -> 그대로 단어를 저장하는 (리스트에) 구문이 필요\n",
        "# append를 사용해서 단어를 추가\n",
        "  else:\n",
        "    words.append(word) # 내부에서 작동\n",
        "    print(f\"'{word}' 추가 완료!\") # 고객에게 표현\n",
        "\n",
        "print(\"입력된 단어 목록은 무엇인가요?\")\n",
        "for w in words:\n",
        "    print(w)\n"
      ],
      "metadata": {
        "id": "gCopuovBjsoB"
      },
      "execution_count": null,
      "outputs": []
    },
    {
      "cell_type": "code",
      "source": [
        "# 딕셔너리 만들기\n",
        "# 1. 중괄호 사용하기 {}\n",
        "# 문자열이면 ''을 사용하고, :으로 키와 값을 묶는다. -> 한 데이터의 쌍은 키와 값으로 묶는다.(딕셔너리 일때)\n",
        "\n",
        "student = {\"name\": \"진환\"}\n",
        "\n",
        "print(student)"
      ],
      "metadata": {
        "colab": {
          "base_uri": "https://localhost:8080/"
        },
        "id": "Sf9Lm14i5KYS",
        "outputId": "93944c89-6d0b-4730-ffc8-6238cbf3ee4c"
      },
      "execution_count": 64,
      "outputs": [
        {
          "output_type": "stream",
          "name": "stdout",
          "text": [
            "{'name': '진환'}\n"
          ]
        }
      ]
    },
    {
      "cell_type": "code",
      "source": [
        "# 딕셔너리 만들기\n",
        "# 2. 자료가 2개 이상인 경우 콤마(,)로 구분한다.\n",
        "\n",
        "student = {\"name\": \"진환\", \"major\" : \"통계학\"}\n",
        "\n",
        "print(student)"
      ],
      "metadata": {
        "colab": {
          "base_uri": "https://localhost:8080/"
        },
        "id": "bzdcHYbN6xhW",
        "outputId": "edc7c38d-e086-4cde-a575-e343d5642712"
      },
      "execution_count": 65,
      "outputs": [
        {
          "output_type": "stream",
          "name": "stdout",
          "text": [
            "{'name': '진환', 'major': '통계학'}\n"
          ]
        }
      ]
    },
    {
      "cell_type": "code",
      "source": [
        "# 딕셔너리 값에 접근하기 - key 를 인덱싱하면 -> 값을 밷어낸다.\n",
        "print(student[\"name\"])\n",
        "print(student[\"major\"])\n"
      ],
      "metadata": {
        "colab": {
          "base_uri": "https://localhost:8080/"
        },
        "id": "2ig0rO3K7onA",
        "outputId": "970c49b7-c5fc-4428-a8de-7ae8f5b6998c"
      },
      "execution_count": 69,
      "outputs": [
        {
          "output_type": "stream",
          "name": "stdout",
          "text": [
            "진환\n",
            "통계학\n"
          ]
        }
      ]
    },
    {
      "cell_type": "code",
      "source": [
        "# 딕셔너리 값을 수정하고 추가하기\n",
        "# 1) 수정하기\n",
        "student[\"name\"] = \"하나\"\n",
        "print(student)\n",
        "# 2) 추가하기\n",
        "student[\"age\"] = 30\n",
        "print(student)"
      ],
      "metadata": {
        "colab": {
          "base_uri": "https://localhost:8080/"
        },
        "id": "NGdsKIp98UAw",
        "outputId": "07177b36-3767-46f7-ceeb-a1de86a4c38e"
      },
      "execution_count": 71,
      "outputs": [
        {
          "output_type": "stream",
          "name": "stdout",
          "text": [
            "{'name': '하나', 'major': '통계학'}\n",
            "{'name': '하나', 'major': '통계학', 'age': 30}\n"
          ]
        }
      ]
    },
    {
      "cell_type": "code",
      "source": [
        "# 값을 제거하는 del - 딕셔너리\n",
        "del student['name']\n",
        "print(student)"
      ],
      "metadata": {
        "colab": {
          "base_uri": "https://localhost:8080/"
        },
        "id": "TSENKGaR-jTF",
        "outputId": "cf6d1b55-b4a7-46de-a82a-16a1c8cf9c0b"
      },
      "execution_count": 74,
      "outputs": [
        {
          "output_type": "stream",
          "name": "stdout",
          "text": [
            "{'major': '통계학', 'age': 30}\n"
          ]
        }
      ]
    },
    {
      "cell_type": "code",
      "source": [
        "info = {}\n",
        "print(info)"
      ],
      "metadata": {
        "colab": {
          "base_uri": "https://localhost:8080/"
        },
        "id": "ApPzltr67CPM",
        "outputId": "345bdd68-0000-4bb1-cbad-1204e7a1b905"
      },
      "execution_count": 66,
      "outputs": [
        {
          "output_type": "stream",
          "name": "stdout",
          "text": [
            "{}\n"
          ]
        }
      ]
    },
    {
      "cell_type": "code",
      "source": [
        "person = dict(name = '하나', age = 25)\n",
        "print(person)"
      ],
      "metadata": {
        "colab": {
          "base_uri": "https://localhost:8080/"
        },
        "id": "HqfUJLZ_7Fkr",
        "outputId": "9fbf2dd7-835a-447d-a862-4d4e73b43ce1"
      },
      "execution_count": 67,
      "outputs": [
        {
          "output_type": "stream",
          "name": "stdout",
          "text": [
            "{'name': '하나', 'age': 25}\n"
          ]
        }
      ]
    },
    {
      "cell_type": "code",
      "source": [
        "# 주요 메서드에 대해서 정리"
      ],
      "metadata": {
        "id": "CBS88mY0_Ach"
      },
      "execution_count": null,
      "outputs": []
    },
    {
      "cell_type": "code",
      "source": [
        "# 데이터를 직접적으로 다루기 위해서 사용하는 메서드(기능)이다.\n",
        "\n",
        "# 1. keys -> 자료의 이름을 가져오는 기능\n",
        "print(student.keys())\n",
        "\n",
        "# 2. values -> 자료의 값을 가져오는 기능\n",
        "print(student.values())\n",
        "\n",
        "# 3. items -> 이름, 값을 모두 가져온다.\n",
        "print(student.items())\n",
        "\n",
        "for k,v in student.items():\n",
        "  print(k,v)"
      ],
      "metadata": {
        "colab": {
          "base_uri": "https://localhost:8080/"
        },
        "id": "TuJ2XQfT_D9B",
        "outputId": "c50bbe58-3e6b-4574-ca46-aea2c0062405"
      },
      "execution_count": 77,
      "outputs": [
        {
          "output_type": "stream",
          "name": "stdout",
          "text": [
            "dict_keys(['major', 'age'])\n",
            "dict_values(['통계학', 30])\n",
            "dict_items([('major', '통계학'), ('age', 30)])\n",
            "major 통계학\n",
            "age 30\n"
          ]
        }
      ]
    },
    {
      "cell_type": "code",
      "source": [
        "# get 은 정보가 있는지 없는지 여부를 파악\n",
        "print(student.get(\"name\"))\n",
        "print(student.get(\"age\"))"
      ],
      "metadata": {
        "colab": {
          "base_uri": "https://localhost:8080/"
        },
        "id": "XssoXYDm_x1K",
        "outputId": "78adc648-27c4-44c9-9681-a8bc853bdbe4"
      },
      "execution_count": 78,
      "outputs": [
        {
          "output_type": "stream",
          "name": "stdout",
          "text": [
            "None\n",
            "30\n"
          ]
        }
      ]
    },
    {
      "cell_type": "code",
      "source": [
        "# 딕셔너리의 반복문 활용\n",
        "# key value items\n",
        "# 딕셔너리를 바로 반복문에 넣으면 -> key값이 출력이 된다.\n",
        "# 값을 얻으려면 values 또는 인덱싱을 통해 값을 가져와야한다.\n",
        "\n",
        "for key in student:\n",
        "  print(key, ':', student[key])\n"
      ],
      "metadata": {
        "colab": {
          "base_uri": "https://localhost:8080/"
        },
        "id": "jdSpbWGSAesW",
        "outputId": "9705be3a-ea6c-4e97-f96f-84b50b6ef1db"
      },
      "execution_count": 80,
      "outputs": [
        {
          "output_type": "stream",
          "name": "stdout",
          "text": [
            "major : 통계학\n",
            "age : 30\n"
          ]
        }
      ]
    },
    {
      "cell_type": "code",
      "source": [
        "# 딕셔너리를 통한 고객 데이터 베이스 관리\n",
        "# 쌍을 이루고 있는 정보는 딕셔너리로 저장하는 것이 좋음\n",
        "\n",
        "student = {}\n",
        "\n",
        "student ['name'] = input(\"이름을 입력하세요: \")\n",
        "student ['age'] = input(\"나이를 입력하세요: \")\n",
        "student ['major'] = input(\"전공을 입력하세요: \")\n",
        "\n",
        "print(student)\n",
        "\n",
        "for k, v in student.items():\n",
        "  print(k,v)\n",
        "\n"
      ],
      "metadata": {
        "colab": {
          "base_uri": "https://localhost:8080/"
        },
        "id": "GBqecQU4AfZw",
        "outputId": "17c9bfce-f6ca-47fb-b570-59484d8e6f98"
      },
      "execution_count": 83,
      "outputs": [
        {
          "output_type": "stream",
          "name": "stdout",
          "text": [
            "이름을 입력하세요: 홍길동\n",
            "나이를 입력하세요: 30\n",
            "전공을 입력하세요: 통계학\n",
            "{'name': '홍길동', 'age': '30', 'major': '통계학'}\n",
            "name 홍길동\n",
            "age 30\n",
            "major 통계학\n"
          ]
        }
      ]
    },
    {
      "cell_type": "code",
      "source": [
        "# 13교시"
      ],
      "metadata": {
        "id": "XM41cRTkG3tp"
      },
      "execution_count": null,
      "outputs": []
    },
    {
      "cell_type": "markdown",
      "source": [
        "1. 맨 처음 시작은 def로 시작한다.\n",
        "2. 함수이름을 적고 ()(소괄호)를 붙인다. (소괄호 안에는 매개변수라는 것을 추가할 수 있다.)\n",
        "3. 콜론(:)을 입력한다.\n",
        "4. 반복문, 조건문과 동일하게 들여쓰기 (스페이스바 4번) 을 수행한다.\n",
        "5. return 이라는 결과(=반환값)를 적는다. (반환값)\n",
        "6. 함수를 호출할때는 함수 이름() 을 사용해서 호출"
      ],
      "metadata": {
        "id": "SBhR83eqJL19"
      }
    },
    {
      "cell_type": "code",
      "source": [
        "# 1. 간단한 함수의 정의와 호출 실습\n",
        "# print() -> 출력함수 데이터 / 텍스트에 대해서 출력을 하는 함수!\n",
        "def say_hello():\n",
        "  print(\"안녕하세요 파이썬 함수입니다.\")"
      ],
      "metadata": {
        "id": "-f2oN8bxI2Co"
      },
      "execution_count": 84,
      "outputs": []
    },
    {
      "cell_type": "code",
      "source": [
        "# 함수의 실행\n",
        "say_hello()"
      ],
      "metadata": {
        "colab": {
          "base_uri": "https://localhost:8080/"
        },
        "id": "3nBHYK4aJaXy",
        "outputId": "3db7c8f2-3206-4ec6-f2ae-77ae89fe43dd"
      },
      "execution_count": 85,
      "outputs": [
        {
          "output_type": "stream",
          "name": "stdout",
          "text": [
            "안녕하세요 파이썬 함수입니다.\n"
          ]
        }
      ]
    },
    {
      "cell_type": "code",
      "source": [
        "# 2. 매개변수에 대한 활용"
      ],
      "metadata": {
        "id": "lGaJTIhlJv7o"
      },
      "execution_count": null,
      "outputs": []
    },
    {
      "cell_type": "code",
      "source": [
        "# name 이라는 매개변수 추가\n",
        "def greet(name):\n",
        "  print(f'안녕하세요 {name}입니다.')"
      ],
      "metadata": {
        "id": "chR8l510Jz9A"
      },
      "execution_count": 89,
      "outputs": []
    },
    {
      "cell_type": "code",
      "source": [
        "greet(\"최예나\")"
      ],
      "metadata": {
        "colab": {
          "base_uri": "https://localhost:8080/"
        },
        "id": "D7SeFHrXKmDi",
        "outputId": "38b02e28-b5aa-4187-8bd7-9f394e97ee0e"
      },
      "execution_count": 87,
      "outputs": [
        {
          "output_type": "stream",
          "name": "stdout",
          "text": [
            "안녕하세요 최예나입니다.\n"
          ]
        }
      ]
    },
    {
      "cell_type": "code",
      "source": [
        "# 매개변수는 얼마든지 추가할 수 있다.\n",
        "# 매개변수는 실행시 매개변수 숫자가 맞아야 한다.\n",
        "def greet(name,age):\n",
        "  print(f'안녕하세요 {name}입니다. 제 나이는 {age}세 입니다.')"
      ],
      "metadata": {
        "id": "HyM33XPqLNw8"
      },
      "execution_count": null,
      "outputs": []
    },
    {
      "cell_type": "code",
      "source": [
        "greet(\"최예나\", 50)"
      ],
      "metadata": {
        "colab": {
          "base_uri": "https://localhost:8080/"
        },
        "id": "GBdYfKmoLFFa",
        "outputId": "c172b543-06b9-4f7d-f585-01189b24d13d"
      },
      "execution_count": 90,
      "outputs": [
        {
          "output_type": "stream",
          "name": "stdout",
          "text": [
            "안녕하세요 최예나입니다. 제 나이는 50세 입니다.\n"
          ]
        }
      ]
    },
    {
      "cell_type": "code",
      "source": [
        "# 1. return은 print 와 다르게 출력이 되지 않는다.\n",
        "# 2. return으로 받은 결과를 출력하기 위해서 어떻게 해야할까요?\n",
        "# 3. print가 있는데 왜 굳이 return을 사용하나요?\n",
        "# 4. return값을 다시 활용하기 위해서 입니다.\n",
        "\n",
        "def greet(name, age):\n",
        "  return f'안녕하세요 {name}입니다. 제 나이는 {age}세 입니다.'"
      ],
      "metadata": {
        "id": "85_4jQk6Lg31"
      },
      "execution_count": 92,
      "outputs": []
    },
    {
      "cell_type": "code",
      "source": [
        "greet(\"최예나\", 50)\n",
        "print(\"실행이 되었습니다.\")"
      ],
      "metadata": {
        "colab": {
          "base_uri": "https://localhost:8080/"
        },
        "id": "Tmpy3aHtLsuS",
        "outputId": "98ab0aeb-e708-4148-db0b-e6d82d0d8897"
      },
      "execution_count": 95,
      "outputs": [
        {
          "output_type": "stream",
          "name": "stdout",
          "text": [
            "실행이 되었습니다.\n",
            "<function greet at 0x7a26436b9e40>\n"
          ]
        }
      ]
    },
    {
      "cell_type": "code",
      "source": [
        "# print를 함수에서 사용하지 않는 경우 - 데이터 재사용성에 대한 부분\n",
        "# None = 값이 없음, 자료가 없다\n",
        "a = print('실행이 되었습니다.')"
      ],
      "metadata": {
        "colab": {
          "base_uri": "https://localhost:8080/"
        },
        "id": "jmXom8pMM1_m",
        "outputId": "7c45da56-9676-43e1-9bba-1a0464b333c6"
      },
      "execution_count": 98,
      "outputs": [
        {
          "output_type": "stream",
          "name": "stdout",
          "text": [
            "실행이 되었습니다.\n"
          ]
        }
      ]
    },
    {
      "cell_type": "code",
      "source": [
        "print(a)"
      ],
      "metadata": {
        "colab": {
          "base_uri": "https://localhost:8080/"
        },
        "id": "Y8v7R-t7M-O7",
        "outputId": "6c4a19b0-324f-4d89-9b15-adf866e209ec"
      },
      "execution_count": 99,
      "outputs": [
        {
          "output_type": "stream",
          "name": "stdout",
          "text": [
            "None\n"
          ]
        }
      ]
    },
    {
      "cell_type": "code",
      "source": [
        "# 1. return은 print와 다르게 출력이 되지 않는다.\n",
        "# 2. return으로 받은 결과를 출력하기 위해서는 어떻게 해야할까요?\n",
        "# 3. print가 있는데 왜 굳이 return을 사용하나요?\n",
        "# 4. return값을 다시 활용하기 위해서 입니다.\n",
        "\n",
        "def greet(name, age):\n",
        "    return f'안녕하세요 {name}입니다. 제 나이는 {age}세 입니다.'"
      ],
      "metadata": {
        "id": "nL4nIEOjB7Nd"
      },
      "execution_count": 15,
      "outputs": []
    },
    {
      "cell_type": "code",
      "source": [
        "greet(\"최예나\", 50)\n",
        "print(\"실행이 되었습니다.\")"
      ],
      "metadata": {
        "colab": {
          "base_uri": "https://localhost:8080/"
        },
        "id": "xoyLzXz0MkTy",
        "outputId": "5aa9d9c1-3ac0-4b5c-ecb6-6fbb3134ab2e"
      },
      "execution_count": 18,
      "outputs": [
        {
          "output_type": "stream",
          "name": "stdout",
          "text": [
            "실행이 되었습니다.\n"
          ]
        }
      ]
    },
    {
      "cell_type": "code",
      "source": [
        "b = greet('박찬호', 40)"
      ],
      "metadata": {
        "id": "GlhxT1OtCIbq"
      },
      "execution_count": 19,
      "outputs": []
    },
    {
      "cell_type": "code",
      "source": [
        "print(b)"
      ],
      "metadata": {
        "colab": {
          "base_uri": "https://localhost:8080/"
        },
        "id": "ZYufSoP3COPm",
        "outputId": "22d233a3-9adf-4379-f6e7-1948885da270"
      },
      "execution_count": 20,
      "outputs": [
        {
          "output_type": "stream",
          "name": "stdout",
          "text": [
            "안녕하세요 박찬호입니다. 제 나이는 40세 입니다.\n"
          ]
        }
      ]
    },
    {
      "cell_type": "code",
      "source": [
        "def calc(a,b):\n",
        "    return a + b, a - b, a * b\n",
        "\n",
        "plus, minus, multi = calc(5,3)\n",
        "print(plus)\n",
        "print(minus)\n",
        "print(multi)"
      ],
      "metadata": {
        "id": "mXrzuXmBCQ60"
      },
      "execution_count": null,
      "outputs": []
    },
    {
      "cell_type": "code",
      "source": [
        "def greeting(name, hour):\n",
        "  if hour < 12:\n",
        "    message = f'좋은 아침이에요,{name}님'\n",
        "  elif hour < 18:\n",
        "    message = f'안녕하세요,{name}님'\n",
        "  else:\n",
        "    message = f'좋은 저녁이에요, {name}님'\n",
        "  return message\n",
        "\n",
        "# 사용자 입력\n",
        "user = input(\"이름을 입력하세요: \")\n",
        "time = int(input(\"현재 시각(0-23시)을 입력하세요 : \"))\n",
        "\n",
        "# 함수 호출\n",
        "result = greeting(user, time)\n",
        "print(result)"
      ],
      "metadata": {
        "colab": {
          "base_uri": "https://localhost:8080/"
        },
        "id": "8cZcwGo7On4p",
        "outputId": "aa0ceb35-8a67-4b0a-9fa2-5a02c4848602"
      },
      "execution_count": 100,
      "outputs": [
        {
          "output_type": "stream",
          "name": "stdout",
          "text": [
            "이름을 입력하세요: 김찬영\n",
            "현재 시각(0-23시)을 입력하세요 : 8\n",
            "좋은 아침이에요,김찬영님\n"
          ]
        }
      ]
    },
    {
      "cell_type": "code",
      "source": [
        "def analyze_scores(scores):\n",
        "  total = sum(scores)\n",
        "  avg = total / len(scores)\n",
        "  max_score = max(scores)\n",
        "  min_score = min(scores)\n",
        "  return total, avg, max_score, min_score\n",
        "\n",
        "# 점수 데이터\n",
        "data = [88, 95, 70, 100, 82]\n",
        "\n",
        "\n",
        "# 함수 호출\n",
        "total, avg, max_s, min_s = analyze_scores(data)\n",
        "\n",
        "print(\"[점수 분석 결과]\")\n",
        "print(f\"총점: {total}\")\n",
        "print(f\"평균: {avg}\")\n",
        "print(f\"최고 점수: {max_s}\")\n",
        "print(f\"최저 점수: {min_s}\")"
      ],
      "metadata": {
        "colab": {
          "base_uri": "https://localhost:8080/"
        },
        "id": "q_Sd-wQZPec3",
        "outputId": "1e98b533-7cee-40d8-aff0-c18b4948e38b"
      },
      "execution_count": 102,
      "outputs": [
        {
          "output_type": "stream",
          "name": "stdout",
          "text": [
            "[점수 분석 결과]\n",
            "총점: 435\n",
            "평균: 87.0\n",
            "최고 점수: 100\n",
            "최저 점수: 70\n"
          ]
        }
      ]
    },
    {
      "cell_type": "markdown",
      "source": [
        "문자열 메서드"
      ],
      "metadata": {
        "id": "T9JDZJ5WW6wB"
      }
    },
    {
      "cell_type": "code",
      "source": [
        "# DataScience라는 문자열\n",
        "# 문자열도 인덱스 / 시퀀스 자료형이다. 순서를 가지고 있다.\n",
        "word = 'DataScience'\n",
        "\n",
        "print(word[0]) # D\n",
        "print(word[-1]) # e\n",
        "print(word[0:4]) # 0,1,2,3번째 -> Data"
      ],
      "metadata": {
        "colab": {
          "base_uri": "https://localhost:8080/"
        },
        "id": "viTATY2uW6Cm",
        "outputId": "352bdd3c-9c03-45b3-d727-1f25b923e9d7"
      },
      "execution_count": 103,
      "outputs": [
        {
          "output_type": "stream",
          "name": "stdout",
          "text": [
            "D\n",
            "e\n",
            "Data\n"
          ]
        }
      ]
    },
    {
      "cell_type": "code",
      "source": [
        "# 문자열 메서드 -1\n",
        "# upper() - 모든 문자를 대문자\n",
        "# lower() - 모든 문자를 소문자\n",
        "# title() - 단어 첫글자만 대문자 (영어식 표현)\n",
        "# capitalize() - 문장의 첫글자만 대문자(영어식 표현)\n",
        "# swapcase() - 대 <-> 소문자 변환"
      ],
      "metadata": {
        "id": "vB0EvDq1XcQ8"
      },
      "execution_count": null,
      "outputs": []
    },
    {
      "cell_type": "code",
      "source": [
        "print(word.upper())\n",
        "print(word.lower())\n",
        "print(word.title())\n",
        "print(word.capitalize())\n",
        "print(word.swapcase())\n"
      ],
      "metadata": {
        "colab": {
          "base_uri": "https://localhost:8080/"
        },
        "id": "WC7HojemXt0z",
        "outputId": "460eb0a5-e873-4209-9261-3c3f5373d3c8"
      },
      "execution_count": 104,
      "outputs": [
        {
          "output_type": "stream",
          "name": "stdout",
          "text": [
            "DATASCIENCE\n",
            "datascience\n",
            "Datascience\n",
            "Datascience\n",
            "dATAsCIENCE\n"
          ]
        }
      ]
    },
    {
      "cell_type": "code",
      "source": [
        "sentence = \"    Hello, Python World!    \""
      ],
      "metadata": {
        "id": "9xaU1M9FYWve"
      },
      "execution_count": 22,
      "outputs": []
    },
    {
      "cell_type": "code",
      "source": [
        "# 공백이 있는 텍스트\n",
        "print(sentence)"
      ],
      "metadata": {
        "colab": {
          "base_uri": "https://localhost:8080/"
        },
        "id": "YYt0mwMcCeRT",
        "outputId": "9a4abb54-4024-4262-b33f-ba1c617606c6"
      },
      "execution_count": 23,
      "outputs": [
        {
          "output_type": "stream",
          "name": "stdout",
          "text": [
            "    Hello, Python World!    \n"
          ]
        }
      ]
    },
    {
      "cell_type": "code",
      "source": [
        "# 1. .strip() ** -> 양쪽 공백 제거\n",
        "# 2. .lstrip()   -> 왼쪽 공백 제거\n",
        "# 3. .rstrip()   -> 오른쪽 공백 제거\n",
        "# 4. .replace(a,b) **  -> a를 b로 변경\n",
        "# 5. .zfill(n) **   -> 자리수에 맞춰서 0을 채우는 기법"
      ],
      "metadata": {
        "id": "6xcTGcJ2YciR"
      },
      "execution_count": null,
      "outputs": []
    },
    {
      "cell_type": "code",
      "source": [
        "# 메서드 체이닝 -> .메서드.메서드 -> 메서드를 연결해서 쓸 수 있는 방법, 파이썬의 장점\n",
        "cleaned = sentence.strip().replace('Python', 'Java')"
      ],
      "metadata": {
        "id": "gbnpxdSgY1Js"
      },
      "execution_count": 112,
      "outputs": []
    },
    {
      "cell_type": "code",
      "source": [
        "# 공백이 제거가 되고, Python은 Java로 변경\n",
        "print(cleaned)"
      ],
      "metadata": {
        "colab": {
          "base_uri": "https://localhost:8080/"
        },
        "id": "euooCcsSZMHa",
        "outputId": "ee8691f2-794e-4cb7-d7e7-d375bbbd6d07"
      },
      "execution_count": 113,
      "outputs": [
        {
          "output_type": "stream",
          "name": "stdout",
          "text": [
            "Hello, Java World!\n"
          ]
        }
      ]
    },
    {
      "cell_type": "code",
      "source": [
        "# 문자형 숫자 42가 있음\n",
        "\n",
        "num = \"42\"\n",
        "# 앞에 0으로 6자리를 추가해서 00000042로 만들고 싶음\n",
        "# zfill(8)은 0으로 최대한 8자리를 채워라 만약 데이터가 있으면 채우지 말아라\n",
        "\n",
        "print(num.zfill(8))"
      ],
      "metadata": {
        "colab": {
          "base_uri": "https://localhost:8080/"
        },
        "id": "Svaac3cWZmPJ",
        "outputId": "eeabb99a-9474-4420-8cd4-007e1923afa0"
      },
      "execution_count": 114,
      "outputs": [
        {
          "output_type": "stream",
          "name": "stdout",
          "text": [
            "00000042\n"
          ]
        }
      ]
    },
    {
      "cell_type": "code",
      "source": [
        "# 00000042 (텍스트로 된 숫자) -> 문자열\n",
        "# CSV파일 -> 42\n",
        "# CSV -> python -> 42 -> 숫자형\n",
        "# 42 3 456 3948 -> zfill Database"
      ],
      "metadata": {
        "id": "6M3jRa6lCj23"
      },
      "execution_count": null,
      "outputs": []
    },
    {
      "cell_type": "code",
      "source": [
        "text = \"banana and pineapple\""
      ],
      "metadata": {
        "id": "eHZJP7k4dTiH"
      },
      "execution_count": 26,
      "outputs": []
    },
    {
      "cell_type": "code",
      "source": [
        "# find(sub) ** - 부분 문자열의 시작 인덱스를 반환 (없으면 -1) - 자료가 없어도 계속 수행 가능\n",
        "# rfind(sub)\n",
        "# index(sub) ** - find와 동일한데 (없으면 오류) -> 자료가 없으면 프로그램 종료\n",
        "# count(sub) ** - 특정 문자 등장 횟수\n",
        "# startswith(prefix) - 특정 접두사로 시작\n",
        "# endswith(prefix) - 특정 접미사로 시작"
      ],
      "metadata": {
        "id": "Mo5WAJI2cKn9"
      },
      "execution_count": null,
      "outputs": []
    },
    {
      "cell_type": "code",
      "source": [
        "print(text.find('apple')) # apple의 시작은 15번째 부터\n",
        "print(text.count('a')) # 해당 텍스트에 a가 몇개가 있는지 파악\n",
        "print(text.startswith('ban')) # 문장의 첫부분\n",
        "print(text.endswith('ple')) # 문장의 마지막 부분"
      ],
      "metadata": {
        "colab": {
          "base_uri": "https://localhost:8080/"
        },
        "id": "fn3q53t4CmhL",
        "outputId": "80484ca2-38f6-48e0-cca2-845a4a157963"
      },
      "execution_count": 27,
      "outputs": [
        {
          "output_type": "stream",
          "name": "stdout",
          "text": [
            "15\n",
            "5\n",
            "True\n",
            "True\n"
          ]
        }
      ]
    },
    {
      "cell_type": "code",
      "source": [
        "# 문자열 분리 결합\n",
        "# split ** 구분자 기준으로 분리\n",
        "# splitlines\n",
        "# join ** list를 문자열로 결합\n",
        "# center"
      ],
      "metadata": {
        "id": "YzW2quq8cLde"
      },
      "execution_count": 24,
      "outputs": []
    },
    {
      "cell_type": "code",
      "source": [
        "sentence = \"Python,Data,AI,Machine\""
      ],
      "metadata": {
        "id": "2nI3X24ucRg1"
      },
      "execution_count": 116,
      "outputs": []
    },
    {
      "cell_type": "code",
      "source": [
        "words = sentence.split(',')\n",
        "print(words)"
      ],
      "metadata": {
        "id": "aKc4ZYoycXoA"
      },
      "execution_count": 117,
      "outputs": []
    },
    {
      "cell_type": "code",
      "source": [
        "joined = \" @ \".join(words)\n",
        "print(joined)"
      ],
      "metadata": {
        "colab": {
          "base_uri": "https://localhost:8080/"
        },
        "id": "fYSYZjwqc9J5",
        "outputId": "ec14d8ca-7610-4361-b894-a02ed3df4dda"
      },
      "execution_count": 119,
      "outputs": [
        {
          "output_type": "stream",
          "name": "stdout",
          "text": [
            "Python @ Data @ AI @ Machine\n"
          ]
        }
      ]
    }
  ]
}